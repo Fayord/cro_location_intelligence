{
 "cells": [
  {
   "cell_type": "markdown",
   "metadata": {},
   "source": [
    "## prove xgboost can overfit this problem\n",
    "\n",
    "## prove simple nn can overfit this problem\n",
    "\n",
    "### The conclusion of this experiment is that the embeddings from the pretrained model significantly distinguish differences\n"
   ]
  },
  {
   "cell_type": "code",
   "execution_count": 1,
   "metadata": {},
   "outputs": [],
   "source": [
    "import os\n",
    "import torch"
   ]
  },
  {
   "cell_type": "code",
   "execution_count": 2,
   "metadata": {},
   "outputs": [],
   "source": [
    "image_folder_path = \"/Users/user/Documents/Coding/geo/notebook/data/full_image\"\n",
    "image_name_list = os.listdir(image_folder_path)\n",
    "image_name_list.sort()\n",
    "image_name_list = [\n",
    "    image_name for image_name in image_name_list if not image_name.startswith(\".\")\n",
    "]\n",
    "image_path_list = [\n",
    "    os.path.join(image_folder_path, image_name) for image_name in image_name_list\n",
    "]"
   ]
  },
  {
   "cell_type": "code",
   "execution_count": 3,
   "metadata": {},
   "outputs": [
    {
     "data": {
      "text/plain": [
       "['/Users/user/Documents/Coding/geo/notebook/data/full_image/16099.png',\n",
       " '/Users/user/Documents/Coding/geo/notebook/data/full_image/16422.png',\n",
       " '/Users/user/Documents/Coding/geo/notebook/data/full_image/16732.png',\n",
       " '/Users/user/Documents/Coding/geo/notebook/data/full_image/16982.png',\n",
       " '/Users/user/Documents/Coding/geo/notebook/data/full_image/17046.png',\n",
       " '/Users/user/Documents/Coding/geo/notebook/data/full_image/17058.png',\n",
       " '/Users/user/Documents/Coding/geo/notebook/data/full_image/17115.png',\n",
       " '/Users/user/Documents/Coding/geo/notebook/data/full_image/17120.png',\n",
       " '/Users/user/Documents/Coding/geo/notebook/data/full_image/17140.png',\n",
       " '/Users/user/Documents/Coding/geo/notebook/data/full_image/17170.png',\n",
       " '/Users/user/Documents/Coding/geo/notebook/data/full_image/17197.png',\n",
       " '/Users/user/Documents/Coding/geo/notebook/data/full_image/17203.png',\n",
       " '/Users/user/Documents/Coding/geo/notebook/data/full_image/17204.png',\n",
       " '/Users/user/Documents/Coding/geo/notebook/data/full_image/17227.png',\n",
       " '/Users/user/Documents/Coding/geo/notebook/data/full_image/17229.png']"
      ]
     },
     "execution_count": 3,
     "metadata": {},
     "output_type": "execute_result"
    }
   ],
   "source": [
    "image_path_list"
   ]
  },
  {
   "cell_type": "code",
   "execution_count": 4,
   "metadata": {},
   "outputs": [
    {
     "name": "stderr",
     "output_type": "stream",
     "text": [
      "/Users/user/miniconda3/lib/python3.11/site-packages/tqdm/auto.py:21: TqdmWarning: IProgress not found. Please update jupyter and ipywidgets. See https://ipywidgets.readthedocs.io/en/stable/user_install.html\n",
      "  from .autonotebook import tqdm as notebook_tqdm\n"
     ]
    }
   ],
   "source": [
    "# feed model net\n",
    "from urllib.request import urlopen\n",
    "from PIL import Image\n",
    "import timm\n",
    "\n",
    "new_df_path = \"/Users/user/Documents/Coding/geo/notebook/7 lat long with embedding.csv\"\n",
    "if not os.path.exists(new_df_path):\n",
    "    # img = Image.open(urlopen(\n",
    "    #     'https://huggingface.co/datasets/huggingface/documentation-images/resolve/main/beignets-task-guide.png'\n",
    "    # ))\n",
    "    # img = image_1\n",
    "    output_dict = {}\n",
    "    model = timm.create_model(\n",
    "        \"maxvit_tiny_tf_512.in1k\",\n",
    "        pretrained=True,\n",
    "        num_classes=0,  # remove classifier nn.Linear\n",
    "    )\n",
    "    model = model.eval()\n",
    "    data_config = timm.data.resolve_model_data_config(model)\n",
    "    transforms = timm.data.create_transform(**data_config, is_training=False)\n",
    "\n",
    "    for image_name in image_name_list:\n",
    "        store_id = image_name.split(\".\")[0]\n",
    "        image_path = os.path.join(image_folder_path, image_name)\n",
    "        img = Image.open(image_path).convert(\"RGB\")\n",
    "        print(img.size)\n",
    "        print(type(img))\n",
    "\n",
    "        # get model specific transforms (normalization, resize)\n",
    "\n",
    "        output = model(\n",
    "            transforms(img).unsqueeze(0)\n",
    "        )  # output is (batch_size, num_features) shaped tensor\n",
    "\n",
    "        # or equivalently (without needing to set num_classes=0)\n",
    "\n",
    "        output = model.forward_features(transforms(img).unsqueeze(0))\n",
    "        # output is unpooled, a (1, 512, 16, 16) shaped tensor\n",
    "\n",
    "        output = model.forward_head(output, pre_logits=True)\n",
    "        output_dict[store_id] = output.detach().numpy()[0]\n",
    "        # output is a (1, num_features) shaped tensor"
   ]
  },
  {
   "cell_type": "code",
   "execution_count": 5,
   "metadata": {},
   "outputs": [
    {
     "data": {
      "text/plain": [
       "(12.566370614359172, 16, 0.7853981633974483)"
      ]
     },
     "execution_count": 5,
     "metadata": {},
     "output_type": "execute_result"
    }
   ],
   "source": [
    "import numpy as np\n",
    "\n",
    "r = 2\n",
    "circle_area = np.pi * r**2\n",
    "square_area = (2 * r) ** 2\n",
    "circle_area, square_area, circle_area / square_area"
   ]
  },
  {
   "cell_type": "code",
   "execution_count": null,
   "metadata": {},
   "outputs": [],
   "source": []
  },
  {
   "cell_type": "code",
   "execution_count": null,
   "metadata": {},
   "outputs": [],
   "source": []
  },
  {
   "cell_type": "code",
   "execution_count": 6,
   "metadata": {},
   "outputs": [],
   "source": [
    "# rename columns by add prefix \"embedding_\""
   ]
  },
  {
   "cell_type": "code",
   "execution_count": null,
   "metadata": {},
   "outputs": [],
   "source": []
  },
  {
   "cell_type": "code",
   "execution_count": null,
   "metadata": {},
   "outputs": [],
   "source": []
  },
  {
   "cell_type": "code",
   "execution_count": null,
   "metadata": {},
   "outputs": [],
   "source": []
  },
  {
   "cell_type": "code",
   "execution_count": 7,
   "metadata": {},
   "outputs": [],
   "source": [
    "# merge 2 df by index\n",
    "import pandas as pd\n",
    "\n",
    "# convert output_dict to dataframe\n",
    "if os.path.exists(new_df_path) is False:\n",
    "    output_df = pd.DataFrame.from_dict(output_dict, orient=\"index\")\n",
    "    output_df.head()\n",
    "    output_df.columns = [\"embedding_\" + str(col + 1) for col in output_df.columns]\n",
    "    # convert output_df store_id to int\n",
    "    output_df[\"store_id\"] = output_df.index\n",
    "    output_df.store_id = output_df.store_id.astype(int)\n",
    "    data_path = \"/Users/user/Documents/Coding/geo/notebook/7 lat long.csv\"\n",
    "    df = pd.read_csv(data_path)\n",
    "    # merge df with output_df with columns store_id\n",
    "    df = pd.merge(df, output_df, on=\"store_id\", how=\"inner\")\n",
    "\n",
    "    # df = pd.concat([df, output_df], axis=1)\n",
    "    df.to_csv(new_df_path, index=False)"
   ]
  },
  {
   "cell_type": "code",
   "execution_count": null,
   "metadata": {},
   "outputs": [],
   "source": []
  },
  {
   "cell_type": "code",
   "execution_count": 8,
   "metadata": {},
   "outputs": [],
   "source": [
    "data_path = \"/Users/user/Documents/Coding/geo/notebook/7 lat long.csv\"\n",
    "import pandas as pd\n",
    "\n",
    "if os.path.exists(new_df_path):\n",
    "    df = pd.read_csv(new_df_path)\n",
    "else:\n",
    "    df = pd.read_csv(data_path)\n",
    "    df.head()\n",
    "    # add embedding to df with store_id\n",
    "    # loop embedding_1-512 to add to df\n",
    "    for i in range(512):\n",
    "        df[f\"embedding_{i+1}\"] = df[\"store_id\"].apply(lambda x: output_dict[x][0][i])\n",
    "\n",
    "    df.head()\n",
    "    df.to_csv(new_df_path, index=False)"
   ]
  },
  {
   "cell_type": "code",
   "execution_count": null,
   "metadata": {},
   "outputs": [],
   "source": []
  },
  {
   "cell_type": "code",
   "execution_count": 9,
   "metadata": {},
   "outputs": [
    {
     "data": {
      "text/html": [
       "<div>\n",
       "<style scoped>\n",
       "    .dataframe tbody tr th:only-of-type {\n",
       "        vertical-align: middle;\n",
       "    }\n",
       "\n",
       "    .dataframe tbody tr th {\n",
       "        vertical-align: top;\n",
       "    }\n",
       "\n",
       "    .dataframe thead th {\n",
       "        text-align: right;\n",
       "    }\n",
       "</style>\n",
       "<table border=\"1\" class=\"dataframe\">\n",
       "  <thead>\n",
       "    <tr style=\"text-align: right;\">\n",
       "      <th></th>\n",
       "      <th>store_id</th>\n",
       "      <th>latitude</th>\n",
       "      <th>longitude</th>\n",
       "      <th>prov_namt</th>\n",
       "      <th>mockup_sale</th>\n",
       "      <th>embedding_1</th>\n",
       "      <th>embedding_2</th>\n",
       "      <th>embedding_3</th>\n",
       "      <th>embedding_4</th>\n",
       "      <th>embedding_5</th>\n",
       "      <th>...</th>\n",
       "      <th>embedding_503</th>\n",
       "      <th>embedding_504</th>\n",
       "      <th>embedding_505</th>\n",
       "      <th>embedding_506</th>\n",
       "      <th>embedding_507</th>\n",
       "      <th>embedding_508</th>\n",
       "      <th>embedding_509</th>\n",
       "      <th>embedding_510</th>\n",
       "      <th>embedding_511</th>\n",
       "      <th>embedding_512</th>\n",
       "    </tr>\n",
       "  </thead>\n",
       "  <tbody>\n",
       "    <tr>\n",
       "      <th>0</th>\n",
       "      <td>16099</td>\n",
       "      <td>8.164963</td>\n",
       "      <td>98.296457</td>\n",
       "      <td>ภูเก็ต</td>\n",
       "      <td>5514</td>\n",
       "      <td>-0.647775</td>\n",
       "      <td>-0.250429</td>\n",
       "      <td>-0.661320</td>\n",
       "      <td>0.347508</td>\n",
       "      <td>-0.986047</td>\n",
       "      <td>...</td>\n",
       "      <td>0.883724</td>\n",
       "      <td>0.852938</td>\n",
       "      <td>0.647610</td>\n",
       "      <td>0.444694</td>\n",
       "      <td>0.202822</td>\n",
       "      <td>0.093807</td>\n",
       "      <td>-0.260356</td>\n",
       "      <td>0.439349</td>\n",
       "      <td>0.271511</td>\n",
       "      <td>0.106830</td>\n",
       "    </tr>\n",
       "    <tr>\n",
       "      <th>1</th>\n",
       "      <td>16422</td>\n",
       "      <td>13.859660</td>\n",
       "      <td>100.538382</td>\n",
       "      <td>นนทบุรี</td>\n",
       "      <td>93834</td>\n",
       "      <td>-0.636405</td>\n",
       "      <td>-0.708834</td>\n",
       "      <td>-0.241512</td>\n",
       "      <td>-0.393015</td>\n",
       "      <td>-0.827613</td>\n",
       "      <td>...</td>\n",
       "      <td>0.694378</td>\n",
       "      <td>0.279611</td>\n",
       "      <td>-0.071350</td>\n",
       "      <td>0.499804</td>\n",
       "      <td>-0.276750</td>\n",
       "      <td>0.703623</td>\n",
       "      <td>-0.548630</td>\n",
       "      <td>-0.270225</td>\n",
       "      <td>0.427221</td>\n",
       "      <td>0.198852</td>\n",
       "    </tr>\n",
       "    <tr>\n",
       "      <th>2</th>\n",
       "      <td>16732</td>\n",
       "      <td>7.194010</td>\n",
       "      <td>100.566282</td>\n",
       "      <td>สงขลา</td>\n",
       "      <td>69245</td>\n",
       "      <td>-0.776682</td>\n",
       "      <td>-0.194732</td>\n",
       "      <td>0.169644</td>\n",
       "      <td>-0.456144</td>\n",
       "      <td>-0.955256</td>\n",
       "      <td>...</td>\n",
       "      <td>0.351970</td>\n",
       "      <td>0.633368</td>\n",
       "      <td>0.659370</td>\n",
       "      <td>0.100348</td>\n",
       "      <td>0.493871</td>\n",
       "      <td>-0.199854</td>\n",
       "      <td>0.287869</td>\n",
       "      <td>0.054394</td>\n",
       "      <td>-0.432780</td>\n",
       "      <td>0.297601</td>\n",
       "    </tr>\n",
       "    <tr>\n",
       "      <th>3</th>\n",
       "      <td>16982</td>\n",
       "      <td>13.788561</td>\n",
       "      <td>100.599841</td>\n",
       "      <td>กรุงเทพมหานคร</td>\n",
       "      <td>71188</td>\n",
       "      <td>-0.421329</td>\n",
       "      <td>-0.420626</td>\n",
       "      <td>0.398620</td>\n",
       "      <td>0.150204</td>\n",
       "      <td>-0.359852</td>\n",
       "      <td>...</td>\n",
       "      <td>0.452612</td>\n",
       "      <td>0.572809</td>\n",
       "      <td>0.555344</td>\n",
       "      <td>0.283643</td>\n",
       "      <td>-0.111879</td>\n",
       "      <td>-0.280260</td>\n",
       "      <td>-0.663806</td>\n",
       "      <td>-0.138071</td>\n",
       "      <td>0.156335</td>\n",
       "      <td>-0.118202</td>\n",
       "    </tr>\n",
       "    <tr>\n",
       "      <th>4</th>\n",
       "      <td>17046</td>\n",
       "      <td>6.582589</td>\n",
       "      <td>100.671930</td>\n",
       "      <td>สงขลา</td>\n",
       "      <td>41589</td>\n",
       "      <td>-0.934698</td>\n",
       "      <td>0.681198</td>\n",
       "      <td>0.633629</td>\n",
       "      <td>0.228640</td>\n",
       "      <td>-0.796288</td>\n",
       "      <td>...</td>\n",
       "      <td>0.807826</td>\n",
       "      <td>0.841895</td>\n",
       "      <td>-0.283328</td>\n",
       "      <td>0.051602</td>\n",
       "      <td>0.138628</td>\n",
       "      <td>-0.489047</td>\n",
       "      <td>-0.335959</td>\n",
       "      <td>0.849277</td>\n",
       "      <td>-0.694231</td>\n",
       "      <td>0.772979</td>\n",
       "    </tr>\n",
       "  </tbody>\n",
       "</table>\n",
       "<p>5 rows × 517 columns</p>\n",
       "</div>"
      ],
      "text/plain": [
       "   store_id   latitude   longitude      prov_namt  mockup_sale  embedding_1  \\\n",
       "0     16099   8.164963   98.296457         ภูเก็ต         5514    -0.647775   \n",
       "1     16422  13.859660  100.538382        นนทบุรี        93834    -0.636405   \n",
       "2     16732   7.194010  100.566282          สงขลา        69245    -0.776682   \n",
       "3     16982  13.788561  100.599841  กรุงเทพมหานคร        71188    -0.421329   \n",
       "4     17046   6.582589  100.671930          สงขลา        41589    -0.934698   \n",
       "\n",
       "   embedding_2  embedding_3  embedding_4  embedding_5  ...  embedding_503  \\\n",
       "0    -0.250429    -0.661320     0.347508    -0.986047  ...       0.883724   \n",
       "1    -0.708834    -0.241512    -0.393015    -0.827613  ...       0.694378   \n",
       "2    -0.194732     0.169644    -0.456144    -0.955256  ...       0.351970   \n",
       "3    -0.420626     0.398620     0.150204    -0.359852  ...       0.452612   \n",
       "4     0.681198     0.633629     0.228640    -0.796288  ...       0.807826   \n",
       "\n",
       "   embedding_504  embedding_505  embedding_506  embedding_507  embedding_508  \\\n",
       "0       0.852938       0.647610       0.444694       0.202822       0.093807   \n",
       "1       0.279611      -0.071350       0.499804      -0.276750       0.703623   \n",
       "2       0.633368       0.659370       0.100348       0.493871      -0.199854   \n",
       "3       0.572809       0.555344       0.283643      -0.111879      -0.280260   \n",
       "4       0.841895      -0.283328       0.051602       0.138628      -0.489047   \n",
       "\n",
       "   embedding_509  embedding_510  embedding_511  embedding_512  \n",
       "0      -0.260356       0.439349       0.271511       0.106830  \n",
       "1      -0.548630      -0.270225       0.427221       0.198852  \n",
       "2       0.287869       0.054394      -0.432780       0.297601  \n",
       "3      -0.663806      -0.138071       0.156335      -0.118202  \n",
       "4      -0.335959       0.849277      -0.694231       0.772979  \n",
       "\n",
       "[5 rows x 517 columns]"
      ]
     },
     "execution_count": 9,
     "metadata": {},
     "output_type": "execute_result"
    }
   ],
   "source": [
    "df.head()"
   ]
  },
  {
   "cell_type": "code",
   "execution_count": null,
   "metadata": {},
   "outputs": [],
   "source": []
  },
  {
   "cell_type": "code",
   "execution_count": 10,
   "metadata": {},
   "outputs": [],
   "source": [
    "# save df"
   ]
  },
  {
   "cell_type": "code",
   "execution_count": 11,
   "metadata": {},
   "outputs": [],
   "source": [
    "# use embedding to predict mockup_sale with xgboost\n",
    "from sklearn.model_selection import train_test_split\n",
    "import xgboost as xgb\n",
    "import numpy as np\n",
    "\n",
    "# linear regression\n",
    "from sklearn.linear_model import LinearRegression\n",
    "from sklearn.metrics import mean_squared_error\n",
    "\n",
    "# get all column has embedding_ prefix\n",
    "embedding_columns = [col for col in df.columns if col.startswith(\"embedding_\")]\n",
    "# assign to x\n",
    "x = df[embedding_columns]\n",
    "y = df[\"mockup_sale\"]\n",
    "# make train test the same to test overfitting\n",
    "\n",
    "x_test = x_train = x\n",
    "y_test = y_train = y"
   ]
  },
  {
   "cell_type": "code",
   "execution_count": 12,
   "metadata": {},
   "outputs": [
    {
     "data": {
      "text/plain": [
       "((15, 512), (15,))"
      ]
     },
     "execution_count": 12,
     "metadata": {},
     "output_type": "execute_result"
    }
   ],
   "source": [
    "x_train.shape, y_train.shape"
   ]
  },
  {
   "cell_type": "code",
   "execution_count": 13,
   "metadata": {},
   "outputs": [],
   "source": [
    "import matplotlib.pyplot as plt"
   ]
  },
  {
   "cell_type": "code",
   "execution_count": 14,
   "metadata": {},
   "outputs": [
    {
     "name": "stdout",
     "output_type": "stream",
     "text": [
      "Mean Squared Error: 6.329218546549479e-05\n"
     ]
    },
    {
     "data": {
      "image/png": "[encoded data removed]",
      "text/plain": [
       "<Figure size 640x480 with 1 Axes>"
      ]
     },
     "metadata": {},
     "output_type": "display_data"
    }
   ],
   "source": [
    "# Create an XGBoost regressor\n",
    "regressor = xgb.XGBRegressor(objective=\"reg:squarederror\", seed=42)\n",
    "\n",
    "# Train the model\n",
    "regressor.fit(x_train, y_train)\n",
    "\n",
    "# Make predictions on the test set\n",
    "y_pred = regressor.predict(x_test)\n",
    "\n",
    "# Evaluate the model\n",
    "mse = mean_squared_error(y_test, y_pred)\n",
    "print(f\"Mean Squared Error: {mse}\")\n",
    "\n",
    "# Plot the results\n",
    "# plt.scatter(x_test, y_test, color=\"black\", label=\"Actual\")\n",
    "plt.scatter(y_test, y_pred, color=\"red\", label=\"Predicted\")\n",
    "plt.xlabel(\"X\")\n",
    "plt.ylabel(\"Y\")\n",
    "plt.title(\"XGBoost Linear Regression\")\n",
    "plt.legend()\n",
    "plt.show()"
   ]
  },
  {
   "cell_type": "code",
   "execution_count": null,
   "metadata": {},
   "outputs": [],
   "source": []
  },
  {
   "cell_type": "code",
   "execution_count": null,
   "metadata": {},
   "outputs": [],
   "source": []
  },
  {
   "cell_type": "code",
   "execution_count": 22,
   "metadata": {},
   "outputs": [
    {
     "name": "stderr",
     "output_type": "stream",
     "text": [
      "GPU available: True (mps), used: True\n",
      "TPU available: False, using: 0 TPU cores\n",
      "IPU available: False, using: 0 IPUs\n",
      "HPU available: False, using: 0 HPUs\n",
      "\n",
      "  | Name | Type   | Params\n",
      "--------------------------------\n",
      "0 | fc1  | Linear | 131 K \n",
      "1 | fc2  | Linear | 32.9 K\n",
      "2 | fc3  | Linear | 8.3 K \n",
      "3 | fc4  | Linear | 65    \n",
      "--------------------------------\n",
      "172 K     Trainable params\n",
      "0         Non-trainable params\n",
      "172 K     Total params\n",
      "0.690     Total estimated model params size (MB)\n"
     ]
    },
    {
     "name": "stdout",
     "output_type": "stream",
     "text": [
      "Epoch 249: 100%|██████████| 2/2 [00:00<00:00, 119.27it/s, v_num=22]"
     ]
    },
    {
     "name": "stderr",
     "output_type": "stream",
     "text": [
      "`Trainer.fit` stopped: `max_epochs=250` reached.\n"
     ]
    },
    {
     "name": "stdout",
     "output_type": "stream",
     "text": [
      "Epoch 249: 100%|██████████| 2/2 [00:00<00:00, 17.18it/s, v_num=22] "
     ]
    },
    {
     "name": "stderr",
     "output_type": "stream",
     "text": [
      "Restoring states from the checkpoint path at tb_logs/my_model/version_22/checkpoints/epoch=249-step=500.ckpt\n",
      "Loaded model weights from the checkpoint at tb_logs/my_model/version_22/checkpoints/epoch=249-step=500.ckpt\n"
     ]
    },
    {
     "name": "stdout",
     "output_type": "stream",
     "text": [
      "\n",
      "Testing DataLoader 0: 100%|██████████| 2/2 [00:00<00:00, 210.39it/s]\n"
     ]
    },
    {
     "data": {
      "text/html": [
       "<pre style=\"white-space:pre;overflow-x:auto;line-height:normal;font-family:Menlo,'DejaVu Sans Mono',consolas,'Courier New',monospace\">┏━━━━━━━━━━━━━━━━━━━━━━━━━━━┳━━━━━━━━━━━━━━━━━━━━━━━━━━━┓\n",
       "┃<span style=\"font-weight: bold\">        Test metric        </span>┃<span style=\"font-weight: bold\">       DataLoader 0        </span>┃\n",
       "┡━━━━━━━━━━━━━━━━━━━━━━━━━━━╇━━━━━━━━━━━━━━━━━━━━━━━━━━━┩\n",
       "│<span style=\"color: #008080; text-decoration-color: #008080\">         test_loss         </span>│<span style=\"color: #800080; text-decoration-color: #800080\">  1.8628437828738242e-05   </span>│\n",
       "└───────────────────────────┴───────────────────────────┘\n",
       "</pre>\n"
      ],
      "text/plain": [
       "┏━━━━━━━━━━━━━━━━━━━━━━━━━━━┳━━━━━━━━━━━━━━━━━━━━━━━━━━━┓\n",
       "┃\u001b[1m \u001b[0m\u001b[1m       Test metric       \u001b[0m\u001b[1m \u001b[0m┃\u001b[1m \u001b[0m\u001b[1m      DataLoader 0       \u001b[0m\u001b[1m \u001b[0m┃\n",
       "┡━━━━━━━━━━━━━━━━━━━━━━━━━━━╇━━━━━━━━━━━━━━━━━━━━━━━━━━━┩\n",
       "│\u001b[36m \u001b[0m\u001b[36m        test_loss        \u001b[0m\u001b[36m \u001b[0m│\u001b[35m \u001b[0m\u001b[35m 1.8628437828738242e-05  \u001b[0m\u001b[35m \u001b[0m│\n",
       "└───────────────────────────┴───────────────────────────┘\n"
      ]
     },
     "metadata": {},
     "output_type": "display_data"
    },
    {
     "name": "stdout",
     "output_type": "stream",
     "text": [
      "Example Predictions: [ 5513.9995 93834.01   69245.01   71188.01   41589.004 ]\n"
     ]
    }
   ],
   "source": [
    "from typing import Any\n",
    "from lightning.pytorch.utilities.types import STEP_OUTPUT\n",
    "import torch\n",
    "import torch.nn as nn\n",
    "import torch.optim as optim\n",
    "from torch.utils.data import Dataset, DataLoader\n",
    "from sklearn.model_selection import train_test_split\n",
    "from sklearn.preprocessing import StandardScaler\n",
    "import numpy as np\n",
    "import lightning as pl\n",
    "\n",
    "from lightning.pytorch.loggers import TensorBoardLogger\n",
    "\n",
    "\n",
    "# Define a simple dataset\n",
    "class PriceDataset(Dataset):\n",
    "    def __init__(self, features, labels):\n",
    "        self.features = torch.tensor(features, dtype=torch.float32)\n",
    "        self.labels = torch.tensor(labels, dtype=torch.float32)\n",
    "\n",
    "    def __len__(self):\n",
    "        return len(self.features)\n",
    "\n",
    "    def __getitem__(self, idx):\n",
    "        return self.features[idx], self.labels[idx]\n",
    "\n",
    "\n",
    "# Define a simple feedforward neural network\n",
    "class PricePredictor(pl.LightningModule):\n",
    "    def __init__(self, input_size):\n",
    "        super(PricePredictor, self).__init__()\n",
    "        self.fc1 = nn.Linear(input_size, 256)\n",
    "        self.fc2 = nn.Linear(256, 128)\n",
    "        self.fc3 = nn.Linear(128, 64)\n",
    "        self.fc4 = nn.Linear(64, 1)\n",
    "        self.training_step_loss = []\n",
    "\n",
    "    def forward(self, x):\n",
    "        x = torch.relu(self.fc1(x))\n",
    "        x = torch.relu(self.fc2(x))\n",
    "        x = torch.relu(self.fc3(x))\n",
    "        x = self.fc4(x)\n",
    "        return x\n",
    "\n",
    "    def training_step(self, batch, batch_idx):\n",
    "        x, y = batch\n",
    "        y_pred = self(x)\n",
    "        loss = nn.MSELoss()(y_pred.flatten(), y)\n",
    "        self.training_step_loss.append(loss)\n",
    "        return loss\n",
    "\n",
    "    def configure_optimizers(self):\n",
    "        return optim.Adam(self.parameters(), lr=0.01)\n",
    "\n",
    "    def test_step(self, batch, batch_idx):\n",
    "        x, y = batch\n",
    "        y_pred = self(x)\n",
    "        loss = nn.MSELoss()(y_pred.flatten(), y)\n",
    "        self.log(\"test_loss\", loss)\n",
    "\n",
    "    def on_train_epoch_end(self):\n",
    "        # print(\"\\n\\tself.training_step_loss\", self.training_step_loss)\n",
    "        # print(\"\\n\\tself.training_step_loss\", self.training_step_loss[0].shape)\n",
    "        # print(\"\\n\\tself.training_step_loss\", self.training_step_loss[0])\n",
    "        # print()\n",
    "        # avg_loss = torch.stack([x[\"loss\"] for x in self.training_step_loss]).mean()\n",
    "        avg_loss = torch.stack(\n",
    "            [x.detach().cpu() for x in self.training_step_loss]\n",
    "        ).mean()\n",
    "        self.log(\"train_loss\", avg_loss.item(), on_epoch=True)\n",
    "\n",
    "\n",
    "# Generate some random data for demonstration purposes\n",
    "np.random.seed(42)\n",
    "# features = np.random.rand(100, 512, 1)  # 100 samples with 512x1 features each\n",
    "# labels = (\n",
    "#     3 * features[:, 0, 0]\n",
    "#     + 2 * features[:, 1, 0]\n",
    "#     + 1.5 * features[:, 2, 0]\n",
    "#     + 1\n",
    "#     + 0.1 * np.random.randn(100)\n",
    "# )\n",
    "\n",
    "# Split the data into training and testing sets\n",
    "# X_train, X_test, y_train, y_test = train_test_split(\n",
    "#     x, y, test_size=0.2, random_state=42\n",
    "# )\n",
    "X_train = X_test = np.array(x)\n",
    "y_train = y_test = np.array(y)\n",
    "# Standardize the features\n",
    "# scaler = StandardScaler()\n",
    "# X_train = scaler.fit_transform(X_train.reshape(-1, 1)).reshape(-1, 512, 1)\n",
    "# X_test = scaler.transform(X_test.reshape(-1, 1)).reshape(-1, 512, 1)\n",
    "# y_train = np.array(y_train)\n",
    "# Create data loaders\n",
    "train_dataset = PriceDataset(X_train, y_train)\n",
    "test_dataset = PriceDataset(X_test, y_test)\n",
    "train_loader = DataLoader(train_dataset, batch_size=8, shuffle=True)\n",
    "test_loader = DataLoader(test_dataset, batch_size=8, shuffle=False)\n",
    "\n",
    "# Initialize the model\n",
    "input_size = X_train.shape[1:]\n",
    "model = PricePredictor(input_size[0])\n",
    "\n",
    "# Initialize a PyTorch Lightning Trainer\n",
    "logger = TensorBoardLogger(\"tb_logs\", name=\"my_model\")\n",
    "\n",
    "trainer = pl.Trainer(max_epochs=250, logger=logger)\n",
    "\n",
    "# Train the model\n",
    "trainer.fit(model, train_loader)\n",
    "\n",
    "# Test the model\n",
    "trainer.test(dataloaders=test_loader)\n",
    "\n",
    "# Make predictions\n",
    "model.eval()\n",
    "with torch.no_grad():\n",
    "    example_input = torch.tensor(X_test[:5], dtype=torch.float32)\n",
    "    predictions = model(example_input).flatten().numpy()\n",
    "\n",
    "print(\"Example Predictions:\", predictions)"
   ]
  },
  {
   "cell_type": "code",
   "execution_count": 23,
   "metadata": {},
   "outputs": [
    {
     "name": "stdout",
     "output_type": "stream",
     "text": [
      "Example Predictions: [5514, 93834, 69245, 71188, 41589]\n",
      "Ground Truth: [ 5514 93834 69245 71188 41589]\n"
     ]
    }
   ],
   "source": [
    "with torch.no_grad():\n",
    "    example_input = torch.tensor(X_test[:5], dtype=torch.float32)\n",
    "    predictions = model(example_input).flatten().numpy()\n",
    "    predictions = [int(round(pred)) for pred in predictions]\n",
    "\n",
    "print(\"Example Predictions:\", predictions)\n",
    "print(\"Ground Truth:\", y_test[:5])"
   ]
  },
  {
   "cell_type": "code",
   "execution_count": 24,
   "metadata": {},
   "outputs": [
    {
     "data": {
      "text/plain": [
       "array([ 5514, 93834, 69245, 71188, 41589])"
      ]
     },
     "execution_count": 24,
     "metadata": {},
     "output_type": "execute_result"
    }
   ],
   "source": [
    "y_test[:5]"
   ]
  },
  {
   "cell_type": "code",
   "execution_count": null,
   "metadata": {},
   "outputs": [
    {
     "data": {
      "text/plain": [
       "4302521856.0"
      ]
     },
     "execution_count": 24,
     "metadata": {},
     "output_type": "execute_result"
    }
   ],
   "source": [
    "import numpy as np\n",
    "\n",
    "\n",
    "def mean_squared_error(y_true, y_pred):\n",
    "    \"\"\"\n",
    "    Calculate Mean Squared Error (MSE).\n",
    "\n",
    "    Parameters:\n",
    "    - y_true: numpy array or list, true values\n",
    "    - y_pred: numpy array or list, predicted values\n",
    "\n",
    "    Returns:\n",
    "    - mse: float, Mean Squared Error\n",
    "    \"\"\"\n",
    "    N = len(y_true)\n",
    "    mse = np.sum((y_true - y_pred) ** 2) / N\n",
    "    return mse\n",
    "\n",
    "\n",
    "# Example usage:\n",
    "# Assuming y_true and y_pred are your true and predicted values\n",
    "y_true = np.array([1, 2, 3, 4, 5])\n",
    "y_pred = np.array([1.5, 2.5, 3.5, 4.5, 5.5])\n",
    "\n",
    "mse = mean_squared_error(y_true, y_pred)\n",
    "print(f\"Mean Squared Error: {mse}\")"
   ]
  }
 ],
 "metadata": {
  "kernelspec": {
   "display_name": "base",
   "language": "python",
   "name": "python3"
  },
  "language_info": {
   "codemirror_mode": {
    "name": "ipython",
    "version": 3
   },
   "file_extension": ".py",
   "mimetype": "text/x-python",
   "name": "python",
   "nbconvert_exporter": "python",
   "pygments_lexer": "ipython3",
   "version": "3.11.4"
  },
  "orig_nbformat": 4
 },
 "nbformat": 4,
 "nbformat_minor": 2
}
