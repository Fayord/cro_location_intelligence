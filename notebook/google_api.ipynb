{
 "cells": [
  {
   "cell_type": "code",
   "execution_count": 1,
   "metadata": {},
   "outputs": [
    {
     "data": {
      "text/plain": [
       "True"
      ]
     },
     "execution_count": 1,
     "metadata": {},
     "output_type": "execute_result"
    }
   ],
   "source": [
    "from dotenv import load_dotenv\n",
    "\n",
    "env_path = \"./.env\"\n",
    "load_dotenv(dotenv_path=env_path)"
   ]
  },
  {
   "cell_type": "code",
   "execution_count": 4,
   "metadata": {},
   "outputs": [],
   "source": [
    "import os\n",
    "\n",
    "GOOGLE_APIKEY = os.getenv(\"GOOGLE_APIKEY\")"
   ]
  },
  {
   "cell_type": "code",
   "execution_count": 16,
   "metadata": {},
   "outputs": [],
   "source": [
    "import requests\n",
    "import shutil\n",
    "\n",
    "\n",
    "def get_static_map_image(\n",
    "    api_key,\n",
    "    lat,\n",
    "    lon,\n",
    "    zoom=15,\n",
    "    size=(640, 640),\n",
    "    maptype=\"roadmap\",\n",
    "    file_path=\"static_map.png\",\n",
    "):\n",
    "    base_url = \"https://maps.googleapis.com/maps/api/staticmap\"\n",
    "    params = {\n",
    "        \"center\": f\"{lat},{lon}\",\n",
    "        \"zoom\": zoom,\n",
    "        \"size\": f\"{size[0]}x{size[1]}\",\n",
    "        \"maptype\": maptype,\n",
    "        \"key\": api_key,\n",
    "    }\n",
    "\n",
    "    response = requests.get(base_url, params=params, stream=True)\n",
    "\n",
    "    if response.status_code == 200:\n",
    "        with open(file_path, \"wb\") as out_file:\n",
    "            shutil.copyfileobj(response.raw, out_file)\n",
    "        print(\"Static map image saved as static_map.png\")\n",
    "    else:\n",
    "        print(\n",
    "            f\"Failed to retrieve static map image. Status code: {response.status_code}\"\n",
    "        )\n",
    "\n",
    "\n",
    "# Replace 'YOUR_API_KEY' with your actual Google Maps API key\n",
    "google_maps_api_key = GOOGLE_APIKEY\n",
    "# 13.838724\t100.575318\n",
    "# Example location (latitude and longitude for New York City)\n",
    "latitude = 13.838724\n",
    "longitude = 100.575318\n",
    "\n",
    "# get_static_map_image(google_maps_api_key, latitude, longitude, maptype=\"satellite\")"
   ]
  },
  {
   "cell_type": "code",
   "execution_count": 18,
   "metadata": {},
   "outputs": [
    {
     "name": "stdout",
     "output_type": "stream",
     "text": [
      "Static map image saved as static_map.png\n"
     ]
    }
   ],
   "source": [
    "zoom = 19\n",
    "file_path = f\"static_map_satellite_{zoom}.png\"\n",
    "get_static_map_image(\n",
    "    google_maps_api_key,\n",
    "    latitude,\n",
    "    longitude,\n",
    "    zoom=zoom,\n",
    "    size=(640, 640),\n",
    "    maptype=\"satellite\",\n",
    "    file_path=file_path,\n",
    ")"
   ]
  },
  {
   "cell_type": "code",
   "execution_count": 15,
   "metadata": {},
   "outputs": [
    {
     "name": "stdout",
     "output_type": "stream",
     "text": [
      "(640, 640)\n"
     ]
    }
   ],
   "source": [
    "# load image\n",
    "from PIL import Image\n",
    "\n",
    "image_path = \"static_map_satellite.png\"\n",
    "image = Image.open(image_path)\n",
    "# print size\n",
    "print(image.size)"
   ]
  },
  {
   "cell_type": "code",
   "execution_count": 19,
   "metadata": {},
   "outputs": [
    {
     "name": "stdout",
     "output_type": "stream",
     "text": [
      "Traffic data:\n",
      "{'snappedPoints': [{'location': {'latitude': 13.8385925, 'longitude': 100.57524079999999}, 'originalIndex': 0, 'placeId': 'ChIJbROebx2d4jARMrVXgDOpyy0'}, {'location': {'latitude': 13.8385925, 'longitude': 100.57524079999999}, 'originalIndex': 0, 'placeId': 'ChIJbROebx2d4jARM7VXgDOpyy0'}]}\n"
     ]
    }
   ],
   "source": [
    "import requests\n",
    "\n",
    "\n",
    "def get_traffic_data(api_key, latitude, longitude):\n",
    "    base_url = \"https://roads.googleapis.com/v1/nearestRoads\"\n",
    "\n",
    "    params = {\n",
    "        \"points\": f\"{latitude},{longitude}\",\n",
    "        \"key\": api_key,\n",
    "    }\n",
    "\n",
    "    response = requests.get(base_url, params=params)\n",
    "\n",
    "    if response.status_code == 200:\n",
    "        data = response.json()\n",
    "        print(\"Traffic data:\")\n",
    "        print(data)\n",
    "    else:\n",
    "        print(f\"Failed to retrieve traffic data. Status code: {response.status_code}\")\n",
    "\n",
    "\n",
    "# Replace 'YOUR_API_KEY' with your actual Google Maps API key\n",
    "google_maps_api_key = GOOGLE_APIKEY\n",
    "\n",
    "# Example location (latitude and longitude for New York City)\n",
    "\n",
    "\n",
    "get_traffic_data(google_maps_api_key, latitude, longitude)"
   ]
  },
  {
   "cell_type": "code",
   "execution_count": null,
   "metadata": {},
   "outputs": [],
   "source": []
  }
 ],
 "metadata": {
  "kernelspec": {
   "display_name": "base",
   "language": "python",
   "name": "python3"
  },
  "language_info": {
   "codemirror_mode": {
    "name": "ipython",
    "version": 3
   },
   "file_extension": ".py",
   "mimetype": "text/x-python",
   "name": "python",
   "nbconvert_exporter": "python",
   "pygments_lexer": "ipython3",
   "version": "3.11.4"
  },
  "orig_nbformat": 4
 },
 "nbformat": 4,
 "nbformat_minor": 2
}
