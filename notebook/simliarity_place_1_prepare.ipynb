{
 "cells": [
  {
   "cell_type": "code",
   "execution_count": 1,
   "metadata": {},
   "outputs": [],
   "source": [
    "import os\n",
    "from PIL import Image\n",
    "import pandas as pd"
   ]
  },
  {
   "cell_type": "code",
   "execution_count": 2,
   "metadata": {},
   "outputs": [
    {
     "data": {
      "text/html": [
       "<div>\n",
       "<style scoped>\n",
       "    .dataframe tbody tr th:only-of-type {\n",
       "        vertical-align: middle;\n",
       "    }\n",
       "\n",
       "    .dataframe tbody tr th {\n",
       "        vertical-align: top;\n",
       "    }\n",
       "\n",
       "    .dataframe thead th {\n",
       "        text-align: right;\n",
       "    }\n",
       "</style>\n",
       "<table border=\"1\" class=\"dataframe\">\n",
       "  <thead>\n",
       "    <tr style=\"text-align: right;\">\n",
       "      <th></th>\n",
       "      <th>store_id</th>\n",
       "      <th>prov_namt</th>\n",
       "      <th>latitude</th>\n",
       "      <th>longitude</th>\n",
       "    </tr>\n",
       "  </thead>\n",
       "  <tbody>\n",
       "    <tr>\n",
       "      <th>0</th>\n",
       "      <td>1025</td>\n",
       "      <td>กรุงเทพมหานคร</td>\n",
       "      <td>13.838724</td>\n",
       "      <td>100.575318</td>\n",
       "    </tr>\n",
       "    <tr>\n",
       "      <th>1</th>\n",
       "      <td>1026</td>\n",
       "      <td>ปทุมธานี</td>\n",
       "      <td>14.036545</td>\n",
       "      <td>100.733520</td>\n",
       "    </tr>\n",
       "    <tr>\n",
       "      <th>2</th>\n",
       "      <td>1028</td>\n",
       "      <td>ตรัง</td>\n",
       "      <td>7.567873</td>\n",
       "      <td>99.614094</td>\n",
       "    </tr>\n",
       "    <tr>\n",
       "      <th>3</th>\n",
       "      <td>1032</td>\n",
       "      <td>กรุงเทพมหานคร</td>\n",
       "      <td>13.719625</td>\n",
       "      <td>100.442061</td>\n",
       "    </tr>\n",
       "    <tr>\n",
       "      <th>4</th>\n",
       "      <td>1033</td>\n",
       "      <td>กรุงเทพมหานคร</td>\n",
       "      <td>13.768390</td>\n",
       "      <td>100.721288</td>\n",
       "    </tr>\n",
       "  </tbody>\n",
       "</table>\n",
       "</div>"
      ],
      "text/plain": [
       "   store_id      prov_namt   latitude   longitude\n",
       "0      1025  กรุงเทพมหานคร  13.838724  100.575318\n",
       "1      1026       ปทุมธานี  14.036545  100.733520\n",
       "2      1028           ตรัง   7.567873   99.614094\n",
       "3      1032  กรุงเทพมหานคร  13.719625  100.442061\n",
       "4      1033  กรุงเทพมหานคร  13.768390  100.721288"
      ]
     },
     "execution_count": 2,
     "metadata": {},
     "output_type": "execute_result"
    }
   ],
   "source": [
    "df_path = \"/Users/user/Documents/Coding/geo/notebook/7-11 Location for Ford.xlsx\"\n",
    "df = pd.read_excel(df_path)\n",
    "df.head()"
   ]
  },
  {
   "cell_type": "code",
   "execution_count": 3,
   "metadata": {},
   "outputs": [
    {
     "data": {
      "text/html": [
       "<div>\n",
       "<style scoped>\n",
       "    .dataframe tbody tr th:only-of-type {\n",
       "        vertical-align: middle;\n",
       "    }\n",
       "\n",
       "    .dataframe tbody tr th {\n",
       "        vertical-align: top;\n",
       "    }\n",
       "\n",
       "    .dataframe thead th {\n",
       "        text-align: right;\n",
       "    }\n",
       "</style>\n",
       "<table border=\"1\" class=\"dataframe\">\n",
       "  <thead>\n",
       "    <tr style=\"text-align: right;\">\n",
       "      <th></th>\n",
       "      <th>store_id</th>\n",
       "      <th>prov_namt</th>\n",
       "      <th>latitude</th>\n",
       "      <th>longitude</th>\n",
       "      <th>embedding</th>\n",
       "    </tr>\n",
       "  </thead>\n",
       "  <tbody>\n",
       "    <tr>\n",
       "      <th>0</th>\n",
       "      <td>1025</td>\n",
       "      <td>กรุงเทพมหานคร</td>\n",
       "      <td>13.838724</td>\n",
       "      <td>100.575318</td>\n",
       "      <td>[]</td>\n",
       "    </tr>\n",
       "    <tr>\n",
       "      <th>1</th>\n",
       "      <td>1026</td>\n",
       "      <td>ปทุมธานี</td>\n",
       "      <td>14.036545</td>\n",
       "      <td>100.733520</td>\n",
       "      <td>[]</td>\n",
       "    </tr>\n",
       "    <tr>\n",
       "      <th>2</th>\n",
       "      <td>1028</td>\n",
       "      <td>ตรัง</td>\n",
       "      <td>7.567873</td>\n",
       "      <td>99.614094</td>\n",
       "      <td>[]</td>\n",
       "    </tr>\n",
       "    <tr>\n",
       "      <th>3</th>\n",
       "      <td>1032</td>\n",
       "      <td>กรุงเทพมหานคร</td>\n",
       "      <td>13.719625</td>\n",
       "      <td>100.442061</td>\n",
       "      <td>[]</td>\n",
       "    </tr>\n",
       "    <tr>\n",
       "      <th>4</th>\n",
       "      <td>1033</td>\n",
       "      <td>กรุงเทพมหานคร</td>\n",
       "      <td>13.768390</td>\n",
       "      <td>100.721288</td>\n",
       "      <td>[]</td>\n",
       "    </tr>\n",
       "  </tbody>\n",
       "</table>\n",
       "</div>"
      ],
      "text/plain": [
       "   store_id      prov_namt   latitude   longitude embedding\n",
       "0      1025  กรุงเทพมหานคร  13.838724  100.575318        []\n",
       "1      1026       ปทุมธานี  14.036545  100.733520        []\n",
       "2      1028           ตรัง   7.567873   99.614094        []\n",
       "3      1032  กรุงเทพมหานคร  13.719625  100.442061        []\n",
       "4      1033  กรุงเทพมหานคร  13.768390  100.721288        []"
      ]
     },
     "execution_count": 3,
     "metadata": {},
     "output_type": "execute_result"
    }
   ],
   "source": [
    "import numpy as np\n",
    "\n",
    "# add new column name embedding with nan\n",
    "df[\"embedding\"] = [[]] * len(df)\n",
    "df.head()"
   ]
  },
  {
   "cell_type": "code",
   "execution_count": 4,
   "metadata": {},
   "outputs": [
    {
     "data": {
      "text/plain": [
       "True"
      ]
     },
     "execution_count": 4,
     "metadata": {},
     "output_type": "execute_result"
    }
   ],
   "source": [
    "# check is store_id is unique\n",
    "df[\"store_id\"].is_unique"
   ]
  },
  {
   "cell_type": "code",
   "execution_count": 5,
   "metadata": {},
   "outputs": [],
   "source": [
    "# do model inference"
   ]
  },
  {
   "cell_type": "code",
   "execution_count": 6,
   "metadata": {},
   "outputs": [
    {
     "data": {
      "text/plain": [
       "device(type='mps')"
      ]
     },
     "execution_count": 6,
     "metadata": {},
     "output_type": "execute_result"
    }
   ],
   "source": [
    "import torch\n",
    "\n",
    "device = torch.device(\"cuda\" if torch.cuda.is_available() else \"cpu\")\n",
    "if not torch.backends.mps.is_available():\n",
    "    if not torch.backends.mps.is_built():\n",
    "        print(\n",
    "            \"MPS not available because the current PyTorch install was not \"\n",
    "            \"built with MPS enabled.\"\n",
    "        )\n",
    "    else:\n",
    "        print(\n",
    "            \"MPS not available because the current MacOS version is not 12.3+ \"\n",
    "            \"and/or you do not have an MPS-enabled device on this machine.\"\n",
    "        )\n",
    "\n",
    "else:\n",
    "    device = torch.device(\"mps\")\n",
    "device"
   ]
  },
  {
   "cell_type": "code",
   "execution_count": 7,
   "metadata": {},
   "outputs": [
    {
     "name": "stderr",
     "output_type": "stream",
     "text": [
      "/Users/user/miniconda3/lib/python3.11/site-packages/tqdm/auto.py:21: TqdmWarning: IProgress not found. Please update jupyter and ipywidgets. See https://ipywidgets.readthedocs.io/en/stable/user_install.html\n",
      "  from .autonotebook import tqdm as notebook_tqdm\n"
     ]
    }
   ],
   "source": [
    "import timm\n",
    "from geo_utils import crop_middle_image_from_side_size, apply_circle_mask\n",
    "\n",
    "model = timm.create_model(\n",
    "    \"maxvit_tiny_tf_512.in1k\",\n",
    "    pretrained=True,\n",
    "    num_classes=0,  # remove classifier nn.Linear\n",
    ").to(\n",
    "    device\n",
    ")  # Move the model to the GPU\n",
    "model = model.eval()\n",
    "data_config = timm.data.resolve_model_data_config(model)\n",
    "transforms = timm.data.create_transform(**data_config, is_training=False)\n",
    "\n",
    "\n",
    "def preprocess_image(image: Image.Image) -> Image.Image:\n",
    "    image = crop_middle_image_from_side_size(image, 2400, 1600)\n",
    "    image = apply_circle_mask(image)\n",
    "    return image\n",
    "\n",
    "\n",
    "preprocessed_image_folder = \"/Users/user/Documents/Coding/geo/notebook/data/crop_image\"\n",
    "\n",
    "\n",
    "def predict(model, transforms, image_path, preprocessed_image_path, device=device):\n",
    "    image = Image.open(image_path).convert(\"RGB\")\n",
    "    preprocessed_image = preprocess_image(image)\n",
    "    image_tensor = (\n",
    "        transforms(preprocessed_image).unsqueeze(0).to(device)\n",
    "    )  # Move input data to the GPU\n",
    "    output = model(image_tensor)\n",
    "\n",
    "    # or equivalently (without needing to set num_classes=0)\n",
    "    output = model.forward_features(image_tensor)\n",
    "    output = model.forward_head(output, pre_logits=True)\n",
    "    embedding = output.detach().cpu().numpy()[0]\n",
    "    preprocessed_image.save(preprocessed_image_path)\n",
    "    # save preprocessed_image\n",
    "    return embedding  # Move the result back to the CPU for further processing if needed"
   ]
  },
  {
   "cell_type": "code",
   "execution_count": 8,
   "metadata": {},
   "outputs": [],
   "source": [
    "image_path = \"/Users/user/Documents/Coding/geo/notebook/data/full_image/1025.png\"\n",
    "image_path = \"/Users/user/Documents/Coding/geo/notebook/data/full_image/1026.png\"\n",
    "preprocessed_image_path = os.path.join(\n",
    "    preprocessed_image_folder, os.path.basename(image_path)\n",
    ")\n",
    "result = predict(\n",
    "    model,\n",
    "    transforms,\n",
    "    image_path,\n",
    "    preprocessed_image_path,\n",
    ")\n",
    "# result"
   ]
  },
  {
   "cell_type": "code",
   "execution_count": 9,
   "metadata": {},
   "outputs": [
    {
     "data": {
      "text/plain": [
       "([], array([], dtype=bool))"
      ]
     },
     "execution_count": 9,
     "metadata": {},
     "output_type": "execute_result"
    }
   ],
   "source": [
    "index = 1\n",
    "df.loc[index, \"embedding\"], pd.isna(df.loc[index, \"embedding\"])"
   ]
  },
  {
   "cell_type": "code",
   "execution_count": 10,
   "metadata": {},
   "outputs": [
    {
     "name": "stdout",
     "output_type": "stream",
     "text": [
      "Load success df_embedding.pkl\n"
     ]
    }
   ],
   "source": [
    "save_path = \"./df_embedding.pkl\"\n",
    "\n",
    "if os.path.exists(save_path):\n",
    "    print(\"Load success df_embedding.pkl\")\n",
    "    df = pd.read_pickle(save_path)"
   ]
  },
  {
   "cell_type": "code",
   "execution_count": 11,
   "metadata": {},
   "outputs": [
    {
     "name": "stderr",
     "output_type": "stream",
     "text": [
      "Processing rows:   0%|          | 0/11055 [00:00<?, ?it/s]"
     ]
    },
    {
     "name": "stderr",
     "output_type": "stream",
     "text": [
      "Processing rows:  23%|██▎       | 2588/11055 [00:00<00:00, 25846.93it/s]/var/folders/9g/3rr3k99j0td2974k71sy46_h0000gp/T/ipykernel_31480/979085148.py:27: SettingWithCopyWarning: \n",
      "A value is trying to be set on a copy of a slice from a DataFrame\n",
      "\n",
      "See the caveats in the documentation: https://pandas.pydata.org/pandas-docs/stable/user_guide/indexing.html#returning-a-view-versus-a-copy\n",
      "  df.embedding[index] = embedding.tolist()\n",
      "Processing rows: 100%|██████████| 11055/11055 [1:03:47<00:00,  2.89it/s]\n"
     ]
    }
   ],
   "source": [
    "store_id_list = df[\"store_id\"]\n",
    "image_folder = \"/Users/user/Documents/Coding/geo/notebook/data/full_image\"\n",
    "from tqdm import tqdm\n",
    "\n",
    "for index, row in tqdm(df.iterrows(), total=len(df), desc=\"Processing rows\"):\n",
    "    store_id = df.loc[index, \"store_id\"]\n",
    "    # print(store_id)\n",
    "\n",
    "    image_path = os.path.join(image_folder, f\"{store_id}.png\")\n",
    "    if not os.path.exists(image_path):\n",
    "        continue\n",
    "    # is nan or not\n",
    "    # print('df.loc[index, \"embedding\"]', df.loc[index, \"embedding\"])\n",
    "    if df.loc[index, \"embedding\"] != []:\n",
    "        continue\n",
    "    preprocessed_image_path = os.path.join(\n",
    "        preprocessed_image_folder, os.path.basename(image_path)\n",
    "    )\n",
    "    if os.path.exists(preprocessed_image_path):\n",
    "        continue\n",
    "    embedding = predict(\n",
    "        model,\n",
    "        transforms,\n",
    "        image_path,\n",
    "        preprocessed_image_path,\n",
    "    )\n",
    "    df.embedding[index] = embedding.tolist()"
   ]
  },
  {
   "cell_type": "code",
   "execution_count": 12,
   "metadata": {},
   "outputs": [],
   "source": [
    "# save df to pickle\n",
    "df.to_pickle(save_path)"
   ]
  },
  {
   "cell_type": "code",
   "execution_count": null,
   "metadata": {},
   "outputs": [],
   "source": []
  },
  {
   "cell_type": "code",
   "execution_count": null,
   "metadata": {},
   "outputs": [],
   "source": []
  }
 ],
 "metadata": {
  "kernelspec": {
   "display_name": "chatgpt",
   "language": "python",
   "name": "python3"
  },
  "language_info": {
   "codemirror_mode": {
    "name": "ipython",
    "version": 3
   },
   "file_extension": ".py",
   "mimetype": "text/x-python",
   "name": "python",
   "nbconvert_exporter": "python",
   "pygments_lexer": "ipython3",
   "version": "3.11.4"
  },
  "orig_nbformat": 4
 },
 "nbformat": 4,
 "nbformat_minor": 2
}
