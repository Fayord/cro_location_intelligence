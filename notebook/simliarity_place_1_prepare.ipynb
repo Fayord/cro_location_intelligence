{
 "cells": [
  {
   "cell_type": "code",
   "execution_count": 1,
   "metadata": {},
   "outputs": [],
   "source": [
    "import os\n",
    "from PIL import Image\n",
    "import pandas as pd"
   ]
  },
  {
   "cell_type": "code",
   "execution_count": 2,
   "metadata": {},
   "outputs": [
    {
     "data": {
      "text/html": [
       "<div>\n",
       "<style scoped>\n",
       "    .dataframe tbody tr th:only-of-type {\n",
       "        vertical-align: middle;\n",
       "    }\n",
       "\n",
       "    .dataframe tbody tr th {\n",
       "        vertical-align: top;\n",
       "    }\n",
       "\n",
       "    .dataframe thead th {\n",
       "        text-align: right;\n",
       "    }\n",
       "</style>\n",
       "<table border=\"1\" class=\"dataframe\">\n",
       "  <thead>\n",
       "    <tr style=\"text-align: right;\">\n",
       "      <th></th>\n",
       "      <th>store_id</th>\n",
       "      <th>prov_namt</th>\n",
       "      <th>latitude</th>\n",
       "      <th>longitude</th>\n",
       "    </tr>\n",
       "  </thead>\n",
       "  <tbody>\n",
       "    <tr>\n",
       "      <th>0</th>\n",
       "      <td>1025</td>\n",
       "      <td>กรุงเทพมหานคร</td>\n",
       "      <td>13.838724</td>\n",
       "      <td>100.575318</td>\n",
       "    </tr>\n",
       "    <tr>\n",
       "      <th>1</th>\n",
       "      <td>1026</td>\n",
       "      <td>ปทุมธานี</td>\n",
       "      <td>14.036545</td>\n",
       "      <td>100.733520</td>\n",
       "    </tr>\n",
       "    <tr>\n",
       "      <th>2</th>\n",
       "      <td>1028</td>\n",
       "      <td>ตรัง</td>\n",
       "      <td>7.567873</td>\n",
       "      <td>99.614094</td>\n",
       "    </tr>\n",
       "    <tr>\n",
       "      <th>3</th>\n",
       "      <td>1032</td>\n",
       "      <td>กรุงเทพมหานคร</td>\n",
       "      <td>13.719625</td>\n",
       "      <td>100.442061</td>\n",
       "    </tr>\n",
       "    <tr>\n",
       "      <th>4</th>\n",
       "      <td>1033</td>\n",
       "      <td>กรุงเทพมหานคร</td>\n",
       "      <td>13.768390</td>\n",
       "      <td>100.721288</td>\n",
       "    </tr>\n",
       "  </tbody>\n",
       "</table>\n",
       "</div>"
      ],
      "text/plain": [
       "   store_id      prov_namt   latitude   longitude\n",
       "0      1025  กรุงเทพมหานคร  13.838724  100.575318\n",
       "1      1026       ปทุมธานี  14.036545  100.733520\n",
       "2      1028           ตรัง   7.567873   99.614094\n",
       "3      1032  กรุงเทพมหานคร  13.719625  100.442061\n",
       "4      1033  กรุงเทพมหานคร  13.768390  100.721288"
      ]
     },
     "execution_count": 2,
     "metadata": {},
     "output_type": "execute_result"
    }
   ],
   "source": [
    "df_path = \"/Users/user/Documents/Coding/cro_location_intelligence/notebook/7-11 Location for Ford.xlsx\"\n",
    "df = pd.read_excel(df_path)\n",
    "df.head()"
   ]
  },
  {
   "cell_type": "code",
   "execution_count": 3,
   "metadata": {},
   "outputs": [
    {
     "data": {
      "text/html": [
       "<div>\n",
       "<style scoped>\n",
       "    .dataframe tbody tr th:only-of-type {\n",
       "        vertical-align: middle;\n",
       "    }\n",
       "\n",
       "    .dataframe tbody tr th {\n",
       "        vertical-align: top;\n",
       "    }\n",
       "\n",
       "    .dataframe thead th {\n",
       "        text-align: right;\n",
       "    }\n",
       "</style>\n",
       "<table border=\"1\" class=\"dataframe\">\n",
       "  <thead>\n",
       "    <tr style=\"text-align: right;\">\n",
       "      <th></th>\n",
       "      <th>store_id</th>\n",
       "      <th>prov_namt</th>\n",
       "      <th>latitude</th>\n",
       "      <th>longitude</th>\n",
       "      <th>embedding</th>\n",
       "    </tr>\n",
       "  </thead>\n",
       "  <tbody>\n",
       "    <tr>\n",
       "      <th>0</th>\n",
       "      <td>1025</td>\n",
       "      <td>กรุงเทพมหานคร</td>\n",
       "      <td>13.838724</td>\n",
       "      <td>100.575318</td>\n",
       "      <td>[]</td>\n",
       "    </tr>\n",
       "    <tr>\n",
       "      <th>1</th>\n",
       "      <td>1026</td>\n",
       "      <td>ปทุมธานี</td>\n",
       "      <td>14.036545</td>\n",
       "      <td>100.733520</td>\n",
       "      <td>[]</td>\n",
       "    </tr>\n",
       "    <tr>\n",
       "      <th>2</th>\n",
       "      <td>1028</td>\n",
       "      <td>ตรัง</td>\n",
       "      <td>7.567873</td>\n",
       "      <td>99.614094</td>\n",
       "      <td>[]</td>\n",
       "    </tr>\n",
       "    <tr>\n",
       "      <th>3</th>\n",
       "      <td>1032</td>\n",
       "      <td>กรุงเทพมหานคร</td>\n",
       "      <td>13.719625</td>\n",
       "      <td>100.442061</td>\n",
       "      <td>[]</td>\n",
       "    </tr>\n",
       "    <tr>\n",
       "      <th>4</th>\n",
       "      <td>1033</td>\n",
       "      <td>กรุงเทพมหานคร</td>\n",
       "      <td>13.768390</td>\n",
       "      <td>100.721288</td>\n",
       "      <td>[]</td>\n",
       "    </tr>\n",
       "  </tbody>\n",
       "</table>\n",
       "</div>"
      ],
      "text/plain": [
       "   store_id      prov_namt   latitude   longitude embedding\n",
       "0      1025  กรุงเทพมหานคร  13.838724  100.575318        []\n",
       "1      1026       ปทุมธานี  14.036545  100.733520        []\n",
       "2      1028           ตรัง   7.567873   99.614094        []\n",
       "3      1032  กรุงเทพมหานคร  13.719625  100.442061        []\n",
       "4      1033  กรุงเทพมหานคร  13.768390  100.721288        []"
      ]
     },
     "execution_count": 3,
     "metadata": {},
     "output_type": "execute_result"
    }
   ],
   "source": [
    "import numpy as np\n",
    "\n",
    "# add new column name embedding with nan\n",
    "df[\"embedding\"] = [[]] * len(df)\n",
    "df.head()"
   ]
  },
  {
   "cell_type": "code",
   "execution_count": 4,
   "metadata": {},
   "outputs": [
    {
     "data": {
      "text/plain": [
       "True"
      ]
     },
     "execution_count": 4,
     "metadata": {},
     "output_type": "execute_result"
    }
   ],
   "source": [
    "# check is store_id is unique\n",
    "df[\"store_id\"].is_unique"
   ]
  },
  {
   "cell_type": "code",
   "execution_count": 5,
   "metadata": {},
   "outputs": [],
   "source": [
    "# do model inference"
   ]
  },
  {
   "cell_type": "code",
   "execution_count": 6,
   "metadata": {},
   "outputs": [
    {
     "data": {
      "text/plain": [
       "device(type='mps')"
      ]
     },
     "execution_count": 6,
     "metadata": {},
     "output_type": "execute_result"
    }
   ],
   "source": [
    "import torch\n",
    "\n",
    "device = torch.device(\"cuda\" if torch.cuda.is_available() else \"cpu\")\n",
    "if not torch.backends.mps.is_available():\n",
    "    if not torch.backends.mps.is_built():\n",
    "        print(\n",
    "            \"MPS not available because the current PyTorch install was not \"\n",
    "            \"built with MPS enabled.\"\n",
    "        )\n",
    "    else:\n",
    "        print(\n",
    "            \"MPS not available because the current MacOS version is not 12.3+ \"\n",
    "            \"and/or you do not have an MPS-enabled device on this machine.\"\n",
    "        )\n",
    "\n",
    "else:\n",
    "    device = torch.device(\"mps\")\n",
    "device"
   ]
  },
  {
   "cell_type": "code",
   "execution_count": 7,
   "metadata": {},
   "outputs": [],
   "source": [
    "import timm\n",
    "from geo_utils import (\n",
    "    crop_middle_image_from_side_size,\n",
    "    apply_circle_mask,\n",
    ")\n",
    "\n",
    "model = timm.create_model(\n",
    "    \"maxvit_tiny_tf_512.in1k\",\n",
    "    pretrained=True,\n",
    "    num_classes=0,  # remove classifier nn.Linear\n",
    ").to(\n",
    "    device\n",
    ")  # Move the model to the GPU\n",
    "model = model.eval()\n",
    "data_config = timm.data.resolve_model_data_config(model)\n",
    "transforms = timm.data.create_transform(**data_config, is_training=False)\n",
    "\n",
    "\n",
    "def preprocess_image(image: Image.Image) -> Image.Image:\n",
    "    image = crop_middle_image_from_side_size(image, 2400, 1600)\n",
    "    image = apply_circle_mask(image)\n",
    "    return image\n",
    "\n",
    "\n",
    "preprocessed_image_folder = (\n",
    "    \"/Users/user/Documents/Coding/cro_location_intelligence/notebook/data/crop_image\"\n",
    ")\n",
    "\n",
    "\n",
    "def predict(model, transforms, image_path, preprocessed_image_path, device=device):\n",
    "    image = Image.open(image_path).convert(\"RGB\")\n",
    "    preprocessed_image = preprocess_image(image)\n",
    "    image_tensor = (\n",
    "        transforms(preprocessed_image).unsqueeze(0).to(device)\n",
    "    )  # Move input data to the GPU\n",
    "    output = model(image_tensor)\n",
    "\n",
    "    # or equivalently (without needing to set num_classes=0)\n",
    "    output = model.forward_features(image_tensor)\n",
    "    output = model.forward_head(output, pre_logits=True)\n",
    "    embedding = output.detach().cpu().numpy()[0]\n",
    "    preprocessed_image.save(preprocessed_image_path)\n",
    "    # save preprocessed_image\n",
    "    return embedding  # Move the result back to the CPU for further processing if needed"
   ]
  },
  {
   "cell_type": "code",
   "execution_count": 8,
   "metadata": {},
   "outputs": [
    {
     "data": {
      "text/plain": [
       "array([-0.2934701 , -0.58131367,  0.36780483, -0.02461963, -0.7779438 ,\n",
       "        0.7492058 ,  0.38792056,  0.47475913,  0.12855491,  0.76059544,\n",
       "       -0.844794  , -0.08179618, -0.91854733, -0.2634485 , -0.7161958 ,\n",
       "        0.8080405 ,  0.03396254,  0.58737653,  0.70723045, -0.9452553 ,\n",
       "        0.595879  , -0.14017929, -0.6523275 , -0.44984165,  0.7311205 ,\n",
       "       -0.37923956,  0.44274426,  0.10363052, -0.37624   , -0.68525517,\n",
       "       -0.36235118, -0.10684091, -0.3427367 ,  0.4878487 ,  0.37937248,\n",
       "       -0.6165281 , -0.7154109 ,  0.36468017, -0.04165799,  0.34470746,\n",
       "        0.86408997,  0.24312724,  0.06242277, -0.8633072 , -0.7092936 ,\n",
       "        0.4776551 , -0.35540318,  0.16013888,  0.23926508, -0.43989167,\n",
       "       -0.9415436 , -0.2480825 , -0.39577952,  0.16052458,  0.32229835,\n",
       "        0.18263163, -0.03658738, -0.18266593,  0.33793658,  0.54054534,\n",
       "        0.38385743,  0.59827995, -0.48577666, -0.20710914, -0.2368067 ,\n",
       "       -0.57510006,  0.8813019 ,  0.09484208,  0.6147746 , -0.56047416,\n",
       "        0.7772098 , -0.31379536, -0.0079769 ,  0.6819609 ,  0.82261115,\n",
       "        0.6276875 , -0.9633762 , -0.19360507, -0.0073903 ,  0.06978998,\n",
       "       -0.35711214, -0.09894925, -0.63738036,  0.18671119,  0.36252835,\n",
       "       -0.0523287 ,  0.01349676,  0.39595437, -0.32329708,  0.282177  ,\n",
       "       -0.8665068 ,  0.01645933,  0.03994261, -0.44435936,  0.54320115,\n",
       "       -0.38099962, -0.25181377, -0.338722  ,  0.7935442 , -0.3341347 ,\n",
       "       -0.15986182, -0.6702692 , -0.48539317, -0.6411257 , -0.01632542,\n",
       "        0.01213323,  0.31109095, -0.66718495, -0.08869637, -0.21321544,\n",
       "        0.2280638 ,  0.03587608, -0.0567272 ,  0.7970388 ,  0.1667672 ,\n",
       "        0.79627925, -0.6139456 ,  0.33152515, -0.93569815,  0.34841624,\n",
       "       -0.26928252,  0.46690172, -0.93141323,  0.40582067, -0.12941319,\n",
       "        0.835005  ,  0.4666199 ,  0.6578536 ,  0.32763353,  0.30020407,\n",
       "        0.66978854,  0.7087741 , -0.53683335, -0.7031659 ,  0.5163168 ,\n",
       "       -0.4408509 ,  0.32451957,  0.33236977,  0.14750208,  0.01322295,\n",
       "        0.21818285, -0.6065277 ,  0.12240759,  0.7464461 ,  0.46160737,\n",
       "       -0.25379378,  0.2953076 ,  0.21112998,  0.82285047, -0.786971  ,\n",
       "        0.7577908 ,  0.27377617,  0.69969535, -0.12412308, -0.2637382 ,\n",
       "        0.7175031 ,  0.4243381 ,  0.84918755, -0.41860503, -0.2693699 ,\n",
       "        0.91907847, -0.349929  ,  0.09796063,  0.57614803, -0.26726225,\n",
       "        0.8705018 , -0.48443943,  0.09787085,  0.06159094,  0.3176322 ,\n",
       "        0.40208995, -0.3517777 ,  0.516071  ,  0.0208515 , -0.5169085 ,\n",
       "        0.11435038, -0.5901027 ,  0.4184782 , -0.6965942 , -0.1997669 ,\n",
       "       -0.32463294, -0.27699423, -0.12936915, -0.7078237 , -0.23508999,\n",
       "       -0.7091463 , -0.8277697 , -0.68711257,  0.17195524, -0.3060228 ,\n",
       "        0.8741052 ,  0.66032386, -0.3556057 ,  0.52356476, -0.236201  ,\n",
       "        0.33223945, -0.5585594 ,  0.08877217,  0.15704875, -0.47819722,\n",
       "       -0.5649289 ,  0.46150926, -0.6136116 ,  0.18691981,  0.26348224,\n",
       "       -0.30955613, -0.5362364 , -0.39344028, -0.06124008,  0.74684954,\n",
       "        0.31254977, -0.4138314 ,  0.46999735, -0.43127733,  0.4618796 ,\n",
       "       -0.6560287 ,  0.5046471 ,  0.44137177,  0.46627197,  0.99012035,\n",
       "        0.11320631,  0.08686329,  0.13548881, -0.4927345 ,  0.08792463,\n",
       "       -0.6716653 ,  0.13899444, -0.26991937,  0.3777773 , -0.02180328,\n",
       "       -0.4301692 , -0.647704  , -0.3042895 ,  0.49617705,  0.31365368,\n",
       "       -0.42690024, -0.26712075,  0.07094979, -0.28475314,  0.35872933,\n",
       "        0.33160132,  0.31142497, -0.23632474,  0.485752  , -0.12485638,\n",
       "        0.15813248, -0.31617972,  0.9662116 , -0.07463858, -0.8539536 ,\n",
       "        0.47970736, -0.52985877, -0.40107444, -0.3932564 , -0.17732087,\n",
       "       -0.49986264, -0.23291883,  0.94448346, -0.41572964,  0.6940074 ,\n",
       "        0.29548863,  0.60929257, -0.4330748 , -0.26249984, -0.89121515,\n",
       "        0.3251781 ,  0.33152696, -0.42763337, -0.36965072,  0.04506939,\n",
       "       -0.33665422,  0.4612351 , -0.35602733,  0.8356085 , -0.70123816,\n",
       "        0.37999487,  0.40528277,  0.37712163, -0.4454903 , -0.29910013,\n",
       "       -0.7500485 ,  0.01264576, -0.6469444 , -0.23126042,  0.11475526,\n",
       "       -0.2996011 ,  0.265935  , -0.657237  , -0.74385947,  0.07668796,\n",
       "       -0.9357276 , -0.41943786,  0.5316349 , -0.19564927, -0.8303379 ,\n",
       "       -0.3408522 ,  0.74750805, -0.3382107 ,  0.05785812,  0.7313179 ,\n",
       "       -0.33915097, -0.6655518 ,  0.96274567, -0.10599614, -0.04257102,\n",
       "       -0.7145833 , -0.51733494,  0.40201974, -0.7200345 ,  0.47028416,\n",
       "       -0.618665  ,  0.91781586,  0.8667049 , -0.7904259 , -0.6600919 ,\n",
       "        0.82065034, -0.11363553,  0.8242655 , -0.13585946,  0.02618036,\n",
       "        0.23885618,  0.5231342 , -0.09282909, -0.5470683 ,  0.1697586 ,\n",
       "        0.53384405, -0.23990354,  0.38716137,  0.20620582,  0.2407287 ,\n",
       "       -0.39561483, -0.11202133,  0.04933264,  0.37322378, -0.49161422,\n",
       "        0.11515383,  0.33146724, -0.05991219,  0.43573904, -0.24354562,\n",
       "        0.9719996 ,  0.2747551 , -0.07865091,  0.46485525,  0.898632  ,\n",
       "       -0.35841474,  0.5927505 , -0.04928552,  0.03797537, -0.52338463,\n",
       "        0.15210943,  0.8947536 , -0.37208664,  0.9668343 , -0.54559416,\n",
       "        0.8539053 ,  0.74341756, -0.5869884 ,  0.6944262 ,  0.09717111,\n",
       "        0.40546915,  0.6853871 , -0.5731819 ,  0.12021765, -0.56965697,\n",
       "        0.44658634,  0.5094642 ,  0.2498313 , -0.8136637 ,  0.21806486,\n",
       "        0.02429411, -0.10676171, -0.10577258, -0.02240465, -0.46665704,\n",
       "       -0.08045322,  0.20039813, -0.46426424,  0.1820063 , -0.332041  ,\n",
       "       -0.7656506 ,  0.34684193,  0.24074285, -0.2651227 , -0.6925992 ,\n",
       "       -0.95868087, -0.14912115,  0.13516644,  0.12462622, -0.575001  ,\n",
       "        0.0435441 ,  0.18586881,  0.37039477, -0.21340758,  0.7212626 ,\n",
       "        0.4000764 ,  0.26073867, -0.00421737, -0.31231904,  0.23083329,\n",
       "       -0.40674722,  0.16173884,  0.75870264, -0.6072952 ,  0.29491434,\n",
       "        0.6497705 , -0.22670318, -0.36571372,  0.4632764 , -0.7812882 ,\n",
       "       -0.22236177,  0.18268652,  0.3049246 , -0.4710838 , -0.39011687,\n",
       "       -0.4247633 , -0.27205417,  0.3194129 ,  0.28367108, -0.03260668,\n",
       "       -0.49860853, -0.5777855 ,  0.68991727, -0.8801131 ,  0.6413665 ,\n",
       "       -0.1778995 ,  0.2694872 , -0.70575774,  0.4490083 , -0.86907417,\n",
       "       -0.4853431 , -0.22761557,  0.16279264,  0.23031245,  0.36532268,\n",
       "        0.67231977, -0.5305038 ,  0.01956869, -0.84731203,  0.66353106,\n",
       "       -0.7157804 ,  0.02995076, -0.46395656, -0.13704017, -0.10279045,\n",
       "       -0.12915401, -0.41593182,  0.03383882, -0.20515901,  0.08305191,\n",
       "        0.0028077 , -0.1446908 ,  0.0201084 , -0.8443386 , -0.1830456 ,\n",
       "       -0.24994795, -0.6290621 ,  0.50146145,  0.63314867,  0.19358246,\n",
       "        0.30555955,  0.4439837 , -0.6853123 ,  0.07798183,  0.6854057 ,\n",
       "        0.48910126, -0.23010418,  0.20257242, -0.1706979 ,  0.3927063 ,\n",
       "       -0.0123854 , -0.10199555, -0.6315879 , -0.37693986, -0.6676216 ,\n",
       "        0.6979804 ,  0.47262207, -0.05510157, -0.8144124 , -0.02382125,\n",
       "       -0.1785271 ,  0.7463799 ,  0.29625958,  0.36920542, -0.89363474,\n",
       "       -0.33465537,  0.5030487 ,  0.404125  , -0.04269961,  0.8437999 ,\n",
       "        0.06885614,  0.5814384 , -0.1755677 , -0.8806501 ,  0.32039437,\n",
       "       -0.5956996 , -0.40690657, -0.7253448 , -0.37508932, -0.1037767 ,\n",
       "       -0.76515406,  0.28729185,  0.59880185,  0.16680965,  0.8274105 ,\n",
       "        0.48249856, -0.16212122, -0.3343622 ,  0.3687235 ,  0.3790948 ,\n",
       "       -0.6086192 ,  0.24662389], dtype=float32)"
      ]
     },
     "execution_count": 8,
     "metadata": {},
     "output_type": "execute_result"
    }
   ],
   "source": [
    "image_path = \"/Users/user/Documents/Coding/cro_location_intelligence/notebook/data/full_image/1025.png\"\n",
    "image_path = \"/Users/user/Documents/Coding/cro_location_intelligence/notebook/data/full_image/1026.png\"\n",
    "preprocessed_image_path = os.path.join(\n",
    "    preprocessed_image_folder, os.path.basename(image_path)\n",
    ")\n",
    "result = predict(\n",
    "    model,\n",
    "    transforms,\n",
    "    image_path,\n",
    "    preprocessed_image_path,\n",
    ")\n",
    "result"
   ]
  },
  {
   "cell_type": "code",
   "execution_count": 9,
   "metadata": {},
   "outputs": [
    {
     "data": {
      "text/plain": [
       "([], array([], dtype=bool))"
      ]
     },
     "execution_count": 9,
     "metadata": {},
     "output_type": "execute_result"
    }
   ],
   "source": [
    "index = 1\n",
    "df.loc[index, \"embedding\"], pd.isna(df.loc[index, \"embedding\"])"
   ]
  },
  {
   "cell_type": "code",
   "execution_count": 10,
   "metadata": {},
   "outputs": [],
   "source": [
    "save_path = \"./df_embedding.pkl\"\n",
    "import os\n",
    "import pandas as pd\n",
    "\n",
    "if os.path.exists(save_path):\n",
    "    print(\"Load success df_embedding.pkl\")\n",
    "    df = pd.read_pickle(save_path)"
   ]
  },
  {
   "cell_type": "code",
   "execution_count": 11,
   "metadata": {},
   "outputs": [
    {
     "data": {
      "text/html": [
       "<div>\n",
       "<style scoped>\n",
       "    .dataframe tbody tr th:only-of-type {\n",
       "        vertical-align: middle;\n",
       "    }\n",
       "\n",
       "    .dataframe tbody tr th {\n",
       "        vertical-align: top;\n",
       "    }\n",
       "\n",
       "    .dataframe thead th {\n",
       "        text-align: right;\n",
       "    }\n",
       "</style>\n",
       "<table border=\"1\" class=\"dataframe\">\n",
       "  <thead>\n",
       "    <tr style=\"text-align: right;\">\n",
       "      <th></th>\n",
       "      <th>store_id</th>\n",
       "      <th>prov_namt</th>\n",
       "      <th>latitude</th>\n",
       "      <th>longitude</th>\n",
       "      <th>embedding</th>\n",
       "    </tr>\n",
       "  </thead>\n",
       "  <tbody>\n",
       "    <tr>\n",
       "      <th>0</th>\n",
       "      <td>1025</td>\n",
       "      <td>กรุงเทพมหานคร</td>\n",
       "      <td>13.838724</td>\n",
       "      <td>100.575318</td>\n",
       "      <td>[]</td>\n",
       "    </tr>\n",
       "    <tr>\n",
       "      <th>1</th>\n",
       "      <td>1026</td>\n",
       "      <td>ปทุมธานี</td>\n",
       "      <td>14.036545</td>\n",
       "      <td>100.733520</td>\n",
       "      <td>[]</td>\n",
       "    </tr>\n",
       "    <tr>\n",
       "      <th>2</th>\n",
       "      <td>1028</td>\n",
       "      <td>ตรัง</td>\n",
       "      <td>7.567873</td>\n",
       "      <td>99.614094</td>\n",
       "      <td>[]</td>\n",
       "    </tr>\n",
       "    <tr>\n",
       "      <th>3</th>\n",
       "      <td>1032</td>\n",
       "      <td>กรุงเทพมหานคร</td>\n",
       "      <td>13.719625</td>\n",
       "      <td>100.442061</td>\n",
       "      <td>[]</td>\n",
       "    </tr>\n",
       "    <tr>\n",
       "      <th>4</th>\n",
       "      <td>1033</td>\n",
       "      <td>กรุงเทพมหานคร</td>\n",
       "      <td>13.768390</td>\n",
       "      <td>100.721288</td>\n",
       "      <td>[]</td>\n",
       "    </tr>\n",
       "  </tbody>\n",
       "</table>\n",
       "</div>"
      ],
      "text/plain": [
       "   store_id      prov_namt   latitude   longitude embedding\n",
       "0      1025  กรุงเทพมหานคร  13.838724  100.575318        []\n",
       "1      1026       ปทุมธานี  14.036545  100.733520        []\n",
       "2      1028           ตรัง   7.567873   99.614094        []\n",
       "3      1032  กรุงเทพมหานคร  13.719625  100.442061        []\n",
       "4      1033  กรุงเทพมหานคร  13.768390  100.721288        []"
      ]
     },
     "execution_count": 11,
     "metadata": {},
     "output_type": "execute_result"
    }
   ],
   "source": [
    "df.head()"
   ]
  },
  {
   "cell_type": "code",
   "execution_count": 12,
   "metadata": {},
   "outputs": [
    {
     "data": {
      "text/plain": [
       "11055"
      ]
     },
     "execution_count": 12,
     "metadata": {},
     "output_type": "execute_result"
    }
   ],
   "source": [
    "# count embedding that is []\n",
    "df[\"embedding\"].apply(lambda x: x == []).sum()"
   ]
  },
  {
   "cell_type": "code",
   "execution_count": 13,
   "metadata": {},
   "outputs": [
    {
     "name": "stderr",
     "output_type": "stream",
     "text": [
      "Processing rows:   0%|          | 0/11055 [00:00<?, ?it/s]"
     ]
    },
    {
     "name": "stderr",
     "output_type": "stream",
     "text": [
      "Processing rows: 100%|██████████| 11055/11055 [00:00<00:00, 36846.43it/s]\n",
      "Processing Images:   0%|          | 0/2500 [00:00<?, ?it/s]/var/folders/9g/3rr3k99j0td2974k71sy46_h0000gp/T/ipykernel_43177/1891159996.py:53: SettingWithCopyWarning: \n",
      "A value is trying to be set on a copy of a slice from a DataFrame\n",
      "\n",
      "See the caveats in the documentation: https://pandas.pydata.org/pandas-docs/stable/user_guide/indexing.html#returning-a-view-versus-a-copy\n",
      "  df.embedding[index] = embedding.tolist()\n",
      "                                                                      \r"
     ]
    }
   ],
   "source": [
    "store_id_list = df[\"store_id\"]\n",
    "image_folder = (\n",
    "    \"/Users/user/Documents/Coding/cro_location_intelligence/notebook/data/full_image\"\n",
    ")\n",
    "from tqdm import tqdm\n",
    "\n",
    "image_paths = []\n",
    "for index, row in tqdm(df.iterrows(), total=len(df), desc=\"Processing rows\"):\n",
    "    store_id = df.loc[index, \"store_id\"]\n",
    "    # print(store_id)\n",
    "\n",
    "    image_path = os.path.join(image_folder, f\"{store_id}.png\")\n",
    "    if not os.path.exists(image_path):\n",
    "        continue\n",
    "    # is nan or not\n",
    "    # print('df.loc[index, \"embedding\"]', df.loc[index, \"embedding\"])\n",
    "    if df.loc[index, \"embedding\"] != []:\n",
    "        continue\n",
    "    preprocessed_image_path = os.path.join(\n",
    "        preprocessed_image_folder, os.path.basename(image_path)\n",
    "    )\n",
    "    # if os.path.exists(preprocessed_image_path):\n",
    "    #     continue\n",
    "    image_paths.append(preprocessed_image_path)\n",
    "batch_size = 4  # Choose an appropriate batch size\n",
    "\n",
    "for i in tqdm(\n",
    "    range(0, len(image_paths), batch_size), desc=\"Processing Images\", leave=False\n",
    "):\n",
    "    batch_paths = image_paths[i : i + batch_size]\n",
    "\n",
    "    batch_images = [Image.open(path).convert(\"RGB\") for path in batch_paths]\n",
    "    preprocessed_images = [preprocess_image(image) for image in batch_images]\n",
    "    # image_tensors = torch.stack(\n",
    "    #     [transforms(image).unsqueeze(0) for image in preprocessed_images]\n",
    "    # ).to(device)\n",
    "    image_tensors = (\n",
    "        torch.stack([transforms(image).unsqueeze(0) for image in preprocessed_images])\n",
    "        .squeeze(1)\n",
    "        .to(device)\n",
    "    )\n",
    "\n",
    "    # Move input data to the GPU\n",
    "    output = model(image_tensors)\n",
    "\n",
    "    # or equivalently (without needing to set num_classes=0)\n",
    "    output = model.forward_features(image_tensors)\n",
    "    output = model.forward_head(output, pre_logits=True)\n",
    "    embeddings = output.detach().cpu().numpy()\n",
    "\n",
    "    for j, embedding in enumerate(embeddings):\n",
    "        index = i + j  # Assuming 'index' is the index to update in the DataFrame\n",
    "        df.embedding[index] = embedding.tolist()"
   ]
  },
  {
   "cell_type": "code",
   "execution_count": 16,
   "metadata": {},
   "outputs": [],
   "source": [
    "# save df to pickle\n",
    "df.to_pickle(save_path)"
   ]
  },
  {
   "cell_type": "code",
   "execution_count": 17,
   "metadata": {},
   "outputs": [
    {
     "data": {
      "text/plain": [
       "1058"
      ]
     },
     "execution_count": 17,
     "metadata": {},
     "output_type": "execute_result"
    }
   ],
   "source": [
    "# count embedding that is []\n",
    "df[\"embedding\"].apply(lambda x: x == []).sum()"
   ]
  },
  {
   "cell_type": "code",
   "execution_count": null,
   "metadata": {},
   "outputs": [],
   "source": []
  }
 ],
 "metadata": {
  "kernelspec": {
   "display_name": "chatgpt",
   "language": "python",
   "name": "python3"
  },
  "language_info": {
   "codemirror_mode": {
    "name": "ipython",
    "version": 3
   },
   "file_extension": ".py",
   "mimetype": "text/x-python",
   "name": "python",
   "nbconvert_exporter": "python",
   "pygments_lexer": "ipython3",
   "version": "3.11.4"
  },
  "orig_nbformat": 4
 },
 "nbformat": 4,
 "nbformat_minor": 2
}
