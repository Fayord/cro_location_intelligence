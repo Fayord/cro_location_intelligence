{
 "cells": [
  {
   "cell_type": "code",
   "execution_count": 8,
   "metadata": {},
   "outputs": [],
   "source": [
    "import os\n",
    "import shutil"
   ]
  },
  {
   "cell_type": "code",
   "execution_count": 9,
   "metadata": {},
   "outputs": [
    {
     "name": "stdout",
     "output_type": "stream",
     "text": [
      "/Users/user/Documents/Coding/cro_location_intelligence/notebook/data_7_eleven_2024_02_15_300m/raw_image\n",
      "/Users/user/Documents/Coding/cro_location_intelligence/notebook/data_7_eleven_2024_02_15_1000m/raw_image\n",
      "/Users/user/Documents/Coding/cro_location_intelligence/notebook/data_7_eleven_2024_02_15_street_view/raw_image\n",
      "/Users/user/Documents/Coding/cro_location_intelligence/notebook/data_7_eleven_2024_02_15_300m_poi/raw_image\n",
      "/Users/user/Documents/Coding/cro_location_intelligence/notebook/data_7_eleven_2024_02_15_1000m_poi/raw_image\n"
     ]
    }
   ],
   "source": [
    "location_postfix_dict = {\n",
    "    \"/Users/user/Documents/Coding/cro_location_intelligence/notebook/data_7_eleven_2024_02_15_300m\": \"__300m\",\n",
    "    \"/Users/user/Documents/Coding/cro_location_intelligence/notebook/data_7_eleven_2024_02_15_1000m\": \"__1000m\",\n",
    "    \"/Users/user/Documents/Coding/cro_location_intelligence/notebook/data_7_eleven_2024_02_15_street_view\": \"\",\n",
    "    \"/Users/user/Documents/Coding/cro_location_intelligence/notebook/data_7_eleven_2024_02_15_300m_poi\": \"__300m_poi\",\n",
    "    \"/Users/user/Documents/Coding/cro_location_intelligence/notebook/data_7_eleven_2024_02_15_1000m_poi\": \"__1000m_poi\",\n",
    "}\n",
    "destination_path = \"/Users/user/Documents/Coding/cro_location_intelligence/notebook/data_7_eleven_2024_02_15_merged\"\n",
    "os.makedirs(destination_path, exist_ok=True)\n",
    "for location, postfix in location_postfix_dict.items():\n",
    "    location = os.path.join(location, \"raw_image\")\n",
    "    print(location)\n",
    "    image_name_list = os.listdir(location)\n",
    "    for image_name in image_name_list:\n",
    "        if image_name.endswith(\".png\"):\n",
    "            shutil.copy(\n",
    "                os.path.join(location, image_name),\n",
    "                os.path.join(\n",
    "                    destination_path, image_name.replace(\".png\", postfix + \".png\")\n",
    "                ),\n",
    "            )"
   ]
  },
  {
   "cell_type": "code",
   "execution_count": null,
   "metadata": {},
   "outputs": [],
   "source": []
  }
 ],
 "metadata": {
  "kernelspec": {
   "display_name": "base",
   "language": "python",
   "name": "python3"
  },
  "language_info": {
   "codemirror_mode": {
    "name": "ipython",
    "version": 3
   },
   "file_extension": ".py",
   "mimetype": "text/x-python",
   "name": "python",
   "nbconvert_exporter": "python",
   "pygments_lexer": "ipython3",
   "version": "3.11.5"
  }
 },
 "nbformat": 4,
 "nbformat_minor": 2
}
