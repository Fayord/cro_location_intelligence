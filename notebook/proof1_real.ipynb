{
 "cells": [
  {
   "cell_type": "markdown",
   "metadata": {},
   "source": [
    "## prove xgboost can overfit this problem\n",
    "\n",
    "## prove simple nn can overfit this problem\n",
    "\n",
    "### The conclusion of this experiment is that the embeddings from the pretrained model significantly distinguish differences\n"
   ]
  },
  {
   "cell_type": "code",
   "execution_count": 1,
   "metadata": {},
   "outputs": [],
   "source": [
    "import os\n",
    "import torch"
   ]
  },
  {
   "cell_type": "code",
   "execution_count": 2,
   "metadata": {},
   "outputs": [],
   "source": [
    "image_folder_path = (\n",
    "    \"/Users/user/Documents/Coding/cro_location_intelligence/notebook/data/full_image\"\n",
    ")\n",
    "image_name_list = os.listdir(image_folder_path)\n",
    "image_name_list.sort()\n",
    "image_name_list = [\n",
    "    image_name for image_name in image_name_list if not image_name.startswith(\".\")\n",
    "]\n",
    "image_path_list = [\n",
    "    os.path.join(image_folder_path, image_name) for image_name in image_name_list\n",
    "]"
   ]
  },
  {
   "cell_type": "code",
   "execution_count": 3,
   "metadata": {},
   "outputs": [
    {
     "name": "stdout",
     "output_type": "stream",
     "text": [
      "1066\n",
      "['1025', '8396', '8572', '1058', '1095']\n"
     ]
    }
   ],
   "source": [
    "import pandas as pd\n",
    "\n",
    "data_path = (\n",
    "    \"/Users/user/Documents/Coding/cro_location_intelligence/notebook/7 BE for Ford.xlsx\"\n",
    ")\n",
    "df_dict = pd.read_excel(data_path, sheet_name=None)\n",
    "store_id_list = df_dict[\"Train\"][\"store_id\"].tolist()\n",
    "store_id_list += df_dict[\"Test2022\"][\"store_id\"].tolist()\n",
    "store_id_list = [str(i) for i in store_id_list]\n",
    "print(len(store_id_list))\n",
    "print(store_id_list[:5])"
   ]
  },
  {
   "cell_type": "code",
   "execution_count": 4,
   "metadata": {},
   "outputs": [
    {
     "name": "stdout",
     "output_type": "stream",
     "text": [
      "9997\n",
      "['10', '100', '1000', '10000', '10001']\n"
     ]
    }
   ],
   "source": [
    "store_id_we_have = []\n",
    "for image_name in image_name_list:\n",
    "    store_id_we_have.append(image_name.split(\".\")[0])\n",
    "print(len(store_id_we_have))\n",
    "print(store_id_we_have[:5])"
   ]
  },
  {
   "cell_type": "code",
   "execution_count": 5,
   "metadata": {},
   "outputs": [
    {
     "name": "stdout",
     "output_type": "stream",
     "text": [
      "4926\n",
      "5350\n",
      "5651\n",
      "6034\n",
      "6298\n",
      "9143\n",
      "9295\n",
      "9364\n",
      "9381\n",
      "9385\n",
      "9454\n",
      "11022\n",
      "11185\n",
      "11397\n",
      "11413\n",
      "12007\n",
      "13099\n",
      "13218\n",
      "13947\n",
      "14422\n",
      "17542\n",
      "21\n"
     ]
    }
   ],
   "source": [
    "store_id_we_dont_have = []\n",
    "for id in store_id_list:\n",
    "    if id not in store_id_we_have:\n",
    "        print(id)\n",
    "        store_id_we_dont_have.append(id)\n",
    "\n",
    "print(len(store_id_we_dont_have))"
   ]
  },
  {
   "cell_type": "code",
   "execution_count": 6,
   "metadata": {},
   "outputs": [
    {
     "data": {
      "text/plain": [
       "1066"
      ]
     },
     "execution_count": 6,
     "metadata": {},
     "output_type": "execute_result"
    }
   ],
   "source": [
    "len(store_id_list)"
   ]
  },
  {
   "cell_type": "code",
   "execution_count": 13,
   "metadata": {},
   "outputs": [],
   "source": []
  },
  {
   "cell_type": "code",
   "execution_count": 10,
   "metadata": {},
   "outputs": [
    {
     "name": "stdout",
     "output_type": "stream",
     "text": [
      "len(store_id_list) 1045\n"
     ]
    },
    {
     "name": "stderr",
     "output_type": "stream",
     "text": [
      "store_id batches: 100%|██████████| 262/262 [11:22<00:00,  2.60s/it]\n"
     ]
    }
   ],
   "source": [
    "# feed model net\n",
    "from urllib.request import urlopen\n",
    "from PIL import Image\n",
    "import timm\n",
    "from tqdm import tqdm\n",
    "\n",
    "# new_df_path = \"/Users/user/Documents/Coding/cro_location_intelligence/notebook/7 lat long with embedding.csv\"\n",
    "new_df_path = \"/Users/user/Documents/Coding/cro_location_intelligence/src/data/all_data_embedding.csv\"\n",
    "if not os.path.exists(new_df_path):\n",
    "    # img = Image.open(urlopen(\n",
    "    #     'https://huggingface.co/datasets/huggingface/documentation-images/resolve/main/beignets-task-guide.png'\n",
    "    # ))\n",
    "    # img = image_1\n",
    "    output_dict = {}\n",
    "    model = timm.create_model(\n",
    "        \"maxvit_tiny_tf_512.in1k\",\n",
    "        pretrained=True,\n",
    "        num_classes=0,  # remove classifier nn.Linear\n",
    "    )\n",
    "    model = model.eval()\n",
    "    data_config = timm.data.resolve_model_data_config(model)\n",
    "    transforms = timm.data.create_transform(**data_config, is_training=False)\n",
    "\n",
    "    # for image_name in image_name_list:\n",
    "    batch_size = 4\n",
    "    # check is file exist\n",
    "\n",
    "    check_store_id_list = []\n",
    "    for store_id in store_id_list:\n",
    "        image_name = store_id + \".png\"\n",
    "        image_path = os.path.join(image_folder_path, image_name)\n",
    "        if os.path.exists(image_path):\n",
    "            check_store_id_list.append(store_id)\n",
    "    store_id_list = check_store_id_list\n",
    "    print(\"len(store_id_list)\", len(store_id_list))\n",
    "    # Iterate through store_ids in batches\n",
    "    for batch_start in tqdm(\n",
    "        range(0, len(store_id_list), batch_size), desc=\"store_id batches\"\n",
    "    ):\n",
    "        batch_store_ids = store_id_list[batch_start : batch_start + batch_size]\n",
    "        batch_images = []\n",
    "\n",
    "        # Load and preprocess images in the current batch\n",
    "        for store_id in batch_store_ids:\n",
    "            image_name = store_id + \".png\"\n",
    "            image_path = os.path.join(image_folder_path, image_name)\n",
    "            img = Image.open(image_path).convert(\"RGB\")\n",
    "            batch_images.append(transforms(img))\n",
    "\n",
    "        # Stack images to create a batch\n",
    "        batch_images = torch.stack(batch_images)\n",
    "\n",
    "        # Forward pass for the batch\n",
    "        with torch.no_grad():\n",
    "            output = model.forward_features(batch_images)\n",
    "            output = model.forward_head(output, pre_logits=True)\n",
    "\n",
    "        # Store results in output_dict\n",
    "        for i, store_id in enumerate(batch_store_ids):\n",
    "            output_dict[store_id] = output.detach().numpy()[i]\n",
    "        # output is a (1, num_features) shaped tensor"
   ]
  },
  {
   "cell_type": "code",
   "execution_count": 11,
   "metadata": {},
   "outputs": [
    {
     "data": {
      "text/plain": [
       "(12.566370614359172, 16, 0.7853981633974483)"
      ]
     },
     "execution_count": 11,
     "metadata": {},
     "output_type": "execute_result"
    }
   ],
   "source": [
    "import numpy as np\n",
    "\n",
    "r = 2\n",
    "circle_area = np.pi * r**2\n",
    "square_area = (2 * r) ** 2\n",
    "circle_area, square_area, circle_area / square_area"
   ]
  },
  {
   "cell_type": "code",
   "execution_count": null,
   "metadata": {},
   "outputs": [],
   "source": []
  },
  {
   "cell_type": "code",
   "execution_count": null,
   "metadata": {},
   "outputs": [],
   "source": []
  },
  {
   "cell_type": "code",
   "execution_count": 12,
   "metadata": {},
   "outputs": [],
   "source": [
    "# rename columns by add prefix \"embedding_\""
   ]
  },
  {
   "cell_type": "code",
   "execution_count": null,
   "metadata": {},
   "outputs": [],
   "source": []
  },
  {
   "cell_type": "code",
   "execution_count": null,
   "metadata": {},
   "outputs": [],
   "source": []
  },
  {
   "cell_type": "code",
   "execution_count": null,
   "metadata": {},
   "outputs": [],
   "source": []
  },
  {
   "cell_type": "code",
   "execution_count": 14,
   "metadata": {},
   "outputs": [],
   "source": [
    "# merge 2 df by index\n",
    "import pandas as pd\n",
    "\n",
    "# convert output_dict to dataframe\n",
    "if os.path.exists(new_df_path) is False:\n",
    "    output_df = pd.DataFrame.from_dict(output_dict, orient=\"index\")\n",
    "    output_df.head()\n",
    "    output_df.columns = [\"embedding_\" + str(col + 1) for col in output_df.columns]\n",
    "    # convert output_df store_id to int\n",
    "    output_df[\"store_id\"] = output_df.index\n",
    "    output_df.store_id = output_df.store_id.astype(int)\n",
    "    data_path = (\n",
    "        \"/Users/user/Documents/Coding/cro_location_intelligence/src/data/all_data.csv\"\n",
    "    )\n",
    "    df = pd.read_csv(data_path)\n",
    "    # merge df with output_df with columns store_id\n",
    "    df = pd.merge(df, output_df, on=\"store_id\", how=\"inner\")\n",
    "\n",
    "    # df = pd.concat([df, output_df], axis=1)\n",
    "    df.to_csv(new_df_path, index=False)"
   ]
  },
  {
   "cell_type": "code",
   "execution_count": null,
   "metadata": {},
   "outputs": [],
   "source": []
  },
  {
   "cell_type": "code",
   "execution_count": null,
   "metadata": {},
   "outputs": [],
   "source": []
  },
  {
   "cell_type": "code",
   "execution_count": null,
   "metadata": {},
   "outputs": [],
   "source": []
  },
  {
   "cell_type": "code",
   "execution_count": 15,
   "metadata": {},
   "outputs": [
    {
     "data": {
      "text/html": [
       "<div>\n",
       "<style scoped>\n",
       "    .dataframe tbody tr th:only-of-type {\n",
       "        vertical-align: middle;\n",
       "    }\n",
       "\n",
       "    .dataframe tbody tr th {\n",
       "        vertical-align: top;\n",
       "    }\n",
       "\n",
       "    .dataframe thead th {\n",
       "        text-align: right;\n",
       "    }\n",
       "</style>\n",
       "<table border=\"1\" class=\"dataframe\">\n",
       "  <thead>\n",
       "    <tr style=\"text-align: right;\">\n",
       "      <th></th>\n",
       "      <th>store_id</th>\n",
       "      <th>sum_pop_in_voronoi</th>\n",
       "      <th>voronoi_area</th>\n",
       "      <th>voronoi_density</th>\n",
       "      <th>cro_open_year</th>\n",
       "      <th>CRO_store_length</th>\n",
       "      <th>CRO_store_parking</th>\n",
       "      <th>CRO_store_stock_area</th>\n",
       "      <th>CRO_store_total_area</th>\n",
       "      <th>CRO_store_width</th>\n",
       "      <th>...</th>\n",
       "      <th>embedding_503</th>\n",
       "      <th>embedding_504</th>\n",
       "      <th>embedding_505</th>\n",
       "      <th>embedding_506</th>\n",
       "      <th>embedding_507</th>\n",
       "      <th>embedding_508</th>\n",
       "      <th>embedding_509</th>\n",
       "      <th>embedding_510</th>\n",
       "      <th>embedding_511</th>\n",
       "      <th>embedding_512</th>\n",
       "    </tr>\n",
       "  </thead>\n",
       "  <tbody>\n",
       "    <tr>\n",
       "      <th>0</th>\n",
       "      <td>1025.0</td>\n",
       "      <td>16369.32</td>\n",
       "      <td>38412.2</td>\n",
       "      <td>0.426149</td>\n",
       "      <td>16.0</td>\n",
       "      <td>20.00</td>\n",
       "      <td>0.0</td>\n",
       "      <td>97.39</td>\n",
       "      <td>274.39</td>\n",
       "      <td>14.00</td>\n",
       "      <td>...</td>\n",
       "      <td>0.618719</td>\n",
       "      <td>0.397206</td>\n",
       "      <td>0.539024</td>\n",
       "      <td>0.034935</td>\n",
       "      <td>-0.425025</td>\n",
       "      <td>-0.202426</td>\n",
       "      <td>-0.603762</td>\n",
       "      <td>-0.113011</td>\n",
       "      <td>0.282425</td>\n",
       "      <td>-0.264580</td>\n",
       "    </tr>\n",
       "    <tr>\n",
       "      <th>1</th>\n",
       "      <td>8396.0</td>\n",
       "      <td>15736.69</td>\n",
       "      <td>241705.5</td>\n",
       "      <td>0.065107</td>\n",
       "      <td>16.0</td>\n",
       "      <td>15.35</td>\n",
       "      <td>0.0</td>\n",
       "      <td>44.86</td>\n",
       "      <td>175.86</td>\n",
       "      <td>19.80</td>\n",
       "      <td>...</td>\n",
       "      <td>0.853443</td>\n",
       "      <td>0.604886</td>\n",
       "      <td>0.487524</td>\n",
       "      <td>0.250037</td>\n",
       "      <td>-0.343431</td>\n",
       "      <td>0.215231</td>\n",
       "      <td>-0.492256</td>\n",
       "      <td>-0.528084</td>\n",
       "      <td>-0.124986</td>\n",
       "      <td>-0.288903</td>\n",
       "    </tr>\n",
       "    <tr>\n",
       "      <th>2</th>\n",
       "      <td>8572.0</td>\n",
       "      <td>16156.14</td>\n",
       "      <td>193980.1</td>\n",
       "      <td>0.083288</td>\n",
       "      <td>16.0</td>\n",
       "      <td>9.85</td>\n",
       "      <td>0.0</td>\n",
       "      <td>12.90</td>\n",
       "      <td>145.90</td>\n",
       "      <td>17.80</td>\n",
       "      <td>...</td>\n",
       "      <td>0.461060</td>\n",
       "      <td>0.396897</td>\n",
       "      <td>0.465704</td>\n",
       "      <td>0.372753</td>\n",
       "      <td>0.014367</td>\n",
       "      <td>0.028150</td>\n",
       "      <td>-0.261129</td>\n",
       "      <td>-0.084676</td>\n",
       "      <td>-0.178961</td>\n",
       "      <td>0.154477</td>\n",
       "    </tr>\n",
       "    <tr>\n",
       "      <th>3</th>\n",
       "      <td>1058.0</td>\n",
       "      <td>11213.96</td>\n",
       "      <td>77343.2</td>\n",
       "      <td>0.144990</td>\n",
       "      <td>16.0</td>\n",
       "      <td>13.94</td>\n",
       "      <td>0.0</td>\n",
       "      <td>11.83</td>\n",
       "      <td>93.83</td>\n",
       "      <td>7.90</td>\n",
       "      <td>...</td>\n",
       "      <td>0.755208</td>\n",
       "      <td>0.682671</td>\n",
       "      <td>0.673349</td>\n",
       "      <td>-0.079623</td>\n",
       "      <td>-0.562957</td>\n",
       "      <td>-0.830060</td>\n",
       "      <td>-0.801435</td>\n",
       "      <td>-0.366279</td>\n",
       "      <td>0.880094</td>\n",
       "      <td>0.253283</td>\n",
       "    </tr>\n",
       "    <tr>\n",
       "      <th>4</th>\n",
       "      <td>1095.0</td>\n",
       "      <td>16216.47</td>\n",
       "      <td>90980.3</td>\n",
       "      <td>0.178242</td>\n",
       "      <td>16.0</td>\n",
       "      <td>15.82</td>\n",
       "      <td>0.0</td>\n",
       "      <td>35.18</td>\n",
       "      <td>113.18</td>\n",
       "      <td>7.94</td>\n",
       "      <td>...</td>\n",
       "      <td>0.432766</td>\n",
       "      <td>0.767998</td>\n",
       "      <td>0.388810</td>\n",
       "      <td>0.492982</td>\n",
       "      <td>0.151838</td>\n",
       "      <td>-0.086584</td>\n",
       "      <td>-0.651078</td>\n",
       "      <td>-0.546258</td>\n",
       "      <td>-0.215056</td>\n",
       "      <td>-0.015719</td>\n",
       "    </tr>\n",
       "  </tbody>\n",
       "</table>\n",
       "<p>5 rows × 681 columns</p>\n",
       "</div>"
      ],
      "text/plain": [
       "   store_id  sum_pop_in_voronoi  voronoi_area  voronoi_density  cro_open_year  \\\n",
       "0    1025.0            16369.32       38412.2         0.426149           16.0   \n",
       "1    8396.0            15736.69      241705.5         0.065107           16.0   \n",
       "2    8572.0            16156.14      193980.1         0.083288           16.0   \n",
       "3    1058.0            11213.96       77343.2         0.144990           16.0   \n",
       "4    1095.0            16216.47       90980.3         0.178242           16.0   \n",
       "\n",
       "   CRO_store_length  CRO_store_parking  CRO_store_stock_area  \\\n",
       "0             20.00                0.0                 97.39   \n",
       "1             15.35                0.0                 44.86   \n",
       "2              9.85                0.0                 12.90   \n",
       "3             13.94                0.0                 11.83   \n",
       "4             15.82                0.0                 35.18   \n",
       "\n",
       "   CRO_store_total_area  CRO_store_width  ...  embedding_503  embedding_504  \\\n",
       "0                274.39            14.00  ...       0.618719       0.397206   \n",
       "1                175.86            19.80  ...       0.853443       0.604886   \n",
       "2                145.90            17.80  ...       0.461060       0.396897   \n",
       "3                 93.83             7.90  ...       0.755208       0.682671   \n",
       "4                113.18             7.94  ...       0.432766       0.767998   \n",
       "\n",
       "   embedding_505  embedding_506  embedding_507  embedding_508  embedding_509  \\\n",
       "0       0.539024       0.034935      -0.425025      -0.202426      -0.603762   \n",
       "1       0.487524       0.250037      -0.343431       0.215231      -0.492256   \n",
       "2       0.465704       0.372753       0.014367       0.028150      -0.261129   \n",
       "3       0.673349      -0.079623      -0.562957      -0.830060      -0.801435   \n",
       "4       0.388810       0.492982       0.151838      -0.086584      -0.651078   \n",
       "\n",
       "   embedding_510  embedding_511  embedding_512  \n",
       "0      -0.113011       0.282425      -0.264580  \n",
       "1      -0.528084      -0.124986      -0.288903  \n",
       "2      -0.084676      -0.178961       0.154477  \n",
       "3      -0.366279       0.880094       0.253283  \n",
       "4      -0.546258      -0.215056      -0.015719  \n",
       "\n",
       "[5 rows x 681 columns]"
      ]
     },
     "execution_count": 15,
     "metadata": {},
     "output_type": "execute_result"
    }
   ],
   "source": [
    "df.head()"
   ]
  },
  {
   "cell_type": "code",
   "execution_count": null,
   "metadata": {},
   "outputs": [],
   "source": []
  },
  {
   "cell_type": "code",
   "execution_count": 16,
   "metadata": {},
   "outputs": [],
   "source": [
    "# save df"
   ]
  },
  {
   "cell_type": "code",
   "execution_count": 23,
   "metadata": {},
   "outputs": [],
   "source": [
    "# use embedding to predict mockup_sale with xgboost\n",
    "from sklearn.model_selection import train_test_split\n",
    "import xgboost as xgb\n",
    "import numpy as np\n",
    "\n",
    "# linear regression\n",
    "from sklearn.linear_model import LinearRegression\n",
    "from sklearn.metrics import mean_absolute_percentage_error\n",
    "\n",
    "# get all column has embedding_ prefix\n",
    "feature_columns = [col for col in df.columns if col.startswith(\"embedding_\")]\n",
    "feature_columns += [\"subset\"]\n",
    "feature_columns += [\"y_nor\"]\n",
    "# assign to x\n",
    "all_data = df[feature_columns]\n",
    "\n",
    "# create train test with columns subset\n",
    "x_train = all_data[all_data.subset == \"train\"]\n",
    "x_train = x_train.drop(columns=[\"subset\"])\n",
    "y_train = x_train[\"y_nor\"]\n",
    "x_test = all_data[all_data.subset == \"test\"]\n",
    "x_test = x_test.drop(columns=[\"subset\"])\n",
    "y_test = x_test[\"y_nor\"]\n",
    "x_train = x_train.drop(columns=[\"y_nor\"])\n",
    "x_test = x_test.drop(columns=[\"y_nor\"])"
   ]
  },
  {
   "cell_type": "code",
   "execution_count": 24,
   "metadata": {},
   "outputs": [
    {
     "data": {
      "text/plain": [
       "((977, 512), (977,))"
      ]
     },
     "execution_count": 24,
     "metadata": {},
     "output_type": "execute_result"
    }
   ],
   "source": [
    "x_train.shape, y_train.shape"
   ]
  },
  {
   "cell_type": "code",
   "execution_count": 20,
   "metadata": {},
   "outputs": [],
   "source": [
    "import matplotlib.pyplot as plt"
   ]
  },
  {
   "cell_type": "code",
   "execution_count": 25,
   "metadata": {},
   "outputs": [
    {
     "name": "stdout",
     "output_type": "stream",
     "text": [
      "mean_absolute_percentage_error: 1.3588517235583804\n"
     ]
    },
    {
     "data": {
      "image/png": "[encoded data removed]",
      "text/plain": [
       "<Figure size 640x480 with 1 Axes>"
      ]
     },
     "metadata": {},
     "output_type": "display_data"
    }
   ],
   "source": [
    "# Create an XGBoost regressor\n",
    "regressor = xgb.XGBRegressor(objective=\"reg:squarederror\", seed=42)\n",
    "\n",
    "# Train the model\n",
    "regressor.fit(x_train, y_train)\n",
    "\n",
    "# Make predictions on the test set\n",
    "y_pred = regressor.predict(x_test)\n",
    "\n",
    "# Evaluate the model\n",
    "mape = mean_absolute_percentage_error(y_test, y_pred)\n",
    "print(f\"mean_absolute_percentage_error: {mape}\")\n",
    "\n",
    "# Plot the results\n",
    "# plt.scatter(x_test, y_test, color=\"black\", label=\"Actual\")\n",
    "plt.scatter(y_test, y_pred, color=\"red\", label=\"Predicted\")\n",
    "plt.xlabel(\"X\")\n",
    "plt.ylabel(\"Y\")\n",
    "plt.title(\"XGBoost Linear Regression\")\n",
    "plt.legend()\n",
    "plt.show()"
   ]
  },
  {
   "cell_type": "code",
   "execution_count": null,
   "metadata": {},
   "outputs": [],
   "source": []
  },
  {
   "cell_type": "code",
   "execution_count": null,
   "metadata": {},
   "outputs": [],
   "source": []
  },
  {
   "cell_type": "code",
   "execution_count": 27,
   "metadata": {},
   "outputs": [
    {
     "name": "stderr",
     "output_type": "stream",
     "text": [
      "GPU available: True (mps), used: True\n",
      "TPU available: False, using: 0 TPU cores\n",
      "IPU available: False, using: 0 IPUs\n",
      "HPU available: False, using: 0 HPUs\n",
      "\n",
      "  | Name | Type   | Params\n",
      "--------------------------------\n",
      "0 | fc1  | Linear | 131 K \n",
      "1 | fc2  | Linear | 32.9 K\n",
      "2 | fc3  | Linear | 8.3 K \n",
      "3 | fc4  | Linear | 65    \n",
      "--------------------------------\n",
      "172 K     Trainable params\n",
      "0         Non-trainable params\n",
      "172 K     Total params\n",
      "0.690     Total estimated model params size (MB)\n",
      "/Users/user/miniconda3/lib/python3.11/site-packages/lightning/pytorch/trainer/connectors/data_connector.py:441: The 'train_dataloader' does not have many workers which may be a bottleneck. Consider increasing the value of the `num_workers` argument` to `num_workers=9` in the `DataLoader` to improve performance.\n"
     ]
    },
    {
     "data": {
      "application/vnd.jupyter.widget-view+json": {
       "model_id": "e423da8f176f41e49fe75b450715487a",
       "version_major": 2,
       "version_minor": 0
      },
      "text/plain": [
       "Training: |          | 0/? [00:00<?, ?it/s]"
      ]
     },
     "metadata": {},
     "output_type": "display_data"
    },
    {
     "name": "stderr",
     "output_type": "stream",
     "text": [
      "/Users/user/miniconda3/lib/python3.11/site-packages/lightning/pytorch/trainer/call.py:54: Detected KeyboardInterrupt, attempting graceful shutdown...\n",
      "/Users/user/miniconda3/lib/python3.11/site-packages/lightning/pytorch/trainer/connectors/checkpoint_connector.py:145: `.test(ckpt_path=None)` was called without a model. The best model of the previous `fit` call will be used. You can pass `.test(ckpt_path='best')` to use the best model or `.test(ckpt_path='last')` to use the last model. If you pass a value, this warning will be silenced.\n",
      "Restoring states from the checkpoint path at tb_logs/my_model/version_24/checkpoints/epoch=85-step=10578.ckpt\n",
      "Loaded model weights from the checkpoint at tb_logs/my_model/version_24/checkpoints/epoch=85-step=10578.ckpt\n",
      "/Users/user/miniconda3/lib/python3.11/site-packages/lightning/pytorch/trainer/connectors/data_connector.py:441: The 'test_dataloader' does not have many workers which may be a bottleneck. Consider increasing the value of the `num_workers` argument` to `num_workers=9` in the `DataLoader` to improve performance.\n"
     ]
    },
    {
     "data": {
      "application/vnd.jupyter.widget-view+json": {
       "model_id": "78656747fadf4e3cac3c44301a638289",
       "version_major": 2,
       "version_minor": 0
      },
      "text/plain": [
       "Testing: |          | 0/? [00:00<?, ?it/s]"
      ]
     },
     "metadata": {},
     "output_type": "display_data"
    },
    {
     "data": {
      "text/html": [
       "<pre style=\"white-space:pre;overflow-x:auto;line-height:normal;font-family:Menlo,'DejaVu Sans Mono',consolas,'Courier New',monospace\">┏━━━━━━━━━━━━━━━━━━━━━━━━━━━┳━━━━━━━━━━━━━━━━━━━━━━━━━━━┓\n",
       "┃<span style=\"font-weight: bold\">        Test metric        </span>┃<span style=\"font-weight: bold\">       DataLoader 0        </span>┃\n",
       "┡━━━━━━━━━━━━━━━━━━━━━━━━━━━╇━━━━━━━━━━━━━━━━━━━━━━━━━━━┩\n",
       "│<span style=\"color: #008080; text-decoration-color: #008080\">         test_loss         </span>│<span style=\"color: #800080; text-decoration-color: #800080\">   0.026511339470744133    </span>│\n",
       "└───────────────────────────┴───────────────────────────┘\n",
       "</pre>\n"
      ],
      "text/plain": [
       "┏━━━━━━━━━━━━━━━━━━━━━━━━━━━┳━━━━━━━━━━━━━━━━━━━━━━━━━━━┓\n",
       "┃\u001b[1m \u001b[0m\u001b[1m       Test metric       \u001b[0m\u001b[1m \u001b[0m┃\u001b[1m \u001b[0m\u001b[1m      DataLoader 0       \u001b[0m\u001b[1m \u001b[0m┃\n",
       "┡━━━━━━━━━━━━━━━━━━━━━━━━━━━╇━━━━━━━━━━━━━━━━━━━━━━━━━━━┩\n",
       "│\u001b[36m \u001b[0m\u001b[36m        test_loss        \u001b[0m\u001b[36m \u001b[0m│\u001b[35m \u001b[0m\u001b[35m  0.026511339470744133   \u001b[0m\u001b[35m \u001b[0m│\n",
       "└───────────────────────────┴───────────────────────────┘\n"
      ]
     },
     "metadata": {},
     "output_type": "display_data"
    },
    {
     "name": "stdout",
     "output_type": "stream",
     "text": [
      "Example Predictions: [0.21888998 0.40720308 0.48611677 0.21867399 0.38498384]\n"
     ]
    }
   ],
   "source": [
    "from typing import Any\n",
    "from lightning.pytorch.utilities.types import STEP_OUTPUT\n",
    "import torch\n",
    "import torch.nn as nn\n",
    "import torch.optim as optim\n",
    "from torch.utils.data import Dataset, DataLoader\n",
    "from sklearn.model_selection import train_test_split\n",
    "from sklearn.preprocessing import StandardScaler\n",
    "import numpy as np\n",
    "import lightning as pl\n",
    "\n",
    "from lightning.pytorch.loggers import TensorBoardLogger\n",
    "\n",
    "\n",
    "# Define a simple dataset\n",
    "class PriceDataset(Dataset):\n",
    "    def __init__(self, features, labels):\n",
    "        self.features = torch.tensor(features, dtype=torch.float32)\n",
    "        self.labels = torch.tensor(labels, dtype=torch.float32)\n",
    "\n",
    "    def __len__(self):\n",
    "        return len(self.features)\n",
    "\n",
    "    def __getitem__(self, idx):\n",
    "        return self.features[idx], self.labels[idx]\n",
    "\n",
    "\n",
    "# Define a simple feedforward neural network\n",
    "class PricePredictor(pl.LightningModule):\n",
    "    def __init__(self, input_size):\n",
    "        super(PricePredictor, self).__init__()\n",
    "        self.fc1 = nn.Linear(input_size, 256)\n",
    "        self.fc2 = nn.Linear(256, 128)\n",
    "        self.fc3 = nn.Linear(128, 64)\n",
    "        self.fc4 = nn.Linear(64, 1)\n",
    "        self.training_step_loss = []\n",
    "\n",
    "    def forward(self, x):\n",
    "        x = torch.relu(self.fc1(x))\n",
    "        x = torch.relu(self.fc2(x))\n",
    "        x = torch.relu(self.fc3(x))\n",
    "        x = self.fc4(x)\n",
    "        return x\n",
    "\n",
    "    def training_step(self, batch, batch_idx):\n",
    "        x, y = batch\n",
    "        y_pred = self(x)\n",
    "        loss = nn.MSELoss()(y_pred.flatten(), y)\n",
    "        self.training_step_loss.append(loss)\n",
    "        return loss\n",
    "\n",
    "    def configure_optimizers(self):\n",
    "        return optim.Adam(self.parameters(), lr=0.01)\n",
    "\n",
    "    def test_step(self, batch, batch_idx):\n",
    "        x, y = batch\n",
    "        y_pred = self(x)\n",
    "        loss = nn.MSELoss()(y_pred.flatten(), y)\n",
    "        self.log(\"test_loss\", loss)\n",
    "\n",
    "    def on_train_epoch_end(self):\n",
    "        # print(\"\\n\\tself.training_step_loss\", self.training_step_loss)\n",
    "        # print(\"\\n\\tself.training_step_loss\", self.training_step_loss[0].shape)\n",
    "        # print(\"\\n\\tself.training_step_loss\", self.training_step_loss[0])\n",
    "        # print()\n",
    "        # avg_loss = torch.stack([x[\"loss\"] for x in self.training_step_loss]).mean()\n",
    "        avg_loss = torch.stack(\n",
    "            [x.detach().cpu() for x in self.training_step_loss]\n",
    "        ).mean()\n",
    "        self.log(\"train_loss\", avg_loss.item(), on_epoch=True)\n",
    "\n",
    "\n",
    "# Generate some random data for demonstration purposes\n",
    "np.random.seed(42)\n",
    "# features = np.random.rand(100, 512, 1)  # 100 samples with 512x1 features each\n",
    "# labels = (\n",
    "#     3 * features[:, 0, 0]\n",
    "#     + 2 * features[:, 1, 0]\n",
    "#     + 1.5 * features[:, 2, 0]\n",
    "#     + 1\n",
    "#     + 0.1 * np.random.randn(100)\n",
    "# )\n",
    "\n",
    "# Split the data into training and testing sets\n",
    "# X_train, X_test, y_train, y_test = train_test_split(\n",
    "#     x, y, test_size=0.2, random_state=42\n",
    "# )\n",
    "X_train = np.array(x_train)\n",
    "X_test = np.array(x_test)\n",
    "y_train = np.array(y_train)\n",
    "y_test = np.array(y_test)\n",
    "# Standardize the features\n",
    "# scaler = StandardScaler()\n",
    "# X_train = scaler.fit_transform(X_train.reshape(-1, 1)).reshape(-1, 512, 1)\n",
    "# X_test = scaler.transform(X_test.reshape(-1, 1)).reshape(-1, 512, 1)\n",
    "# y_train = np.array(y_train)\n",
    "# Create data loaders\n",
    "train_dataset = PriceDataset(X_train, y_train)\n",
    "test_dataset = PriceDataset(X_test, y_test)\n",
    "train_loader = DataLoader(train_dataset, batch_size=8, shuffle=True)\n",
    "test_loader = DataLoader(test_dataset, batch_size=8, shuffle=False)\n",
    "\n",
    "# Initialize the model\n",
    "input_size = X_train.shape[1:]\n",
    "model = PricePredictor(input_size[0])\n",
    "\n",
    "# Initialize a PyTorch Lightning Trainer\n",
    "logger = TensorBoardLogger(\"tb_logs\", name=\"my_model\")\n",
    "\n",
    "trainer = pl.Trainer(max_epochs=250, logger=logger)\n",
    "\n",
    "# Train the model\n",
    "trainer.fit(model, train_loader)\n",
    "\n",
    "# Test the model\n",
    "trainer.test(dataloaders=test_loader)\n",
    "\n",
    "# Make predictions\n",
    "model.eval()\n",
    "with torch.no_grad():\n",
    "    example_input = torch.tensor(X_test[:5], dtype=torch.float32)\n",
    "    predictions = model(example_input).flatten().numpy()\n",
    "\n",
    "print(\"Example Predictions:\", predictions)"
   ]
  },
  {
   "cell_type": "code",
   "execution_count": 32,
   "metadata": {},
   "outputs": [
    {
     "name": "stdout",
     "output_type": "stream",
     "text": [
      "Example Predictions: [0.21888998 0.40720314 0.48611677 0.21867399 0.38498384 0.36464393\n",
      " 0.35445923 0.40523118 0.21002647 0.44709498 0.2101983  0.3464612\n",
      " 0.21002647 0.21002647 0.26941204 0.5750031  0.5600202  0.21002647\n",
      " 0.21002647 0.21002647 0.33551276 0.51747394 0.21002647 0.3014243\n",
      " 0.21002647 0.5491209  0.21002647 0.37121096 0.33016297 0.21002647\n",
      " 0.24187025 0.25370324 0.21002647 0.51552844 0.43987876 0.3792712\n",
      " 0.21002647 0.33326122 0.21002647 0.21002647 0.23272696 0.24878214\n",
      " 0.21002647 0.44236976 0.34191605 0.32440567 0.21002647 0.21002647\n",
      " 0.25172803 0.28738374 0.22745976 0.22685295 0.26788747 0.21002647\n",
      " 0.21002647 0.24618287 0.23377493 0.41793457 0.36582476 0.21002647\n",
      " 0.2972245  0.21002647 0.21002647 0.21002647 0.53769374 0.21002647\n",
      " 0.44904956 0.21002647]\n",
      "Ground Truth: [ 0.70841744  0.25344402  0.16957017  0.26360735  0.27926378  0.24470932\n",
      "  0.17560358  0.36602374  0.16146888  0.27521046  0.49095872  0.28146068\n",
      "  0.48453337  0.08721828  0.30963766  0.30938209  0.35643737  0.13123749\n",
      "  0.11089034  0.5906409   0.20029782  0.37904825  0.3114301   0.37348522\n",
      "  0.37439181  0.25397064 -0.00203283  0.33049452  0.29876734  0.29971454\n",
      "  0.32515046  0.19141426  0.13853618  0.1854582   0.24381902  0.18541554\n",
      "  0.36083728  0.18635625  0.3906087   0.25088267  0.13047574  0.17218653\n",
      "  0.25431538  0.39848962  0.28447481  0.1529979   0.45211025  0.31245517\n",
      "  0.23162963  0.16490466  0.18378239  0.10598418  0.40055947  0.29368083\n",
      "  0.31441002  0.24028594  0.18230463  0.17377569  0.30079224  0.29377933\n",
      "  0.37746523  0.19219659  0.402051    0.20644933  0.25478589  0.12888321\n",
      "  0.41644231  0.25242834]\n"
     ]
    }
   ],
   "source": [
    "number_predict = 100\n",
    "with torch.no_grad():\n",
    "    example_input = torch.tensor(X_test[:number_predict], dtype=torch.float32)\n",
    "    predictions = model(example_input).flatten().numpy()\n",
    "    # predictions = [int(round(pred)) for pred in predictions]\n",
    "\n",
    "print(\"Example Predictions:\", predictions)\n",
    "print(\"Ground Truth:\", y_test[:number_predict])"
   ]
  },
  {
   "cell_type": "code",
   "execution_count": 35,
   "metadata": {},
   "outputs": [
    {
     "data": {
      "text/html": [
       "<div>\n",
       "<style scoped>\n",
       "    .dataframe tbody tr th:only-of-type {\n",
       "        vertical-align: middle;\n",
       "    }\n",
       "\n",
       "    .dataframe tbody tr th {\n",
       "        vertical-align: top;\n",
       "    }\n",
       "\n",
       "    .dataframe thead th {\n",
       "        text-align: right;\n",
       "    }\n",
       "</style>\n",
       "<table border=\"1\" class=\"dataframe\">\n",
       "  <thead>\n",
       "    <tr style=\"text-align: right;\">\n",
       "      <th></th>\n",
       "      <th>y_pred</th>\n",
       "      <th>y_test</th>\n",
       "    </tr>\n",
       "  </thead>\n",
       "  <tbody>\n",
       "    <tr>\n",
       "      <th>0</th>\n",
       "      <td>0.218890</td>\n",
       "      <td>0.708417</td>\n",
       "    </tr>\n",
       "    <tr>\n",
       "      <th>1</th>\n",
       "      <td>0.407203</td>\n",
       "      <td>0.253444</td>\n",
       "    </tr>\n",
       "    <tr>\n",
       "      <th>2</th>\n",
       "      <td>0.486117</td>\n",
       "      <td>0.169570</td>\n",
       "    </tr>\n",
       "    <tr>\n",
       "      <th>3</th>\n",
       "      <td>0.218674</td>\n",
       "      <td>0.263607</td>\n",
       "    </tr>\n",
       "    <tr>\n",
       "      <th>4</th>\n",
       "      <td>0.384984</td>\n",
       "      <td>0.279264</td>\n",
       "    </tr>\n",
       "  </tbody>\n",
       "</table>\n",
       "</div>"
      ],
      "text/plain": [
       "     y_pred    y_test\n",
       "0  0.218890  0.708417\n",
       "1  0.407203  0.253444\n",
       "2  0.486117  0.169570\n",
       "3  0.218674  0.263607\n",
       "4  0.384984  0.279264"
      ]
     },
     "execution_count": 35,
     "metadata": {},
     "output_type": "execute_result"
    }
   ],
   "source": [
    "result_df = pd.DataFrame({\"y_pred\": predictions, \"y_test\": y_test[:number_predict]})\n",
    "result_df.head()"
   ]
  },
  {
   "cell_type": "code",
   "execution_count": 36,
   "metadata": {},
   "outputs": [
    {
     "data": {
      "text/html": [
       "<div>\n",
       "<style scoped>\n",
       "    .dataframe tbody tr th:only-of-type {\n",
       "        vertical-align: middle;\n",
       "    }\n",
       "\n",
       "    .dataframe tbody tr th {\n",
       "        vertical-align: top;\n",
       "    }\n",
       "\n",
       "    .dataframe thead th {\n",
       "        text-align: right;\n",
       "    }\n",
       "</style>\n",
       "<table border=\"1\" class=\"dataframe\">\n",
       "  <thead>\n",
       "    <tr style=\"text-align: right;\">\n",
       "      <th></th>\n",
       "      <th>y_pred</th>\n",
       "      <th>y_test</th>\n",
       "      <th>mape</th>\n",
       "    </tr>\n",
       "  </thead>\n",
       "  <tbody>\n",
       "    <tr>\n",
       "      <th>0</th>\n",
       "      <td>0.218890</td>\n",
       "      <td>0.708417</td>\n",
       "      <td>0.691016</td>\n",
       "    </tr>\n",
       "    <tr>\n",
       "      <th>1</th>\n",
       "      <td>0.407203</td>\n",
       "      <td>0.253444</td>\n",
       "      <td>0.606679</td>\n",
       "    </tr>\n",
       "    <tr>\n",
       "      <th>2</th>\n",
       "      <td>0.486117</td>\n",
       "      <td>0.169570</td>\n",
       "      <td>1.866759</td>\n",
       "    </tr>\n",
       "    <tr>\n",
       "      <th>3</th>\n",
       "      <td>0.218674</td>\n",
       "      <td>0.263607</td>\n",
       "      <td>0.170456</td>\n",
       "    </tr>\n",
       "    <tr>\n",
       "      <th>4</th>\n",
       "      <td>0.384984</td>\n",
       "      <td>0.279264</td>\n",
       "      <td>0.378567</td>\n",
       "    </tr>\n",
       "  </tbody>\n",
       "</table>\n",
       "</div>"
      ],
      "text/plain": [
       "     y_pred    y_test      mape\n",
       "0  0.218890  0.708417  0.691016\n",
       "1  0.407203  0.253444  0.606679\n",
       "2  0.486117  0.169570  1.866759\n",
       "3  0.218674  0.263607  0.170456\n",
       "4  0.384984  0.279264  0.378567"
      ]
     },
     "execution_count": 36,
     "metadata": {},
     "output_type": "execute_result"
    }
   ],
   "source": [
    "# cal mape each row\n",
    "def cal_mape(row):\n",
    "    return abs(row.y_pred - row.y_test) / row.y_test\n",
    "\n",
    "\n",
    "result_df[\"mape\"] = result_df.apply(cal_mape, axis=1)\n",
    "result_df.head()"
   ]
  },
  {
   "cell_type": "code",
   "execution_count": 39,
   "metadata": {},
   "outputs": [
    {
     "name": "stdout",
     "output_type": "stream",
     "text": [
      "11\n"
     ]
    },
    {
     "data": {
      "text/plain": [
       "0.16176470588235295"
      ]
     },
     "execution_count": 39,
     "metadata": {},
     "output_type": "execute_result"
    }
   ],
   "source": [
    "# count mape < 0.15\n",
    "print(result_df[result_df.mape < 0.15].shape[0])\n",
    "result_df[result_df.mape < 0.15].shape[0] / result_df.shape[0]"
   ]
  },
  {
   "cell_type": "code",
   "execution_count": 29,
   "metadata": {},
   "outputs": [
    {
     "data": {
      "text/plain": [
       "array([0.70841744, 0.25344402, 0.16957017, 0.26360735, 0.27926378])"
      ]
     },
     "execution_count": 29,
     "metadata": {},
     "output_type": "execute_result"
    }
   ],
   "source": [
    "y_test[:5]"
   ]
  },
  {
   "cell_type": "code",
   "execution_count": 40,
   "metadata": {},
   "outputs": [],
   "source": [
    "number_predict = 10000\n",
    "with torch.no_grad():\n",
    "    example_input = torch.tensor(X_train[:number_predict], dtype=torch.float32)\n",
    "    predictions = model(example_input).flatten().numpy()\n",
    "    # predictions = [int(round(pred)) for pred in predictions]\n",
    "\n",
    "# print(\"Example Predictions:\", predictions)\n",
    "# print(\"Ground Truth:\", y_train[:number_predict])"
   ]
  },
  {
   "cell_type": "code",
   "execution_count": 41,
   "metadata": {},
   "outputs": [
    {
     "data": {
      "text/html": [
       "<div>\n",
       "<style scoped>\n",
       "    .dataframe tbody tr th:only-of-type {\n",
       "        vertical-align: middle;\n",
       "    }\n",
       "\n",
       "    .dataframe tbody tr th {\n",
       "        vertical-align: top;\n",
       "    }\n",
       "\n",
       "    .dataframe thead th {\n",
       "        text-align: right;\n",
       "    }\n",
       "</style>\n",
       "<table border=\"1\" class=\"dataframe\">\n",
       "  <thead>\n",
       "    <tr style=\"text-align: right;\">\n",
       "      <th></th>\n",
       "      <th>y_pred</th>\n",
       "      <th>y_train</th>\n",
       "    </tr>\n",
       "  </thead>\n",
       "  <tbody>\n",
       "    <tr>\n",
       "      <th>0</th>\n",
       "      <td>0.210026</td>\n",
       "      <td>0.226238</td>\n",
       "    </tr>\n",
       "    <tr>\n",
       "      <th>1</th>\n",
       "      <td>0.210026</td>\n",
       "      <td>0.182798</td>\n",
       "    </tr>\n",
       "    <tr>\n",
       "      <th>2</th>\n",
       "      <td>0.228925</td>\n",
       "      <td>0.433002</td>\n",
       "    </tr>\n",
       "    <tr>\n",
       "      <th>3</th>\n",
       "      <td>0.466621</td>\n",
       "      <td>0.221966</td>\n",
       "    </tr>\n",
       "    <tr>\n",
       "      <th>4</th>\n",
       "      <td>0.210026</td>\n",
       "      <td>0.149573</td>\n",
       "    </tr>\n",
       "  </tbody>\n",
       "</table>\n",
       "</div>"
      ],
      "text/plain": [
       "     y_pred   y_train\n",
       "0  0.210026  0.226238\n",
       "1  0.210026  0.182798\n",
       "2  0.228925  0.433002\n",
       "3  0.466621  0.221966\n",
       "4  0.210026  0.149573"
      ]
     },
     "execution_count": 41,
     "metadata": {},
     "output_type": "execute_result"
    }
   ],
   "source": [
    "result_df = pd.DataFrame({\"y_pred\": predictions, \"y_train\": y_train[:number_predict]})\n",
    "result_df.head()"
   ]
  },
  {
   "cell_type": "code",
   "execution_count": 43,
   "metadata": {},
   "outputs": [
    {
     "name": "stderr",
     "output_type": "stream",
     "text": [
      "/var/folders/9g/3rr3k99j0td2974k71sy46_h0000gp/T/ipykernel_49165/724403404.py:4: RuntimeWarning: divide by zero encountered in scalar divide\n",
      "  return abs(row.y_pred - row.y_train) / row.y_train\n"
     ]
    },
    {
     "data": {
      "text/html": [
       "<div>\n",
       "<style scoped>\n",
       "    .dataframe tbody tr th:only-of-type {\n",
       "        vertical-align: middle;\n",
       "    }\n",
       "\n",
       "    .dataframe tbody tr th {\n",
       "        vertical-align: top;\n",
       "    }\n",
       "\n",
       "    .dataframe thead th {\n",
       "        text-align: right;\n",
       "    }\n",
       "</style>\n",
       "<table border=\"1\" class=\"dataframe\">\n",
       "  <thead>\n",
       "    <tr style=\"text-align: right;\">\n",
       "      <th></th>\n",
       "      <th>y_pred</th>\n",
       "      <th>y_train</th>\n",
       "      <th>mape</th>\n",
       "    </tr>\n",
       "  </thead>\n",
       "  <tbody>\n",
       "    <tr>\n",
       "      <th>0</th>\n",
       "      <td>0.210026</td>\n",
       "      <td>0.226238</td>\n",
       "      <td>0.071656</td>\n",
       "    </tr>\n",
       "    <tr>\n",
       "      <th>1</th>\n",
       "      <td>0.210026</td>\n",
       "      <td>0.182798</td>\n",
       "      <td>0.148951</td>\n",
       "    </tr>\n",
       "    <tr>\n",
       "      <th>2</th>\n",
       "      <td>0.228925</td>\n",
       "      <td>0.433002</td>\n",
       "      <td>0.471306</td>\n",
       "    </tr>\n",
       "    <tr>\n",
       "      <th>3</th>\n",
       "      <td>0.466621</td>\n",
       "      <td>0.221966</td>\n",
       "      <td>1.102214</td>\n",
       "    </tr>\n",
       "    <tr>\n",
       "      <th>4</th>\n",
       "      <td>0.210026</td>\n",
       "      <td>0.149573</td>\n",
       "      <td>0.404174</td>\n",
       "    </tr>\n",
       "  </tbody>\n",
       "</table>\n",
       "</div>"
      ],
      "text/plain": [
       "     y_pred   y_train      mape\n",
       "0  0.210026  0.226238  0.071656\n",
       "1  0.210026  0.182798  0.148951\n",
       "2  0.228925  0.433002  0.471306\n",
       "3  0.466621  0.221966  1.102214\n",
       "4  0.210026  0.149573  0.404174"
      ]
     },
     "execution_count": 43,
     "metadata": {},
     "output_type": "execute_result"
    }
   ],
   "source": [
    "# cal mape each row\n",
    "def cal_mape(row):\n",
    "    try:\n",
    "        return abs(row.y_pred - row.y_train) / row.y_train\n",
    "    except:\n",
    "        return abs(row.y_pred - row.y_test) / row.y_test\n",
    "\n",
    "\n",
    "result_df[\"mape\"] = result_df.apply(cal_mape, axis=1)\n",
    "result_df.head()"
   ]
  },
  {
   "cell_type": "code",
   "execution_count": 45,
   "metadata": {},
   "outputs": [
    {
     "name": "stdout",
     "output_type": "stream",
     "text": [
      "228\n"
     ]
    },
    {
     "data": {
      "text/plain": [
       "0.23336745138178097"
      ]
     },
     "execution_count": 45,
     "metadata": {},
     "output_type": "execute_result"
    }
   ],
   "source": [
    "print(result_df[result_df.mape < 0.15].shape[0])\n",
    "result_df[result_df.mape < 0.15].shape[0] / result_df.shape[0]"
   ]
  },
  {
   "cell_type": "code",
   "execution_count": null,
   "metadata": {},
   "outputs": [],
   "source": []
  }
 ],
 "metadata": {
  "kernelspec": {
   "display_name": "base",
   "language": "python",
   "name": "python3"
  },
  "language_info": {
   "codemirror_mode": {
    "name": "ipython",
    "version": 3
   },
   "file_extension": ".py",
   "mimetype": "text/x-python",
   "name": "python",
   "nbconvert_exporter": "python",
   "pygments_lexer": "ipython3",
   "version": "3.11.4"
  },
  "orig_nbformat": 4
 },
 "nbformat": 4,
 "nbformat_minor": 2
}
