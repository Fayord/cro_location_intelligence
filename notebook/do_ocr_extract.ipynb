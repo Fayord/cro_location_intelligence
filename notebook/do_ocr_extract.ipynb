{
 "cells": [
  {
   "cell_type": "code",
   "execution_count": 18,
   "metadata": {},
   "outputs": [],
   "source": [
    "import easyocr\n",
    "from typing import List\n",
    "\n",
    "\n",
    "def extract_ocr(image_path: str) -> List[dict]:\n",
    "    store_id = image_path.split(\"/\")[-1].split(\".\")[0]\n",
    "    reader = easyocr.Reader([\"en\", \"th\"], gpu=True)\n",
    "    result = reader.readtext(image_path)\n",
    "    result_list = []\n",
    "    for r in result:\n",
    "        bboxes = r[0]\n",
    "        text = r[1]\n",
    "        confidence = r[2]\n",
    "        result_data = {\n",
    "            \"store_id\": store_id,\n",
    "            \"bbox\": bboxes,\n",
    "            \"text\": text,\n",
    "            \"confidence\": confidence,\n",
    "        }\n",
    "        result_list.append(result_data)\n",
    "\n",
    "    return result_list"
   ]
  },
  {
   "cell_type": "code",
   "execution_count": 19,
   "metadata": {},
   "outputs": [
    {
     "name": "stderr",
     "output_type": "stream",
     "text": [
      "  0%|          | 4/12213 [00:15<12:37:14,  3.72s/it]"
     ]
    }
   ],
   "source": [
    "input_folder = \"/Users/user/Documents/Coding/cro_location_intelligence/notebook/data_7_eleven_poi_zoom_19/full_image\"\n",
    "main_folder = \"/Users/user/Documents/Coding/cro_location_intelligence/notebook/data_7_eleven_poi_zoom_19/\"\n",
    "import os\n",
    "from tqdm import tqdm\n",
    "\n",
    "image_name_list = os.listdir(input_folder)\n",
    "reader = easyocr.Reader([\"en\", \"th\"])\n",
    "all_store_list = []\n",
    "fail_list = []\n",
    "for image_name in tqdm(image_name_list):\n",
    "    image_path = os.path.join(input_folder, image_name)\n",
    "    try:\n",
    "\n",
    "        result_list = extract_ocr(image_path)\n",
    "        all_store_list.extend(result_list)\n",
    "    except:\n",
    "        fail_list.append(image_name)"
   ]
  },
  {
   "cell_type": "code",
   "execution_count": null,
   "metadata": {},
   "outputs": [
    {
     "data": {
      "text/plain": [
       "[{'store_id': '8820',\n",
       "  'bbox': [[140, 12], [406, 12], [406, 84], [140, 84]],\n",
       "  'text': 'aqnin Jefi(startan}',\n",
       "  'confidence': 0.03974152903380266},\n",
       " {'store_id': '8820',\n",
       "  'bbox': [[479, 5], [555, 5], [555, 47], [479, 47]],\n",
       "  'text': \"Yawn'\",\n",
       "  'confidence': 0.1680570282052639},\n",
       " {'store_id': '8820',\n",
       "  'bbox': [[10, 120], [154, 120], [154, 150], [10, 150]],\n",
       "  'text': 'Restaurant',\n",
       "  'confidence': 0.5309825321848393},\n",
       " {'store_id': '8820',\n",
       "  'bbox': [[0, 148], [58, 148], [58, 178], [0, 178]],\n",
       "  'text': 'Tau.',\n",
       "  'confidence': 0.3277907967567444},\n",
       " {'store_id': '8820',\n",
       "  'bbox': [[221, 151], [486, 151], [486, 191], [221, 191]],\n",
       "  'text': 'Tia1& w191 69a11n3',\n",
       "  'confidence': 0.04889369962496441},\n",
       " {'store_id': '8820',\n",
       "  'bbox': [[517, 155], [721, 155], [721, 193], [517, 193]],\n",
       "  'text': 'WashUp J*Jww',\n",
       "  'confidence': 0.3166662469437643},\n",
       " {'store_id': '8820',\n",
       "  'bbox': [[967, 231], [1191, 231], [1191, 269], [967, 269]],\n",
       "  'text': 'Smartcondo inD',\n",
       "  'confidence': 0.9265761041527049},\n",
       " {'store_id': '8820',\n",
       "  'bbox': [[536, 368], [600, 368], [600, 398], [536, 398]],\n",
       "  'text': 'ATM',\n",
       "  'confidence': 0.999950858743764},\n",
       " {'store_id': '8820',\n",
       "  'bbox': [[598, 360], [747, 360], [747, 409], [598, 409]],\n",
       "  'text': '517013n71',\n",
       "  'confidence': 0.10906583660865668},\n",
       " {'store_id': '8820',\n",
       "  'bbox': [[239, 393], [419, 393], [419, 431], [239, 431]],\n",
       "  'text': 'Angelic Clinic',\n",
       "  'confidence': 0.9998167526853757}]"
      ]
     },
     "execution_count": 14,
     "metadata": {},
     "output_type": "execute_result"
    }
   ],
   "source": [
    "all_store_list[:10]"
   ]
  },
  {
   "cell_type": "code",
   "execution_count": null,
   "metadata": {},
   "outputs": [
    {
     "data": {
      "text/html": [
       "<div>\n",
       "<style scoped>\n",
       "    .dataframe tbody tr th:only-of-type {\n",
       "        vertical-align: middle;\n",
       "    }\n",
       "\n",
       "    .dataframe tbody tr th {\n",
       "        vertical-align: top;\n",
       "    }\n",
       "\n",
       "    .dataframe thead th {\n",
       "        text-align: right;\n",
       "    }\n",
       "</style>\n",
       "<table border=\"1\" class=\"dataframe\">\n",
       "  <thead>\n",
       "    <tr style=\"text-align: right;\">\n",
       "      <th></th>\n",
       "      <th>store_id</th>\n",
       "      <th>bbox</th>\n",
       "      <th>text</th>\n",
       "      <th>confidence</th>\n",
       "    </tr>\n",
       "  </thead>\n",
       "  <tbody>\n",
       "    <tr>\n",
       "      <th>0</th>\n",
       "      <td>8820</td>\n",
       "      <td>[[140, 12], [406, 12], [406, 84], [140, 84]]</td>\n",
       "      <td>aqnin Jefi(startan}</td>\n",
       "      <td>0.039742</td>\n",
       "    </tr>\n",
       "    <tr>\n",
       "      <th>1</th>\n",
       "      <td>8820</td>\n",
       "      <td>[[479, 5], [555, 5], [555, 47], [479, 47]]</td>\n",
       "      <td>Yawn'</td>\n",
       "      <td>0.168057</td>\n",
       "    </tr>\n",
       "    <tr>\n",
       "      <th>2</th>\n",
       "      <td>8820</td>\n",
       "      <td>[[10, 120], [154, 120], [154, 150], [10, 150]]</td>\n",
       "      <td>Restaurant</td>\n",
       "      <td>0.530983</td>\n",
       "    </tr>\n",
       "    <tr>\n",
       "      <th>3</th>\n",
       "      <td>8820</td>\n",
       "      <td>[[0, 148], [58, 148], [58, 178], [0, 178]]</td>\n",
       "      <td>Tau.</td>\n",
       "      <td>0.327791</td>\n",
       "    </tr>\n",
       "    <tr>\n",
       "      <th>4</th>\n",
       "      <td>8820</td>\n",
       "      <td>[[221, 151], [486, 151], [486, 191], [221, 191]]</td>\n",
       "      <td>Tia1&amp; w191 69a11n3</td>\n",
       "      <td>0.048894</td>\n",
       "    </tr>\n",
       "  </tbody>\n",
       "</table>\n",
       "</div>"
      ],
      "text/plain": [
       "  store_id                                              bbox  \\\n",
       "0     8820      [[140, 12], [406, 12], [406, 84], [140, 84]]   \n",
       "1     8820        [[479, 5], [555, 5], [555, 47], [479, 47]]   \n",
       "2     8820    [[10, 120], [154, 120], [154, 150], [10, 150]]   \n",
       "3     8820        [[0, 148], [58, 148], [58, 178], [0, 178]]   \n",
       "4     8820  [[221, 151], [486, 151], [486, 191], [221, 191]]   \n",
       "\n",
       "                  text  confidence  \n",
       "0  aqnin Jefi(startan}    0.039742  \n",
       "1                Yawn'    0.168057  \n",
       "2           Restaurant    0.530983  \n",
       "3                 Tau.    0.327791  \n",
       "4   Tia1& w191 69a11n3    0.048894  "
      ]
     },
     "execution_count": 15,
     "metadata": {},
     "output_type": "execute_result"
    }
   ],
   "source": [
    "# convert to dataframe\n",
    "import pandas as pd\n",
    "\n",
    "df = pd.DataFrame(all_store_list)\n",
    "df.head()"
   ]
  },
  {
   "cell_type": "code",
   "execution_count": null,
   "metadata": {},
   "outputs": [],
   "source": [
    "# save df to csv\n",
    "df.to_csv(os.path.join(main_folder, \"ocr_output.csv\"), index=False)"
   ]
  },
  {
   "cell_type": "code",
   "execution_count": null,
   "metadata": {},
   "outputs": [],
   "source": [
    "# save fail list as json\n",
    "import json\n",
    "\n",
    "with open(os.path.join(main_folder, \"fail_list.json\"), \"w\") as f:\n",
    "    json.dump(fail_list, f)"
   ]
  }
 ],
 "metadata": {
  "kernelspec": {
   "display_name": "base",
   "language": "python",
   "name": "python3"
  },
  "language_info": {
   "codemirror_mode": {
    "name": "ipython",
    "version": 3
   },
   "file_extension": ".py",
   "mimetype": "text/x-python",
   "name": "python",
   "nbconvert_exporter": "python",
   "pygments_lexer": "ipython3",
   "version": "3.11.5"
  }
 },
 "nbformat": 4,
 "nbformat_minor": 2
}
