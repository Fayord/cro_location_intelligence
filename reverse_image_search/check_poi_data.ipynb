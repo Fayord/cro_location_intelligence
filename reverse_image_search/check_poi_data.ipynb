{
 "cells": [
  {
   "cell_type": "code",
   "execution_count": 118,
   "metadata": {},
   "outputs": [],
   "source": [
    "import pandas as pd\n",
    "import time\n",
    "\n",
    "start_time = time.time()"
   ]
  },
  {
   "cell_type": "code",
   "execution_count": 119,
   "metadata": {},
   "outputs": [],
   "source": [
    "DEBUG = False\n",
    "# DEBUG = True"
   ]
  },
  {
   "cell_type": "code",
   "execution_count": 120,
   "metadata": {},
   "outputs": [],
   "source": [
    "poi_path = \"/Users/user/Documents/Coding/cro_location_intelligence/reverse_image_search/all_pois 1.feather\""
   ]
  },
  {
   "cell_type": "code",
   "execution_count": 121,
   "metadata": {},
   "outputs": [
    {
     "data": {
      "text/html": [
       "<div>\n",
       "<style scoped>\n",
       "    .dataframe tbody tr th:only-of-type {\n",
       "        vertical-align: middle;\n",
       "    }\n",
       "\n",
       "    .dataframe tbody tr th {\n",
       "        vertical-align: top;\n",
       "    }\n",
       "\n",
       "    .dataframe thead th {\n",
       "        text-align: right;\n",
       "    }\n",
       "</style>\n",
       "<table border=\"1\" class=\"dataframe\">\n",
       "  <thead>\n",
       "    <tr style=\"text-align: right;\">\n",
       "      <th></th>\n",
       "      <th>index</th>\n",
       "      <th>sub_code_name</th>\n",
       "      <th>namt</th>\n",
       "      <th>latitude</th>\n",
       "      <th>longitude</th>\n",
       "      <th>last_edited_date</th>\n",
       "      <th>db_date</th>\n",
       "      <th>type</th>\n",
       "    </tr>\n",
       "  </thead>\n",
       "  <tbody>\n",
       "    <tr>\n",
       "      <th>0</th>\n",
       "      <td>0</td>\n",
       "      <td>จุดข้ามถนน</td>\n",
       "      <td>None</td>\n",
       "      <td>7.959148</td>\n",
       "      <td>98.383732</td>\n",
       "      <td>2019-03-15 04:17:25</td>\n",
       "      <td>2023-08-21</td>\n",
       "      <td>cross_street</td>\n",
       "    </tr>\n",
       "    <tr>\n",
       "      <th>1</th>\n",
       "      <td>1</td>\n",
       "      <td>จุดข้ามถนน</td>\n",
       "      <td>None</td>\n",
       "      <td>15.719866</td>\n",
       "      <td>100.099756</td>\n",
       "      <td>2019-03-15 04:17:25</td>\n",
       "      <td>2023-08-21</td>\n",
       "      <td>cross_street</td>\n",
       "    </tr>\n",
       "    <tr>\n",
       "      <th>2</th>\n",
       "      <td>2</td>\n",
       "      <td>จุดข้ามถนน</td>\n",
       "      <td>ถ.นครสวรรค์ ต.ตลาด อ.เมือง จ.ร้อยเอ็ด</td>\n",
       "      <td>16.184609</td>\n",
       "      <td>103.303293</td>\n",
       "      <td>2019-03-15 04:17:25</td>\n",
       "      <td>2023-08-21</td>\n",
       "      <td>cross_street</td>\n",
       "    </tr>\n",
       "    <tr>\n",
       "      <th>3</th>\n",
       "      <td>3</td>\n",
       "      <td>จุดข้ามถนน</td>\n",
       "      <td>None</td>\n",
       "      <td>12.665852</td>\n",
       "      <td>101.297993</td>\n",
       "      <td>2019-03-15 04:17:25</td>\n",
       "      <td>2023-08-21</td>\n",
       "      <td>cross_street</td>\n",
       "    </tr>\n",
       "    <tr>\n",
       "      <th>4</th>\n",
       "      <td>4</td>\n",
       "      <td>จุดข้ามถนน</td>\n",
       "      <td>None</td>\n",
       "      <td>13.563442</td>\n",
       "      <td>100.532670</td>\n",
       "      <td>2019-03-30 01:30:14</td>\n",
       "      <td>2023-08-21</td>\n",
       "      <td>cross_street</td>\n",
       "    </tr>\n",
       "  </tbody>\n",
       "</table>\n",
       "</div>"
      ],
      "text/plain": [
       "   index sub_code_name                                   namt   latitude  \\\n",
       "0      0    จุดข้ามถนน                                   None   7.959148   \n",
       "1      1    จุดข้ามถนน                                   None  15.719866   \n",
       "2      2    จุดข้ามถนน  ถ.นครสวรรค์ ต.ตลาด อ.เมือง จ.ร้อยเอ็ด  16.184609   \n",
       "3      3    จุดข้ามถนน                                   None  12.665852   \n",
       "4      4    จุดข้ามถนน                                   None  13.563442   \n",
       "\n",
       "    longitude     last_edited_date     db_date          type  \n",
       "0   98.383732  2019-03-15 04:17:25  2023-08-21  cross_street  \n",
       "1  100.099756  2019-03-15 04:17:25  2023-08-21  cross_street  \n",
       "2  103.303293  2019-03-15 04:17:25  2023-08-21  cross_street  \n",
       "3  101.297993  2019-03-15 04:17:25  2023-08-21  cross_street  \n",
       "4  100.532670  2019-03-30 01:30:14  2023-08-21  cross_street  "
      ]
     },
     "execution_count": 121,
     "metadata": {},
     "output_type": "execute_result"
    }
   ],
   "source": [
    "poi_df = pd.read_feather(poi_path)\n",
    "poi_df.head()"
   ]
  },
  {
   "cell_type": "code",
   "execution_count": 122,
   "metadata": {},
   "outputs": [
    {
     "data": {
      "text/plain": [
       "(1645243, 8)"
      ]
     },
     "execution_count": 122,
     "metadata": {},
     "output_type": "execute_result"
    }
   ],
   "source": [
    "poi_df.shape"
   ]
  },
  {
   "cell_type": "code",
   "execution_count": null,
   "metadata": {},
   "outputs": [],
   "source": []
  },
  {
   "cell_type": "code",
   "execution_count": 123,
   "metadata": {},
   "outputs": [
    {
     "data": {
      "text/plain": [
       "low_rise_residential_area    469741\n",
       "office_building              347488\n",
       "entertainment_area           194019\n",
       "government_area              133933\n",
       "entry_point                  127576\n",
       "high_rise_residential        101419\n",
       "education_area                72860\n",
       "healthcare_centers            57059\n",
       "industrial_area               38241\n",
       "housing_residential_area      29275\n",
       "tourism_area                  23096\n",
       "gas_stations                  21191\n",
       "competitors                   14740\n",
       "market_area                   10978\n",
       "public_transportation          2375\n",
       "transportation_center          1208\n",
       "utern                            23\n",
       "cross_street                     21\n",
       "Name: type, dtype: int64"
      ]
     },
     "execution_count": 123,
     "metadata": {},
     "output_type": "execute_result"
    }
   ],
   "source": [
    "poi_df.type.value_counts()"
   ]
  },
  {
   "cell_type": "code",
   "execution_count": 175,
   "metadata": {},
   "outputs": [
    {
     "data": {
      "text/plain": [
       "['low_rise_residential_area',\n",
       " 'office_building',\n",
       " 'entertainment_area',\n",
       " 'government_area',\n",
       " 'entry_point',\n",
       " 'high_rise_residential',\n",
       " 'education_area',\n",
       " 'healthcare_centers',\n",
       " 'industrial_area',\n",
       " 'housing_residential_area',\n",
       " 'tourism_area',\n",
       " 'gas_stations',\n",
       " 'competitors',\n",
       " 'market_area',\n",
       " 'public_transportation',\n",
       " 'transportation_center',\n",
       " 'utern',\n",
       " 'cross_street']"
      ]
     },
     "execution_count": 175,
     "metadata": {},
     "output_type": "execute_result"
    }
   ],
   "source": [
    "poi_df.type.value_counts().keys().to_list()"
   ]
  },
  {
   "cell_type": "code",
   "execution_count": 124,
   "metadata": {},
   "outputs": [
    {
     "data": {
      "text/plain": [
       "low_rise_residential_area    469741\n",
       "office_building              347488\n",
       "entertainment_area           194019\n",
       "government_area              133933\n",
       "entry_point                  127576\n",
       "high_rise_residential        101419\n",
       "education_area                72860\n",
       "healthcare_centers            57059\n",
       "industrial_area               38241\n",
       "housing_residential_area      29275\n",
       "tourism_area                  23096\n",
       "gas_stations                  21191\n",
       "competitors                   14740\n",
       "market_area                   10978\n",
       "public_transportation          2375\n",
       "transportation_center          1208\n",
       "utern                            23\n",
       "cross_street                     21\n",
       "Name: type, dtype: int64"
      ]
     },
     "execution_count": 124,
     "metadata": {},
     "output_type": "execute_result"
    }
   ],
   "source": [
    "value_count_poi_type = poi_df.type.value_counts()\n",
    "value_count_poi_type"
   ]
  },
  {
   "cell_type": "code",
   "execution_count": 125,
   "metadata": {},
   "outputs": [],
   "source": [
    "value_count_sub_code_name = poi_df.sub_code_name.value_counts()"
   ]
  },
  {
   "cell_type": "code",
   "execution_count": 126,
   "metadata": {},
   "outputs": [
    {
     "data": {
      "text/plain": [
       "ประตูทางเข้า-ออก               127576\n",
       "บริษัท...จำกัด อื่น ๆ          125497\n",
       "สวนอาหาร/ภัตตาคาร/ร้านอาหาร    123926\n",
       "อาคารสำนักงานให้เช่า            46512\n",
       "วัด                             46037\n",
       "                                ...  \n",
       "สถานบันเทิงตอนกลางคืน               1\n",
       "สถานีบริการน้ำมันโมบิล              1\n",
       "สถานีบริการน้ำมันบีพี               1\n",
       "โชว์รูมจากัวร์                      1\n",
       "โชว์รูมเฟียต                        1\n",
       "Name: sub_code_name, Length: 451, dtype: int64"
      ]
     },
     "execution_count": 126,
     "metadata": {},
     "output_type": "execute_result"
    }
   ],
   "source": [
    "value_count_sub_code_name"
   ]
  },
  {
   "cell_type": "code",
   "execution_count": 127,
   "metadata": {},
   "outputs": [
    {
     "data": {
      "text/plain": [
       "ประตูทางเข้า-ออก                          127576\n",
       "บริษัท...จำกัด อื่น ๆ                     125497\n",
       "สวนอาหาร/ภัตตาคาร/ร้านอาหาร               123926\n",
       "อาคารสำนักงานให้เช่า                       46512\n",
       "วัด                                        46037\n",
       "                                           ...  \n",
       "ยาโยอิ                                       106\n",
       "Coffee World                                 106\n",
       "สวนสัตว์/ฟาร์มจระเข้/Aquarium                104\n",
       "โรงไฟฟ้า การไฟฟ้าฝ่ายผลิตแห่งประเทศไทย       102\n",
       "ธนาคารอิสลามแห่งประเทศไทย                    102\n",
       "Name: sub_code_name, Length: 275, dtype: int64"
      ]
     },
     "execution_count": 127,
     "metadata": {},
     "output_type": "execute_result"
    }
   ],
   "source": [
    "# count value that > 10\n",
    "value_count_sub_code_name[value_count_sub_code_name > 100]"
   ]
  },
  {
   "cell_type": "code",
   "execution_count": 128,
   "metadata": {},
   "outputs": [
    {
     "data": {
      "text/html": [
       "<div>\n",
       "<style scoped>\n",
       "    .dataframe tbody tr th:only-of-type {\n",
       "        vertical-align: middle;\n",
       "    }\n",
       "\n",
       "    .dataframe tbody tr th {\n",
       "        vertical-align: top;\n",
       "    }\n",
       "\n",
       "    .dataframe thead th {\n",
       "        text-align: right;\n",
       "    }\n",
       "</style>\n",
       "<table border=\"1\" class=\"dataframe\">\n",
       "  <thead>\n",
       "    <tr style=\"text-align: right;\">\n",
       "      <th></th>\n",
       "      <th>store_id</th>\n",
       "      <th>prov_namt</th>\n",
       "      <th>latitude</th>\n",
       "      <th>longitude</th>\n",
       "    </tr>\n",
       "  </thead>\n",
       "  <tbody>\n",
       "    <tr>\n",
       "      <th>0</th>\n",
       "      <td>1025</td>\n",
       "      <td>กรุงเทพมหานคร</td>\n",
       "      <td>13.838724</td>\n",
       "      <td>100.575318</td>\n",
       "    </tr>\n",
       "    <tr>\n",
       "      <th>1</th>\n",
       "      <td>1026</td>\n",
       "      <td>ปทุมธานี</td>\n",
       "      <td>14.036545</td>\n",
       "      <td>100.733520</td>\n",
       "    </tr>\n",
       "    <tr>\n",
       "      <th>2</th>\n",
       "      <td>1028</td>\n",
       "      <td>ตรัง</td>\n",
       "      <td>7.567873</td>\n",
       "      <td>99.614094</td>\n",
       "    </tr>\n",
       "    <tr>\n",
       "      <th>3</th>\n",
       "      <td>1032</td>\n",
       "      <td>กรุงเทพมหานคร</td>\n",
       "      <td>13.719625</td>\n",
       "      <td>100.442061</td>\n",
       "    </tr>\n",
       "    <tr>\n",
       "      <th>4</th>\n",
       "      <td>1033</td>\n",
       "      <td>กรุงเทพมหานคร</td>\n",
       "      <td>13.768390</td>\n",
       "      <td>100.721288</td>\n",
       "    </tr>\n",
       "    <tr>\n",
       "      <th>...</th>\n",
       "      <td>...</td>\n",
       "      <td>...</td>\n",
       "      <td>...</td>\n",
       "      <td>...</td>\n",
       "    </tr>\n",
       "    <tr>\n",
       "      <th>11113</th>\n",
       "      <td>18470</td>\n",
       "      <td>ภูเก็ต</td>\n",
       "      <td>7.769669</td>\n",
       "      <td>98.315506</td>\n",
       "    </tr>\n",
       "    <tr>\n",
       "      <th>11114</th>\n",
       "      <td>18547</td>\n",
       "      <td>ระยอง</td>\n",
       "      <td>12.702336</td>\n",
       "      <td>101.268396</td>\n",
       "    </tr>\n",
       "    <tr>\n",
       "      <th>11115</th>\n",
       "      <td>18604</td>\n",
       "      <td>นครนายก</td>\n",
       "      <td>14.109885</td>\n",
       "      <td>101.018226</td>\n",
       "    </tr>\n",
       "    <tr>\n",
       "      <th>11116</th>\n",
       "      <td>18560</td>\n",
       "      <td>ร้อยเอ็ด</td>\n",
       "      <td>16.031557</td>\n",
       "      <td>103.946226</td>\n",
       "    </tr>\n",
       "    <tr>\n",
       "      <th>11117</th>\n",
       "      <td>18517</td>\n",
       "      <td>สุราษฎร์ธานี</td>\n",
       "      <td>9.558454</td>\n",
       "      <td>100.032172</td>\n",
       "    </tr>\n",
       "  </tbody>\n",
       "</table>\n",
       "<p>11118 rows × 4 columns</p>\n",
       "</div>"
      ],
      "text/plain": [
       "       store_id      prov_namt   latitude   longitude\n",
       "0          1025  กรุงเทพมหานคร  13.838724  100.575318\n",
       "1          1026       ปทุมธานี  14.036545  100.733520\n",
       "2          1028           ตรัง   7.567873   99.614094\n",
       "3          1032  กรุงเทพมหานคร  13.719625  100.442061\n",
       "4          1033  กรุงเทพมหานคร  13.768390  100.721288\n",
       "...         ...            ...        ...         ...\n",
       "11113     18470         ภูเก็ต   7.769669   98.315506\n",
       "11114     18547          ระยอง  12.702336  101.268396\n",
       "11115     18604        นครนายก  14.109885  101.018226\n",
       "11116     18560       ร้อยเอ็ด  16.031557  103.946226\n",
       "11117     18517   สุราษฎร์ธานี   9.558454  100.032172\n",
       "\n",
       "[11118 rows x 4 columns]"
      ]
     },
     "execution_count": 128,
     "metadata": {},
     "output_type": "execute_result"
    }
   ],
   "source": [
    "seven_eleven_location_path = \"/Users/user/Documents/Coding/cro_location_intelligence/reverse_image_search/7-11 Location for Ford.xlsx\"\n",
    "seven_eleven_location_df = pd.read_excel(seven_eleven_location_path)\n",
    "seven_eleven_location_df"
   ]
  },
  {
   "cell_type": "code",
   "execution_count": 129,
   "metadata": {},
   "outputs": [],
   "source": [
    "desired_dist = 1000  # in meters\n",
    "from geopy import distance\n",
    "\n",
    "coords_i = (13.719625, 100.442061)\n",
    "coords_j = (13.768390, 100.721288)\n",
    "D_ij = distance.geodesic(coords_i, coords_j).km"
   ]
  },
  {
   "cell_type": "code",
   "execution_count": 130,
   "metadata": {},
   "outputs": [
    {
     "data": {
      "text/plain": [
       "30.67725213217945"
      ]
     },
     "execution_count": 130,
     "metadata": {},
     "output_type": "execute_result"
    }
   ],
   "source": [
    "D_ij"
   ]
  },
  {
   "cell_type": "code",
   "execution_count": 131,
   "metadata": {},
   "outputs": [
    {
     "data": {
      "text/plain": [
       "Index(['ประตูทางเข้า-ออก', 'บริษัท...จำกัด อื่น ๆ',\n",
       "       'สวนอาหาร/ภัตตาคาร/ร้านอาหาร', 'อาคารสำนักงานให้เช่า', 'วัด',\n",
       "       'โรงเรียนสามัญ', 'เสริมสวย ความงาม และนวดเพื่อสุขภาพ', 'ร้านค้าอื่น ๆ',\n",
       "       'ร้านกาแฟ ไอศครีมและเบอร์เกอรี่อื่นๆ',\n",
       "       'อุปกรณ์ตกแต่งบ้าน อุปกรณ์ก่อสร้าง',\n",
       "       ...\n",
       "       'จอย', 'UMG Cineplex', 'ศูนย์การขนส่งสินค้า', 'โชว์รูมออดี้',\n",
       "       'ธนาคารสแตนดาร์ดชาร์เตอร์ด (ไทย)', 'สถานบันเทิงตอนกลางคืน',\n",
       "       'สถานีบริการน้ำมันโมบิล', 'สถานีบริการน้ำมันบีพี', 'โชว์รูมจากัวร์',\n",
       "       'โชว์รูมเฟียต'],\n",
       "      dtype='object', length=451)"
      ]
     },
     "execution_count": 131,
     "metadata": {},
     "output_type": "execute_result"
    }
   ],
   "source": [
    "value_count_sub_code_name.keys()"
   ]
  },
  {
   "cell_type": "code",
   "execution_count": 132,
   "metadata": {},
   "outputs": [],
   "source": [
    "interest_poi_gdf = poi_df.copy()\n",
    "seven_eleven_location_gdf = seven_eleven_location_df.copy()\n",
    "import geopandas as gpd\n",
    "from shapely.geometry import Point\n",
    "\n",
    "# make it geodataframe then plot lat lon on map with 500m radius\n",
    "seven_eleven_location_gdf = gpd.GeoDataFrame(\n",
    "    seven_eleven_location_gdf,\n",
    "    geometry=gpd.points_from_xy(\n",
    "        seven_eleven_location_gdf.longitude, seven_eleven_location_gdf.latitude\n",
    "    ),\n",
    ")\n",
    "# draw it on map\n",
    "# buffer it 500m\n",
    "import pyproj\n",
    "\n",
    "# Assuming seven_eleven_location_gdf is your GeoDataFrame with latitude and longitude\n",
    "\n",
    "# Create a GeoDataFrame with Point geometries\n",
    "geometry = [\n",
    "    Point(xy)\n",
    "    for xy in zip(\n",
    "        seven_eleven_location_gdf[\"longitude\"], seven_eleven_location_gdf[\"latitude\"]\n",
    "    )\n",
    "]\n",
    "seven_eleven_location_gdf = gpd.GeoDataFrame(\n",
    "    seven_eleven_location_gdf, geometry=geometry, crs=\"EPSG:4326\"\n",
    ")\n",
    "\n",
    "# Reproject to UTM zone 47N\n",
    "seven_eleven_location_gdf = seven_eleven_location_gdf.to_crs(\"EPSG:32647\")\n",
    "\n",
    "# Buffer with 500 meters\n",
    "buffer_size = 500\n",
    "seven_eleven_location_gdf[\"geometry\"] = seven_eleven_location_gdf[\"geometry\"].buffer(\n",
    "    buffer_size\n",
    ")\n",
    "\n",
    "# Optionally, reproject back to WGS84 if needed\n",
    "seven_eleven_location_gdf = seven_eleven_location_gdf.to_crs(\"EPSG:4326\")"
   ]
  },
  {
   "cell_type": "code",
   "execution_count": 133,
   "metadata": {},
   "outputs": [],
   "source": [
    "import geopandas as gpd\n",
    "from shapely.geometry import Point\n",
    "\n",
    "# Assuming interest_poi_gdf is your GeoDataFrame with latitude and longitude\n",
    "\n",
    "# Create a GeoDataFrame with Point geometries\n",
    "geometry_poi = [\n",
    "    Point(xy) for xy in zip(interest_poi_gdf[\"longitude\"], interest_poi_gdf[\"latitude\"])\n",
    "]\n",
    "interest_poi_gdf = gpd.GeoDataFrame(\n",
    "    interest_poi_gdf, geometry=geometry_poi, crs=\"EPSG:4326\"\n",
    ")\n",
    "\n",
    "# Reproject to UTM zone 47N\n",
    "interest_poi_gdf = interest_poi_gdf.to_crs(\"EPSG:32647\")\n",
    "\n",
    "# Optionally, reproject back to WGS84 if needed\n",
    "interest_poi_gdf = interest_poi_gdf.to_crs(\"EPSG:4326\")\n",
    "\n",
    "# Now, interest_poi_gdf contains a Point geometry column\n",
    "\n",
    "# Now, seven_eleven_location_gdf contains a buffer column with 500-meter buffers"
   ]
  },
  {
   "cell_type": "code",
   "execution_count": 134,
   "metadata": {},
   "outputs": [],
   "source": [
    "if DEBUG:\n",
    "    interest_poi_gdf[:100].explore()"
   ]
  },
  {
   "cell_type": "code",
   "execution_count": 135,
   "metadata": {},
   "outputs": [],
   "source": [
    "if DEBUG:\n",
    "    seven_eleven_location_gdf[:100].explore()"
   ]
  },
  {
   "cell_type": "code",
   "execution_count": 136,
   "metadata": {},
   "outputs": [],
   "source": [
    "# Merge the buffer polygons\n",
    "merged_buffer = seven_eleven_location_gdf.unary_union\n",
    "\n",
    "# Intersect the merged buffer with the points of interest\n",
    "\n",
    "# Optional: You can keep only the columns you need in the result\n",
    "# result = result[[\"your_desired_columns\"]]"
   ]
  },
  {
   "cell_type": "code",
   "execution_count": 137,
   "metadata": {},
   "outputs": [],
   "source": [
    "# create it with 1 single buffer\n",
    "merged_gdf = gpd.GeoDataFrame(  # create a geodataframe\n",
    "    geometry=gpd.GeoSeries(merged_buffer), crs=\"EPSG:4326\"\n",
    ")\n",
    "# merged_gdf"
   ]
  },
  {
   "cell_type": "code",
   "execution_count": 138,
   "metadata": {},
   "outputs": [],
   "source": [
    "if DEBUG:\n",
    "    merged_gdf.explore()"
   ]
  },
  {
   "cell_type": "code",
   "execution_count": 139,
   "metadata": {},
   "outputs": [
    {
     "name": "stderr",
     "output_type": "stream",
     "text": [
      "/Users/user/miniconda3/lib/python3.11/site-packages/IPython/core/interactiveshell.py:3466: FutureWarning: The `op` parameter is deprecated and will be removed in a future release. Please use the `predicate` parameter instead.\n",
      "  if await self.run_code(code, result, async_=asy):\n"
     ]
    }
   ],
   "source": [
    "result = gpd.sjoin(interest_poi_gdf, merged_gdf, op=\"intersects\", how=\"inner\")\n",
    "# remove right index\n",
    "result = result.drop(columns=[\"index_right\"])\n",
    "interest_poi_gdf = result"
   ]
  },
  {
   "cell_type": "code",
   "execution_count": 140,
   "metadata": {},
   "outputs": [],
   "source": [
    "# if DEBUG:\n",
    "\n",
    "# result[:len(result)//5].explore()"
   ]
  },
  {
   "cell_type": "code",
   "execution_count": null,
   "metadata": {},
   "outputs": [],
   "source": []
  },
  {
   "cell_type": "code",
   "execution_count": 141,
   "metadata": {},
   "outputs": [
    {
     "name": "stderr",
     "output_type": "stream",
     "text": [
      "/Users/user/miniconda3/lib/python3.11/site-packages/IPython/core/interactiveshell.py:3466: FutureWarning: The `op` parameter is deprecated and will be removed in a future release. Please use the `predicate` parameter instead.\n",
      "  if await self.run_code(code, result, async_=asy):\n"
     ]
    }
   ],
   "source": [
    "count_poi_result = gpd.sjoin(\n",
    "    seven_eleven_location_gdf, interest_poi_gdf, op=\"intersects\", how=\"inner\"\n",
    ")"
   ]
  },
  {
   "cell_type": "code",
   "execution_count": 142,
   "metadata": {},
   "outputs": [
    {
     "data": {
      "text/plain": [
       "Index(['store_id', 'prov_namt', 'latitude_left', 'longitude_left', 'geometry',\n",
       "       'index_right', 'index', 'sub_code_name', 'namt', 'latitude_right',\n",
       "       'longitude_right', 'last_edited_date', 'db_date', 'type'],\n",
       "      dtype='object')"
      ]
     },
     "execution_count": 142,
     "metadata": {},
     "output_type": "execute_result"
    }
   ],
   "source": [
    "count_poi_result.columns"
   ]
  },
  {
   "cell_type": "code",
   "execution_count": 143,
   "metadata": {},
   "outputs": [
    {
     "name": "stdout",
     "output_type": "stream",
     "text": [
      "count_poi_result.shape\t\t (2480271, 14)\n",
      "seven_eleven_location_gdf\t (11118, 5)\n",
      "interest_poi_gdf\t\t (807612, 9)\n"
     ]
    }
   ],
   "source": [
    "print(\"count_poi_result.shape\\t\\t\", count_poi_result.shape)\n",
    "print(\"seven_eleven_location_gdf\\t\", seven_eleven_location_gdf.shape)\n",
    "print(\"interest_poi_gdf\\t\\t\", interest_poi_gdf.shape)"
   ]
  },
  {
   "cell_type": "code",
   "execution_count": 144,
   "metadata": {},
   "outputs": [
    {
     "data": {
      "text/html": [
       "<div>\n",
       "<style scoped>\n",
       "    .dataframe tbody tr th:only-of-type {\n",
       "        vertical-align: middle;\n",
       "    }\n",
       "\n",
       "    .dataframe tbody tr th {\n",
       "        vertical-align: top;\n",
       "    }\n",
       "\n",
       "    .dataframe thead th {\n",
       "        text-align: right;\n",
       "    }\n",
       "</style>\n",
       "<table border=\"1\" class=\"dataframe\">\n",
       "  <thead>\n",
       "    <tr style=\"text-align: right;\">\n",
       "      <th></th>\n",
       "      <th>store_id</th>\n",
       "      <th>prov_namt</th>\n",
       "      <th>latitude_left</th>\n",
       "      <th>longitude_left</th>\n",
       "      <th>geometry</th>\n",
       "      <th>index_right</th>\n",
       "      <th>index</th>\n",
       "      <th>sub_code_name</th>\n",
       "      <th>namt</th>\n",
       "      <th>latitude_right</th>\n",
       "      <th>longitude_right</th>\n",
       "      <th>last_edited_date</th>\n",
       "      <th>db_date</th>\n",
       "      <th>type</th>\n",
       "    </tr>\n",
       "  </thead>\n",
       "  <tbody>\n",
       "    <tr>\n",
       "      <th>0</th>\n",
       "      <td>1025</td>\n",
       "      <td>กรุงเทพมหานคร</td>\n",
       "      <td>13.838724</td>\n",
       "      <td>100.575318</td>\n",
       "      <td>POLYGON ((100.57994 13.83869, 100.57992 13.838...</td>\n",
       "      <td>13288</td>\n",
       "      <td>13273</td>\n",
       "      <td>ลอว์สัน 108</td>\n",
       "      <td>ลอว์สัน 108</td>\n",
       "      <td>13.834346</td>\n",
       "      <td>100.576416</td>\n",
       "      <td>2022-06-11 02:06:19</td>\n",
       "      <td>2023-08-21</td>\n",
       "      <td>competitors</td>\n",
       "    </tr>\n",
       "    <tr>\n",
       "      <th>1430</th>\n",
       "      <td>3929</td>\n",
       "      <td>กรุงเทพมหานคร</td>\n",
       "      <td>13.838349</td>\n",
       "      <td>100.574557</td>\n",
       "      <td>POLYGON ((100.57918 13.83832, 100.57916 13.837...</td>\n",
       "      <td>13288</td>\n",
       "      <td>13273</td>\n",
       "      <td>ลอว์สัน 108</td>\n",
       "      <td>ลอว์สัน 108</td>\n",
       "      <td>13.834346</td>\n",
       "      <td>100.576416</td>\n",
       "      <td>2022-06-11 02:06:19</td>\n",
       "      <td>2023-08-21</td>\n",
       "      <td>competitors</td>\n",
       "    </tr>\n",
       "    <tr>\n",
       "      <th>5733</th>\n",
       "      <td>10943</td>\n",
       "      <td>กรุงเทพมหานคร</td>\n",
       "      <td>13.833117</td>\n",
       "      <td>100.579088</td>\n",
       "      <td>POLYGON ((100.58371 13.83309, 100.58369 13.832...</td>\n",
       "      <td>13288</td>\n",
       "      <td>13273</td>\n",
       "      <td>ลอว์สัน 108</td>\n",
       "      <td>ลอว์สัน 108</td>\n",
       "      <td>13.834346</td>\n",
       "      <td>100.576416</td>\n",
       "      <td>2022-06-11 02:06:19</td>\n",
       "      <td>2023-08-21</td>\n",
       "      <td>competitors</td>\n",
       "    </tr>\n",
       "    <tr>\n",
       "      <th>5930</th>\n",
       "      <td>11220</td>\n",
       "      <td>กรุงเทพมหานคร</td>\n",
       "      <td>13.834497</td>\n",
       "      <td>100.572717</td>\n",
       "      <td>POLYGON ((100.57734 13.83447, 100.57732 13.834...</td>\n",
       "      <td>13288</td>\n",
       "      <td>13273</td>\n",
       "      <td>ลอว์สัน 108</td>\n",
       "      <td>ลอว์สัน 108</td>\n",
       "      <td>13.834346</td>\n",
       "      <td>100.576416</td>\n",
       "      <td>2022-06-11 02:06:19</td>\n",
       "      <td>2023-08-21</td>\n",
       "      <td>competitors</td>\n",
       "    </tr>\n",
       "    <tr>\n",
       "      <th>9111</th>\n",
       "      <td>16241</td>\n",
       "      <td>กรุงเทพมหานคร</td>\n",
       "      <td>13.834617</td>\n",
       "      <td>100.580956</td>\n",
       "      <td>POLYGON ((100.58558 13.83459, 100.58556 13.834...</td>\n",
       "      <td>13288</td>\n",
       "      <td>13273</td>\n",
       "      <td>ลอว์สัน 108</td>\n",
       "      <td>ลอว์สัน 108</td>\n",
       "      <td>13.834346</td>\n",
       "      <td>100.576416</td>\n",
       "      <td>2022-06-11 02:06:19</td>\n",
       "      <td>2023-08-21</td>\n",
       "      <td>competitors</td>\n",
       "    </tr>\n",
       "  </tbody>\n",
       "</table>\n",
       "</div>"
      ],
      "text/plain": [
       "      store_id      prov_namt  latitude_left  longitude_left  \\\n",
       "0         1025  กรุงเทพมหานคร      13.838724      100.575318   \n",
       "1430      3929  กรุงเทพมหานคร      13.838349      100.574557   \n",
       "5733     10943  กรุงเทพมหานคร      13.833117      100.579088   \n",
       "5930     11220  กรุงเทพมหานคร      13.834497      100.572717   \n",
       "9111     16241  กรุงเทพมหานคร      13.834617      100.580956   \n",
       "\n",
       "                                               geometry  index_right  index  \\\n",
       "0     POLYGON ((100.57994 13.83869, 100.57992 13.838...        13288  13273   \n",
       "1430  POLYGON ((100.57918 13.83832, 100.57916 13.837...        13288  13273   \n",
       "5733  POLYGON ((100.58371 13.83309, 100.58369 13.832...        13288  13273   \n",
       "5930  POLYGON ((100.57734 13.83447, 100.57732 13.834...        13288  13273   \n",
       "9111  POLYGON ((100.58558 13.83459, 100.58556 13.834...        13288  13273   \n",
       "\n",
       "     sub_code_name         namt  latitude_right  longitude_right  \\\n",
       "0      ลอว์สัน 108  ลอว์สัน 108       13.834346       100.576416   \n",
       "1430   ลอว์สัน 108  ลอว์สัน 108       13.834346       100.576416   \n",
       "5733   ลอว์สัน 108  ลอว์สัน 108       13.834346       100.576416   \n",
       "5930   ลอว์สัน 108  ลอว์สัน 108       13.834346       100.576416   \n",
       "9111   ลอว์สัน 108  ลอว์สัน 108       13.834346       100.576416   \n",
       "\n",
       "         last_edited_date     db_date         type  \n",
       "0     2022-06-11 02:06:19  2023-08-21  competitors  \n",
       "1430  2022-06-11 02:06:19  2023-08-21  competitors  \n",
       "5733  2022-06-11 02:06:19  2023-08-21  competitors  \n",
       "5930  2022-06-11 02:06:19  2023-08-21  competitors  \n",
       "9111  2022-06-11 02:06:19  2023-08-21  competitors  "
      ]
     },
     "execution_count": 144,
     "metadata": {},
     "output_type": "execute_result"
    }
   ],
   "source": [
    "count_poi_result.head()"
   ]
  },
  {
   "cell_type": "code",
   "execution_count": 145,
   "metadata": {},
   "outputs": [
    {
     "name": "stdout",
     "output_type": "stream",
     "text": [
      "0\n"
     ]
    },
    {
     "data": {
      "text/html": [
       "<div>\n",
       "<style scoped>\n",
       "    .dataframe tbody tr th:only-of-type {\n",
       "        vertical-align: middle;\n",
       "    }\n",
       "\n",
       "    .dataframe tbody tr th {\n",
       "        vertical-align: top;\n",
       "    }\n",
       "\n",
       "    .dataframe thead th {\n",
       "        text-align: right;\n",
       "    }\n",
       "</style>\n",
       "<table border=\"1\" class=\"dataframe\">\n",
       "  <thead>\n",
       "    <tr style=\"text-align: right;\">\n",
       "      <th></th>\n",
       "      <th>store_id</th>\n",
       "      <th>prov_namt</th>\n",
       "      <th>latitude</th>\n",
       "      <th>longitude</th>\n",
       "      <th>geometry</th>\n",
       "      <th>competitors</th>\n",
       "      <th>cross_street</th>\n",
       "      <th>education_area</th>\n",
       "      <th>entertainment_area</th>\n",
       "      <th>entry_point</th>\n",
       "      <th>...</th>\n",
       "      <th>high_rise_residential</th>\n",
       "      <th>housing_residential_area</th>\n",
       "      <th>industrial_area</th>\n",
       "      <th>low_rise_residential_area</th>\n",
       "      <th>market_area</th>\n",
       "      <th>office_building</th>\n",
       "      <th>public_transportation</th>\n",
       "      <th>tourism_area</th>\n",
       "      <th>transportation_center</th>\n",
       "      <th>utern</th>\n",
       "    </tr>\n",
       "  </thead>\n",
       "  <tbody>\n",
       "    <tr>\n",
       "      <th>0</th>\n",
       "      <td>1025</td>\n",
       "      <td>กรุงเทพมหานคร</td>\n",
       "      <td>13.838724</td>\n",
       "      <td>100.575318</td>\n",
       "      <td>POLYGON ((100.57994 13.83869, 100.57992 13.838...</td>\n",
       "      <td>7</td>\n",
       "      <td>0</td>\n",
       "      <td>10</td>\n",
       "      <td>171</td>\n",
       "      <td>15</td>\n",
       "      <td>...</td>\n",
       "      <td>74</td>\n",
       "      <td>1</td>\n",
       "      <td>0</td>\n",
       "      <td>209</td>\n",
       "      <td>4</td>\n",
       "      <td>88</td>\n",
       "      <td>17</td>\n",
       "      <td>5</td>\n",
       "      <td>0</td>\n",
       "      <td>0</td>\n",
       "    </tr>\n",
       "    <tr>\n",
       "      <th>1</th>\n",
       "      <td>1026</td>\n",
       "      <td>ปทุมธานี</td>\n",
       "      <td>14.036545</td>\n",
       "      <td>100.733520</td>\n",
       "      <td>POLYGON ((100.73815 14.03651, 100.73812 14.036...</td>\n",
       "      <td>8</td>\n",
       "      <td>0</td>\n",
       "      <td>11</td>\n",
       "      <td>86</td>\n",
       "      <td>3</td>\n",
       "      <td>...</td>\n",
       "      <td>89</td>\n",
       "      <td>3</td>\n",
       "      <td>0</td>\n",
       "      <td>165</td>\n",
       "      <td>4</td>\n",
       "      <td>32</td>\n",
       "      <td>0</td>\n",
       "      <td>1</td>\n",
       "      <td>0</td>\n",
       "      <td>0</td>\n",
       "    </tr>\n",
       "    <tr>\n",
       "      <th>2</th>\n",
       "      <td>1028</td>\n",
       "      <td>ตรัง</td>\n",
       "      <td>7.567873</td>\n",
       "      <td>99.614094</td>\n",
       "      <td>POLYGON ((99.61863 7.56787, 99.61860 7.56742, ...</td>\n",
       "      <td>1</td>\n",
       "      <td>0</td>\n",
       "      <td>19</td>\n",
       "      <td>32</td>\n",
       "      <td>3</td>\n",
       "      <td>...</td>\n",
       "      <td>5</td>\n",
       "      <td>3</td>\n",
       "      <td>1</td>\n",
       "      <td>75</td>\n",
       "      <td>0</td>\n",
       "      <td>37</td>\n",
       "      <td>0</td>\n",
       "      <td>0</td>\n",
       "      <td>0</td>\n",
       "      <td>0</td>\n",
       "    </tr>\n",
       "    <tr>\n",
       "      <th>3</th>\n",
       "      <td>1032</td>\n",
       "      <td>กรุงเทพมหานคร</td>\n",
       "      <td>13.719625</td>\n",
       "      <td>100.442061</td>\n",
       "      <td>POLYGON ((100.44668 13.71960, 100.44666 13.719...</td>\n",
       "      <td>1</td>\n",
       "      <td>0</td>\n",
       "      <td>5</td>\n",
       "      <td>18</td>\n",
       "      <td>5</td>\n",
       "      <td>...</td>\n",
       "      <td>11</td>\n",
       "      <td>3</td>\n",
       "      <td>2</td>\n",
       "      <td>69</td>\n",
       "      <td>0</td>\n",
       "      <td>27</td>\n",
       "      <td>0</td>\n",
       "      <td>0</td>\n",
       "      <td>0</td>\n",
       "      <td>0</td>\n",
       "    </tr>\n",
       "    <tr>\n",
       "      <th>4</th>\n",
       "      <td>1033</td>\n",
       "      <td>กรุงเทพมหานคร</td>\n",
       "      <td>13.768390</td>\n",
       "      <td>100.721288</td>\n",
       "      <td>POLYGON ((100.72591 13.76836, 100.72589 13.767...</td>\n",
       "      <td>4</td>\n",
       "      <td>0</td>\n",
       "      <td>5</td>\n",
       "      <td>32</td>\n",
       "      <td>6</td>\n",
       "      <td>...</td>\n",
       "      <td>4</td>\n",
       "      <td>12</td>\n",
       "      <td>4</td>\n",
       "      <td>65</td>\n",
       "      <td>1</td>\n",
       "      <td>59</td>\n",
       "      <td>0</td>\n",
       "      <td>0</td>\n",
       "      <td>0</td>\n",
       "      <td>0</td>\n",
       "    </tr>\n",
       "  </tbody>\n",
       "</table>\n",
       "<p>5 rows × 23 columns</p>\n",
       "</div>"
      ],
      "text/plain": [
       "   store_id      prov_namt   latitude   longitude  \\\n",
       "0      1025  กรุงเทพมหานคร  13.838724  100.575318   \n",
       "1      1026       ปทุมธานี  14.036545  100.733520   \n",
       "2      1028           ตรัง   7.567873   99.614094   \n",
       "3      1032  กรุงเทพมหานคร  13.719625  100.442061   \n",
       "4      1033  กรุงเทพมหานคร  13.768390  100.721288   \n",
       "\n",
       "                                            geometry  competitors  \\\n",
       "0  POLYGON ((100.57994 13.83869, 100.57992 13.838...            7   \n",
       "1  POLYGON ((100.73815 14.03651, 100.73812 14.036...            8   \n",
       "2  POLYGON ((99.61863 7.56787, 99.61860 7.56742, ...            1   \n",
       "3  POLYGON ((100.44668 13.71960, 100.44666 13.719...            1   \n",
       "4  POLYGON ((100.72591 13.76836, 100.72589 13.767...            4   \n",
       "\n",
       "   cross_street  education_area  entertainment_area  entry_point  ...  \\\n",
       "0             0              10                 171           15  ...   \n",
       "1             0              11                  86            3  ...   \n",
       "2             0              19                  32            3  ...   \n",
       "3             0               5                  18            5  ...   \n",
       "4             0               5                  32            6  ...   \n",
       "\n",
       "   high_rise_residential  housing_residential_area  industrial_area  \\\n",
       "0                     74                         1                0   \n",
       "1                     89                         3                0   \n",
       "2                      5                         3                1   \n",
       "3                     11                         3                2   \n",
       "4                      4                        12                4   \n",
       "\n",
       "   low_rise_residential_area  market_area  office_building  \\\n",
       "0                        209            4               88   \n",
       "1                        165            4               32   \n",
       "2                         75            0               37   \n",
       "3                         69            0               27   \n",
       "4                         65            1               59   \n",
       "\n",
       "   public_transportation  tourism_area  transportation_center  utern  \n",
       "0                     17             5                      0      0  \n",
       "1                      0             1                      0      0  \n",
       "2                      0             0                      0      0  \n",
       "3                      0             0                      0      0  \n",
       "4                      0             0                      0      0  \n",
       "\n",
       "[5 rows x 23 columns]"
      ]
     },
     "execution_count": 145,
     "metadata": {},
     "output_type": "execute_result"
    }
   ],
   "source": [
    "interest_count_poi_result = count_poi_result.copy()\n",
    "seven_eleven_location_gdf_with_poi = seven_eleven_location_gdf.copy()\n",
    "\n",
    "interest_column = [\"store_id\", \"sub_code_name\", \"type\"]\n",
    "interest_count_poi_result = interest_count_poi_result[interest_column]\n",
    "# group by store_id\n",
    "interest_count_poi_result_type = interest_count_poi_result.groupby(\n",
    "    [\"store_id\", \"type\"]\n",
    ").size()\n",
    "\n",
    "interest_count_poi_result_type\n",
    "# check nan\n",
    "print(interest_count_poi_result_type.isnull().sum())\n",
    "# update interest_count_poi_result_type to seven_eleven_location_gdf_with_poi in new column\n",
    "interest_count_poi_result_type = interest_count_poi_result_type.unstack()\n",
    "# if value_count_poi_type.keys()  is not interest_count_poi_result_type column add it\n",
    "for key in value_count_poi_type.keys():\n",
    "    if key not in interest_count_poi_result_type.columns:\n",
    "        interest_count_poi_result_type[key] = 0\n",
    "interest_count_poi_result_type = interest_count_poi_result_type.fillna(0)\n",
    "\n",
    "interest_count_poi_result_type = interest_count_poi_result_type.astype(int)\n",
    "interest_count_poi_result_type = interest_count_poi_result_type.reset_index()\n",
    "# merge with seven_eleven_location_gdf_with_poi\n",
    "seven_eleven_location_gdf_with_poi = pd.merge(\n",
    "    seven_eleven_location_gdf, interest_count_poi_result_type, on=\"store_id\"\n",
    ")\n",
    "seven_eleven_location_gdf_with_poi.head()"
   ]
  },
  {
   "cell_type": "code",
   "execution_count": 146,
   "metadata": {},
   "outputs": [
    {
     "name": "stdout",
     "output_type": "stream",
     "text": [
      "0\n"
     ]
    },
    {
     "data": {
      "text/html": [
       "<div>\n",
       "<style scoped>\n",
       "    .dataframe tbody tr th:only-of-type {\n",
       "        vertical-align: middle;\n",
       "    }\n",
       "\n",
       "    .dataframe tbody tr th {\n",
       "        vertical-align: top;\n",
       "    }\n",
       "\n",
       "    .dataframe thead th {\n",
       "        text-align: right;\n",
       "    }\n",
       "</style>\n",
       "<table border=\"1\" class=\"dataframe\">\n",
       "  <thead>\n",
       "    <tr style=\"text-align: right;\">\n",
       "      <th></th>\n",
       "      <th>store_id</th>\n",
       "      <th>prov_namt</th>\n",
       "      <th>latitude</th>\n",
       "      <th>longitude</th>\n",
       "      <th>geometry</th>\n",
       "      <th>competitors</th>\n",
       "      <th>cross_street</th>\n",
       "      <th>education_area</th>\n",
       "      <th>entertainment_area</th>\n",
       "      <th>entry_point</th>\n",
       "      <th>...</th>\n",
       "      <th>ด่านศุลกากร</th>\n",
       "      <th>ท่าเรือพาณิชย์</th>\n",
       "      <th>โรงภาพยนตร์</th>\n",
       "      <th>อุทยานแห่งชาติ</th>\n",
       "      <th>สหกรณ์</th>\n",
       "      <th>ศูนย์สวัสดิการ/สถานสงเคราะห์</th>\n",
       "      <th>สวนสัตว์/พิพิธภัณฑ์สัตว์น้ำ</th>\n",
       "      <th>ศูนย์การขนส่งสินค้า</th>\n",
       "      <th>สถานบันเทิงตอนกลางคืน</th>\n",
       "      <th>สถานีบริการน้ำมันโมบิล</th>\n",
       "    </tr>\n",
       "  </thead>\n",
       "  <tbody>\n",
       "    <tr>\n",
       "      <th>0</th>\n",
       "      <td>1025</td>\n",
       "      <td>กรุงเทพมหานคร</td>\n",
       "      <td>13.838724</td>\n",
       "      <td>100.575318</td>\n",
       "      <td>POLYGON ((100.57994 13.83869, 100.57992 13.838...</td>\n",
       "      <td>7</td>\n",
       "      <td>0</td>\n",
       "      <td>10</td>\n",
       "      <td>171</td>\n",
       "      <td>15</td>\n",
       "      <td>...</td>\n",
       "      <td>0</td>\n",
       "      <td>0</td>\n",
       "      <td>0</td>\n",
       "      <td>0</td>\n",
       "      <td>0</td>\n",
       "      <td>0</td>\n",
       "      <td>0</td>\n",
       "      <td>0</td>\n",
       "      <td>0</td>\n",
       "      <td>0</td>\n",
       "    </tr>\n",
       "    <tr>\n",
       "      <th>1</th>\n",
       "      <td>1026</td>\n",
       "      <td>ปทุมธานี</td>\n",
       "      <td>14.036545</td>\n",
       "      <td>100.733520</td>\n",
       "      <td>POLYGON ((100.73815 14.03651, 100.73812 14.036...</td>\n",
       "      <td>8</td>\n",
       "      <td>0</td>\n",
       "      <td>11</td>\n",
       "      <td>86</td>\n",
       "      <td>3</td>\n",
       "      <td>...</td>\n",
       "      <td>0</td>\n",
       "      <td>0</td>\n",
       "      <td>0</td>\n",
       "      <td>0</td>\n",
       "      <td>0</td>\n",
       "      <td>0</td>\n",
       "      <td>0</td>\n",
       "      <td>0</td>\n",
       "      <td>0</td>\n",
       "      <td>0</td>\n",
       "    </tr>\n",
       "    <tr>\n",
       "      <th>2</th>\n",
       "      <td>1028</td>\n",
       "      <td>ตรัง</td>\n",
       "      <td>7.567873</td>\n",
       "      <td>99.614094</td>\n",
       "      <td>POLYGON ((99.61863 7.56787, 99.61860 7.56742, ...</td>\n",
       "      <td>1</td>\n",
       "      <td>0</td>\n",
       "      <td>19</td>\n",
       "      <td>32</td>\n",
       "      <td>3</td>\n",
       "      <td>...</td>\n",
       "      <td>0</td>\n",
       "      <td>0</td>\n",
       "      <td>0</td>\n",
       "      <td>0</td>\n",
       "      <td>0</td>\n",
       "      <td>0</td>\n",
       "      <td>0</td>\n",
       "      <td>0</td>\n",
       "      <td>0</td>\n",
       "      <td>0</td>\n",
       "    </tr>\n",
       "    <tr>\n",
       "      <th>3</th>\n",
       "      <td>1032</td>\n",
       "      <td>กรุงเทพมหานคร</td>\n",
       "      <td>13.719625</td>\n",
       "      <td>100.442061</td>\n",
       "      <td>POLYGON ((100.44668 13.71960, 100.44666 13.719...</td>\n",
       "      <td>1</td>\n",
       "      <td>0</td>\n",
       "      <td>5</td>\n",
       "      <td>18</td>\n",
       "      <td>5</td>\n",
       "      <td>...</td>\n",
       "      <td>0</td>\n",
       "      <td>0</td>\n",
       "      <td>0</td>\n",
       "      <td>0</td>\n",
       "      <td>0</td>\n",
       "      <td>0</td>\n",
       "      <td>0</td>\n",
       "      <td>0</td>\n",
       "      <td>0</td>\n",
       "      <td>0</td>\n",
       "    </tr>\n",
       "    <tr>\n",
       "      <th>4</th>\n",
       "      <td>1033</td>\n",
       "      <td>กรุงเทพมหานคร</td>\n",
       "      <td>13.768390</td>\n",
       "      <td>100.721288</td>\n",
       "      <td>POLYGON ((100.72591 13.76836, 100.72589 13.767...</td>\n",
       "      <td>4</td>\n",
       "      <td>0</td>\n",
       "      <td>5</td>\n",
       "      <td>32</td>\n",
       "      <td>6</td>\n",
       "      <td>...</td>\n",
       "      <td>0</td>\n",
       "      <td>0</td>\n",
       "      <td>0</td>\n",
       "      <td>0</td>\n",
       "      <td>0</td>\n",
       "      <td>0</td>\n",
       "      <td>0</td>\n",
       "      <td>0</td>\n",
       "      <td>0</td>\n",
       "      <td>0</td>\n",
       "    </tr>\n",
       "  </tbody>\n",
       "</table>\n",
       "<p>5 rows × 474 columns</p>\n",
       "</div>"
      ],
      "text/plain": [
       "   store_id      prov_namt   latitude   longitude  \\\n",
       "0      1025  กรุงเทพมหานคร  13.838724  100.575318   \n",
       "1      1026       ปทุมธานี  14.036545  100.733520   \n",
       "2      1028           ตรัง   7.567873   99.614094   \n",
       "3      1032  กรุงเทพมหานคร  13.719625  100.442061   \n",
       "4      1033  กรุงเทพมหานคร  13.768390  100.721288   \n",
       "\n",
       "                                            geometry  competitors  \\\n",
       "0  POLYGON ((100.57994 13.83869, 100.57992 13.838...            7   \n",
       "1  POLYGON ((100.73815 14.03651, 100.73812 14.036...            8   \n",
       "2  POLYGON ((99.61863 7.56787, 99.61860 7.56742, ...            1   \n",
       "3  POLYGON ((100.44668 13.71960, 100.44666 13.719...            1   \n",
       "4  POLYGON ((100.72591 13.76836, 100.72589 13.767...            4   \n",
       "\n",
       "   cross_street  education_area  entertainment_area  entry_point  ...  \\\n",
       "0             0              10                 171           15  ...   \n",
       "1             0              11                  86            3  ...   \n",
       "2             0              19                  32            3  ...   \n",
       "3             0               5                  18            5  ...   \n",
       "4             0               5                  32            6  ...   \n",
       "\n",
       "   ด่านศุลกากร  ท่าเรือพาณิชย์  โรงภาพยนตร์  อุทยานแห่งชาติ  สหกรณ์  \\\n",
       "0            0               0            0               0       0   \n",
       "1            0               0            0               0       0   \n",
       "2            0               0            0               0       0   \n",
       "3            0               0            0               0       0   \n",
       "4            0               0            0               0       0   \n",
       "\n",
       "   ศูนย์สวัสดิการ/สถานสงเคราะห์  สวนสัตว์/พิพิธภัณฑ์สัตว์น้ำ  \\\n",
       "0                             0                            0   \n",
       "1                             0                            0   \n",
       "2                             0                            0   \n",
       "3                             0                            0   \n",
       "4                             0                            0   \n",
       "\n",
       "   ศูนย์การขนส่งสินค้า  สถานบันเทิงตอนกลางคืน  สถานีบริการน้ำมันโมบิล  \n",
       "0                    0                      0                       0  \n",
       "1                    0                      0                       0  \n",
       "2                    0                      0                       0  \n",
       "3                    0                      0                       0  \n",
       "4                    0                      0                       0  \n",
       "\n",
       "[5 rows x 474 columns]"
      ]
     },
     "execution_count": 146,
     "metadata": {},
     "output_type": "execute_result"
    }
   ],
   "source": [
    "# do for sub_code_name\n",
    "interest_count_poi_result_sub_code_name = interest_count_poi_result.groupby(\n",
    "    [\"store_id\", \"sub_code_name\"]\n",
    ").size()\n",
    "\n",
    "interest_count_poi_result_sub_code_name\n",
    "# check nan\n",
    "print(interest_count_poi_result_sub_code_name.isnull().sum())\n",
    "# update interest_count_poi_result_type to seven_eleven_location_gdf_with_poi in new column\n",
    "interest_count_poi_result_sub_code_name = (\n",
    "    interest_count_poi_result_sub_code_name.unstack()\n",
    ")\n",
    "# if value_count_poi_type.keys()  is not interest_count_poi_result_type column add it\n",
    "for key in value_count_sub_code_name.keys():\n",
    "    if key not in interest_count_poi_result_sub_code_name.columns:\n",
    "        interest_count_poi_result_sub_code_name[key] = 0\n",
    "interest_count_poi_result_sub_code_name = (\n",
    "    interest_count_poi_result_sub_code_name.fillna(0)\n",
    ")\n",
    "# int\n",
    "interest_count_poi_result_sub_code_name = (\n",
    "    interest_count_poi_result_sub_code_name.astype(int)\n",
    ")\n",
    "interest_count_poi_result_sub_code_name = (\n",
    "    interest_count_poi_result_sub_code_name.reset_index()\n",
    ")\n",
    "# merge with seven_eleven_location_gdf_with_poi\n",
    "seven_eleven_location_gdf_with_poi = pd.merge(\n",
    "    seven_eleven_location_gdf_with_poi,\n",
    "    interest_count_poi_result_sub_code_name,\n",
    "    on=\"store_id\",\n",
    ")\n",
    "seven_eleven_location_gdf_with_poi.head()"
   ]
  },
  {
   "cell_type": "code",
   "execution_count": 159,
   "metadata": {},
   "outputs": [
    {
     "name": "stderr",
     "output_type": "stream",
     "text": [
      "/var/folders/9g/3rr3k99j0td2974k71sy46_h0000gp/T/ipykernel_5246/714459187.py:10: FutureWarning: The frame.append method is deprecated and will be removed from pandas in a future version. Use pandas.concat instead.\n",
      "  seven_eleven_location_gdf_with_poi = seven_eleven_location_gdf_with_poi.append(\n",
      "/var/folders/9g/3rr3k99j0td2974k71sy46_h0000gp/T/ipykernel_5246/714459187.py:10: FutureWarning: The frame.append method is deprecated and will be removed from pandas in a future version. Use pandas.concat instead.\n",
      "  seven_eleven_location_gdf_with_poi = seven_eleven_location_gdf_with_poi.append(\n",
      "/var/folders/9g/3rr3k99j0td2974k71sy46_h0000gp/T/ipykernel_5246/714459187.py:10: FutureWarning: The frame.append method is deprecated and will be removed from pandas in a future version. Use pandas.concat instead.\n",
      "  seven_eleven_location_gdf_with_poi = seven_eleven_location_gdf_with_poi.append(\n"
     ]
    }
   ],
   "source": [
    "# get all unique store_id from seven_eleven_location_gdf_with_poi\n",
    "store_id_list = seven_eleven_location_gdf_with_poi.store_id.unique()\n",
    "# get  all unique store_id from seven_eleven_location_gdf\n",
    "store_id_list_ori = seven_eleven_location_gdf.store_id.unique()\n",
    "# find difference\n",
    "store_id_list_diff = list(set(store_id_list_ori) - set(store_id_list))\n",
    "store_id_list_diff\n",
    "# add store_id_list_diff to seven_eleven_location_gdf_with_poi\n",
    "for store_id in store_id_list_diff:\n",
    "    seven_eleven_location_gdf_with_poi = seven_eleven_location_gdf_with_poi.append(\n",
    "        seven_eleven_location_gdf[seven_eleven_location_gdf.store_id == store_id]\n",
    "    )"
   ]
  },
  {
   "cell_type": "code",
   "execution_count": 161,
   "metadata": {},
   "outputs": [
    {
     "data": {
      "text/plain": [
       "[17379, 14725, 4566]"
      ]
     },
     "execution_count": 161,
     "metadata": {},
     "output_type": "execute_result"
    }
   ],
   "source": [
    "store_id_list_diff"
   ]
  },
  {
   "cell_type": "code",
   "execution_count": 163,
   "metadata": {},
   "outputs": [],
   "source": [
    "# fillna 0\n",
    "seven_eleven_location_gdf_with_poi = seven_eleven_location_gdf_with_poi.fillna(0)"
   ]
  },
  {
   "cell_type": "code",
   "execution_count": 166,
   "metadata": {},
   "outputs": [],
   "source": [
    "# for all column try convert to int\n",
    "for col in seven_eleven_location_gdf_with_poi.columns:\n",
    "    try:\n",
    "        seven_eleven_location_gdf_with_poi[col] = seven_eleven_location_gdf_with_poi[\n",
    "            col\n",
    "        ].astype(int)\n",
    "    except:\n",
    "        pass"
   ]
  },
  {
   "cell_type": "code",
   "execution_count": 167,
   "metadata": {},
   "outputs": [
    {
     "data": {
      "text/plain": [
       "((11118, 5), (11118, 474))"
      ]
     },
     "execution_count": 167,
     "metadata": {},
     "output_type": "execute_result"
    }
   ],
   "source": [
    "seven_eleven_location_gdf.shape, seven_eleven_location_gdf_with_poi.shape"
   ]
  },
  {
   "cell_type": "code",
   "execution_count": 168,
   "metadata": {},
   "outputs": [],
   "source": [
    "# save\n",
    "seven_eleven_location_gdf_with_poi.to_feather(\n",
    "    \"seven_eleven_location_gdf_with_poi.feather\"\n",
    ")"
   ]
  },
  {
   "cell_type": "code",
   "execution_count": 148,
   "metadata": {},
   "outputs": [
    {
     "name": "stdout",
     "output_type": "stream",
     "text": [
      "--- 126.42635178565979 seconds ---\n"
     ]
    }
   ],
   "source": [
    "# print used time\n",
    "print(\"--- %s seconds ---\" % (time.time() - start_time))"
   ]
  },
  {
   "cell_type": "code",
   "execution_count": 171,
   "metadata": {},
   "outputs": [
    {
     "name": "stdout",
     "output_type": "stream",
     "text": [
      "[{'A': 1, 'B': 'X', 'C': 4.5}, {'A': 2, 'B': 'Y', 'C': 6.7}, {'A': 3, 'B': 'Z', 'C': 8.9}]\n"
     ]
    }
   ],
   "source": [
    "import pandas as pd\n",
    "\n",
    "# Assuming df is your DataFrame\n",
    "df = pd.DataFrame({\"A\": [1, 2, 3], \"B\": [\"X\", \"Y\", \"Z\"], \"C\": [4.5, 6.7, 8.9]})\n",
    "\n",
    "# Convert DataFrame to dictionary with columns as keys\n",
    "result_dict = df.to_dict(orient=\"records\")\n",
    "\n",
    "print(result_dict)"
   ]
  },
  {
   "cell_type": "code",
   "execution_count": 173,
   "metadata": {},
   "outputs": [
    {
     "data": {
      "text/plain": [
       "{'A': 1, 'B': 'X', 'C': 4.5}"
      ]
     },
     "execution_count": 173,
     "metadata": {},
     "output_type": "execute_result"
    }
   ],
   "source": [
    "result_dict[0]"
   ]
  },
  {
   "cell_type": "code",
   "execution_count": null,
   "metadata": {},
   "outputs": [],
   "source": []
  }
 ],
 "metadata": {
  "kernelspec": {
   "display_name": "base",
   "language": "python",
   "name": "python3"
  },
  "language_info": {
   "codemirror_mode": {
    "name": "ipython",
    "version": 3
   },
   "file_extension": ".py",
   "mimetype": "text/x-python",
   "name": "python",
   "nbconvert_exporter": "python",
   "pygments_lexer": "ipython3",
   "version": "3.11.4"
  }
 },
 "nbformat": 4,
 "nbformat_minor": 2
}
