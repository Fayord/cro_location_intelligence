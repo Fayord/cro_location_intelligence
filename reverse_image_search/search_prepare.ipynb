{
 "cells": [
  {
   "cell_type": "code",
   "execution_count": 1,
   "metadata": {},
   "outputs": [],
   "source": [
    "import os\n",
    "from PIL import Image\n",
    "import pandas as pd"
   ]
  },
  {
   "cell_type": "code",
   "execution_count": 2,
   "metadata": {},
   "outputs": [
    {
     "name": "stdout",
     "output_type": "stream",
     "text": [
      "11118\n"
     ]
    },
    {
     "data": {
      "text/plain": [
       "(['/Users/user/Documents/Coding/cro_location_intelligence/reverse_image_search//crop_image/10.png',\n",
       "  '/Users/user/Documents/Coding/cro_location_intelligence/reverse_image_search//crop_image/100.png',\n",
       "  '/Users/user/Documents/Coding/cro_location_intelligence/reverse_image_search//crop_image/1000.png',\n",
       "  '/Users/user/Documents/Coding/cro_location_intelligence/reverse_image_search//crop_image/10000.png',\n",
       "  '/Users/user/Documents/Coding/cro_location_intelligence/reverse_image_search//crop_image/10001.png'],\n",
       " ['/Users/user/Documents/Coding/cro_location_intelligence/reverse_image_search//crop_image/9990.png',\n",
       "  '/Users/user/Documents/Coding/cro_location_intelligence/reverse_image_search//crop_image/9991.png',\n",
       "  '/Users/user/Documents/Coding/cro_location_intelligence/reverse_image_search//crop_image/9992.png',\n",
       "  '/Users/user/Documents/Coding/cro_location_intelligence/reverse_image_search//crop_image/9993.png',\n",
       "  '/Users/user/Documents/Coding/cro_location_intelligence/reverse_image_search//crop_image/9998.png'])"
      ]
     },
     "execution_count": 2,
     "metadata": {},
     "output_type": "execute_result"
    }
   ],
   "source": [
    "DO_SAMPLE = False\n",
    "# DO_SAMPLE = True\n",
    "NUM_SAMPLE = 1000\n",
    "dir_path = (\n",
    "    \"/Users/user/Documents/Coding/cro_location_intelligence/reverse_image_search/\"\n",
    ")\n",
    "image_path = f\"{dir_path}/crop_image\"\n",
    "image_list = os.listdir(image_path)\n",
    "image_list = [\n",
    "    os.path.join(image_path, image) for image in image_list if not image.startswith(\".\")\n",
    "]\n",
    "# sort\n",
    "image_list.sort()\n",
    "print(len(image_list))\n",
    "image_list[:5], image_list[-5:]"
   ]
  },
  {
   "cell_type": "code",
   "execution_count": 3,
   "metadata": {},
   "outputs": [
    {
     "name": "stdout",
     "output_type": "stream",
     "text": [
      "(11118, 4)\n"
     ]
    },
    {
     "data": {
      "text/html": [
       "<div>\n",
       "<style scoped>\n",
       "    .dataframe tbody tr th:only-of-type {\n",
       "        vertical-align: middle;\n",
       "    }\n",
       "\n",
       "    .dataframe tbody tr th {\n",
       "        vertical-align: top;\n",
       "    }\n",
       "\n",
       "    .dataframe thead th {\n",
       "        text-align: right;\n",
       "    }\n",
       "</style>\n",
       "<table border=\"1\" class=\"dataframe\">\n",
       "  <thead>\n",
       "    <tr style=\"text-align: right;\">\n",
       "      <th></th>\n",
       "      <th>store_id</th>\n",
       "      <th>prov_namt</th>\n",
       "      <th>latitude</th>\n",
       "      <th>longitude</th>\n",
       "    </tr>\n",
       "  </thead>\n",
       "  <tbody>\n",
       "    <tr>\n",
       "      <th>0</th>\n",
       "      <td>1025</td>\n",
       "      <td>กรุงเทพมหานคร</td>\n",
       "      <td>13.838724</td>\n",
       "      <td>100.575318</td>\n",
       "    </tr>\n",
       "    <tr>\n",
       "      <th>1</th>\n",
       "      <td>1026</td>\n",
       "      <td>ปทุมธานี</td>\n",
       "      <td>14.036545</td>\n",
       "      <td>100.733520</td>\n",
       "    </tr>\n",
       "    <tr>\n",
       "      <th>2</th>\n",
       "      <td>1028</td>\n",
       "      <td>ตรัง</td>\n",
       "      <td>7.567873</td>\n",
       "      <td>99.614094</td>\n",
       "    </tr>\n",
       "    <tr>\n",
       "      <th>3</th>\n",
       "      <td>1032</td>\n",
       "      <td>กรุงเทพมหานคร</td>\n",
       "      <td>13.719625</td>\n",
       "      <td>100.442061</td>\n",
       "    </tr>\n",
       "    <tr>\n",
       "      <th>4</th>\n",
       "      <td>1033</td>\n",
       "      <td>กรุงเทพมหานคร</td>\n",
       "      <td>13.768390</td>\n",
       "      <td>100.721288</td>\n",
       "    </tr>\n",
       "  </tbody>\n",
       "</table>\n",
       "</div>"
      ],
      "text/plain": [
       "   store_id      prov_namt   latitude   longitude\n",
       "0      1025  กรุงเทพมหานคร  13.838724  100.575318\n",
       "1      1026       ปทุมธานี  14.036545  100.733520\n",
       "2      1028           ตรัง   7.567873   99.614094\n",
       "3      1032  กรุงเทพมหานคร  13.719625  100.442061\n",
       "4      1033  กรุงเทพมหานคร  13.768390  100.721288"
      ]
     },
     "execution_count": 3,
     "metadata": {},
     "output_type": "execute_result"
    }
   ],
   "source": [
    "df_path = f\"{dir_path}/7-11 Location for Ford.xlsx\"\n",
    "df = pd.read_excel(df_path)\n",
    "print(df.shape)\n",
    "df.head()"
   ]
  },
  {
   "cell_type": "code",
   "execution_count": 4,
   "metadata": {},
   "outputs": [
    {
     "name": "stdout",
     "output_type": "stream",
     "text": [
      "[]\n",
      "0\n"
     ]
    }
   ],
   "source": [
    "# find duplicate store_id in df\n",
    "duplicate_store_id = df[df.duplicated(subset=[\"store_id\"], keep=False)]\n",
    "duplicate_store_id = duplicate_store_id.store_id.tolist()\n",
    "duplicate_store_id = list(set(duplicate_store_id))\n",
    "print(duplicate_store_id)\n",
    "print(len(duplicate_store_id))"
   ]
  },
  {
   "cell_type": "code",
   "execution_count": 5,
   "metadata": {},
   "outputs": [
    {
     "data": {
      "text/html": [
       "<div>\n",
       "<style scoped>\n",
       "    .dataframe tbody tr th:only-of-type {\n",
       "        vertical-align: middle;\n",
       "    }\n",
       "\n",
       "    .dataframe tbody tr th {\n",
       "        vertical-align: top;\n",
       "    }\n",
       "\n",
       "    .dataframe thead th {\n",
       "        text-align: right;\n",
       "    }\n",
       "</style>\n",
       "<table border=\"1\" class=\"dataframe\">\n",
       "  <thead>\n",
       "    <tr style=\"text-align: right;\">\n",
       "      <th></th>\n",
       "      <th>store_id</th>\n",
       "      <th>prov_namt</th>\n",
       "      <th>latitude</th>\n",
       "      <th>longitude</th>\n",
       "      <th>embedding</th>\n",
       "    </tr>\n",
       "  </thead>\n",
       "  <tbody>\n",
       "    <tr>\n",
       "      <th>0</th>\n",
       "      <td>1025</td>\n",
       "      <td>กรุงเทพมหานคร</td>\n",
       "      <td>13.838724</td>\n",
       "      <td>100.575318</td>\n",
       "      <td>[]</td>\n",
       "    </tr>\n",
       "    <tr>\n",
       "      <th>1</th>\n",
       "      <td>1026</td>\n",
       "      <td>ปทุมธานี</td>\n",
       "      <td>14.036545</td>\n",
       "      <td>100.733520</td>\n",
       "      <td>[]</td>\n",
       "    </tr>\n",
       "    <tr>\n",
       "      <th>2</th>\n",
       "      <td>1028</td>\n",
       "      <td>ตรัง</td>\n",
       "      <td>7.567873</td>\n",
       "      <td>99.614094</td>\n",
       "      <td>[]</td>\n",
       "    </tr>\n",
       "    <tr>\n",
       "      <th>3</th>\n",
       "      <td>1032</td>\n",
       "      <td>กรุงเทพมหานคร</td>\n",
       "      <td>13.719625</td>\n",
       "      <td>100.442061</td>\n",
       "      <td>[]</td>\n",
       "    </tr>\n",
       "    <tr>\n",
       "      <th>4</th>\n",
       "      <td>1033</td>\n",
       "      <td>กรุงเทพมหานคร</td>\n",
       "      <td>13.768390</td>\n",
       "      <td>100.721288</td>\n",
       "      <td>[]</td>\n",
       "    </tr>\n",
       "  </tbody>\n",
       "</table>\n",
       "</div>"
      ],
      "text/plain": [
       "   store_id      prov_namt   latitude   longitude embedding\n",
       "0      1025  กรุงเทพมหานคร  13.838724  100.575318        []\n",
       "1      1026       ปทุมธานี  14.036545  100.733520        []\n",
       "2      1028           ตรัง   7.567873   99.614094        []\n",
       "3      1032  กรุงเทพมหานคร  13.719625  100.442061        []\n",
       "4      1033  กรุงเทพมหานคร  13.768390  100.721288        []"
      ]
     },
     "execution_count": 5,
     "metadata": {},
     "output_type": "execute_result"
    }
   ],
   "source": [
    "import numpy as np\n",
    "\n",
    "# add new column name embedding with nan\n",
    "df[\"embedding\"] = [[]] * len(df)\n",
    "df.head()"
   ]
  },
  {
   "cell_type": "code",
   "execution_count": 6,
   "metadata": {},
   "outputs": [
    {
     "data": {
      "text/plain": [
       "True"
      ]
     },
     "execution_count": 6,
     "metadata": {},
     "output_type": "execute_result"
    }
   ],
   "source": [
    "# check is store_id is unique\n",
    "df[\"store_id\"].is_unique"
   ]
  },
  {
   "cell_type": "code",
   "execution_count": 7,
   "metadata": {},
   "outputs": [],
   "source": [
    "# do model inference"
   ]
  },
  {
   "cell_type": "code",
   "execution_count": 8,
   "metadata": {},
   "outputs": [
    {
     "data": {
      "text/plain": [
       "device(type='mps')"
      ]
     },
     "execution_count": 8,
     "metadata": {},
     "output_type": "execute_result"
    }
   ],
   "source": [
    "import torch\n",
    "\n",
    "device = torch.device(\"cuda\" if torch.cuda.is_available() else \"cpu\")\n",
    "if not torch.backends.mps.is_available():\n",
    "    if not torch.backends.mps.is_built():\n",
    "        print(\n",
    "            \"MPS not available because the current PyTorch install was not \"\n",
    "            \"built with MPS enabled.\"\n",
    "        )\n",
    "    else:\n",
    "        print(\n",
    "            \"MPS not available because the current MacOS version is not 12.3+ \"\n",
    "            \"and/or you do not have an MPS-enabled device on this machine.\"\n",
    "        )\n",
    "\n",
    "else:\n",
    "    device = torch.device(\"mps\")\n",
    "device"
   ]
  },
  {
   "cell_type": "code",
   "execution_count": 9,
   "metadata": {},
   "outputs": [],
   "source": [
    "import timm\n",
    "from geo_utils import (\n",
    "    crop_middle_image_from_side_size,\n",
    "    apply_circle_mask,\n",
    ")\n",
    "\n",
    "model = timm.create_model(\n",
    "    \"maxvit_tiny_tf_512.in1k\",\n",
    "    pretrained=True,\n",
    "    num_classes=0,  # remove classifier nn.Linear\n",
    ").to(\n",
    "    device\n",
    ")  # Move the model to the GPU\n",
    "model = model.eval()\n",
    "data_config = timm.data.resolve_model_data_config(model)\n",
    "transforms = timm.data.create_transform(**data_config, is_training=False)\n",
    "\n",
    "\n",
    "def preprocess_image(image: Image.Image) -> Image.Image:\n",
    "    # image = crop_middle_image_from_side_size(image, 2400, 1600)\n",
    "    image = apply_circle_mask(image)\n",
    "    image = image.resize((512, 512))\n",
    "    return image\n",
    "\n",
    "\n",
    "preprocessed_image_folder = f\"{dir_path}/crop_image\"\n",
    "\n",
    "\n",
    "def predict(model, transforms, image_path, preprocessed_image_path, device=device):\n",
    "    image = Image.open(image_path).convert(\"RGB\")\n",
    "    preprocessed_image = preprocess_image(image)\n",
    "    image_tensor = (\n",
    "        transforms(preprocessed_image).unsqueeze(0).to(device)\n",
    "    )  # Move input data to the GPU\n",
    "    output = model(image_tensor)\n",
    "\n",
    "    # or equivalently (without needing to set num_classes=0)\n",
    "    output = model.forward_features(image_tensor)\n",
    "    output = model.forward_head(output, pre_logits=True)\n",
    "    embedding = output.detach().cpu().numpy()[0]\n",
    "    preprocessed_image.save(preprocessed_image_path)\n",
    "    # save preprocessed_image\n",
    "    return embedding  # Move the result back to the CPU for further processing if needed"
   ]
  },
  {
   "cell_type": "code",
   "execution_count": 10,
   "metadata": {},
   "outputs": [
    {
     "data": {
      "text/plain": [
       "array([-0.5909128 , -0.15493128,  0.10268707, -0.20271835, -0.45178953,\n",
       "        0.5089837 , -0.21708447,  0.18938565, -0.01838017,  0.38833663,\n",
       "       -0.60113746, -0.7828741 , -0.8766293 , -0.38296315,  0.17193179,\n",
       "        0.6206502 , -0.2866303 ,  0.21968898,  0.73409843, -0.85176265,\n",
       "        0.6758186 , -0.57760835, -0.23458506,  0.40565485,  0.2208155 ,\n",
       "       -0.12820598, -0.29737085, -0.4085765 , -0.0824457 , -0.8832159 ,\n",
       "       -0.23987757,  0.02702179, -0.2515429 ,  0.67758733,  0.62235147,\n",
       "       -0.11359639,  0.16227286,  0.16672984, -0.21988417,  0.21630779,\n",
       "        0.6808744 ,  0.44098097, -0.65373325, -0.24939227, -0.47979563,\n",
       "        0.49296466, -0.32926127,  0.13914368, -0.17216931, -0.29970512,\n",
       "       -0.1548718 ,  0.11567356, -0.37361157, -0.30484638, -0.45426822,\n",
       "        0.21772666, -0.03108997, -0.43859777, -0.10836279, -0.37685284,\n",
       "        0.13366553,  0.57591873, -0.7724935 , -0.40570304, -0.48875692,\n",
       "        0.10378516,  0.8892232 , -0.25500432,  0.5513068 , -0.6269494 ,\n",
       "        0.7743947 , -0.441953  ,  0.20422783,  0.3858395 ,  0.74894893,\n",
       "        0.59533376, -0.69287974,  0.03210428,  0.20797251, -0.01325644,\n",
       "       -0.2806413 , -0.68763447, -0.88287747,  0.28738126,  0.21157669,\n",
       "        0.5904219 , -0.55136365, -0.3824242 ,  0.3781101 ,  0.69168824,\n",
       "       -0.40830803,  0.42293546,  0.28946742, -0.7105706 ,  0.3787385 ,\n",
       "        0.13894084, -0.09049462, -0.14083147,  0.63199294,  0.15624788,\n",
       "        0.44087207, -0.73205656, -0.51111335, -0.13847679,  0.5136138 ,\n",
       "       -0.5579338 ,  0.49292788, -0.28941643,  0.09709021,  0.50595874,\n",
       "        0.38290557,  0.21383098, -0.29537663,  0.80450463, -0.23165144,\n",
       "        0.44778794, -0.04667475, -0.28147504, -0.57877886,  0.11005328,\n",
       "       -0.85051167, -0.06150664, -0.6126049 ,  0.7750717 , -0.07888602,\n",
       "        0.6441414 ,  0.8189275 ,  0.657613  ,  0.25564665,  0.28575495,\n",
       "        0.528904  ,  0.63631064, -0.26117384, -0.12642488,  0.49352574,\n",
       "       -0.6198146 ,  0.04837   ,  0.0426742 ,  0.52536094, -0.3651747 ,\n",
       "        0.42612055, -0.6525737 , -0.22474475, -0.11324159,  0.70828646,\n",
       "        0.14266624,  0.48919016,  0.3008744 ,  0.2250239 , -0.7492258 ,\n",
       "        0.75949997,  0.58885133,  0.96371293,  0.01956847,  0.2350365 ,\n",
       "        0.9447902 ,  0.7361738 ,  0.7859877 , -0.03975227, -0.03059571,\n",
       "        0.8545676 , -0.8137286 ,  0.32448125, -0.00586611, -0.2570862 ,\n",
       "        0.190301  , -0.22060262, -0.4299688 ,  0.33508018, -0.4035479 ,\n",
       "       -0.35309342, -0.6557269 , -0.11680333, -0.06019273,  0.57941693,\n",
       "       -0.27927423, -0.6116538 ,  0.07117066, -0.44839305, -0.28247002,\n",
       "        0.2977105 , -0.3844012 ,  0.3851005 , -0.7398189 , -0.30571696,\n",
       "       -0.8901028 , -0.6196484 , -0.5527874 , -0.22022054, -0.67514503,\n",
       "       -0.07371778, -0.30618072, -0.9126397 ,  0.11506661, -0.49358255,\n",
       "        0.27528256, -0.46220246, -0.47279474, -0.3218368 , -0.53264886,\n",
       "       -0.7469384 , -0.31509855,  0.29929292,  0.44339302,  0.08460574,\n",
       "       -0.5376632 , -0.64653593, -0.4280407 , -0.02231506,  0.3330197 ,\n",
       "        0.29545125, -0.6826254 , -0.13856462, -0.5613462 , -0.23800936,\n",
       "       -0.7981132 ,  0.7836369 ,  0.5237234 ,  0.53985655,  0.965401  ,\n",
       "       -0.41724744, -0.25535908,  0.27170017, -0.4361318 , -0.5314446 ,\n",
       "       -0.18524267,  0.5184377 , -0.45953333,  0.32457584, -0.4422973 ,\n",
       "        0.5880505 ,  0.04687787, -0.34162796,  0.08770899, -0.00152184,\n",
       "        0.03646129, -0.81951463,  0.53981674,  0.19534199, -0.17922354,\n",
       "        0.28478432, -0.01503039, -0.278606  ,  0.45932326, -0.6832051 ,\n",
       "        0.40044957, -0.15686527,  0.8405652 , -0.25452298, -0.60073566,\n",
       "       -0.5044232 , -0.74245644,  0.09236708, -0.11955058, -0.33000517,\n",
       "       -0.577591  , -0.9017678 ,  0.9211701 , -0.6718297 , -0.16454533,\n",
       "       -0.10351557,  0.8027642 ,  0.62882733,  0.27954012, -0.9741914 ,\n",
       "       -0.133909  ,  0.53180236, -0.34636557, -0.3490367 ,  0.5104077 ,\n",
       "        0.3374389 ,  0.15854022,  0.26294938,  0.58869356, -0.43641433,\n",
       "        0.7011351 ,  0.13120829,  0.5493995 , -0.08209085, -0.04991398,\n",
       "       -0.47532168,  0.42406166, -0.84145874, -0.31338987,  0.16208212,\n",
       "       -0.5222755 , -0.20770186,  0.24159212, -0.78479725, -0.17701913,\n",
       "       -0.8276259 , -0.4414532 ,  0.5685355 ,  0.3627503 ,  0.2502308 ,\n",
       "       -0.20836002,  0.84439903, -0.6103336 , -0.5008958 ,  0.45161334,\n",
       "       -0.84481174, -0.37520415,  0.87825525,  0.7842688 , -0.65457624,\n",
       "        0.16715047,  0.20493206, -0.16121286,  0.03536103,  0.8289975 ,\n",
       "        0.33815777,  0.768516  ,  0.7356324 , -0.77454543,  0.3160762 ,\n",
       "        0.9352904 , -0.02903627,  0.91472995,  0.18385234, -0.04037724,\n",
       "       -0.47111976,  0.6634645 , -0.6240946 , -0.53909177, -0.09509255,\n",
       "        0.47805145, -0.301408  ,  0.8692972 , -0.63269097,  0.39163393,\n",
       "       -0.36018702, -0.08929999,  0.56740177,  0.20807557, -0.52262807,\n",
       "       -0.5216029 , -0.8477906 ,  0.27266786, -0.47607452, -0.78503007,\n",
       "        0.93817925, -0.26928803, -0.22071418,  0.11888424,  0.8437534 ,\n",
       "        0.10365033,  0.70340943,  0.20489632,  0.06308793, -0.66061985,\n",
       "        0.5718443 ,  0.37991697, -0.15506849,  0.734805  , -0.02593706,\n",
       "        0.46948144,  0.37042642, -0.8463025 ,  0.73457634,  0.48367774,\n",
       "        0.56535554, -0.43822122, -0.09373435,  0.18787745, -0.49636754,\n",
       "       -0.20381016,  0.69301677,  0.26298472, -0.84952617,  0.2439397 ,\n",
       "       -0.7053635 ,  0.68577   ,  0.17193457,  0.50303906,  0.11843342,\n",
       "        0.0407481 ,  0.19529128,  0.46433675,  0.0154146 , -0.7044625 ,\n",
       "        0.22078562, -0.37198997,  0.1057108 , -0.65570736, -0.62154186,\n",
       "       -0.8140427 , -0.01383326,  0.36351067, -0.21892096, -0.62035996,\n",
       "       -0.3769208 ,  0.8281755 ,  0.37586954, -0.06505858, -0.44359127,\n",
       "        0.21952653,  0.20799105,  0.09117657, -0.14192863, -0.73413527,\n",
       "       -0.39181373,  0.51462585,  0.4748846 , -0.7432733 ,  0.70229155,\n",
       "        0.4680538 , -0.47341636, -0.81853586,  0.51089483, -0.5603101 ,\n",
       "        0.24145748,  0.08858758,  0.29065746, -0.26412708, -0.06792846,\n",
       "       -0.574111  ,  0.35336727, -0.01557698,  0.7394466 ,  0.2969237 ,\n",
       "       -0.5952804 , -0.35985982,  0.09640678, -0.8509586 , -0.38575336,\n",
       "        0.78237915, -0.7176593 , -0.7219259 ,  0.82800406, -0.72441536,\n",
       "       -0.3285545 , -0.58138776,  0.53062433, -0.44732437,  0.5993482 ,\n",
       "        0.04383943, -0.5878818 ,  0.02484041, -0.79225653,  0.29000393,\n",
       "       -0.7433735 , -0.00847164, -0.31174695, -0.18385878, -0.11126282,\n",
       "        0.21403562,  0.05041997,  0.25280276, -0.81822616,  0.60172904,\n",
       "        0.7819438 ,  0.37600887, -0.36792922, -0.21860664,  0.78185904,\n",
       "       -0.11042909, -0.916653  , -0.26164615,  0.47233197, -0.5874634 ,\n",
       "        0.41498008,  0.25834137, -0.9590434 ,  0.41655064,  0.4159937 ,\n",
       "       -0.04563675, -0.3383444 ,  0.7370512 ,  0.10270118, -0.557148  ,\n",
       "       -0.0061394 , -0.81140167, -0.23205264, -0.06886646, -0.46469247,\n",
       "        0.81068534, -0.08437025,  0.2673441 , -0.41344595,  0.05551015,\n",
       "        0.13784626,  0.5765967 ,  0.37691227, -0.24388506, -0.804377  ,\n",
       "       -0.16582309,  0.3161082 ,  0.3826255 ,  0.3565982 ,  0.7279842 ,\n",
       "       -0.12590759,  0.5357792 ,  0.7607897 , -0.90106326,  0.5743181 ,\n",
       "       -0.44045058, -0.19544512, -0.7334025 , -0.815284  , -0.78810096,\n",
       "       -0.86479175,  0.39406008,  0.40041095, -0.02203506,  0.947288  ,\n",
       "        0.02124205, -0.12833588, -0.40373808, -0.5250426 ,  0.06173264,\n",
       "       -0.42420354,  0.23226045], dtype=float32)"
      ]
     },
     "execution_count": 10,
     "metadata": {},
     "output_type": "execute_result"
    }
   ],
   "source": [
    "# image_path = f\"{dir_path}/data/full_image/1026.png\"\n",
    "image_path = f\"{dir_path}/crop_image/1025.png\"\n",
    "preprocessed_image_path = os.path.join(\n",
    "    preprocessed_image_folder, os.path.basename(image_path)\n",
    ")\n",
    "result = predict(\n",
    "    model,\n",
    "    transforms,\n",
    "    image_path,\n",
    "    preprocessed_image_path,\n",
    ")\n",
    "result"
   ]
  },
  {
   "cell_type": "code",
   "execution_count": 11,
   "metadata": {},
   "outputs": [
    {
     "data": {
      "text/plain": [
       "([], array([], dtype=bool))"
      ]
     },
     "execution_count": 11,
     "metadata": {},
     "output_type": "execute_result"
    }
   ],
   "source": [
    "index = 1\n",
    "df.loc[index, \"embedding\"], pd.isna(df.loc[index, \"embedding\"])"
   ]
  },
  {
   "cell_type": "code",
   "execution_count": 12,
   "metadata": {},
   "outputs": [],
   "source": [
    "save_path = \"./df_embedding.pkl\"\n",
    "import os\n",
    "import pandas as pd\n",
    "\n",
    "if os.path.exists(save_path):\n",
    "    print(\"Load success df_embedding.pkl\")\n",
    "    df = pd.read_pickle(save_path)"
   ]
  },
  {
   "cell_type": "code",
   "execution_count": 13,
   "metadata": {},
   "outputs": [
    {
     "data": {
      "text/html": [
       "<div>\n",
       "<style scoped>\n",
       "    .dataframe tbody tr th:only-of-type {\n",
       "        vertical-align: middle;\n",
       "    }\n",
       "\n",
       "    .dataframe tbody tr th {\n",
       "        vertical-align: top;\n",
       "    }\n",
       "\n",
       "    .dataframe thead th {\n",
       "        text-align: right;\n",
       "    }\n",
       "</style>\n",
       "<table border=\"1\" class=\"dataframe\">\n",
       "  <thead>\n",
       "    <tr style=\"text-align: right;\">\n",
       "      <th></th>\n",
       "      <th>store_id</th>\n",
       "      <th>prov_namt</th>\n",
       "      <th>latitude</th>\n",
       "      <th>longitude</th>\n",
       "      <th>embedding</th>\n",
       "    </tr>\n",
       "  </thead>\n",
       "  <tbody>\n",
       "    <tr>\n",
       "      <th>0</th>\n",
       "      <td>1025</td>\n",
       "      <td>กรุงเทพมหานคร</td>\n",
       "      <td>13.838724</td>\n",
       "      <td>100.575318</td>\n",
       "      <td>[]</td>\n",
       "    </tr>\n",
       "    <tr>\n",
       "      <th>1</th>\n",
       "      <td>1026</td>\n",
       "      <td>ปทุมธานี</td>\n",
       "      <td>14.036545</td>\n",
       "      <td>100.733520</td>\n",
       "      <td>[]</td>\n",
       "    </tr>\n",
       "    <tr>\n",
       "      <th>2</th>\n",
       "      <td>1028</td>\n",
       "      <td>ตรัง</td>\n",
       "      <td>7.567873</td>\n",
       "      <td>99.614094</td>\n",
       "      <td>[]</td>\n",
       "    </tr>\n",
       "    <tr>\n",
       "      <th>3</th>\n",
       "      <td>1032</td>\n",
       "      <td>กรุงเทพมหานคร</td>\n",
       "      <td>13.719625</td>\n",
       "      <td>100.442061</td>\n",
       "      <td>[]</td>\n",
       "    </tr>\n",
       "    <tr>\n",
       "      <th>4</th>\n",
       "      <td>1033</td>\n",
       "      <td>กรุงเทพมหานคร</td>\n",
       "      <td>13.768390</td>\n",
       "      <td>100.721288</td>\n",
       "      <td>[]</td>\n",
       "    </tr>\n",
       "  </tbody>\n",
       "</table>\n",
       "</div>"
      ],
      "text/plain": [
       "   store_id      prov_namt   latitude   longitude embedding\n",
       "0      1025  กรุงเทพมหานคร  13.838724  100.575318        []\n",
       "1      1026       ปทุมธานี  14.036545  100.733520        []\n",
       "2      1028           ตรัง   7.567873   99.614094        []\n",
       "3      1032  กรุงเทพมหานคร  13.719625  100.442061        []\n",
       "4      1033  กรุงเทพมหานคร  13.768390  100.721288        []"
      ]
     },
     "execution_count": 13,
     "metadata": {},
     "output_type": "execute_result"
    }
   ],
   "source": [
    "df.head()"
   ]
  },
  {
   "cell_type": "code",
   "execution_count": 14,
   "metadata": {},
   "outputs": [
    {
     "data": {
      "text/plain": [
       "11118"
      ]
     },
     "execution_count": 14,
     "metadata": {},
     "output_type": "execute_result"
    }
   ],
   "source": [
    "# count embedding that is []\n",
    "df[\"embedding\"].apply(lambda x: x == []).sum()"
   ]
  },
  {
   "cell_type": "code",
   "execution_count": 15,
   "metadata": {},
   "outputs": [],
   "source": [
    "if DO_SAMPLE is True:\n",
    "    # select first 1000\n",
    "    df = df[:NUM_SAMPLE]\n",
    "    print(df.shape)"
   ]
  },
  {
   "cell_type": "code",
   "execution_count": 16,
   "metadata": {},
   "outputs": [
    {
     "name": "stderr",
     "output_type": "stream",
     "text": [
      "Processing rows:   0%|          | 0/11118 [00:00<?, ?it/s]"
     ]
    },
    {
     "name": "stderr",
     "output_type": "stream",
     "text": [
      "Processing rows: 100%|██████████| 11118/11118 [00:00<00:00, 32360.31it/s]\n",
      "Processing Images:   0%|          | 0/1390 [00:00<?, ?it/s]/var/folders/9g/3rr3k99j0td2974k71sy46_h0000gp/T/ipykernel_88609/1286111549.py:51: SettingWithCopyWarning: \n",
      "A value is trying to be set on a copy of a slice from a DataFrame\n",
      "\n",
      "See the caveats in the documentation: https://pandas.pydata.org/pandas-docs/stable/user_guide/indexing.html#returning-a-view-versus-a-copy\n",
      "  df.embedding[index] = embedding.tolist()\n",
      "                                                                         \r"
     ]
    }
   ],
   "source": [
    "store_id_list = df[\"store_id\"]\n",
    "image_folder = preprocessed_image_folder\n",
    "from tqdm import tqdm\n",
    "\n",
    "image_paths = []\n",
    "for index, row in tqdm(df.iterrows(), total=len(df), desc=\"Processing rows\"):\n",
    "    store_id = df.loc[index, \"store_id\"]\n",
    "    # print(store_id)\n",
    "\n",
    "    image_path = os.path.join(image_folder, f\"{store_id}.png\")\n",
    "    if not os.path.exists(image_path):\n",
    "        continue\n",
    "    # is nan or not\n",
    "    # print('df.loc[index, \"embedding\"]', df.loc[index, \"embedding\"])\n",
    "    if df.loc[index, \"embedding\"] != []:\n",
    "        continue\n",
    "    preprocessed_image_path = os.path.join(\n",
    "        preprocessed_image_folder, os.path.basename(image_path)\n",
    "    )\n",
    "    # if os.path.exists(preprocessed_image_path):\n",
    "    #     continue\n",
    "    image_paths.append(preprocessed_image_path)\n",
    "batch_size = 8  # Choose an appropriate batch size\n",
    "\n",
    "for i in tqdm(\n",
    "    range(0, len(image_paths), batch_size), desc=\"Processing Images\", leave=False\n",
    "):\n",
    "    batch_paths = image_paths[i : i + batch_size]\n",
    "\n",
    "    batch_images = [Image.open(path).convert(\"RGB\") for path in batch_paths]\n",
    "    preprocessed_images = [preprocess_image(image) for image in batch_images]\n",
    "    # image_tensors = torch.stack(\n",
    "    #     [transforms(image).unsqueeze(0) for image in preprocessed_images]\n",
    "    # ).to(device)\n",
    "    image_tensors = (\n",
    "        torch.stack([transforms(image).unsqueeze(0) for image in preprocessed_images])\n",
    "        .squeeze(1)\n",
    "        .to(device)\n",
    "    )\n",
    "\n",
    "    # Move input data to the GPU\n",
    "    output = model(image_tensors)\n",
    "\n",
    "    # or equivalently (without needing to set num_classes=0)\n",
    "    output = model.forward_features(image_tensors)\n",
    "    output = model.forward_head(output, pre_logits=True)\n",
    "    embeddings = output.detach().cpu().numpy()\n",
    "\n",
    "    for j, embedding in enumerate(embeddings):\n",
    "        index = i + j  # Assuming 'index' is the index to update in the DataFrame\n",
    "        df.embedding[index] = embedding.tolist()"
   ]
  },
  {
   "cell_type": "code",
   "execution_count": 17,
   "metadata": {},
   "outputs": [],
   "source": [
    "# save df to pickle\n",
    "df.to_pickle(save_path)"
   ]
  },
  {
   "cell_type": "code",
   "execution_count": 18,
   "metadata": {},
   "outputs": [
    {
     "data": {
      "text/plain": [
       "0"
      ]
     },
     "execution_count": 18,
     "metadata": {},
     "output_type": "execute_result"
    }
   ],
   "source": [
    "# count embedding that is []\n",
    "df[\"embedding\"].apply(lambda x: x == []).sum()"
   ]
  },
  {
   "cell_type": "code",
   "execution_count": null,
   "metadata": {},
   "outputs": [],
   "source": []
  }
 ],
 "metadata": {
  "kernelspec": {
   "display_name": "chatgpt",
   "language": "python",
   "name": "python3"
  },
  "language_info": {
   "codemirror_mode": {
    "name": "ipython",
    "version": 3
   },
   "file_extension": ".py",
   "mimetype": "text/x-python",
   "name": "python",
   "nbconvert_exporter": "python",
   "pygments_lexer": "ipython3",
   "version": "3.11.4"
  },
  "orig_nbformat": 4
 },
 "nbformat": 4,
 "nbformat_minor": 2
}
