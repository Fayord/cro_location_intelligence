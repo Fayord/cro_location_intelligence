{
 "cells": [
  {
   "cell_type": "code",
   "execution_count": 1,
   "id": "8007cc7b-8b81-45bd-a02c-a35682ab23f1",
   "metadata": {},
   "outputs": [],
   "source": [
    "from selenium import webdriver\n",
    "from selenium.webdriver.common.by import By\n",
    "from selenium.webdriver.chrome.service import Service\n",
    "from selenium.webdriver.chrome.options import Options\n",
    "from webdriver_manager.chrome import ChromeDriverManager\n",
    "from selenium.webdriver.support.ui import WebDriverWait\n",
    "from selenium.webdriver.support import expected_conditions as EC\n",
    "from selenium.webdriver.common.action_chains import ActionChains\n",
    "from thefuzz import fuzz\n",
    "from tqdm.notebook import tqdm\n",
    "import time\n",
    "import json"
   ]
  },
  {
   "cell_type": "code",
   "execution_count": 2,
   "id": "4b673dc6-9158-4bab-a59f-df1d7e778bb8",
   "metadata": {},
   "outputs": [],
   "source": [
    "def create_driver(options=None):\n",
    "    # Set up Selenium options\n",
    "    if options is None:\n",
    "        options = Options()\n",
    "        # options.add_argument(\"--headless\")  # Run in headless mode if you don't need to see the browser\n",
    "        options.add_argument(\n",
    "            \"--disable-blink-features=AutomationControlled\", \"--disable-dev-shm-usage\"\n",
    "        )  # Avoid detection\n",
    "\n",
    "    # options.add_argument(\"--no-sandbox\")\n",
    "    # options.add_argument(\"--disable-dev-shm-usage\")\n",
    "    # options.add_argument(\"--start-maximized\")\n",
    "\n",
    "    # Path to your ChromeDriver\n",
    "\n",
    "    # Create a WebDriver instance\n",
    "    cService = webdriver.ChromeService(executable_path=ChromeDriverManager().install())\n",
    "    driver = webdriver.Chrome(service=cService, options=options)\n",
    "    return driver"
   ]
  },
  {
   "cell_type": "code",
   "execution_count": 3,
   "id": "28ef9df8-6889-401e-a3ad-efc4ea755df8",
   "metadata": {},
   "outputs": [],
   "source": [
    "keyword = \"เจ๊ม่วย ก๋วยเตี๋ยวเป็ดสุดซอย\"\n",
    "weblink = f\"https://www.google.com/maps/search/{keyword}/@12.5596999, 99.9615208,17z\"\n",
    "weblink = \"https://www.google.com/maps/search/ร้านเจ้ม๋วยก๋วยเตี๋ยวเป็ด/@14.58315600800006,100.99632440300007,13z\"\n",
    "options = Options()\n",
    "options.add_argument(\"--start-maximized\")\n",
    "options.add_argument(\"--force-device-scale-factor=1.5\")\n",
    "options.add_argument(\"--disable-dev-shm-usage\")"
   ]
  },
  {
   "cell_type": "code",
   "execution_count": null,
   "id": "9378243f",
   "metadata": {},
   "outputs": [],
   "source": [
    "place = \"banyan tree hotel\"\n",
    "weblink = f\"https://www.google.com/maps/search/{place}\""
   ]
  },
  {
   "cell_type": "code",
   "execution_count": 4,
   "id": "e7d3be43-2fcf-4465-8fe0-0be5c9fa0e22",
   "metadata": {
    "scrolled": true
   },
   "outputs": [
    {
     "ename": "SessionNotCreatedException",
     "evalue": "Message: session not created: Chrome failed to start: exited normally.\n  (session not created: DevToolsActivePort file doesn't exist)\n  (The process started from chrome location /opt/google/chrome/chrome is no longer running, so ChromeDriver is assuming that Chrome has crashed.)\nStacktrace:\n#0 0x557ab11448fa <unknown>\n#1 0x557ab0c55d20 <unknown>\n#2 0x557ab0c8d438 <unknown>\n#3 0x557ab0c88f96 <unknown>\n#4 0x557ab0cd4d86 <unknown>\n#5 0x557ab0cd43d6 <unknown>\n#6 0x557ab0cc8893 <unknown>\n#7 0x557ab0c9730d <unknown>\n#8 0x557ab0c9832e <unknown>\n#9 0x557ab111100b <unknown>\n#10 0x557ab1114f97 <unknown>\n#11 0x557ab10fd71c <unknown>\n#12 0x557ab1115b17 <unknown>\n#13 0x557ab10e26cf <unknown>\n#14 0x557ab11336b8 <unknown>\n#15 0x557ab1133880 <unknown>\n#16 0x557ab1143776 <unknown>\n#17 0x7fed6f664609 start_thread\n",
     "output_type": "error",
     "traceback": [
      "\u001b[0;31m---------------------------------------------------------------------------\u001b[0m",
      "\u001b[0;31mSessionNotCreatedException\u001b[0m                Traceback (most recent call last)",
      "Cell \u001b[0;32mIn[4], line 1\u001b[0m\n\u001b[0;32m----> 1\u001b[0m driver \u001b[38;5;241m=\u001b[39m \u001b[43mcreate_driver\u001b[49m\u001b[43m(\u001b[49m\u001b[43moptions\u001b[49m\u001b[43m)\u001b[49m\n\u001b[1;32m      2\u001b[0m \u001b[38;5;66;03m# Open the website\u001b[39;00m\n\u001b[1;32m      3\u001b[0m driver\u001b[38;5;241m.\u001b[39mget(weblink)\n",
      "Cell \u001b[0;32mIn[2], line 18\u001b[0m, in \u001b[0;36mcreate_driver\u001b[0;34m(options)\u001b[0m\n\u001b[1;32m     10\u001b[0m \u001b[38;5;66;03m# options.add_argument(\"--no-sandbox\")\u001b[39;00m\n\u001b[1;32m     11\u001b[0m \u001b[38;5;66;03m# options.add_argument(\"--disable-dev-shm-usage\")\u001b[39;00m\n\u001b[1;32m     12\u001b[0m \u001b[38;5;66;03m# options.add_argument(\"--start-maximized\")\u001b[39;00m\n\u001b[0;32m   (...)\u001b[0m\n\u001b[1;32m     15\u001b[0m \n\u001b[1;32m     16\u001b[0m \u001b[38;5;66;03m# Create a WebDriver instance\u001b[39;00m\n\u001b[1;32m     17\u001b[0m cService \u001b[38;5;241m=\u001b[39m webdriver\u001b[38;5;241m.\u001b[39mChromeService(executable_path\u001b[38;5;241m=\u001b[39mChromeDriverManager()\u001b[38;5;241m.\u001b[39minstall())\n\u001b[0;32m---> 18\u001b[0m driver \u001b[38;5;241m=\u001b[39m \u001b[43mwebdriver\u001b[49m\u001b[38;5;241;43m.\u001b[39;49m\u001b[43mChrome\u001b[49m\u001b[43m(\u001b[49m\u001b[43mservice\u001b[49m\u001b[38;5;241;43m=\u001b[39;49m\u001b[43mcService\u001b[49m\u001b[43m,\u001b[49m\u001b[43m \u001b[49m\u001b[43moptions\u001b[49m\u001b[38;5;241;43m=\u001b[39;49m\u001b[43moptions\u001b[49m\u001b[43m)\u001b[49m\n\u001b[1;32m     19\u001b[0m \u001b[38;5;28;01mreturn\u001b[39;00m driver\n",
      "File \u001b[0;32m~/miniconda3/lib/python3.12/site-packages/selenium/webdriver/chrome/webdriver.py:45\u001b[0m, in \u001b[0;36mWebDriver.__init__\u001b[0;34m(self, options, service, keep_alive)\u001b[0m\n\u001b[1;32m     42\u001b[0m service \u001b[38;5;241m=\u001b[39m service \u001b[38;5;28;01mif\u001b[39;00m service \u001b[38;5;28;01melse\u001b[39;00m Service()\n\u001b[1;32m     43\u001b[0m options \u001b[38;5;241m=\u001b[39m options \u001b[38;5;28;01mif\u001b[39;00m options \u001b[38;5;28;01melse\u001b[39;00m Options()\n\u001b[0;32m---> 45\u001b[0m \u001b[38;5;28;43msuper\u001b[39;49m\u001b[43m(\u001b[49m\u001b[43m)\u001b[49m\u001b[38;5;241;43m.\u001b[39;49m\u001b[38;5;21;43m__init__\u001b[39;49m\u001b[43m(\u001b[49m\n\u001b[1;32m     46\u001b[0m \u001b[43m    \u001b[49m\u001b[43mbrowser_name\u001b[49m\u001b[38;5;241;43m=\u001b[39;49m\u001b[43mDesiredCapabilities\u001b[49m\u001b[38;5;241;43m.\u001b[39;49m\u001b[43mCHROME\u001b[49m\u001b[43m[\u001b[49m\u001b[38;5;124;43m\"\u001b[39;49m\u001b[38;5;124;43mbrowserName\u001b[39;49m\u001b[38;5;124;43m\"\u001b[39;49m\u001b[43m]\u001b[49m\u001b[43m,\u001b[49m\n\u001b[1;32m     47\u001b[0m \u001b[43m    \u001b[49m\u001b[43mvendor_prefix\u001b[49m\u001b[38;5;241;43m=\u001b[39;49m\u001b[38;5;124;43m\"\u001b[39;49m\u001b[38;5;124;43mgoog\u001b[39;49m\u001b[38;5;124;43m\"\u001b[39;49m\u001b[43m,\u001b[49m\n\u001b[1;32m     48\u001b[0m \u001b[43m    \u001b[49m\u001b[43moptions\u001b[49m\u001b[38;5;241;43m=\u001b[39;49m\u001b[43moptions\u001b[49m\u001b[43m,\u001b[49m\n\u001b[1;32m     49\u001b[0m \u001b[43m    \u001b[49m\u001b[43mservice\u001b[49m\u001b[38;5;241;43m=\u001b[39;49m\u001b[43mservice\u001b[49m\u001b[43m,\u001b[49m\n\u001b[1;32m     50\u001b[0m \u001b[43m    \u001b[49m\u001b[43mkeep_alive\u001b[49m\u001b[38;5;241;43m=\u001b[39;49m\u001b[43mkeep_alive\u001b[49m\u001b[43m,\u001b[49m\n\u001b[1;32m     51\u001b[0m \u001b[43m\u001b[49m\u001b[43m)\u001b[49m\n",
      "File \u001b[0;32m~/miniconda3/lib/python3.12/site-packages/selenium/webdriver/chromium/webdriver.py:66\u001b[0m, in \u001b[0;36mChromiumDriver.__init__\u001b[0;34m(self, browser_name, vendor_prefix, options, service, keep_alive)\u001b[0m\n\u001b[1;32m     57\u001b[0m executor \u001b[38;5;241m=\u001b[39m ChromiumRemoteConnection(\n\u001b[1;32m     58\u001b[0m     remote_server_addr\u001b[38;5;241m=\u001b[39m\u001b[38;5;28mself\u001b[39m\u001b[38;5;241m.\u001b[39mservice\u001b[38;5;241m.\u001b[39mservice_url,\n\u001b[1;32m     59\u001b[0m     browser_name\u001b[38;5;241m=\u001b[39mbrowser_name,\n\u001b[0;32m   (...)\u001b[0m\n\u001b[1;32m     62\u001b[0m     ignore_proxy\u001b[38;5;241m=\u001b[39moptions\u001b[38;5;241m.\u001b[39m_ignore_local_proxy,\n\u001b[1;32m     63\u001b[0m )\n\u001b[1;32m     65\u001b[0m \u001b[38;5;28;01mtry\u001b[39;00m:\n\u001b[0;32m---> 66\u001b[0m     \u001b[38;5;28;43msuper\u001b[39;49m\u001b[43m(\u001b[49m\u001b[43m)\u001b[49m\u001b[38;5;241;43m.\u001b[39;49m\u001b[38;5;21;43m__init__\u001b[39;49m\u001b[43m(\u001b[49m\u001b[43mcommand_executor\u001b[49m\u001b[38;5;241;43m=\u001b[39;49m\u001b[43mexecutor\u001b[49m\u001b[43m,\u001b[49m\u001b[43m \u001b[49m\u001b[43moptions\u001b[49m\u001b[38;5;241;43m=\u001b[39;49m\u001b[43moptions\u001b[49m\u001b[43m)\u001b[49m\n\u001b[1;32m     67\u001b[0m \u001b[38;5;28;01mexcept\u001b[39;00m \u001b[38;5;167;01mException\u001b[39;00m:\n\u001b[1;32m     68\u001b[0m     \u001b[38;5;28mself\u001b[39m\u001b[38;5;241m.\u001b[39mquit()\n",
      "File \u001b[0;32m~/miniconda3/lib/python3.12/site-packages/selenium/webdriver/remote/webdriver.py:241\u001b[0m, in \u001b[0;36mWebDriver.__init__\u001b[0;34m(self, command_executor, keep_alive, file_detector, options, locator_converter, web_element_cls, client_config)\u001b[0m\n\u001b[1;32m    239\u001b[0m \u001b[38;5;28mself\u001b[39m\u001b[38;5;241m.\u001b[39m_authenticator_id \u001b[38;5;241m=\u001b[39m \u001b[38;5;28;01mNone\u001b[39;00m\n\u001b[1;32m    240\u001b[0m \u001b[38;5;28mself\u001b[39m\u001b[38;5;241m.\u001b[39mstart_client()\n\u001b[0;32m--> 241\u001b[0m \u001b[38;5;28;43mself\u001b[39;49m\u001b[38;5;241;43m.\u001b[39;49m\u001b[43mstart_session\u001b[49m\u001b[43m(\u001b[49m\u001b[43mcapabilities\u001b[49m\u001b[43m)\u001b[49m\n\u001b[1;32m    242\u001b[0m \u001b[38;5;28mself\u001b[39m\u001b[38;5;241m.\u001b[39m_fedcm \u001b[38;5;241m=\u001b[39m FedCM(\u001b[38;5;28mself\u001b[39m)\n\u001b[1;32m    244\u001b[0m \u001b[38;5;28mself\u001b[39m\u001b[38;5;241m.\u001b[39m_websocket_connection \u001b[38;5;241m=\u001b[39m \u001b[38;5;28;01mNone\u001b[39;00m\n",
      "File \u001b[0;32m~/miniconda3/lib/python3.12/site-packages/selenium/webdriver/remote/webdriver.py:329\u001b[0m, in \u001b[0;36mWebDriver.start_session\u001b[0;34m(self, capabilities)\u001b[0m\n\u001b[1;32m    322\u001b[0m \u001b[38;5;250m\u001b[39m\u001b[38;5;124;03m\"\"\"Creates a new session with the desired capabilities.\u001b[39;00m\n\u001b[1;32m    323\u001b[0m \n\u001b[1;32m    324\u001b[0m \u001b[38;5;124;03m:Args:\u001b[39;00m\n\u001b[1;32m    325\u001b[0m \u001b[38;5;124;03m - capabilities - a capabilities dict to start the session with.\u001b[39;00m\n\u001b[1;32m    326\u001b[0m \u001b[38;5;124;03m\"\"\"\u001b[39;00m\n\u001b[1;32m    328\u001b[0m caps \u001b[38;5;241m=\u001b[39m _create_caps(capabilities)\n\u001b[0;32m--> 329\u001b[0m response \u001b[38;5;241m=\u001b[39m \u001b[38;5;28;43mself\u001b[39;49m\u001b[38;5;241;43m.\u001b[39;49m\u001b[43mexecute\u001b[49m\u001b[43m(\u001b[49m\u001b[43mCommand\u001b[49m\u001b[38;5;241;43m.\u001b[39;49m\u001b[43mNEW_SESSION\u001b[49m\u001b[43m,\u001b[49m\u001b[43m \u001b[49m\u001b[43mcaps\u001b[49m\u001b[43m)\u001b[49m[\u001b[38;5;124m\"\u001b[39m\u001b[38;5;124mvalue\u001b[39m\u001b[38;5;124m\"\u001b[39m]\n\u001b[1;32m    330\u001b[0m \u001b[38;5;28mself\u001b[39m\u001b[38;5;241m.\u001b[39msession_id \u001b[38;5;241m=\u001b[39m response\u001b[38;5;241m.\u001b[39mget(\u001b[38;5;124m\"\u001b[39m\u001b[38;5;124msessionId\u001b[39m\u001b[38;5;124m\"\u001b[39m)\n\u001b[1;32m    331\u001b[0m \u001b[38;5;28mself\u001b[39m\u001b[38;5;241m.\u001b[39mcaps \u001b[38;5;241m=\u001b[39m response\u001b[38;5;241m.\u001b[39mget(\u001b[38;5;124m\"\u001b[39m\u001b[38;5;124mcapabilities\u001b[39m\u001b[38;5;124m\"\u001b[39m)\n",
      "File \u001b[0;32m~/miniconda3/lib/python3.12/site-packages/selenium/webdriver/remote/webdriver.py:384\u001b[0m, in \u001b[0;36mWebDriver.execute\u001b[0;34m(self, driver_command, params)\u001b[0m\n\u001b[1;32m    382\u001b[0m response \u001b[38;5;241m=\u001b[39m \u001b[38;5;28mself\u001b[39m\u001b[38;5;241m.\u001b[39mcommand_executor\u001b[38;5;241m.\u001b[39mexecute(driver_command, params)\n\u001b[1;32m    383\u001b[0m \u001b[38;5;28;01mif\u001b[39;00m response:\n\u001b[0;32m--> 384\u001b[0m     \u001b[38;5;28;43mself\u001b[39;49m\u001b[38;5;241;43m.\u001b[39;49m\u001b[43merror_handler\u001b[49m\u001b[38;5;241;43m.\u001b[39;49m\u001b[43mcheck_response\u001b[49m\u001b[43m(\u001b[49m\u001b[43mresponse\u001b[49m\u001b[43m)\u001b[49m\n\u001b[1;32m    385\u001b[0m     response[\u001b[38;5;124m\"\u001b[39m\u001b[38;5;124mvalue\u001b[39m\u001b[38;5;124m\"\u001b[39m] \u001b[38;5;241m=\u001b[39m \u001b[38;5;28mself\u001b[39m\u001b[38;5;241m.\u001b[39m_unwrap_value(response\u001b[38;5;241m.\u001b[39mget(\u001b[38;5;124m\"\u001b[39m\u001b[38;5;124mvalue\u001b[39m\u001b[38;5;124m\"\u001b[39m, \u001b[38;5;28;01mNone\u001b[39;00m))\n\u001b[1;32m    386\u001b[0m     \u001b[38;5;28;01mreturn\u001b[39;00m response\n",
      "File \u001b[0;32m~/miniconda3/lib/python3.12/site-packages/selenium/webdriver/remote/errorhandler.py:232\u001b[0m, in \u001b[0;36mErrorHandler.check_response\u001b[0;34m(self, response)\u001b[0m\n\u001b[1;32m    230\u001b[0m         alert_text \u001b[38;5;241m=\u001b[39m value[\u001b[38;5;124m\"\u001b[39m\u001b[38;5;124malert\u001b[39m\u001b[38;5;124m\"\u001b[39m]\u001b[38;5;241m.\u001b[39mget(\u001b[38;5;124m\"\u001b[39m\u001b[38;5;124mtext\u001b[39m\u001b[38;5;124m\"\u001b[39m)\n\u001b[1;32m    231\u001b[0m     \u001b[38;5;28;01mraise\u001b[39;00m exception_class(message, screen, stacktrace, alert_text)  \u001b[38;5;66;03m# type: ignore[call-arg]  # mypy is not smart enough here\u001b[39;00m\n\u001b[0;32m--> 232\u001b[0m \u001b[38;5;28;01mraise\u001b[39;00m exception_class(message, screen, stacktrace)\n",
      "\u001b[0;31mSessionNotCreatedException\u001b[0m: Message: session not created: Chrome failed to start: exited normally.\n  (session not created: DevToolsActivePort file doesn't exist)\n  (The process started from chrome location /opt/google/chrome/chrome is no longer running, so ChromeDriver is assuming that Chrome has crashed.)\nStacktrace:\n#0 0x557ab11448fa <unknown>\n#1 0x557ab0c55d20 <unknown>\n#2 0x557ab0c8d438 <unknown>\n#3 0x557ab0c88f96 <unknown>\n#4 0x557ab0cd4d86 <unknown>\n#5 0x557ab0cd43d6 <unknown>\n#6 0x557ab0cc8893 <unknown>\n#7 0x557ab0c9730d <unknown>\n#8 0x557ab0c9832e <unknown>\n#9 0x557ab111100b <unknown>\n#10 0x557ab1114f97 <unknown>\n#11 0x557ab10fd71c <unknown>\n#12 0x557ab1115b17 <unknown>\n#13 0x557ab10e26cf <unknown>\n#14 0x557ab11336b8 <unknown>\n#15 0x557ab1133880 <unknown>\n#16 0x557ab1143776 <unknown>\n#17 0x7fed6f664609 start_thread\n"
     ]
    }
   ],
   "source": [
    "driver = create_driver(options)\n",
    "# Open the website\n",
    "driver.get(weblink)\n",
    "\n",
    "# Wait for Cloudflare's challenge to be bypassed\n",
    "time.sleep(1)  # Adjust the sleep time as needed based on the challenge duration\n",
    "\n",
    "# Example: Scraping the page title\n",
    "page_title = driver.title\n",
    "# print(f\"Page Title: {page_title}\")\n",
    "\n",
    "# Example: Scraping specific elements\n",
    "feeds = driver.find_elements(By.XPATH, \"//div[@role='feed']\")\n",
    "poi_title = None\n",
    "if len(feeds) > 0:\n",
    "    feed_divs = feeds[0].find_elements(\n",
    "        By.XPATH,\n",
    "        \"//div[contains(@jsaction, 'mouseover:pane') and contains(@jsaction, 'mouseout:pane')]\",\n",
    "    )\n",
    "    count = 0\n",
    "\n",
    "    for feed_div in feed_divs:\n",
    "        if count == 1:\n",
    "            feed_div.click()\n",
    "            break\n",
    "\n",
    "        if keyword in feed_div.text:\n",
    "            count += 1\n",
    "\n",
    "    poi_title = feed_divs[0].text\n",
    "\n",
    "review_starts = driver.find_elements(\n",
    "    By.XPATH, \"//div[contains(@jsaction, '.moreReviews')]\"\n",
    ")\n",
    "if len(review_starts) > 0:\n",
    "    review_starts[0].click()\n",
    "\n",
    "anchor_tag = WebDriverWait(driver, 5).until(\n",
    "    EC.presence_of_element_located((By.XPATH, \"//div[@role='tablist']\"))\n",
    ")\n",
    "button_tags = anchor_tag.find_elements(By.TAG_NAME, \"button\")\n",
    "\n",
    "dead_letter = 0\n",
    "while len(button_tags) == 2 and dead_letter <= 10:\n",
    "    time.sleep(0.2)\n",
    "    button_tags = anchor_tag.find_elements(By.TAG_NAME, \"button\")\n",
    "    dead_letter += 1\n",
    "\n",
    "if len(button_tags) == 3:\n",
    "    driver.execute_script(\n",
    "        \"arguments[0].scrollIntoView({block: 'center'});\", button_tags[1]\n",
    "    )\n",
    "    button_tags[1].click()\n",
    "if len(button_tags) == 4:\n",
    "    driver.execute_script(\n",
    "        \"arguments[0].scrollIntoView({block: 'center'});\", button_tags[2]\n",
    "    )\n",
    "    button_tags[2].click()\n",
    "\n",
    "relevant_element = WebDriverWait(driver, 5).until(\n",
    "    EC.presence_of_element_located((By.XPATH, \"//button[@aria-label='เกี่ยวข้องที่สุด']\"))\n",
    ")\n",
    "relevant_element.click()\n",
    "\n",
    "menu_items = []\n",
    "WebDriverWait(driver, 5).until(\n",
    "    EC.presence_of_element_located((By.XPATH, \"//div[@role='menuitemradio']\"))\n",
    ")\n",
    "menu_items = driver.find_elements(By.XPATH, \"//div[@role='menuitemradio']\")\n",
    "menu_items[1].click()\n",
    "\n",
    "prev_len_scroll_element = -1\n",
    "sleep = 0.2\n",
    "scroll_elements = []\n",
    "while True:\n",
    "    jslog = WebDriverWait(driver, 5).until(\n",
    "        EC.presence_of_element_located(\n",
    "            (By.XPATH, \"//div[@jslog='26354;mutable:true;']\")\n",
    "        )\n",
    "    )\n",
    "    scroll_elements = jslog.find_elements(By.TAG_NAME, \"span\")\n",
    "    if len(scroll_elements) == prev_len_scroll_element:\n",
    "        div_elements = jslog.find_elements(By.TAG_NAME, \"div\")\n",
    "        if div_elements[-2].text == \" \" or sleep > 120:\n",
    "            break\n",
    "        time.sleep(sleep)\n",
    "        sleep = sleep * 2\n",
    "        continue\n",
    "    sleep = 0.2\n",
    "    driver.execute_script(\"arguments[0].scrollIntoView(true);\", scroll_elements[-1])\n",
    "    prev_len_scroll_element = len(scroll_elements)\n",
    "    time.sleep(0.2)\n",
    "\n",
    "review_elements = driver.find_elements(By.CSS_SELECTOR, \"div.fontBodyMedium\")\n",
    "years = review_elements[-1].find_elements(By.TAG_NAME, \"span\")\n",
    "year_text = [year.text for year in years]\n",
    "\n",
    "all_reviews = [i.text.replace(\"\\n\", \"|\").replace(\"\\t\", \";\") for i in review_elements]\n",
    "last_review_text = \":\".join(year_text).replace(\"\\n\", \"|\").replace(\"\\t\", \";\")\n",
    "print(year_text)"
   ]
  },
  {
   "cell_type": "code",
   "execution_count": null,
   "id": "270f241f-cf68-4a33-bd0b-de00802ea5a3",
   "metadata": {},
   "outputs": [],
   "source": []
  },
  {
   "cell_type": "code",
   "execution_count": null,
   "id": "ba741080-ce27-4071-bbb6-af2312350dff",
   "metadata": {},
   "outputs": [],
   "source": []
  },
  {
   "cell_type": "code",
   "execution_count": 256,
   "id": "825ea344-4edf-4c7a-96f7-c20005c8b24d",
   "metadata": {},
   "outputs": [
    {
     "data": {
      "text/plain": [
       "265"
      ]
     },
     "execution_count": 256,
     "metadata": {},
     "output_type": "execute_result"
    }
   ],
   "source": [
    "len(review_elements)"
   ]
  },
  {
   "cell_type": "code",
   "execution_count": 12,
   "id": "20cfc9a7-3c63-4587-b16d-72d79138106b",
   "metadata": {},
   "outputs": [
    {
     "ename": "NameError",
     "evalue": "name 'driver' is not defined",
     "output_type": "error",
     "traceback": [
      "\u001b[0;31m---------------------------------------------------------------------------\u001b[0m",
      "\u001b[0;31mNameError\u001b[0m                                 Traceback (most recent call last)",
      "Cell \u001b[0;32mIn[12], line 1\u001b[0m\n\u001b[0;32m----> 1\u001b[0m \u001b[43mdriver\u001b[49m\u001b[38;5;241m.\u001b[39mquit()\n",
      "\u001b[0;31mNameError\u001b[0m: name 'driver' is not defined"
     ]
    }
   ],
   "source": [
    "driver.quit()x"
   ]
  },
  {
   "cell_type": "code",
   "execution_count": null,
   "id": "9f3e4ea6-a721-4ae1-8d4d-56cf3b83126e",
   "metadata": {},
   "outputs": [],
   "source": []
  }
 ],
 "metadata": {
  "kernelspec": {
   "display_name": "base",
   "language": "python",
   "name": "python3"
  },
  "language_info": {
   "codemirror_mode": {
    "name": "ipython",
    "version": 3
   },
   "file_extension": ".py",
   "mimetype": "text/x-python",
   "name": "python",
   "nbconvert_exporter": "python",
   "pygments_lexer": "ipython3",
   "version": "3.12.2"
  }
 },
 "nbformat": 4,
 "nbformat_minor": 5
}
