{
 "cells": [
  {
   "cell_type": "code",
   "execution_count": 1,
   "metadata": {},
   "outputs": [],
   "source": [
    "from pyiceberg.catalog import load_catalog\n",
    "from pyiceberg.schema import Schema\n",
    "from pyiceberg.types import (\n",
    "    NestedField,\n",
    "    StringType,\n",
    "    DoubleType,\n",
    "    ListType,\n",
    "    StructType,\n",
    "    LongType,\n",
    "    IntegerType,\n",
    ")"
   ]
  },
  {
   "cell_type": "code",
   "execution_count": 2,
   "metadata": {},
   "outputs": [],
   "source": [
    "osm_data_schema = Schema(\n",
    "    NestedField(\n",
    "        field_id=1, name=\"business_id\", field_type=StringType(), optional=False\n",
    "    ),\n",
    ")"
   ]
  },
  {
   "cell_type": "code",
   "execution_count": 3,
   "metadata": {},
   "outputs": [],
   "source": [
    "catalog = load_catalog(\n",
    "    \"nessie\",\n",
    "    **{\n",
    "        \"uri\": \"http://172.16.100.64:19120/iceberg/main/\",\n",
    "        \"s3.endpoint\": \"http://172.16.100.64:9000\",\n",
    "        \"s3.access-key-id\": \"ZXPByJUzucJ7Y9OkwUhl\",\n",
    "        \"s3.secret-access-key\": \"OSE2YujEDOCvdZR5Gi6pXarB6zja5pvPW6QRHTgl\",\n",
    "    },\n",
    ")"
   ]
  },
  {
   "cell_type": "code",
   "execution_count": 4,
   "metadata": {},
   "outputs": [],
   "source": [
    "table_test_name = f\"scraping.osm_test_data\""
   ]
  },
  {
   "cell_type": "code",
   "execution_count": 5,
   "metadata": {},
   "outputs": [
    {
     "data": {
      "text/plain": [
       "nessie (<class 'pyiceberg.catalog.rest.RestCatalog'>)"
      ]
     },
     "execution_count": 5,
     "metadata": {},
     "output_type": "execute_result"
    }
   ],
   "source": [
    "catalog"
   ]
  },
  {
   "cell_type": "code",
   "execution_count": 6,
   "metadata": {},
   "outputs": [],
   "source": [
    "import pyarrow as pa\n",
    "import pandas as pd\n",
    "\n",
    "table = catalog.create_table_if_not_exists(table_test_name, schema=osm_data_schema)\n",
    "all_mapper_data = [\"test\"]\n",
    "mapper_ddf = pa.Table.from_pandas(\n",
    "    pd.DataFrame(all_mapper_data, columns=[\"business_id\"])\n",
    ")\n",
    "table.append(mapper_ddf)"
   ]
  },
  {
   "cell_type": "code",
   "execution_count": 7,
   "metadata": {},
   "outputs": [],
   "source": []
  },
  {
   "cell_type": "code",
   "execution_count": 8,
   "metadata": {},
   "outputs": [],
   "source": []
  },
  {
   "cell_type": "code",
   "execution_count": 7,
   "metadata": {},
   "outputs": [],
   "source": [
    "table_scan = table.scan()"
   ]
  },
  {
   "cell_type": "code",
   "execution_count": null,
   "metadata": {},
   "outputs": [],
   "source": []
  },
  {
   "cell_type": "code",
   "execution_count": 8,
   "metadata": {},
   "outputs": [
    {
     "data": {
      "text/html": [
       "<div>\n",
       "<style scoped>\n",
       "    .dataframe tbody tr th:only-of-type {\n",
       "        vertical-align: middle;\n",
       "    }\n",
       "\n",
       "    .dataframe tbody tr th {\n",
       "        vertical-align: top;\n",
       "    }\n",
       "\n",
       "    .dataframe thead th {\n",
       "        text-align: right;\n",
       "    }\n",
       "</style>\n",
       "<table border=\"1\" class=\"dataframe\">\n",
       "  <thead>\n",
       "    <tr style=\"text-align: right;\">\n",
       "      <th></th>\n",
       "      <th>business_id</th>\n",
       "    </tr>\n",
       "  </thead>\n",
       "  <tbody>\n",
       "    <tr>\n",
       "      <th>0</th>\n",
       "      <td>test</td>\n",
       "    </tr>\n",
       "  </tbody>\n",
       "</table>\n",
       "</div>"
      ],
      "text/plain": [
       "  business_id\n",
       "0        test"
      ]
     },
     "execution_count": 8,
     "metadata": {},
     "output_type": "execute_result"
    }
   ],
   "source": [
    "df = table_scan.to_pandas()\n",
    "df"
   ]
  },
  {
   "cell_type": "code",
   "execution_count": 9,
   "metadata": {},
   "outputs": [],
   "source": [
    "catalog.drop_table(table_test_name)"
   ]
  },
  {
   "cell_type": "code",
   "execution_count": 10,
   "metadata": {},
   "outputs": [
    {
     "name": "stdout",
     "output_type": "stream",
     "text": [
      "delete success\n"
     ]
    }
   ],
   "source": [
    "from pyiceberg.exceptions import NoSuchTableError\n",
    "\n",
    "try:\n",
    "    table.refresh()\n",
    "except NoSuchTableError:\n",
    "    print(\"delete success\")"
   ]
  },
  {
   "cell_type": "code",
   "execution_count": 11,
   "metadata": {},
   "outputs": [],
   "source": [
    "sample_7_data_path = \"/home/thanatorn/coding/cro_location_intelligence/extract_poi_data/data/2024_11_data_7_eleven/road_info/5.pkl\""
   ]
  },
  {
   "cell_type": "code",
   "execution_count": 12,
   "metadata": {},
   "outputs": [
    {
     "name": "stdout",
     "output_type": "stream",
     "text": [
      "<class 'geopandas.geodataframe.GeoDataFrame'>\n",
      "RangeIndex: 100 entries, 0 to 99\n",
      "Data columns (total 49 columns):\n",
      " #   Column                         Non-Null Count  Dtype   \n",
      "---  ------                         --------------  -----   \n",
      " 0   road_geometry                  100 non-null    geometry\n",
      " 1   road_length                    100 non-null    float64 \n",
      " 2   road_length_service            100 non-null    float64 \n",
      " 3   road_length_residential        100 non-null    float64 \n",
      " 4   road_length_tertiary           100 non-null    float64 \n",
      " 5   road_length_secondary          100 non-null    float64 \n",
      " 6   road_length_unclassified       100 non-null    float64 \n",
      " 7   road_length_motorway_link      100 non-null    float64 \n",
      " 8   road_length_motorway           100 non-null    float64 \n",
      " 9   road_length_motorway_junction  100 non-null    float64 \n",
      " 10  road_length_services           100 non-null    float64 \n",
      " 11  road_length_footway            100 non-null    float64 \n",
      " 12  road_length_secondary_link     100 non-null    float64 \n",
      " 13  road_length_cycleway           100 non-null    float64 \n",
      " 14  road_length_path               100 non-null    float64 \n",
      " 15  road_length_bus_stop           100 non-null    float64 \n",
      " 16  road_length_crossing           100 non-null    float64 \n",
      " 17  road_length_steps              100 non-null    float64 \n",
      " 18  road_length_trunk_link         100 non-null    float64 \n",
      " 19  road_length_trunk              100 non-null    float64 \n",
      " 20  road_length_traffic_signals    100 non-null    float64 \n",
      " 21  road_length_track              100 non-null    float64 \n",
      " 22  road_length_turning_circle     100 non-null    float64 \n",
      " 23  grid_lat_id                    100 non-null    float64 \n",
      " 24  grid_lon_id                    100 non-null    float64 \n",
      " 25  building_geometry              100 non-null    geometry\n",
      " 26  building_area                  100 non-null    float64 \n",
      " 27  building_area_yes              100 non-null    float64 \n",
      " 28  building_area_house            100 non-null    float64 \n",
      " 29  building_area_roof             100 non-null    float64 \n",
      " 30  building_area_apartments       100 non-null    float64 \n",
      " 31  building_area_residential      100 non-null    float64 \n",
      " 32  building_area_commercial       100 non-null    float64 \n",
      " 33  building_area_office           100 non-null    float64 \n",
      " 34  building_area_no               100 non-null    float64 \n",
      " 35  building_area_warehouse        100 non-null    float64 \n",
      " 36  building_area_garages          100 non-null    float64 \n",
      " 37  building_area_hotel            100 non-null    float64 \n",
      " 38  building_area_train_station    100 non-null    float64 \n",
      " 39  building_area_garage           100 non-null    float64 \n",
      " 40  building_area_condominium      100 non-null    float64 \n",
      " 41  building_area_retail           100 non-null    float64 \n",
      " 42  building_area_hospital         100 non-null    float64 \n",
      " 43  building_area_industrial       100 non-null    float64 \n",
      " 44  building_area_terrace          100 non-null    float64 \n",
      " 45  building_area_carport          100 non-null    float64 \n",
      " 46  building_area_service          100 non-null    float64 \n",
      " 47  building_area_school           100 non-null    float64 \n",
      " 48  store_id                       100 non-null    int64   \n",
      "dtypes: float64(46), geometry(2), int64(1)\n",
      "memory usage: 38.4 KB\n"
     ]
    }
   ],
   "source": [
    "import pandas as pd\n",
    "\n",
    "sample_7_data = pd.read_pickle(sample_7_data_path)\n",
    "sample_7_data.info()"
   ]
  },
  {
   "cell_type": "code",
   "execution_count": 13,
   "metadata": {},
   "outputs": [
    {
     "data": {
      "text/plain": [
       "shapely.geometry.polygon.Polygon"
      ]
     },
     "execution_count": 13,
     "metadata": {},
     "output_type": "execute_result"
    }
   ],
   "source": [
    "sample_7_data_geometry = sample_7_data.road_geometry[0]\n",
    "type(sample_7_data_geometry)"
   ]
  },
  {
   "cell_type": "code",
   "execution_count": 14,
   "metadata": {},
   "outputs": [
    {
     "name": "stdout",
     "output_type": "stream",
     "text": [
      "[(0.0, 0.0), (1.0, 0.0), (1.0, 1.0), (0.0, 1.0)]\n",
      "True\n"
     ]
    }
   ],
   "source": [
    "from shapely.geometry import Polygon\n",
    "\n",
    "\n",
    "def polygon_to_list(polygon):\n",
    "    \"\"\"\n",
    "    Converts a Shapely Polygon object to a list of coordinates.\n",
    "\n",
    "    Args:\n",
    "        polygon: A Shapely Polygon object.\n",
    "\n",
    "    Returns:\n",
    "        A list of coordinates, where each coordinate is a tuple of (x, y) floats.\n",
    "    \"\"\"\n",
    "    coords = list(polygon.exterior.coords)\n",
    "    # Remove the duplicate first and last coordinate\n",
    "    return coords[:-1]\n",
    "\n",
    "\n",
    "# Example usage:\n",
    "polygon = Polygon([(0, 0), (1, 0), (1, 1), (0, 1)])\n",
    "coordinates = polygon_to_list(polygon)\n",
    "print(coordinates)  # Output: [(0.0, 0.0), (1.0, 0.0), (1.0, 1.0), (0.0, 1.0)]\n",
    "converted_polygon = Polygon(coordinates)\n",
    "print(converted_polygon == polygon)"
   ]
  },
  {
   "cell_type": "code",
   "execution_count": 15,
   "metadata": {},
   "outputs": [
    {
     "data": {
      "text/plain": [
       "np.True_"
      ]
     },
     "execution_count": 15,
     "metadata": {},
     "output_type": "execute_result"
    }
   ],
   "source": [
    "coverted_sample_7_data_geometry = Polygon(polygon_to_list(sample_7_data_geometry))\n",
    "sample_7_data_geometry == coverted_sample_7_data_geometry"
   ]
  },
  {
   "cell_type": "code",
   "execution_count": 16,
   "metadata": {},
   "outputs": [],
   "source": [
    "# for column \"road_geometry\" apply polygon_to_list\n",
    "sample_7_data[\"road_geometry\"] = sample_7_data[\"road_geometry\"].apply(\n",
    "    lambda x: polygon_to_list(x)\n",
    ")\n",
    "sample_7_data[\"building_geometry\"] = sample_7_data[\"building_geometry\"].apply(\n",
    "    lambda x: polygon_to_list(x)\n",
    ")"
   ]
  },
  {
   "cell_type": "code",
   "execution_count": 17,
   "metadata": {},
   "outputs": [
    {
     "data": {
      "text/plain": [
       "0     [(11197920.0, 1536047.0), (11197920.0, 1535547...\n",
       "1     [(11198420.0, 1536047.0), (11198420.0, 1535547...\n",
       "2     [(11198920.0, 1536047.0), (11198920.0, 1535547...\n",
       "3     [(11199420.0, 1536047.0), (11199420.0, 1535547...\n",
       "4     [(11199920.0, 1536047.0), (11199920.0, 1535547...\n",
       "                            ...                        \n",
       "95    [(11200420.0, 1540547.0), (11200420.0, 1540047...\n",
       "96    [(11200920.0, 1540547.0), (11200920.0, 1540047...\n",
       "97    [(11201420.0, 1540547.0), (11201420.0, 1540047...\n",
       "98    [(11201920.0, 1540547.0), (11201920.0, 1540047...\n",
       "99    [(11202420.0, 1540547.0), (11202420.0, 1540047...\n",
       "Name: road_geometry, Length: 100, dtype: object"
      ]
     },
     "execution_count": 17,
     "metadata": {},
     "output_type": "execute_result"
    }
   ],
   "source": [
    "sample_7_data.road_geometry"
   ]
  },
  {
   "cell_type": "code",
   "execution_count": 18,
   "metadata": {},
   "outputs": [
    {
     "name": "stdout",
     "output_type": "stream",
     "text": [
      "<class 'geopandas.geodataframe.GeoDataFrame'>\n",
      "RangeIndex: 100 entries, 0 to 99\n",
      "Data columns (total 49 columns):\n",
      " #   Column                         Non-Null Count  Dtype  \n",
      "---  ------                         --------------  -----  \n",
      " 0   road_geometry                  100 non-null    object \n",
      " 1   road_length                    100 non-null    float64\n",
      " 2   road_length_service            100 non-null    float64\n",
      " 3   road_length_residential        100 non-null    float64\n",
      " 4   road_length_tertiary           100 non-null    float64\n",
      " 5   road_length_secondary          100 non-null    float64\n",
      " 6   road_length_unclassified       100 non-null    float64\n",
      " 7   road_length_motorway_link      100 non-null    float64\n",
      " 8   road_length_motorway           100 non-null    float64\n",
      " 9   road_length_motorway_junction  100 non-null    float64\n",
      " 10  road_length_services           100 non-null    float64\n",
      " 11  road_length_footway            100 non-null    float64\n",
      " 12  road_length_secondary_link     100 non-null    float64\n",
      " 13  road_length_cycleway           100 non-null    float64\n",
      " 14  road_length_path               100 non-null    float64\n",
      " 15  road_length_bus_stop           100 non-null    float64\n",
      " 16  road_length_crossing           100 non-null    float64\n",
      " 17  road_length_steps              100 non-null    float64\n",
      " 18  road_length_trunk_link         100 non-null    float64\n",
      " 19  road_length_trunk              100 non-null    float64\n",
      " 20  road_length_traffic_signals    100 non-null    float64\n",
      " 21  road_length_track              100 non-null    float64\n",
      " 22  road_length_turning_circle     100 non-null    float64\n",
      " 23  grid_lat_id                    100 non-null    float64\n",
      " 24  grid_lon_id                    100 non-null    float64\n",
      " 25  building_geometry              100 non-null    object \n",
      " 26  building_area                  100 non-null    float64\n",
      " 27  building_area_yes              100 non-null    float64\n",
      " 28  building_area_house            100 non-null    float64\n",
      " 29  building_area_roof             100 non-null    float64\n",
      " 30  building_area_apartments       100 non-null    float64\n",
      " 31  building_area_residential      100 non-null    float64\n",
      " 32  building_area_commercial       100 non-null    float64\n",
      " 33  building_area_office           100 non-null    float64\n",
      " 34  building_area_no               100 non-null    float64\n",
      " 35  building_area_warehouse        100 non-null    float64\n",
      " 36  building_area_garages          100 non-null    float64\n",
      " 37  building_area_hotel            100 non-null    float64\n",
      " 38  building_area_train_station    100 non-null    float64\n",
      " 39  building_area_garage           100 non-null    float64\n",
      " 40  building_area_condominium      100 non-null    float64\n",
      " 41  building_area_retail           100 non-null    float64\n",
      " 42  building_area_hospital         100 non-null    float64\n",
      " 43  building_area_industrial       100 non-null    float64\n",
      " 44  building_area_terrace          100 non-null    float64\n",
      " 45  building_area_carport          100 non-null    float64\n",
      " 46  building_area_service          100 non-null    float64\n",
      " 47  building_area_school           100 non-null    float64\n",
      " 48  store_id                       100 non-null    int64  \n",
      "dtypes: float64(46), int64(1), object(2)\n",
      "memory usage: 38.4+ KB\n"
     ]
    }
   ],
   "source": [
    "sample_7_data.info()"
   ]
  },
  {
   "cell_type": "code",
   "execution_count": 8,
   "metadata": {},
   "outputs": [],
   "source": [
    "import os\n",
    "\n",
    "folder_path = \"/home/thanatorn/coding/cro_location_intelligence/extract_poi_data/data/2024_11_data_7_eleven_poi_data/poi_data\"\n",
    "file_name_list = os.listdir(folder_path)\n",
    "file_path_list = [f\"{folder_path}/{file_name}\" for file_name in file_name_list]"
   ]
  },
  {
   "cell_type": "code",
   "execution_count": 9,
   "metadata": {},
   "outputs": [
    {
     "name": "stdout",
     "output_type": "stream",
     "text": [
      "1568649\n"
     ]
    },
    {
     "data": {
      "text/plain": [
       "['/home/thanatorn/coding/cro_location_intelligence/extract_poi_data/data/2024_11_data_7_eleven_poi_data/poi_data/075f256f701504d8de4268b249879b552e66b3b802e032a749ece82b85aa5c43.pkl',\n",
       " '/home/thanatorn/coding/cro_location_intelligence/extract_poi_data/data/2024_11_data_7_eleven_poi_data/poi_data/8504bbab22ed9f88b687207ccde5335d585ce9a578a535257f8d3337d6f7404f.pkl',\n",
       " '/home/thanatorn/coding/cro_location_intelligence/extract_poi_data/data/2024_11_data_7_eleven_poi_data/poi_data/3c1976e31fbb3e13b002ccafb9aabaf024e4a1a2badcc029c546fda282fd387b.pkl']"
      ]
     },
     "execution_count": 9,
     "metadata": {},
     "output_type": "execute_result"
    }
   ],
   "source": [
    "print(len(file_path_list))\n",
    "file_path_list[:3]"
   ]
  },
  {
   "cell_type": "code",
   "execution_count": 23,
   "metadata": {},
   "outputs": [],
   "source": [
    "import pandas as pd\n",
    "\n",
    "file_path = file_path_list[130]\n",
    "df = pd.read_pickle(file_path)"
   ]
  },
  {
   "cell_type": "code",
   "execution_count": 24,
   "metadata": {},
   "outputs": [
    {
     "name": "stdout",
     "output_type": "stream",
     "text": [
      "<class 'geopandas.geodataframe.GeoDataFrame'>\n",
      "MultiIndex: 102 entries, ('way', np.int64(27464545)) to ('way', np.int64(1219467493))\n",
      "Data columns (total 43 columns):\n",
      " #   Column                    Non-Null Count  Dtype   \n",
      "---  ------                    --------------  -----   \n",
      " 0   geometry                  102 non-null    geometry\n",
      " 1   building                  102 non-null    object  \n",
      " 2   name                      33 non-null     object  \n",
      " 3   opening_hours             8 non-null      object  \n",
      " 4   shop                      8 non-null      object  \n",
      " 5   website                   12 non-null     object  \n",
      " 6   wikidata                  1 non-null      object  \n",
      " 7   addr:street               10 non-null     object  \n",
      " 8   amenity                   8 non-null      object  \n",
      " 9   name:en                   7 non-null      object  \n",
      " 10  fee                       1 non-null      object  \n",
      " 11  operator                  1 non-null      object  \n",
      " 12  parking                   1 non-null      object  \n",
      " 13  name:fa                   1 non-null      object  \n",
      " 14  name:ru                   1 non-null      object  \n",
      " 15  phone                     16 non-null     object  \n",
      " 16  wheelchair                5 non-null      object  \n",
      " 17  building:levels           28 non-null     object  \n",
      " 18  email                     5 non-null      object  \n",
      " 19  name:th                   1 non-null      object  \n",
      " 20  tourism                   16 non-null     object  \n",
      " 21  branch                    1 non-null      object  \n",
      " 22  brand                     4 non-null      object  \n",
      " 23  brand:wikidata            4 non-null      object  \n",
      " 24  layer                     4 non-null      object  \n",
      " 25  source                    34 non-null     object  \n",
      " 26  addr:housenumber          3 non-null      object  \n",
      " 27  addr:postcode             2 non-null      object  \n",
      " 28  cuisine                   1 non-null      object  \n",
      " 29  internet_access           1 non-null      object  \n",
      " 30  outdoor_seating           1 non-null      object  \n",
      " 31  addr:place                1 non-null      object  \n",
      " 32  building:colour           2 non-null      object  \n",
      " 33  check_date                1 non-null      object  \n",
      " 34  description               1 non-null      object  \n",
      " 35  massage                   1 non-null      object  \n",
      " 36  min_age                   1 non-null      object  \n",
      " 37  middle_point              102 non-null    object  \n",
      " 38  distance_to_middle_point  102 non-null    float64 \n",
      " 39  latitude                  102 non-null    float64 \n",
      " 40  lontitude                 102 non-null    float64 \n",
      " 41  poi_name                  102 non-null    int64   \n",
      " 42  type_lvl03                102 non-null    object  \n",
      "dtypes: float64(3), geometry(1), int64(1), object(38)\n",
      "memory usage: 35.4+ KB\n"
     ]
    }
   ],
   "source": [
    "df.info()"
   ]
  },
  {
   "cell_type": "code",
   "execution_count": 25,
   "metadata": {},
   "outputs": [
    {
     "data": {
      "text/html": [
       "<div>\n",
       "<style scoped>\n",
       "    .dataframe tbody tr th:only-of-type {\n",
       "        vertical-align: middle;\n",
       "    }\n",
       "\n",
       "    .dataframe tbody tr th {\n",
       "        vertical-align: top;\n",
       "    }\n",
       "\n",
       "    .dataframe thead th {\n",
       "        text-align: right;\n",
       "    }\n",
       "</style>\n",
       "<table border=\"1\" class=\"dataframe\">\n",
       "  <thead>\n",
       "    <tr style=\"text-align: right;\">\n",
       "      <th></th>\n",
       "      <th></th>\n",
       "      <th>geometry</th>\n",
       "      <th>building</th>\n",
       "      <th>name</th>\n",
       "      <th>opening_hours</th>\n",
       "      <th>shop</th>\n",
       "      <th>website</th>\n",
       "      <th>wikidata</th>\n",
       "      <th>addr:street</th>\n",
       "      <th>amenity</th>\n",
       "      <th>name:en</th>\n",
       "      <th>...</th>\n",
       "      <th>check_date</th>\n",
       "      <th>description</th>\n",
       "      <th>massage</th>\n",
       "      <th>min_age</th>\n",
       "      <th>middle_point</th>\n",
       "      <th>distance_to_middle_point</th>\n",
       "      <th>latitude</th>\n",
       "      <th>lontitude</th>\n",
       "      <th>poi_name</th>\n",
       "      <th>type_lvl03</th>\n",
       "    </tr>\n",
       "    <tr>\n",
       "      <th>element</th>\n",
       "      <th>id</th>\n",
       "      <th></th>\n",
       "      <th></th>\n",
       "      <th></th>\n",
       "      <th></th>\n",
       "      <th></th>\n",
       "      <th></th>\n",
       "      <th></th>\n",
       "      <th></th>\n",
       "      <th></th>\n",
       "      <th></th>\n",
       "      <th></th>\n",
       "      <th></th>\n",
       "      <th></th>\n",
       "      <th></th>\n",
       "      <th></th>\n",
       "      <th></th>\n",
       "      <th></th>\n",
       "      <th></th>\n",
       "      <th></th>\n",
       "      <th></th>\n",
       "      <th></th>\n",
       "    </tr>\n",
       "  </thead>\n",
       "  <tbody>\n",
       "    <tr>\n",
       "      <th rowspan=\"11\" valign=\"top\">way</th>\n",
       "      <th>27464545</th>\n",
       "      <td>POLYGON ((11230993.826 1453575.665, 11231004.7...</td>\n",
       "      <td>yes</td>\n",
       "      <td>Central Marina</td>\n",
       "      <td>Mo-Su 11:00-23:00</td>\n",
       "      <td>mall</td>\n",
       "      <td>http://www.centralplaza.co.th/en/branch-detail...</td>\n",
       "      <td>Q5060537</td>\n",
       "      <td>NaN</td>\n",
       "      <td>NaN</td>\n",
       "      <td>NaN</td>\n",
       "      <td>...</td>\n",
       "      <td>NaN</td>\n",
       "      <td>NaN</td>\n",
       "      <td>NaN</td>\n",
       "      <td>NaN</td>\n",
       "      <td>POINT (11231057.868717786 1453522.1719092443)</td>\n",
       "      <td>22.470639</td>\n",
       "      <td>12.945638</td>\n",
       "      <td>100.890309</td>\n",
       "      <td>247430</td>\n",
       "      <td>เครื่องแต่งกาย</td>\n",
       "    </tr>\n",
       "    <tr>\n",
       "      <th>27487186</th>\n",
       "      <td>POLYGON ((11230873.379 1453741.015, 11230872.4...</td>\n",
       "      <td>yes</td>\n",
       "      <td>ตลาดหงตุลา</td>\n",
       "      <td>NaN</td>\n",
       "      <td>NaN</td>\n",
       "      <td>NaN</td>\n",
       "      <td>NaN</td>\n",
       "      <td>พัทยาสายสอง</td>\n",
       "      <td>marketplace</td>\n",
       "      <td>Hong Tu La Night Market</td>\n",
       "      <td>...</td>\n",
       "      <td>NaN</td>\n",
       "      <td>NaN</td>\n",
       "      <td>NaN</td>\n",
       "      <td>NaN</td>\n",
       "      <td>POINT (11231057.868717786 1453522.1719092443)</td>\n",
       "      <td>294.415929</td>\n",
       "      <td>12.945638</td>\n",
       "      <td>100.890309</td>\n",
       "      <td>247430</td>\n",
       "      <td>เครื่องแต่งกาย</td>\n",
       "    </tr>\n",
       "    <tr>\n",
       "      <th>27727077</th>\n",
       "      <td>POLYGON ((11231183.47 1453475.469, 11231187.92...</td>\n",
       "      <td>yes</td>\n",
       "      <td>NaN</td>\n",
       "      <td>NaN</td>\n",
       "      <td>NaN</td>\n",
       "      <td>NaN</td>\n",
       "      <td>NaN</td>\n",
       "      <td>NaN</td>\n",
       "      <td>parking</td>\n",
       "      <td>NaN</td>\n",
       "      <td>...</td>\n",
       "      <td>NaN</td>\n",
       "      <td>NaN</td>\n",
       "      <td>NaN</td>\n",
       "      <td>NaN</td>\n",
       "      <td>POINT (11231057.868717786 1453522.1719092443)</td>\n",
       "      <td>81.355201</td>\n",
       "      <td>12.945638</td>\n",
       "      <td>100.890309</td>\n",
       "      <td>247430</td>\n",
       "      <td>เครื่องแต่งกาย</td>\n",
       "    </tr>\n",
       "    <tr>\n",
       "      <th>153538101</th>\n",
       "      <td>POLYGON ((11230915.357 1453314.473, 11230917.5...</td>\n",
       "      <td>yes</td>\n",
       "      <td>NaN</td>\n",
       "      <td>NaN</td>\n",
       "      <td>NaN</td>\n",
       "      <td>NaN</td>\n",
       "      <td>NaN</td>\n",
       "      <td>NaN</td>\n",
       "      <td>NaN</td>\n",
       "      <td>NaN</td>\n",
       "      <td>...</td>\n",
       "      <td>NaN</td>\n",
       "      <td>NaN</td>\n",
       "      <td>NaN</td>\n",
       "      <td>NaN</td>\n",
       "      <td>POINT (11231057.868717786 1453522.1719092443)</td>\n",
       "      <td>240.802268</td>\n",
       "      <td>12.945638</td>\n",
       "      <td>100.890309</td>\n",
       "      <td>247430</td>\n",
       "      <td>เครื่องแต่งกาย</td>\n",
       "    </tr>\n",
       "    <tr>\n",
       "      <th>153538106</th>\n",
       "      <td>POLYGON ((11230887.561 1453257.442, 11230947.8...</td>\n",
       "      <td>yes</td>\n",
       "      <td>Alcazar Cabaret Show</td>\n",
       "      <td>NaN</td>\n",
       "      <td>NaN</td>\n",
       "      <td>https://www.alcazarthailand.com/</td>\n",
       "      <td>NaN</td>\n",
       "      <td>NaN</td>\n",
       "      <td>theatre</td>\n",
       "      <td>NaN</td>\n",
       "      <td>...</td>\n",
       "      <td>NaN</td>\n",
       "      <td>NaN</td>\n",
       "      <td>NaN</td>\n",
       "      <td>NaN</td>\n",
       "      <td>POINT (11231057.868717786 1453522.1719092443)</td>\n",
       "      <td>329.699407</td>\n",
       "      <td>12.945638</td>\n",
       "      <td>100.890309</td>\n",
       "      <td>247430</td>\n",
       "      <td>เครื่องแต่งกาย</td>\n",
       "    </tr>\n",
       "    <tr>\n",
       "      <th>...</th>\n",
       "      <td>...</td>\n",
       "      <td>...</td>\n",
       "      <td>...</td>\n",
       "      <td>...</td>\n",
       "      <td>...</td>\n",
       "      <td>...</td>\n",
       "      <td>...</td>\n",
       "      <td>...</td>\n",
       "      <td>...</td>\n",
       "      <td>...</td>\n",
       "      <td>...</td>\n",
       "      <td>...</td>\n",
       "      <td>...</td>\n",
       "      <td>...</td>\n",
       "      <td>...</td>\n",
       "      <td>...</td>\n",
       "      <td>...</td>\n",
       "      <td>...</td>\n",
       "      <td>...</td>\n",
       "      <td>...</td>\n",
       "      <td>...</td>\n",
       "    </tr>\n",
       "    <tr>\n",
       "      <th>1212165125</th>\n",
       "      <td>POLYGON ((11230779.592 1453379.18, 11230779.94...</td>\n",
       "      <td>roof</td>\n",
       "      <td>NaN</td>\n",
       "      <td>NaN</td>\n",
       "      <td>NaN</td>\n",
       "      <td>NaN</td>\n",
       "      <td>NaN</td>\n",
       "      <td>NaN</td>\n",
       "      <td>NaN</td>\n",
       "      <td>NaN</td>\n",
       "      <td>...</td>\n",
       "      <td>NaN</td>\n",
       "      <td>NaN</td>\n",
       "      <td>NaN</td>\n",
       "      <td>NaN</td>\n",
       "      <td>POINT (11231057.868717786 1453522.1719092443)</td>\n",
       "      <td>299.412043</td>\n",
       "      <td>12.945638</td>\n",
       "      <td>100.890309</td>\n",
       "      <td>247430</td>\n",
       "      <td>เครื่องแต่งกาย</td>\n",
       "    </tr>\n",
       "    <tr>\n",
       "      <th>1212205557</th>\n",
       "      <td>POLYGON ((11230869.917 1453539.502, 11230870.1...</td>\n",
       "      <td>roof</td>\n",
       "      <td>NaN</td>\n",
       "      <td>NaN</td>\n",
       "      <td>NaN</td>\n",
       "      <td>NaN</td>\n",
       "      <td>NaN</td>\n",
       "      <td>NaN</td>\n",
       "      <td>NaN</td>\n",
       "      <td>NaN</td>\n",
       "      <td>...</td>\n",
       "      <td>NaN</td>\n",
       "      <td>NaN</td>\n",
       "      <td>NaN</td>\n",
       "      <td>NaN</td>\n",
       "      <td>POINT (11231057.868717786 1453522.1719092443)</td>\n",
       "      <td>183.104239</td>\n",
       "      <td>12.945638</td>\n",
       "      <td>100.890309</td>\n",
       "      <td>247430</td>\n",
       "      <td>เครื่องแต่งกาย</td>\n",
       "    </tr>\n",
       "    <tr>\n",
       "      <th>1219467289</th>\n",
       "      <td>POLYGON ((11230874.503 1453241.691, 11230862.2...</td>\n",
       "      <td>roof</td>\n",
       "      <td>NaN</td>\n",
       "      <td>NaN</td>\n",
       "      <td>NaN</td>\n",
       "      <td>NaN</td>\n",
       "      <td>NaN</td>\n",
       "      <td>NaN</td>\n",
       "      <td>NaN</td>\n",
       "      <td>NaN</td>\n",
       "      <td>...</td>\n",
       "      <td>NaN</td>\n",
       "      <td>NaN</td>\n",
       "      <td>NaN</td>\n",
       "      <td>NaN</td>\n",
       "      <td>POINT (11231057.868717786 1453522.1719092443)</td>\n",
       "      <td>342.118736</td>\n",
       "      <td>12.945638</td>\n",
       "      <td>100.890309</td>\n",
       "      <td>247430</td>\n",
       "      <td>เครื่องแต่งกาย</td>\n",
       "    </tr>\n",
       "    <tr>\n",
       "      <th>1219467492</th>\n",
       "      <td>POLYGON ((11230911.06 1453297.385, 11230919.32...</td>\n",
       "      <td>yes</td>\n",
       "      <td>NaN</td>\n",
       "      <td>NaN</td>\n",
       "      <td>NaN</td>\n",
       "      <td>NaN</td>\n",
       "      <td>NaN</td>\n",
       "      <td>NaN</td>\n",
       "      <td>NaN</td>\n",
       "      <td>NaN</td>\n",
       "      <td>...</td>\n",
       "      <td>NaN</td>\n",
       "      <td>NaN</td>\n",
       "      <td>NaN</td>\n",
       "      <td>NaN</td>\n",
       "      <td>POINT (11231057.868717786 1453522.1719092443)</td>\n",
       "      <td>279.398582</td>\n",
       "      <td>12.945638</td>\n",
       "      <td>100.890309</td>\n",
       "      <td>247430</td>\n",
       "      <td>เครื่องแต่งกาย</td>\n",
       "    </tr>\n",
       "    <tr>\n",
       "      <th>1219467493</th>\n",
       "      <td>POLYGON ((11230970.037 1453362.138, 11230992.3...</td>\n",
       "      <td>yes</td>\n",
       "      <td>NaN</td>\n",
       "      <td>NaN</td>\n",
       "      <td>NaN</td>\n",
       "      <td>NaN</td>\n",
       "      <td>NaN</td>\n",
       "      <td>NaN</td>\n",
       "      <td>NaN</td>\n",
       "      <td>NaN</td>\n",
       "      <td>...</td>\n",
       "      <td>NaN</td>\n",
       "      <td>NaN</td>\n",
       "      <td>NaN</td>\n",
       "      <td>NaN</td>\n",
       "      <td>POINT (11231057.868717786 1453522.1719092443)</td>\n",
       "      <td>230.491587</td>\n",
       "      <td>12.945638</td>\n",
       "      <td>100.890309</td>\n",
       "      <td>247430</td>\n",
       "      <td>เครื่องแต่งกาย</td>\n",
       "    </tr>\n",
       "  </tbody>\n",
       "</table>\n",
       "<p>102 rows × 43 columns</p>\n",
       "</div>"
      ],
      "text/plain": [
       "                                                             geometry  \\\n",
       "element id                                                              \n",
       "way     27464545    POLYGON ((11230993.826 1453575.665, 11231004.7...   \n",
       "        27487186    POLYGON ((11230873.379 1453741.015, 11230872.4...   \n",
       "        27727077    POLYGON ((11231183.47 1453475.469, 11231187.92...   \n",
       "        153538101   POLYGON ((11230915.357 1453314.473, 11230917.5...   \n",
       "        153538106   POLYGON ((11230887.561 1453257.442, 11230947.8...   \n",
       "...                                                               ...   \n",
       "        1212165125  POLYGON ((11230779.592 1453379.18, 11230779.94...   \n",
       "        1212205557  POLYGON ((11230869.917 1453539.502, 11230870.1...   \n",
       "        1219467289  POLYGON ((11230874.503 1453241.691, 11230862.2...   \n",
       "        1219467492  POLYGON ((11230911.06 1453297.385, 11230919.32...   \n",
       "        1219467493  POLYGON ((11230970.037 1453362.138, 11230992.3...   \n",
       "\n",
       "                   building                  name      opening_hours  shop  \\\n",
       "element id                                                                   \n",
       "way     27464545        yes        Central Marina  Mo-Su 11:00-23:00  mall   \n",
       "        27487186        yes            ตลาดหงตุลา                NaN   NaN   \n",
       "        27727077        yes                   NaN                NaN   NaN   \n",
       "        153538101       yes                   NaN                NaN   NaN   \n",
       "        153538106       yes  Alcazar Cabaret Show                NaN   NaN   \n",
       "...                     ...                   ...                ...   ...   \n",
       "        1212165125     roof                   NaN                NaN   NaN   \n",
       "        1212205557     roof                   NaN                NaN   NaN   \n",
       "        1219467289     roof                   NaN                NaN   NaN   \n",
       "        1219467492      yes                   NaN                NaN   NaN   \n",
       "        1219467493      yes                   NaN                NaN   NaN   \n",
       "\n",
       "                                                              website  \\\n",
       "element id                                                              \n",
       "way     27464545    http://www.centralplaza.co.th/en/branch-detail...   \n",
       "        27487186                                                  NaN   \n",
       "        27727077                                                  NaN   \n",
       "        153538101                                                 NaN   \n",
       "        153538106                    https://www.alcazarthailand.com/   \n",
       "...                                                               ...   \n",
       "        1212165125                                                NaN   \n",
       "        1212205557                                                NaN   \n",
       "        1219467289                                                NaN   \n",
       "        1219467492                                                NaN   \n",
       "        1219467493                                                NaN   \n",
       "\n",
       "                    wikidata  addr:street      amenity  \\\n",
       "element id                                               \n",
       "way     27464545    Q5060537          NaN          NaN   \n",
       "        27487186         NaN  พัทยาสายสอง  marketplace   \n",
       "        27727077         NaN          NaN      parking   \n",
       "        153538101        NaN          NaN          NaN   \n",
       "        153538106        NaN          NaN      theatre   \n",
       "...                      ...          ...          ...   \n",
       "        1212165125       NaN          NaN          NaN   \n",
       "        1212205557       NaN          NaN          NaN   \n",
       "        1219467289       NaN          NaN          NaN   \n",
       "        1219467492       NaN          NaN          NaN   \n",
       "        1219467493       NaN          NaN          NaN   \n",
       "\n",
       "                                    name:en  ... check_date description  \\\n",
       "element id                                   ...                          \n",
       "way     27464545                        NaN  ...        NaN         NaN   \n",
       "        27487186    Hong Tu La Night Market  ...        NaN         NaN   \n",
       "        27727077                        NaN  ...        NaN         NaN   \n",
       "        153538101                       NaN  ...        NaN         NaN   \n",
       "        153538106                       NaN  ...        NaN         NaN   \n",
       "...                                     ...  ...        ...         ...   \n",
       "        1212165125                      NaN  ...        NaN         NaN   \n",
       "        1212205557                      NaN  ...        NaN         NaN   \n",
       "        1219467289                      NaN  ...        NaN         NaN   \n",
       "        1219467492                      NaN  ...        NaN         NaN   \n",
       "        1219467493                      NaN  ...        NaN         NaN   \n",
       "\n",
       "                   massage min_age  \\\n",
       "element id                           \n",
       "way     27464545       NaN     NaN   \n",
       "        27487186       NaN     NaN   \n",
       "        27727077       NaN     NaN   \n",
       "        153538101      NaN     NaN   \n",
       "        153538106      NaN     NaN   \n",
       "...                    ...     ...   \n",
       "        1212165125     NaN     NaN   \n",
       "        1212205557     NaN     NaN   \n",
       "        1219467289     NaN     NaN   \n",
       "        1219467492     NaN     NaN   \n",
       "        1219467493     NaN     NaN   \n",
       "\n",
       "                                                     middle_point  \\\n",
       "element id                                                          \n",
       "way     27464545    POINT (11231057.868717786 1453522.1719092443)   \n",
       "        27487186    POINT (11231057.868717786 1453522.1719092443)   \n",
       "        27727077    POINT (11231057.868717786 1453522.1719092443)   \n",
       "        153538101   POINT (11231057.868717786 1453522.1719092443)   \n",
       "        153538106   POINT (11231057.868717786 1453522.1719092443)   \n",
       "...                                                           ...   \n",
       "        1212165125  POINT (11231057.868717786 1453522.1719092443)   \n",
       "        1212205557  POINT (11231057.868717786 1453522.1719092443)   \n",
       "        1219467289  POINT (11231057.868717786 1453522.1719092443)   \n",
       "        1219467492  POINT (11231057.868717786 1453522.1719092443)   \n",
       "        1219467493  POINT (11231057.868717786 1453522.1719092443)   \n",
       "\n",
       "                   distance_to_middle_point   latitude   lontitude poi_name  \\\n",
       "element id                                                                    \n",
       "way     27464545                  22.470639  12.945638  100.890309   247430   \n",
       "        27487186                 294.415929  12.945638  100.890309   247430   \n",
       "        27727077                  81.355201  12.945638  100.890309   247430   \n",
       "        153538101                240.802268  12.945638  100.890309   247430   \n",
       "        153538106                329.699407  12.945638  100.890309   247430   \n",
       "...                                     ...        ...         ...      ...   \n",
       "        1212165125               299.412043  12.945638  100.890309   247430   \n",
       "        1212205557               183.104239  12.945638  100.890309   247430   \n",
       "        1219467289               342.118736  12.945638  100.890309   247430   \n",
       "        1219467492               279.398582  12.945638  100.890309   247430   \n",
       "        1219467493               230.491587  12.945638  100.890309   247430   \n",
       "\n",
       "                        type_lvl03  \n",
       "element id                          \n",
       "way     27464545    เครื่องแต่งกาย  \n",
       "        27487186    เครื่องแต่งกาย  \n",
       "        27727077    เครื่องแต่งกาย  \n",
       "        153538101   เครื่องแต่งกาย  \n",
       "        153538106   เครื่องแต่งกาย  \n",
       "...                            ...  \n",
       "        1212165125  เครื่องแต่งกาย  \n",
       "        1212205557  เครื่องแต่งกาย  \n",
       "        1219467289  เครื่องแต่งกาย  \n",
       "        1219467492  เครื่องแต่งกาย  \n",
       "        1219467493  เครื่องแต่งกาย  \n",
       "\n",
       "[102 rows x 43 columns]"
      ]
     },
     "execution_count": 25,
     "metadata": {},
     "output_type": "execute_result"
    }
   ],
   "source": [
    "df"
   ]
  },
  {
   "cell_type": "code",
   "execution_count": 1,
   "metadata": {},
   "outputs": [
    {
     "ename": "NameError",
     "evalue": "name 'df' is not defined",
     "output_type": "error",
     "traceback": [
      "\u001b[0;31m---------------------------------------------------------------------------\u001b[0m",
      "\u001b[0;31mNameError\u001b[0m                                 Traceback (most recent call last)",
      "Cell \u001b[0;32mIn[1], line 1\u001b[0m\n\u001b[0;32m----> 1\u001b[0m \u001b[43mdf\u001b[49m\u001b[38;5;241m.\u001b[39minfo()\n",
      "\u001b[0;31mNameError\u001b[0m: name 'df' is not defined"
     ]
    }
   ],
   "source": [
    "df.info()"
   ]
  },
  {
   "cell_type": "code",
   "execution_count": 1,
   "metadata": {},
   "outputs": [],
   "source": [
    "import os\n",
    "\n",
    "dir_path = os.getcwd()\n",
    "file_directory = f\"{dir_path}/data/2024_11_data_7_eleven_poi_data/poi_data\"  # Replace with your file directory\n",
    "\n",
    "\n",
    "all_files = [os.path.join(file_directory, f) for f in os.listdir(file_directory)]"
   ]
  },
  {
   "cell_type": "code",
   "execution_count": 2,
   "metadata": {},
   "outputs": [
    {
     "data": {
      "text/plain": [
       "['/home/thanatorn/coding/cro_location_intelligence/extract_poi_data/data/2024_11_data_7_eleven_poi_data/poi_data/075f256f701504d8de4268b249879b552e66b3b802e032a749ece82b85aa5c43.pkl',\n",
       " '/home/thanatorn/coding/cro_location_intelligence/extract_poi_data/data/2024_11_data_7_eleven_poi_data/poi_data/8504bbab22ed9f88b687207ccde5335d585ce9a578a535257f8d3337d6f7404f.pkl',\n",
       " '/home/thanatorn/coding/cro_location_intelligence/extract_poi_data/data/2024_11_data_7_eleven_poi_data/poi_data/3c1976e31fbb3e13b002ccafb9aabaf024e4a1a2badcc029c546fda282fd387b.pkl']"
      ]
     },
     "execution_count": 2,
     "metadata": {},
     "output_type": "execute_result"
    }
   ],
   "source": [
    "all_files[:3]"
   ]
  },
  {
   "cell_type": "code",
   "execution_count": 3,
   "metadata": {},
   "outputs": [
    {
     "data": {
      "text/plain": [
       "64"
      ]
     },
     "execution_count": 3,
     "metadata": {},
     "output_type": "execute_result"
    }
   ],
   "source": [
    "len(\"075f256f701504d8de4268b249879b552e66b3b802e032a749ece82b85aa5c43\")"
   ]
  },
  {
   "cell_type": "code",
   "execution_count": null,
   "metadata": {},
   "outputs": [],
   "source": []
  }
 ],
 "metadata": {
  "kernelspec": {
   "display_name": "base",
   "language": "python",
   "name": "python3"
  },
  "language_info": {
   "codemirror_mode": {
    "name": "ipython",
    "version": 3
   },
   "file_extension": ".py",
   "mimetype": "text/x-python",
   "name": "python",
   "nbconvert_exporter": "python",
   "pygments_lexer": "ipython3",
   "version": "3.12.2"
  }
 },
 "nbformat": 4,
 "nbformat_minor": 2
}
