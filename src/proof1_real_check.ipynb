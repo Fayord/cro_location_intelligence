{
 "cells": [
  {
   "cell_type": "markdown",
   "metadata": {},
   "source": [
    "## prove xgboost can overfit this problem\n",
    "\n",
    "## prove simple nn can overfit this problem\n",
    "\n",
    "### The conclusion of this experiment is that the embeddings from the pretrained model significantly distinguish differences\n"
   ]
  },
  {
   "cell_type": "code",
   "execution_count": 77,
   "metadata": {},
   "outputs": [],
   "source": [
    "import os\n",
    "import torch"
   ]
  },
  {
   "cell_type": "code",
   "execution_count": 78,
   "metadata": {},
   "outputs": [],
   "source": [
    "image_folder_path = (\n",
    "    \"/Users/user/Documents/Coding/cro_location_intelligence/notebook/data/full_image\"\n",
    ")\n",
    "image_name_list = os.listdir(image_folder_path)\n",
    "image_name_list.sort()\n",
    "image_name_list = [\n",
    "    image_name for image_name in image_name_list if not image_name.startswith(\".\")\n",
    "]\n",
    "image_path_list = [\n",
    "    os.path.join(image_folder_path, image_name) for image_name in image_name_list\n",
    "]"
   ]
  },
  {
   "cell_type": "code",
   "execution_count": 79,
   "metadata": {},
   "outputs": [
    {
     "name": "stdout",
     "output_type": "stream",
     "text": [
      "1066\n",
      "['1025', '8396', '8572', '1058', '1095']\n"
     ]
    }
   ],
   "source": [
    "import pandas as pd\n",
    "\n",
    "data_path = (\n",
    "    \"/Users/user/Documents/Coding/cro_location_intelligence/notebook/7 BE for Ford.xlsx\"\n",
    ")\n",
    "df_dict = pd.read_excel(data_path, sheet_name=None)\n",
    "store_id_list = df_dict[\"Train\"][\"store_id\"].tolist()\n",
    "store_id_list += df_dict[\"Test2022\"][\"store_id\"].tolist()\n",
    "store_id_list = [str(i) for i in store_id_list]\n",
    "print(len(store_id_list))\n",
    "print(store_id_list[:5])"
   ]
  },
  {
   "cell_type": "code",
   "execution_count": 80,
   "metadata": {},
   "outputs": [
    {
     "name": "stdout",
     "output_type": "stream",
     "text": [
      "9997\n",
      "['10', '100', '1000', '10000', '10001']\n"
     ]
    }
   ],
   "source": [
    "store_id_we_have = []\n",
    "for image_name in image_name_list:\n",
    "    store_id_we_have.append(image_name.split(\".\")[0])\n",
    "print(len(store_id_we_have))\n",
    "print(store_id_we_have[:5])"
   ]
  },
  {
   "cell_type": "code",
   "execution_count": 81,
   "metadata": {},
   "outputs": [
    {
     "name": "stdout",
     "output_type": "stream",
     "text": [
      "4926\n",
      "5350\n",
      "5651\n",
      "6034\n",
      "6298\n",
      "9143\n",
      "9295\n",
      "9364\n",
      "9381\n",
      "9385\n",
      "9454\n",
      "11022\n",
      "11185\n",
      "11397\n",
      "11413\n",
      "12007\n",
      "13099\n",
      "13218\n",
      "13947\n",
      "14422\n",
      "17542\n",
      "21\n"
     ]
    }
   ],
   "source": [
    "store_id_we_dont_have = []\n",
    "for id in store_id_list:\n",
    "    if id not in store_id_we_have:\n",
    "        print(id)\n",
    "        store_id_we_dont_have.append(id)\n",
    "\n",
    "print(len(store_id_we_dont_have))"
   ]
  },
  {
   "cell_type": "code",
   "execution_count": 82,
   "metadata": {},
   "outputs": [
    {
     "data": {
      "text/plain": [
       "1066"
      ]
     },
     "execution_count": 82,
     "metadata": {},
     "output_type": "execute_result"
    }
   ],
   "source": [
    "len(store_id_list)"
   ]
  },
  {
   "cell_type": "code",
   "execution_count": null,
   "metadata": {},
   "outputs": [],
   "source": []
  },
  {
   "cell_type": "code",
   "execution_count": 83,
   "metadata": {},
   "outputs": [],
   "source": [
    "# feed model net\n",
    "from urllib.request import urlopen\n",
    "from PIL import Image\n",
    "import timm\n",
    "from tqdm import tqdm\n",
    "\n",
    "# new_df_path = \"/Users/user/Documents/Coding/cro_location_intelligence/notebook/7 lat long with embedding.csv\"\n",
    "new_df_path = \"/Users/user/Documents/Coding/cro_location_intelligence/src/data/all_data_embedding.csv\"\n",
    "if not os.path.exists(new_df_path):\n",
    "    # img = Image.open(urlopen(\n",
    "    #     'https://huggingface.co/datasets/huggingface/documentation-images/resolve/main/beignets-task-guide.png'\n",
    "    # ))\n",
    "    # img = image_1\n",
    "    output_dict = {}\n",
    "    model = timm.create_model(\n",
    "        \"maxvit_tiny_tf_512.in1k\",\n",
    "        pretrained=True,\n",
    "        num_classes=0,  # remove classifier nn.Linear\n",
    "    )\n",
    "    model = model.eval()\n",
    "    data_config = timm.data.resolve_model_data_config(model)\n",
    "    transforms = timm.data.create_transform(**data_config, is_training=False)\n",
    "\n",
    "    # for image_name in image_name_list:\n",
    "    batch_size = 4\n",
    "    # check is file exist\n",
    "\n",
    "    check_store_id_list = []\n",
    "    for store_id in store_id_list:\n",
    "        image_name = store_id + \".png\"\n",
    "        image_path = os.path.join(image_folder_path, image_name)\n",
    "        if os.path.exists(image_path):\n",
    "            check_store_id_list.append(store_id)\n",
    "    store_id_list = check_store_id_list\n",
    "    print(\"len(store_id_list)\", len(store_id_list))\n",
    "    # Iterate through store_ids in batches\n",
    "    for batch_start in tqdm(\n",
    "        range(0, len(store_id_list), batch_size), desc=\"store_id batches\"\n",
    "    ):\n",
    "        batch_store_ids = store_id_list[batch_start : batch_start + batch_size]\n",
    "        batch_images = []\n",
    "\n",
    "        # Load and preprocess images in the current batch\n",
    "        for store_id in batch_store_ids:\n",
    "            image_name = store_id + \".png\"\n",
    "            image_path = os.path.join(image_folder_path, image_name)\n",
    "            img = Image.open(image_path).convert(\"RGB\")\n",
    "            batch_images.append(transforms(img))\n",
    "\n",
    "        # Stack images to create a batch\n",
    "        batch_images = torch.stack(batch_images)\n",
    "\n",
    "        # Forward pass for the batch\n",
    "        with torch.no_grad():\n",
    "            output = model.forward_features(batch_images)\n",
    "            output = model.forward_head(output, pre_logits=True)\n",
    "\n",
    "        # Store results in output_dict\n",
    "        for i, store_id in enumerate(batch_store_ids):\n",
    "            output_dict[store_id] = output.detach().numpy()[i]\n",
    "        # output is a (1, num_features) shaped tensor"
   ]
  },
  {
   "cell_type": "code",
   "execution_count": 84,
   "metadata": {},
   "outputs": [
    {
     "data": {
      "text/plain": [
       "(12.566370614359172, 16, 0.7853981633974483)"
      ]
     },
     "execution_count": 84,
     "metadata": {},
     "output_type": "execute_result"
    }
   ],
   "source": [
    "import numpy as np\n",
    "\n",
    "r = 2\n",
    "circle_area = np.pi * r**2\n",
    "square_area = (2 * r) ** 2\n",
    "circle_area, square_area, circle_area / square_area"
   ]
  },
  {
   "cell_type": "code",
   "execution_count": null,
   "metadata": {},
   "outputs": [],
   "source": []
  },
  {
   "cell_type": "code",
   "execution_count": null,
   "metadata": {},
   "outputs": [],
   "source": []
  },
  {
   "cell_type": "code",
   "execution_count": 85,
   "metadata": {},
   "outputs": [],
   "source": [
    "# rename columns by add prefix \"embedding_\""
   ]
  },
  {
   "cell_type": "code",
   "execution_count": null,
   "metadata": {},
   "outputs": [],
   "source": []
  },
  {
   "cell_type": "code",
   "execution_count": null,
   "metadata": {},
   "outputs": [],
   "source": []
  },
  {
   "cell_type": "code",
   "execution_count": null,
   "metadata": {},
   "outputs": [],
   "source": []
  },
  {
   "cell_type": "code",
   "execution_count": 86,
   "metadata": {},
   "outputs": [],
   "source": [
    "# merge 2 df by index\n",
    "import pandas as pd\n",
    "\n",
    "# convert output_dict to dataframe\n",
    "if os.path.exists(new_df_path) is False:\n",
    "    output_df = pd.DataFrame.from_dict(output_dict, orient=\"index\")\n",
    "    output_df.head()\n",
    "    output_df.columns = [\"embedding_\" + str(col + 1) for col in output_df.columns]\n",
    "    # convert output_df store_id to int\n",
    "    output_df[\"store_id\"] = output_df.index\n",
    "    output_df.store_id = output_df.store_id.astype(int)\n",
    "    data_path = (\n",
    "        \"/Users/user/Documents/Coding/cro_location_intelligence/src/data/all_data.csv\"\n",
    "    )\n",
    "    df = pd.read_csv(data_path)\n",
    "    # merge df with output_df with columns store_id\n",
    "    df = pd.merge(df, output_df, on=\"store_id\", how=\"inner\")\n",
    "\n",
    "    # df = pd.concat([df, output_df], axis=1)\n",
    "    df.to_csv(new_df_path, index=False)\n",
    "else:\n",
    "    df = pd.read_csv(new_df_path)\n",
    "    df.head()"
   ]
  },
  {
   "cell_type": "code",
   "execution_count": null,
   "metadata": {},
   "outputs": [],
   "source": []
  },
  {
   "cell_type": "code",
   "execution_count": null,
   "metadata": {},
   "outputs": [],
   "source": []
  },
  {
   "cell_type": "code",
   "execution_count": null,
   "metadata": {},
   "outputs": [],
   "source": []
  },
  {
   "cell_type": "code",
   "execution_count": null,
   "metadata": {},
   "outputs": [],
   "source": []
  },
  {
   "cell_type": "code",
   "execution_count": null,
   "metadata": {},
   "outputs": [],
   "source": []
  },
  {
   "cell_type": "code",
   "execution_count": 116,
   "metadata": {},
   "outputs": [],
   "source": [
    "# use embedding to predict mockup_sale with xgboost\n",
    "from sklearn.model_selection import train_test_split\n",
    "import xgboost as xgb\n",
    "import numpy as np\n",
    "\n",
    "# linear regression\n",
    "from sklearn.linear_model import LinearRegression\n",
    "from sklearn.metrics import mean_absolute_percentage_error\n",
    "\n",
    "# get all column has embedding_ prefix\n",
    "feature_columns = [col for col in df.columns if col.startswith(\"embedding_\")]\n",
    "feature_columns += [\"subset\"]\n",
    "feature_columns += [\"y_nor\"]\n",
    "# assign to x\n",
    "# all_data = df[feature_columns]\n",
    "all_data = df.copy()"
   ]
  },
  {
   "cell_type": "code",
   "execution_count": 120,
   "metadata": {},
   "outputs": [],
   "source": [
    "# all_data.columns.tolist()"
   ]
  },
  {
   "cell_type": "code",
   "execution_count": 88,
   "metadata": {},
   "outputs": [
    {
     "data": {
      "text/html": [
       "<div>\n",
       "<style scoped>\n",
       "    .dataframe tbody tr th:only-of-type {\n",
       "        vertical-align: middle;\n",
       "    }\n",
       "\n",
       "    .dataframe tbody tr th {\n",
       "        vertical-align: top;\n",
       "    }\n",
       "\n",
       "    .dataframe thead th {\n",
       "        text-align: right;\n",
       "    }\n",
       "</style>\n",
       "<table border=\"1\" class=\"dataframe\">\n",
       "  <thead>\n",
       "    <tr style=\"text-align: right;\">\n",
       "      <th></th>\n",
       "      <th>0</th>\n",
       "      <th>1</th>\n",
       "      <th>2</th>\n",
       "      <th>3</th>\n",
       "      <th>4</th>\n",
       "      <th>5</th>\n",
       "      <th>6</th>\n",
       "      <th>7</th>\n",
       "      <th>8</th>\n",
       "      <th>9</th>\n",
       "      <th>...</th>\n",
       "      <th>886</th>\n",
       "      <th>887</th>\n",
       "      <th>888</th>\n",
       "      <th>889</th>\n",
       "      <th>890</th>\n",
       "      <th>891</th>\n",
       "      <th>892</th>\n",
       "      <th>893</th>\n",
       "      <th>y_nor</th>\n",
       "      <th>subset</th>\n",
       "    </tr>\n",
       "  </thead>\n",
       "  <tbody>\n",
       "    <tr>\n",
       "      <th>0</th>\n",
       "      <td>0.809053</td>\n",
       "      <td>-0.435626</td>\n",
       "      <td>1.276019</td>\n",
       "      <td>-0.585552</td>\n",
       "      <td>1.119992</td>\n",
       "      <td>-0.60246</td>\n",
       "      <td>1.958702</td>\n",
       "      <td>1.316572</td>\n",
       "      <td>-0.099400</td>\n",
       "      <td>1.694327</td>\n",
       "      <td>...</td>\n",
       "      <td>0.457054</td>\n",
       "      <td>-0.610891</td>\n",
       "      <td>-0.983325</td>\n",
       "      <td>-0.104843</td>\n",
       "      <td>-0.690702</td>\n",
       "      <td>0.676902</td>\n",
       "      <td>-0.050310</td>\n",
       "      <td>-0.970355</td>\n",
       "      <td>0.226238</td>\n",
       "      <td>train</td>\n",
       "    </tr>\n",
       "    <tr>\n",
       "      <th>1</th>\n",
       "      <td>0.587070</td>\n",
       "      <td>-0.246327</td>\n",
       "      <td>-0.271598</td>\n",
       "      <td>-0.585552</td>\n",
       "      <td>0.117934</td>\n",
       "      <td>-0.60246</td>\n",
       "      <td>-0.168104</td>\n",
       "      <td>-0.166140</td>\n",
       "      <td>0.836214</td>\n",
       "      <td>1.078724</td>\n",
       "      <td>...</td>\n",
       "      <td>0.214278</td>\n",
       "      <td>0.107851</td>\n",
       "      <td>-0.604111</td>\n",
       "      <td>1.191268</td>\n",
       "      <td>-0.142626</td>\n",
       "      <td>-0.891032</td>\n",
       "      <td>-1.833997</td>\n",
       "      <td>-1.052687</td>\n",
       "      <td>0.182798</td>\n",
       "      <td>train</td>\n",
       "    </tr>\n",
       "    <tr>\n",
       "      <th>2</th>\n",
       "      <td>0.734251</td>\n",
       "      <td>-0.290767</td>\n",
       "      <td>-0.193664</td>\n",
       "      <td>-0.585552</td>\n",
       "      <td>-1.067295</td>\n",
       "      <td>-0.60246</td>\n",
       "      <td>-1.462083</td>\n",
       "      <td>-0.616988</td>\n",
       "      <td>0.513588</td>\n",
       "      <td>-0.768087</td>\n",
       "      <td>...</td>\n",
       "      <td>0.111415</td>\n",
       "      <td>0.517898</td>\n",
       "      <td>1.058781</td>\n",
       "      <td>0.610704</td>\n",
       "      <td>0.993412</td>\n",
       "      <td>0.783935</td>\n",
       "      <td>-2.070301</td>\n",
       "      <td>0.448145</td>\n",
       "      <td>0.433002</td>\n",
       "      <td>train</td>\n",
       "    </tr>\n",
       "    <tr>\n",
       "      <th>3</th>\n",
       "      <td>-0.999912</td>\n",
       "      <td>-0.399375</td>\n",
       "      <td>0.070823</td>\n",
       "      <td>-0.585552</td>\n",
       "      <td>-0.185915</td>\n",
       "      <td>-0.60246</td>\n",
       "      <td>-1.505405</td>\n",
       "      <td>-1.400555</td>\n",
       "      <td>-1.083407</td>\n",
       "      <td>0.463120</td>\n",
       "      <td>...</td>\n",
       "      <td>1.090279</td>\n",
       "      <td>-0.993677</td>\n",
       "      <td>-1.624377</td>\n",
       "      <td>-2.052572</td>\n",
       "      <td>-1.662305</td>\n",
       "      <td>-0.279813</td>\n",
       "      <td>2.566342</td>\n",
       "      <td>0.782599</td>\n",
       "      <td>0.221966</td>\n",
       "      <td>train</td>\n",
       "    </tr>\n",
       "    <tr>\n",
       "      <th>4</th>\n",
       "      <td>0.755420</td>\n",
       "      <td>-0.386677</td>\n",
       "      <td>0.213359</td>\n",
       "      <td>-0.585552</td>\n",
       "      <td>0.219217</td>\n",
       "      <td>-0.60246</td>\n",
       "      <td>-0.560023</td>\n",
       "      <td>-1.109370</td>\n",
       "      <td>-1.076954</td>\n",
       "      <td>0.463120</td>\n",
       "      <td>...</td>\n",
       "      <td>-0.251072</td>\n",
       "      <td>0.919632</td>\n",
       "      <td>1.697689</td>\n",
       "      <td>0.254650</td>\n",
       "      <td>-0.923269</td>\n",
       "      <td>-0.959682</td>\n",
       "      <td>-2.228328</td>\n",
       "      <td>-0.127967</td>\n",
       "      <td>0.149573</td>\n",
       "      <td>train</td>\n",
       "    </tr>\n",
       "  </tbody>\n",
       "</table>\n",
       "<p>5 rows × 896 columns</p>\n",
       "</div>"
      ],
      "text/plain": [
       "          0         1         2         3         4        5         6  \\\n",
       "0  0.809053 -0.435626  1.276019 -0.585552  1.119992 -0.60246  1.958702   \n",
       "1  0.587070 -0.246327 -0.271598 -0.585552  0.117934 -0.60246 -0.168104   \n",
       "2  0.734251 -0.290767 -0.193664 -0.585552 -1.067295 -0.60246 -1.462083   \n",
       "3 -0.999912 -0.399375  0.070823 -0.585552 -0.185915 -0.60246 -1.505405   \n",
       "4  0.755420 -0.386677  0.213359 -0.585552  0.219217 -0.60246 -0.560023   \n",
       "\n",
       "          7         8         9  ...       886       887       888       889  \\\n",
       "0  1.316572 -0.099400  1.694327  ...  0.457054 -0.610891 -0.983325 -0.104843   \n",
       "1 -0.166140  0.836214  1.078724  ...  0.214278  0.107851 -0.604111  1.191268   \n",
       "2 -0.616988  0.513588 -0.768087  ...  0.111415  0.517898  1.058781  0.610704   \n",
       "3 -1.400555 -1.083407  0.463120  ...  1.090279 -0.993677 -1.624377 -2.052572   \n",
       "4 -1.109370 -1.076954  0.463120  ... -0.251072  0.919632  1.697689  0.254650   \n",
       "\n",
       "        890       891       892       893     y_nor  subset  \n",
       "0 -0.690702  0.676902 -0.050310 -0.970355  0.226238   train  \n",
       "1 -0.142626 -0.891032 -1.833997 -1.052687  0.182798   train  \n",
       "2  0.993412  0.783935 -2.070301  0.448145  0.433002   train  \n",
       "3 -1.662305 -0.279813  2.566342  0.782599  0.221966   train  \n",
       "4 -0.923269 -0.959682 -2.228328 -0.127967  0.149573   train  \n",
       "\n",
       "[5 rows x 896 columns]"
      ]
     },
     "execution_count": 88,
     "metadata": {},
     "output_type": "execute_result"
    }
   ],
   "source": [
    "# normalize every column\n",
    "from sklearn.preprocessing import StandardScaler\n",
    "\n",
    "all_data = all_data.drop(columns=[\"store_id\"])\n",
    "all_data = all_data.drop(columns=[\"y_nor\"])\n",
    "train_all_data = all_data[all_data.subset == \"train\"]\n",
    "all_data = all_data.drop(columns=[\"subset\"])\n",
    "train_all_data = train_all_data.drop(columns=[\"subset\"])\n",
    "scaler = StandardScaler()\n",
    "scaler.fit(train_all_data)\n",
    "all_data = scaler.transform(all_data)\n",
    "all_data = pd.DataFrame(all_data)\n",
    "# all_data.columns = feature_columns\n",
    "# all_data[\"store_id\"] = df[\"store_id\"]\n",
    "all_data[\"y_nor\"] = df[\"y_nor\"]\n",
    "all_data[\"subset\"] = df[\"subset\"]\n",
    "all_data.head()"
   ]
  },
  {
   "cell_type": "code",
   "execution_count": 89,
   "metadata": {},
   "outputs": [],
   "source": [
    "# create train test with columns subset\n",
    "x_train = all_data[all_data.subset == \"train\"]\n",
    "x_train = x_train.drop(columns=[\"subset\"])\n",
    "y_train = x_train[\"y_nor\"]\n",
    "x_test = all_data[all_data.subset == \"test\"]\n",
    "x_test = x_test.drop(columns=[\"subset\"])\n",
    "y_test = x_test[\"y_nor\"]\n",
    "x_train = x_train.drop(columns=[\"y_nor\"])\n",
    "x_test = x_test.drop(columns=[\"y_nor\"])"
   ]
  },
  {
   "cell_type": "code",
   "execution_count": 90,
   "metadata": {},
   "outputs": [
    {
     "data": {
      "text/plain": [
       "((977, 894), (977,))"
      ]
     },
     "execution_count": 90,
     "metadata": {},
     "output_type": "execute_result"
    }
   ],
   "source": [
    "x_train.shape, y_train.shape"
   ]
  },
  {
   "cell_type": "code",
   "execution_count": 91,
   "metadata": {},
   "outputs": [],
   "source": [
    "import matplotlib.pyplot as plt"
   ]
  },
  {
   "cell_type": "code",
   "execution_count": 92,
   "metadata": {},
   "outputs": [
    {
     "name": "stdout",
     "output_type": "stream",
     "text": [
      "mean_absolute_percentage_error: 1.271153142742062\n"
     ]
    },
    {
     "data": {
      "image/png": "[encoded data removed]",
      "text/plain": [
       "<Figure size 640x480 with 1 Axes>"
      ]
     },
     "metadata": {},
     "output_type": "display_data"
    }
   ],
   "source": [
    "# Create an XGBoost regressor\n",
    "regressor = xgb.XGBRegressor(objective=\"reg:squarederror\", seed=42)\n",
    "\n",
    "# Train the model\n",
    "regressor.fit(x_train, y_train)\n",
    "\n",
    "# Make predictions on the test set\n",
    "y_pred = regressor.predict(x_test)\n",
    "\n",
    "# Evaluate the model\n",
    "mape = mean_absolute_percentage_error(y_test, y_pred)\n",
    "print(f\"mean_absolute_percentage_error: {mape}\")\n",
    "\n",
    "# Plot the results\n",
    "# plt.scatter(x_test, y_test, color=\"black\", label=\"Actual\")\n",
    "plt.scatter(y_test, y_pred, color=\"red\", label=\"Predicted\")\n",
    "plt.xlabel(\"X\")\n",
    "plt.ylabel(\"Y\")\n",
    "plt.title(\"XGBoost Linear Regression\")\n",
    "plt.legend()\n",
    "plt.show()"
   ]
  },
  {
   "cell_type": "code",
   "execution_count": 93,
   "metadata": {},
   "outputs": [
    {
     "name": "stdout",
     "output_type": "stream",
     "text": [
      "Using mps device\n"
     ]
    }
   ],
   "source": [
    "if not torch.backends.mps.is_available():\n",
    "    if not torch.backends.mps.is_built():\n",
    "        print(\n",
    "            \"MPS not available because the current PyTorch install was not \"\n",
    "            \"built with MPS enabled.\"\n",
    "        )\n",
    "    else:\n",
    "        print(\n",
    "            \"MPS not available because the current MacOS version is not 12.3+ \"\n",
    "            \"and/or you do not have an MPS-enabled device on this machine.\"\n",
    "        )\n",
    "elif torch.backends.mps.is_available():\n",
    "    device = \"mps\"\n",
    "else:\n",
    "    device = \"cuda\" if torch.cuda.is_available() else \"cpu\"\n",
    "print(\"Using {} device\".format(device))"
   ]
  },
  {
   "cell_type": "code",
   "execution_count": 94,
   "metadata": {},
   "outputs": [],
   "source": [
    "X_train = np.array(x_train)\n",
    "X_test = np.array(x_test)\n",
    "\n",
    "# create validate set\n",
    "y_train = np.array(y_train)\n",
    "y_test = np.array(y_test)\n",
    "\n",
    "X_train, X_val, y_train, y_val = train_test_split(\n",
    "    X_train, y_train, test_size=0.3, random_state=42\n",
    ")"
   ]
  },
  {
   "cell_type": "code",
   "execution_count": 95,
   "metadata": {},
   "outputs": [
    {
     "data": {
      "text/plain": [
       "(array([ 3.,  0.,  3.,  1.,  8.,  3.,  7.,  7., 15.,  9., 18., 20., 18.,\n",
       "        22., 23., 28., 37., 29., 21., 29., 19., 27., 25., 28., 25., 28.,\n",
       "        19., 18., 16., 15., 12., 11., 18., 13., 15., 10.,  7., 10.,  8.,\n",
       "         8.,  6.,  6.,  2.,  3.,  4.,  2.,  1.,  5.,  3.,  0.,  3.,  1.,\n",
       "         1.,  0.,  0.,  2.,  0.,  2.,  1.,  0.,  0.,  0.,  1.,  0.,  1.,\n",
       "         0.,  0.,  1.,  0.,  1.,  0.,  0.,  0.,  1.,  0.,  0.,  1.,  0.,\n",
       "         1.,  0.,  0.,  0.,  0.,  0.,  0.,  0.,  0.,  0.,  0.,  0.,  0.,\n",
       "         0.,  0.,  0.,  0.,  0.,  0.,  0.,  0.,  1.]),\n",
       " array([0.  , 0.01, 0.02, 0.03, 0.04, 0.05, 0.06, 0.07, 0.08, 0.09, 0.1 ,\n",
       "        0.11, 0.12, 0.13, 0.14, 0.15, 0.16, 0.17, 0.18, 0.19, 0.2 , 0.21,\n",
       "        0.22, 0.23, 0.24, 0.25, 0.26, 0.27, 0.28, 0.29, 0.3 , 0.31, 0.32,\n",
       "        0.33, 0.34, 0.35, 0.36, 0.37, 0.38, 0.39, 0.4 , 0.41, 0.42, 0.43,\n",
       "        0.44, 0.45, 0.46, 0.47, 0.48, 0.49, 0.5 , 0.51, 0.52, 0.53, 0.54,\n",
       "        0.55, 0.56, 0.57, 0.58, 0.59, 0.6 , 0.61, 0.62, 0.63, 0.64, 0.65,\n",
       "        0.66, 0.67, 0.68, 0.69, 0.7 , 0.71, 0.72, 0.73, 0.74, 0.75, 0.76,\n",
       "        0.77, 0.78, 0.79, 0.8 , 0.81, 0.82, 0.83, 0.84, 0.85, 0.86, 0.87,\n",
       "        0.88, 0.89, 0.9 , 0.91, 0.92, 0.93, 0.94, 0.95, 0.96, 0.97, 0.98,\n",
       "        0.99, 1.  ]),\n",
       " <BarContainer object of 100 artists>)"
      ]
     },
     "execution_count": 95,
     "metadata": {},
     "output_type": "execute_result"
    },
    {
     "data": {
      "image/png": "[encoded data removed]",
      "text/plain": [
       "<Figure size 640x480 with 1 Axes>"
      ]
     },
     "metadata": {},
     "output_type": "display_data"
    }
   ],
   "source": [
    "# plot histogram y_train and y_val\n",
    "import matplotlib.pyplot as plt\n",
    "\n",
    "plt.hist(y_train, bins=100)"
   ]
  },
  {
   "cell_type": "code",
   "execution_count": 96,
   "metadata": {},
   "outputs": [
    {
     "data": {
      "text/plain": [
       "(array([ 1.,  0.,  0.,  1.,  2.,  1.,  2.,  0.,  4.,  1.,  1.,  5.,  3.,\n",
       "         4.,  5.,  6.,  5.,  5.,  8.,  5.,  5., 10.,  0.,  4., 15., 10.,\n",
       "        10.,  4.,  7.,  8., 12.,  3.,  6.,  4.,  5.,  7.,  6.,  7., 13.,\n",
       "         6.,  8.,  2.,  4.,  4.,  3.,  3.,  5.,  5.,  3.,  4.,  5.,  2.,\n",
       "         4.,  4.,  3.,  5.,  2.,  2.,  2.,  3.,  3.,  0.,  2.,  0.,  4.,\n",
       "         1.,  0.,  0.,  1.,  1.,  1.,  0.,  1.,  1.,  0.,  0.,  0.,  0.,\n",
       "         0.,  1.,  0.,  0.,  1.,  0.,  1.,  1.,  0.,  0.,  0.,  0.,  0.,\n",
       "         0.,  0.,  0.,  0.,  0.,  0.,  0.,  0.,  1.]),\n",
       " array([0.01056808, 0.01714187, 0.02371567, 0.03028946, 0.03686326,\n",
       "        0.04343705, 0.05001085, 0.05658464, 0.06315844, 0.06973223,\n",
       "        0.07630603, 0.08287982, 0.08945361, 0.09602741, 0.1026012 ,\n",
       "        0.109175  , 0.11574879, 0.12232259, 0.12889638, 0.13547018,\n",
       "        0.14204397, 0.14861777, 0.15519156, 0.16176535, 0.16833915,\n",
       "        0.17491294, 0.18148674, 0.18806053, 0.19463433, 0.20120812,\n",
       "        0.20778192, 0.21435571, 0.22092951, 0.2275033 , 0.23407709,\n",
       "        0.24065089, 0.24722468, 0.25379848, 0.26037227, 0.26694607,\n",
       "        0.27351986, 0.28009366, 0.28666745, 0.29324124, 0.29981504,\n",
       "        0.30638883, 0.31296263, 0.31953642, 0.32611022, 0.33268401,\n",
       "        0.33925781, 0.3458316 , 0.3524054 , 0.35897919, 0.36555298,\n",
       "        0.37212678, 0.37870057, 0.38527437, 0.39184816, 0.39842196,\n",
       "        0.40499575, 0.41156955, 0.41814334, 0.42471714, 0.43129093,\n",
       "        0.43786472, 0.44443852, 0.45101231, 0.45758611, 0.4641599 ,\n",
       "        0.4707337 , 0.47730749, 0.48388129, 0.49045508, 0.49702888,\n",
       "        0.50360267, 0.51017646, 0.51675026, 0.52332405, 0.52989785,\n",
       "        0.53647164, 0.54304544, 0.54961923, 0.55619303, 0.56276682,\n",
       "        0.56934062, 0.57591441, 0.5824882 , 0.589062  , 0.59563579,\n",
       "        0.60220959, 0.60878338, 0.61535718, 0.62193097, 0.62850477,\n",
       "        0.63507856, 0.64165236, 0.64822615, 0.65479994, 0.66137374,\n",
       "        0.66794753]),\n",
       " <BarContainer object of 100 artists>)"
      ]
     },
     "execution_count": 96,
     "metadata": {},
     "output_type": "execute_result"
    },
    {
     "data": {
      "image/png": "[encoded data removed]",
      "text/plain": [
       "<Figure size 640x480 with 1 Axes>"
      ]
     },
     "metadata": {},
     "output_type": "display_data"
    }
   ],
   "source": [
    "# plot histogram  y_val\n",
    "import matplotlib.pyplot as plt\n",
    "\n",
    "plt.hist(y_val, bins=100)"
   ]
  },
  {
   "cell_type": "code",
   "execution_count": 97,
   "metadata": {},
   "outputs": [],
   "source": [
    "import torch.nn as nn"
   ]
  },
  {
   "cell_type": "code",
   "execution_count": null,
   "metadata": {},
   "outputs": [],
   "source": []
  },
  {
   "cell_type": "code",
   "execution_count": 98,
   "metadata": {},
   "outputs": [
    {
     "name": "stderr",
     "output_type": "stream",
     "text": [
      "Using 16bit Automatic Mixed Precision (AMP)\n"
     ]
    },
    {
     "name": "stderr",
     "output_type": "stream",
     "text": [
      "/Users/user/miniconda3/lib/python3.11/site-packages/torch/cuda/amp/grad_scaler.py:125: UserWarning: torch.cuda.amp.GradScaler is enabled, but CUDA is not available.  Disabling.\n",
      "  warnings.warn(\n",
      "GPU available: True (mps), used: True\n",
      "TPU available: False, using: 0 TPU cores\n",
      "IPU available: False, using: 0 IPUs\n",
      "HPU available: False, using: 0 HPUs\n"
     ]
    }
   ],
   "source": [
    "from typing import Any\n",
    "from lightning.pytorch.utilities.types import STEP_OUTPUT\n",
    "import torch\n",
    "import torch.nn as nn\n",
    "import torch.optim as optim\n",
    "from torch.utils.data import Dataset, DataLoader\n",
    "from sklearn.model_selection import train_test_split\n",
    "from sklearn.preprocessing import StandardScaler\n",
    "import numpy as np\n",
    "import lightning as pl\n",
    "from torch.nn import Dropout, BatchNorm1d\n",
    "import torch.nn.functional as F\n",
    "from torch.optim.lr_scheduler import StepLR\n",
    "from torch.optim.lr_scheduler import ReduceLROnPlateau\n",
    "\n",
    "from lightning.pytorch.loggers import TensorBoardLogger\n",
    "from torch.nn import Linear, BatchNorm1d, Dropout\n",
    "\n",
    "\n",
    "class MAPELoss(nn.Module):\n",
    "    def forward(self, y_pred, y_true):\n",
    "        epsilon = 1e-7\n",
    "        percentage_error = torch.abs((y_true - y_pred) / (y_true + epsilon))\n",
    "        mape = torch.mean(percentage_error) * 100.0\n",
    "        return mape\n",
    "\n",
    "\n",
    "# Define a simple dataset\n",
    "class PriceDataset(Dataset):\n",
    "    def __init__(self, features, labels, transform_y=None, transform_x=None):\n",
    "        self.features = torch.tensor(features, dtype=torch.float32)\n",
    "        self.labels = torch.tensor(labels, dtype=torch.float32)\n",
    "        self.transform_y = transform_y\n",
    "        self.transform_x = transform_x\n",
    "\n",
    "    def __len__(self):\n",
    "        return len(self.features)\n",
    "\n",
    "    def __getitem__(self, idx):\n",
    "        x = self.features[idx]\n",
    "        y = self.labels[idx]\n",
    "        if self.transform_x:\n",
    "            x = self.transform_x(x)\n",
    "        if self.transform_y:\n",
    "            y = self.transform_y(y)\n",
    "        return x, y\n",
    "\n",
    "\n",
    "class PricePredictor(pl.LightningModule):\n",
    "    def __init__(\n",
    "        self,\n",
    "        input_size,\n",
    "        layer_sizes=[],\n",
    "        dropout_rate=0.7,\n",
    "        last_layer_dropout_rate=0.1,\n",
    "        momentum=0.1,\n",
    "        use_batch_norm=True,\n",
    "        lr=0.00001,\n",
    "    ):\n",
    "        super(PricePredictor, self).__init__()\n",
    "\n",
    "        layer_sizes = [input_size] + layer_sizes\n",
    "        self.use_batch_norm = use_batch_norm\n",
    "        self.layers = nn.ModuleList()\n",
    "        self.batch_norms = nn.ModuleList()  # Use BatchNorm1d instead of LayerNorm\n",
    "        self.dropouts = nn.ModuleList()\n",
    "\n",
    "        for i in range(1, len(layer_sizes)):\n",
    "            self.layers.append(nn.Linear(layer_sizes[i - 1], layer_sizes[i]))\n",
    "\n",
    "            self.batch_norms.append(nn.BatchNorm1d(layer_sizes[i], momentum=momentum))\n",
    "\n",
    "            # Use last_layer_dropout_rate for the last layer, otherwise use dropout_rate\n",
    "            if i == len(layer_sizes) - 1:\n",
    "                self.dropouts.append(nn.Dropout(p=last_layer_dropout_rate))\n",
    "            else:\n",
    "                self.dropouts.append(nn.Dropout(p=dropout_rate))\n",
    "\n",
    "        self.lr = lr\n",
    "        self.val_loss = 0\n",
    "        self.training_step_loss = []\n",
    "\n",
    "    def forward(self, x):\n",
    "        for i in range(len(self.layers)):\n",
    "            if self.use_batch_norm:\n",
    "                # Use BatchNorm1d instead of LayerNorm\n",
    "                x = F.leaky_relu(self.batch_norms[i](self.layers[i](x)))\n",
    "            else:\n",
    "                x = F.leaky_relu(self.layers[i](x))\n",
    "\n",
    "            x = self.dropouts[i](x)\n",
    "\n",
    "        return x\n",
    "\n",
    "    def configure_optimizers(self):\n",
    "        optimizer = optim.Adam(self.parameters(), lr=self.lr)\n",
    "        return optimizer\n",
    "\n",
    "    def training_step(self, batch, batch_idx):\n",
    "        x, y = batch\n",
    "        y_pred = self(x)\n",
    "        loss = nn.MSELoss()(y_pred.flatten(), y)\n",
    "        self.training_step_loss.append(loss)\n",
    "        return loss\n",
    "\n",
    "    def validation_step(self, batch, batch_idx):\n",
    "        x, y = batch\n",
    "        y_pred = self(x)\n",
    "        loss = nn.MSELoss()(y_pred.flatten(), y)\n",
    "        self.val_loss = loss\n",
    "        self.log(\"val_loss\", loss)\n",
    "\n",
    "    def test_step(self, batch, batch_idx):\n",
    "        x, y = batch\n",
    "        y_pred = self(x)\n",
    "        loss = nn.MSELoss()(y_pred.flatten(), y)\n",
    "        self.log(\"test_loss\", loss)\n",
    "\n",
    "    def on_train_epoch_end(self):\n",
    "        # print(\"\\n\\tself.training_step_loss\", self.training_step_loss)\n",
    "        # print(\"\\n\\tself.training_step_loss\", self.training_step_loss[0].shape)\n",
    "        # print(\"\\n\\tself.training_step_loss\", self.training_step_loss[0])\n",
    "        # print()\n",
    "        # avg_loss = torch.stack([x[\"loss\"] for x in self.training_step_loss]).mean()\n",
    "        avg_loss = torch.stack(\n",
    "            [x.detach().cpu() for x in self.training_step_loss]\n",
    "        ).mean()\n",
    "        self.log(\"train_loss\", avg_loss.item(), on_epoch=True)\n",
    "\n",
    "\n",
    "from lightning.pytorch.callbacks import LearningRateFinder\n",
    "\n",
    "\n",
    "class FineTuneLearningRateFinder(LearningRateFinder):\n",
    "    def __init__(self, milestones, *args, **kwargs):\n",
    "        super().__init__(*args, **kwargs)\n",
    "        self.milestones = milestones\n",
    "        self._min_lr = 1e-6\n",
    "        self._max_lr = 1e-1\n",
    "        # self._num_training_steps = 1000\n",
    "        self._mode = \"linear\"\n",
    "\n",
    "    def on_fit_start(self, *args, **kwargs):\n",
    "        return\n",
    "\n",
    "    def on_train_epoch_start(self, trainer, pl_module):\n",
    "        if trainer.current_epoch in self.milestones or trainer.current_epoch == 0:\n",
    "            self.lr_find(trainer, pl_module)\n",
    "\n",
    "\n",
    "from lightning.pytorch.callbacks.early_stopping import EarlyStopping\n",
    "\n",
    "np.random.seed(42)\n",
    "\n",
    "\n",
    "class AddNoise(object):\n",
    "    def __init__(self, noise_level=0.01):\n",
    "        self.noise_level = noise_level\n",
    "\n",
    "    def __call__(self, x):\n",
    "        # random apply 20% of the time\n",
    "        if torch.rand(1) < 0.2:\n",
    "            return x\n",
    "        noise = torch.randn_like(x) * self.noise_level\n",
    "        augmented_x = x + noise\n",
    "        return augmented_x\n",
    "\n",
    "\n",
    "transforms_x = AddNoise(noise_level=0.1)\n",
    "transforms_y = AddNoise(noise_level=0.025)\n",
    "# batch_size = 32\n",
    "batch_size = 256\n",
    "\n",
    "num_workers = 0\n",
    "train_dataset = PriceDataset(\n",
    "    X_train, y_train, transform_x=transforms_x, transform_y=transforms_y\n",
    ")\n",
    "test_dataset = PriceDataset(X_test, y_test)\n",
    "val_dataset = PriceDataset(X_val, y_val)\n",
    "train_loader = DataLoader(\n",
    "    train_dataset, batch_size=batch_size, shuffle=True, num_workers=num_workers\n",
    ")\n",
    "test_loader = DataLoader(\n",
    "    test_dataset, batch_size=batch_size, shuffle=False, num_workers=num_workers\n",
    ")\n",
    "val_loader = DataLoader(\n",
    "    val_dataset, batch_size=batch_size, shuffle=False, num_workers=num_workers\n",
    ")\n",
    "from lightning.pytorch.callbacks import ModelCheckpoint\n",
    "\n",
    "# dir_path = os.path.dirname(os.path.realpath(__file__))\n",
    "dir_path = \"\"\n",
    "checkpoint_callback = ModelCheckpoint(\n",
    "    dirpath=f\"{dir_path}/models/\",\n",
    "    save_top_k=2,\n",
    "    monitor=\"val_loss\",\n",
    "    filename=\"best_model-{epoch}\",\n",
    ")\n",
    "\n",
    "# Initialize the model\n",
    "input_size = X_train.shape[1:]\n",
    "model = PricePredictor(input_size[0], layer_sizes=[512, 128, 32, 1]).to(device)\n",
    "# check_point_path = \"/Users/user/Documents/Coding/cro_location_intelligence/src/models/pretrain.ckpt\"\n",
    "# model.load_from_checkpoint(check_point_path)\n",
    "# model = PricePredictor.load_from_checkpoint(\n",
    "#     check_point_path,\n",
    "#     input_size=input_size[0],\n",
    "#     layer_sizes=[512, 128, 32, 1],\n",
    "#     use_batch_norm=False,\n",
    "#     dropout_rate=0.2,\n",
    "# ).to(device)\n",
    "\n",
    "# model.eval()\n",
    "# Initialize a PyTorch Lightning Trainer\n",
    "logger = TensorBoardLogger(f\"{dir_path}/tb_logs\", name=\"my_model\")\n",
    "\n",
    "early_stop_callback = EarlyStopping(\n",
    "    monitor=\"val_loss\", min_delta=0.00, patience=50, verbose=False, mode=\"min\"\n",
    ")\n",
    "trainer = pl.Trainer(\n",
    "    callbacks=[\n",
    "        FineTuneLearningRateFinder(\n",
    "            milestones=(\n",
    "                100,\n",
    "                1000,\n",
    "                2000,\n",
    "                3000,\n",
    "                5000,\n",
    "                10000,\n",
    "            )\n",
    "        ),\n",
    "        early_stop_callback,\n",
    "        checkpoint_callback,\n",
    "    ],\n",
    "    min_epochs=20000,\n",
    "    max_epochs=30000,\n",
    "    logger=logger,\n",
    "    precision=\"16-mixed\",\n",
    "    accelerator=\"mps\",\n",
    ")\n",
    "# Train the model\n",
    "# trainer.fit(model, train_dataloaders=train_loader, val_dataloaders=val_loader)\n",
    "\n",
    "# # Test the model\n",
    "# trainer.test(dataloaders=test_loader)\n",
    "\n",
    "# # Make predictionss\n",
    "# model.to(device)\n",
    "# model.eval()\n",
    "# with torch.no_grad():\n",
    "#     example_input = torch.tensor(X_test[:5], dtype=torch.float32).to(device)\n",
    "#     predictions = model(example_input).flatten().cpu().numpy()\n",
    "\n",
    "# print(\"Example Predictions:\", predictions)"
   ]
  },
  {
   "cell_type": "code",
   "execution_count": 115,
   "metadata": {},
   "outputs": [
    {
     "data": {
      "text/plain": [
       "894"
      ]
     },
     "execution_count": 115,
     "metadata": {},
     "output_type": "execute_result"
    }
   ],
   "source": []
  },
  {
   "cell_type": "code",
   "execution_count": 99,
   "metadata": {},
   "outputs": [
    {
     "data": {
      "text/plain": [
       "<lightning.pytorch.callbacks.model_checkpoint.ModelCheckpoint at 0x2caac6cd0>"
      ]
     },
     "execution_count": 99,
     "metadata": {},
     "output_type": "execute_result"
    }
   ],
   "source": [
    "trainer.checkpoint_callback"
   ]
  },
  {
   "cell_type": "code",
   "execution_count": 100,
   "metadata": {},
   "outputs": [],
   "source": [
    "# for i, (path, _) in enumerate(trainer.checkpoint_callback.best_k_models.items()):\n",
    "for i, path in enumerate(\n",
    "    # [\"/Users/user/Documents/Coding/cro_location_intelligence/src/models/test.ckpt\"]\n",
    "    [\n",
    "        \"/Users/user/Documents/Coding/cro_location_intelligence/src/models/test.ckpt\"\n",
    "        # \"/Users/user/Documents/Coding/cro_location_intelligence/src/models_transfer/test.ckpt\"\n",
    "    ]\n",
    "):\n",
    "    model = PricePredictor.load_from_checkpoint(\n",
    "        path, input_size=input_size[0], layer_sizes=[512, 128, 32, 1]\n",
    "    )\n",
    "    PATH = f\"./models/{i}th_best.pt\"\n",
    "    torch.save(model, PATH)"
   ]
  },
  {
   "cell_type": "code",
   "execution_count": null,
   "metadata": {},
   "outputs": [],
   "source": []
  },
  {
   "cell_type": "code",
   "execution_count": null,
   "metadata": {},
   "outputs": [],
   "source": []
  },
  {
   "cell_type": "code",
   "execution_count": 101,
   "metadata": {},
   "outputs": [],
   "source": [
    "# torch.save(model.state_dict(), PATH)"
   ]
  },
  {
   "cell_type": "code",
   "execution_count": 102,
   "metadata": {},
   "outputs": [
    {
     "data": {
      "text/plain": [
       "device(type='mps', index=0)"
      ]
     },
     "execution_count": 102,
     "metadata": {},
     "output_type": "execute_result"
    }
   ],
   "source": [
    "model.device"
   ]
  },
  {
   "cell_type": "code",
   "execution_count": 103,
   "metadata": {},
   "outputs": [],
   "source": [
    "# checkpoint_path = \"/Users/user/Documents/Coding/cro_location_intelligence/src/models_version34/best_model-epoch=353.ckpt\"\n",
    "# # model = PricePredictor.load_from_checkpoint(\n",
    "# #     checkpoint_path=checkpoint_path,\n",
    "# #     input_size=input_size[0],\n",
    "# #     use_mps_device=True,\n",
    "# # )\n",
    "# model = torch.load(checkpoint_path)\n",
    "\n",
    "# model.eval()\n",
    "# model.to(\"mps\")"
   ]
  },
  {
   "cell_type": "code",
   "execution_count": 104,
   "metadata": {},
   "outputs": [
    {
     "name": "stdout",
     "output_type": "stream",
     "text": [
      "Example Predictions: [ 2.9295850e-01  3.8961300e-01  2.7650017e-01  2.6938891e-01\n",
      "  2.7312839e-01  2.2378471e-01  2.8540173e-01  2.7703723e-01\n",
      " -4.4739367e-03  2.3621581e-01  2.0524192e-01  2.2097272e-01\n",
      "  2.6329130e-01  2.0864370e-01  2.9372030e-01  2.8378612e-01\n",
      "  2.3546000e-01  1.6270493e-01  2.0218994e-01  3.2783219e-01\n",
      "  2.4154061e-01  2.9017505e-01  2.6919127e-01  2.9491788e-01\n",
      "  2.3792371e-01  3.0946428e-01 -2.4650409e-03  2.6618516e-01\n",
      " -1.1878837e-04  2.6195994e-01  2.4793027e-01  2.7193409e-01\n",
      "  3.0000612e-01  3.5042667e-01  3.1272328e-01  3.3440170e-01\n",
      "  2.6494384e-01  2.5933108e-01  2.2944178e-01  2.3154210e-01\n",
      "  2.2494982e-01  2.0120400e-01  2.4966867e-01  4.8092920e-01\n",
      "  2.6645929e-01  2.6819894e-01 -1.5820084e-04  1.7597906e-01\n",
      "  1.3353324e-01  1.7709695e-01  2.5696692e-01 -4.6058483e-03\n",
      "  3.1262371e-01 -4.4051907e-03  3.2589242e-01  2.4838606e-01\n",
      "  1.9470575e-01  2.2415671e-01  2.6775700e-01  3.9721790e-01\n",
      "  2.4328017e-01  2.6343471e-01  3.0383685e-01  1.4214049e-01\n",
      "  2.0117064e-01  1.9846535e-01  2.7002716e-01  2.6293775e-01]\n",
      "Ground Truth: [ 0.70841744  0.25344402  0.16957017  0.26360735  0.27926378  0.24470932\n",
      "  0.17560358  0.36602374  0.16146888  0.27521046  0.49095872  0.28146068\n",
      "  0.48453337  0.08721828  0.30963766  0.30938209  0.35643737  0.13123749\n",
      "  0.11089034  0.5906409   0.20029782  0.37904825  0.3114301   0.37348522\n",
      "  0.37439181  0.25397064 -0.00203283  0.33049452  0.29876734  0.29971454\n",
      "  0.32515046  0.19141426  0.13853618  0.1854582   0.24381902  0.18541554\n",
      "  0.36083728  0.18635625  0.3906087   0.25088267  0.13047574  0.17218653\n",
      "  0.25431538  0.39848962  0.28447481  0.1529979   0.45211025  0.31245517\n",
      "  0.23162963  0.16490466  0.18378239  0.10598418  0.40055947  0.29368083\n",
      "  0.31441002  0.24028594  0.18230463  0.17377569  0.30079224  0.29377933\n",
      "  0.37746523  0.19219659  0.402051    0.20644933  0.25478589  0.12888321\n",
      "  0.41644231  0.25242834]\n"
     ]
    }
   ],
   "source": [
    "model.to(device)\n",
    "model.eval()\n",
    "number_predict = 100\n",
    "with torch.no_grad():\n",
    "    example_input = torch.tensor(X_test[:number_predict], dtype=torch.float32).to(\"mps\")\n",
    "    predictions = model(example_input).flatten().cpu().numpy()\n",
    "    # predictions = [int(round(pred)) for pred in predictions]\n",
    "\n",
    "print(\"Example Predictions:\", predictions)\n",
    "print(\"Ground Truth:\", y_test[:number_predict])"
   ]
  },
  {
   "cell_type": "code",
   "execution_count": 105,
   "metadata": {},
   "outputs": [
    {
     "data": {
      "text/html": [
       "<div>\n",
       "<style scoped>\n",
       "    .dataframe tbody tr th:only-of-type {\n",
       "        vertical-align: middle;\n",
       "    }\n",
       "\n",
       "    .dataframe tbody tr th {\n",
       "        vertical-align: top;\n",
       "    }\n",
       "\n",
       "    .dataframe thead th {\n",
       "        text-align: right;\n",
       "    }\n",
       "</style>\n",
       "<table border=\"1\" class=\"dataframe\">\n",
       "  <thead>\n",
       "    <tr style=\"text-align: right;\">\n",
       "      <th></th>\n",
       "      <th>y_pred</th>\n",
       "      <th>y_test</th>\n",
       "    </tr>\n",
       "  </thead>\n",
       "  <tbody>\n",
       "    <tr>\n",
       "      <th>0</th>\n",
       "      <td>0.292958</td>\n",
       "      <td>0.708417</td>\n",
       "    </tr>\n",
       "    <tr>\n",
       "      <th>1</th>\n",
       "      <td>0.389613</td>\n",
       "      <td>0.253444</td>\n",
       "    </tr>\n",
       "    <tr>\n",
       "      <th>2</th>\n",
       "      <td>0.276500</td>\n",
       "      <td>0.169570</td>\n",
       "    </tr>\n",
       "    <tr>\n",
       "      <th>3</th>\n",
       "      <td>0.269389</td>\n",
       "      <td>0.263607</td>\n",
       "    </tr>\n",
       "    <tr>\n",
       "      <th>4</th>\n",
       "      <td>0.273128</td>\n",
       "      <td>0.279264</td>\n",
       "    </tr>\n",
       "  </tbody>\n",
       "</table>\n",
       "</div>"
      ],
      "text/plain": [
       "     y_pred    y_test\n",
       "0  0.292958  0.708417\n",
       "1  0.389613  0.253444\n",
       "2  0.276500  0.169570\n",
       "3  0.269389  0.263607\n",
       "4  0.273128  0.279264"
      ]
     },
     "execution_count": 105,
     "metadata": {},
     "output_type": "execute_result"
    }
   ],
   "source": [
    "result_df = pd.DataFrame({\"y_pred\": predictions, \"y_test\": y_test[:number_predict]})\n",
    "result_df.head()"
   ]
  },
  {
   "cell_type": "code",
   "execution_count": 106,
   "metadata": {},
   "outputs": [
    {
     "data": {
      "text/html": [
       "<div>\n",
       "<style scoped>\n",
       "    .dataframe tbody tr th:only-of-type {\n",
       "        vertical-align: middle;\n",
       "    }\n",
       "\n",
       "    .dataframe tbody tr th {\n",
       "        vertical-align: top;\n",
       "    }\n",
       "\n",
       "    .dataframe thead th {\n",
       "        text-align: right;\n",
       "    }\n",
       "</style>\n",
       "<table border=\"1\" class=\"dataframe\">\n",
       "  <thead>\n",
       "    <tr style=\"text-align: right;\">\n",
       "      <th></th>\n",
       "      <th>y_pred</th>\n",
       "      <th>y_test</th>\n",
       "      <th>mape</th>\n",
       "    </tr>\n",
       "  </thead>\n",
       "  <tbody>\n",
       "    <tr>\n",
       "      <th>0</th>\n",
       "      <td>0.292958</td>\n",
       "      <td>0.708417</td>\n",
       "      <td>0.586461</td>\n",
       "    </tr>\n",
       "    <tr>\n",
       "      <th>1</th>\n",
       "      <td>0.389613</td>\n",
       "      <td>0.253444</td>\n",
       "      <td>0.537274</td>\n",
       "    </tr>\n",
       "    <tr>\n",
       "      <th>2</th>\n",
       "      <td>0.276500</td>\n",
       "      <td>0.169570</td>\n",
       "      <td>0.630594</td>\n",
       "    </tr>\n",
       "    <tr>\n",
       "      <th>3</th>\n",
       "      <td>0.269389</td>\n",
       "      <td>0.263607</td>\n",
       "      <td>0.021933</td>\n",
       "    </tr>\n",
       "    <tr>\n",
       "      <th>4</th>\n",
       "      <td>0.273128</td>\n",
       "      <td>0.279264</td>\n",
       "      <td>0.021970</td>\n",
       "    </tr>\n",
       "  </tbody>\n",
       "</table>\n",
       "</div>"
      ],
      "text/plain": [
       "     y_pred    y_test      mape\n",
       "0  0.292958  0.708417  0.586461\n",
       "1  0.389613  0.253444  0.537274\n",
       "2  0.276500  0.169570  0.630594\n",
       "3  0.269389  0.263607  0.021933\n",
       "4  0.273128  0.279264  0.021970"
      ]
     },
     "execution_count": 106,
     "metadata": {},
     "output_type": "execute_result"
    }
   ],
   "source": [
    "# cal mape each row\n",
    "def cal_mape(row):\n",
    "    try:\n",
    "        return abs(row.y_pred - row.y_train) / row.y_train\n",
    "    except:\n",
    "        return abs(row.y_pred - row.y_test) / row.y_test\n",
    "\n",
    "\n",
    "result_df[\"mape\"] = result_df.apply(cal_mape, axis=1)\n",
    "result_df.head()"
   ]
  },
  {
   "cell_type": "code",
   "execution_count": 107,
   "metadata": {},
   "outputs": [
    {
     "name": "stdout",
     "output_type": "stream",
     "text": [
      "18\n"
     ]
    },
    {
     "data": {
      "text/plain": [
       "0.2647058823529412"
      ]
     },
     "execution_count": 107,
     "metadata": {},
     "output_type": "execute_result"
    }
   ],
   "source": [
    "# count mape < 0.15\n",
    "print(result_df[result_df.mape < 0.15].shape[0])\n",
    "result_df[result_df.mape < 0.15].shape[0] / result_df.shape[0]\n",
    "# 0.25"
   ]
  },
  {
   "cell_type": "code",
   "execution_count": 108,
   "metadata": {},
   "outputs": [
    {
     "name": "stdout",
     "output_type": "stream",
     "text": [
      "2\n"
     ]
    },
    {
     "data": {
      "text/plain": [
       "0.029411764705882353"
      ]
     },
     "execution_count": 108,
     "metadata": {},
     "output_type": "execute_result"
    }
   ],
   "source": [
    "print(result_df[(result_df[\"mape\"] > 0.15) & (result_df[\"mape\"] < 0.20)].shape[0])\n",
    "result_df[(result_df[\"mape\"] > 0.15) & (result_df[\"mape\"] < 0.20)].shape[\n",
    "    0\n",
    "] / result_df.shape[0]"
   ]
  },
  {
   "cell_type": "code",
   "execution_count": null,
   "metadata": {},
   "outputs": [],
   "source": []
  },
  {
   "cell_type": "code",
   "execution_count": 109,
   "metadata": {},
   "outputs": [
    {
     "data": {
      "text/plain": [
       "array([0.70841744, 0.25344402, 0.16957017, 0.26360735, 0.27926378])"
      ]
     },
     "execution_count": 109,
     "metadata": {},
     "output_type": "execute_result"
    }
   ],
   "source": [
    "y_test[:5]"
   ]
  },
  {
   "cell_type": "code",
   "execution_count": 110,
   "metadata": {},
   "outputs": [
    {
     "name": "stdout",
     "output_type": "stream",
     "text": [
      "95\n"
     ]
    },
    {
     "data": {
      "text/plain": [
       "0.3231292517006803"
      ]
     },
     "execution_count": 110,
     "metadata": {},
     "output_type": "execute_result"
    }
   ],
   "source": [
    "number_predict = 10000\n",
    "with torch.no_grad():\n",
    "    example_input = torch.tensor(X_val[:number_predict], dtype=torch.float32).to(\"mps\")\n",
    "    predictions = model(example_input).flatten().cpu().numpy()\n",
    "result_df = pd.DataFrame({\"y_pred\": predictions, \"y_train\": y_val[:number_predict]})\n",
    "result_df.head()\n",
    "\n",
    "result_df[\"mape\"] = result_df.apply(cal_mape, axis=1)\n",
    "result_df.head()\n",
    "print(result_df[result_df.mape < 0.15].shape[0])\n",
    "result_df[result_df.mape < 0.15].shape[0] / result_df.shape[0]\n",
    "# 0.17346938775510204"
   ]
  },
  {
   "cell_type": "code",
   "execution_count": null,
   "metadata": {},
   "outputs": [],
   "source": []
  },
  {
   "cell_type": "code",
   "execution_count": null,
   "metadata": {},
   "outputs": [],
   "source": []
  },
  {
   "cell_type": "code",
   "execution_count": 111,
   "metadata": {},
   "outputs": [],
   "source": [
    "number_predict = 10000\n",
    "with torch.no_grad():\n",
    "    example_input = torch.tensor(X_train[:number_predict], dtype=torch.float32).to(\n",
    "        \"mps\"\n",
    "    )\n",
    "    predictions = model(example_input).flatten().cpu().numpy()\n",
    "    # predictions = [int(round(pred)) for pred in predictions]\n",
    "\n",
    "# print(\"Example Predictions:\", predictions)\n",
    "# print(\"Ground Truth:\", y_train[:number_predict])"
   ]
  },
  {
   "cell_type": "code",
   "execution_count": 112,
   "metadata": {},
   "outputs": [
    {
     "data": {
      "text/html": [
       "<div>\n",
       "<style scoped>\n",
       "    .dataframe tbody tr th:only-of-type {\n",
       "        vertical-align: middle;\n",
       "    }\n",
       "\n",
       "    .dataframe tbody tr th {\n",
       "        vertical-align: top;\n",
       "    }\n",
       "\n",
       "    .dataframe thead th {\n",
       "        text-align: right;\n",
       "    }\n",
       "</style>\n",
       "<table border=\"1\" class=\"dataframe\">\n",
       "  <thead>\n",
       "    <tr style=\"text-align: right;\">\n",
       "      <th></th>\n",
       "      <th>y_pred</th>\n",
       "      <th>y_train</th>\n",
       "    </tr>\n",
       "  </thead>\n",
       "  <tbody>\n",
       "    <tr>\n",
       "      <th>0</th>\n",
       "      <td>0.289179</td>\n",
       "      <td>0.297223</td>\n",
       "    </tr>\n",
       "    <tr>\n",
       "      <th>1</th>\n",
       "      <td>0.651180</td>\n",
       "      <td>0.767037</td>\n",
       "    </tr>\n",
       "    <tr>\n",
       "      <th>2</th>\n",
       "      <td>0.195946</td>\n",
       "      <td>0.197654</td>\n",
       "    </tr>\n",
       "    <tr>\n",
       "      <th>3</th>\n",
       "      <td>0.141090</td>\n",
       "      <td>0.115914</td>\n",
       "    </tr>\n",
       "    <tr>\n",
       "      <th>4</th>\n",
       "      <td>0.321100</td>\n",
       "      <td>0.341398</td>\n",
       "    </tr>\n",
       "  </tbody>\n",
       "</table>\n",
       "</div>"
      ],
      "text/plain": [
       "     y_pred   y_train\n",
       "0  0.289179  0.297223\n",
       "1  0.651180  0.767037\n",
       "2  0.195946  0.197654\n",
       "3  0.141090  0.115914\n",
       "4  0.321100  0.341398"
      ]
     },
     "execution_count": 112,
     "metadata": {},
     "output_type": "execute_result"
    }
   ],
   "source": [
    "result_df = pd.DataFrame({\"y_pred\": predictions, \"y_train\": y_train[:number_predict]})\n",
    "result_df.head()"
   ]
  },
  {
   "cell_type": "code",
   "execution_count": 113,
   "metadata": {},
   "outputs": [
    {
     "name": "stderr",
     "output_type": "stream",
     "text": [
      "/var/folders/9g/3rr3k99j0td2974k71sy46_h0000gp/T/ipykernel_49530/724403404.py:4: RuntimeWarning: divide by zero encountered in scalar divide\n",
      "  return abs(row.y_pred - row.y_train) / row.y_train\n"
     ]
    },
    {
     "data": {
      "text/html": [
       "<div>\n",
       "<style scoped>\n",
       "    .dataframe tbody tr th:only-of-type {\n",
       "        vertical-align: middle;\n",
       "    }\n",
       "\n",
       "    .dataframe tbody tr th {\n",
       "        vertical-align: top;\n",
       "    }\n",
       "\n",
       "    .dataframe thead th {\n",
       "        text-align: right;\n",
       "    }\n",
       "</style>\n",
       "<table border=\"1\" class=\"dataframe\">\n",
       "  <thead>\n",
       "    <tr style=\"text-align: right;\">\n",
       "      <th></th>\n",
       "      <th>y_pred</th>\n",
       "      <th>y_train</th>\n",
       "      <th>mape</th>\n",
       "    </tr>\n",
       "  </thead>\n",
       "  <tbody>\n",
       "    <tr>\n",
       "      <th>0</th>\n",
       "      <td>0.289179</td>\n",
       "      <td>0.297223</td>\n",
       "      <td>0.027065</td>\n",
       "    </tr>\n",
       "    <tr>\n",
       "      <th>1</th>\n",
       "      <td>0.651180</td>\n",
       "      <td>0.767037</td>\n",
       "      <td>0.151045</td>\n",
       "    </tr>\n",
       "    <tr>\n",
       "      <th>2</th>\n",
       "      <td>0.195946</td>\n",
       "      <td>0.197654</td>\n",
       "      <td>0.008642</td>\n",
       "    </tr>\n",
       "    <tr>\n",
       "      <th>3</th>\n",
       "      <td>0.141090</td>\n",
       "      <td>0.115914</td>\n",
       "      <td>0.217197</td>\n",
       "    </tr>\n",
       "    <tr>\n",
       "      <th>4</th>\n",
       "      <td>0.321100</td>\n",
       "      <td>0.341398</td>\n",
       "      <td>0.059456</td>\n",
       "    </tr>\n",
       "  </tbody>\n",
       "</table>\n",
       "</div>"
      ],
      "text/plain": [
       "     y_pred   y_train      mape\n",
       "0  0.289179  0.297223  0.027065\n",
       "1  0.651180  0.767037  0.151045\n",
       "2  0.195946  0.197654  0.008642\n",
       "3  0.141090  0.115914  0.217197\n",
       "4  0.321100  0.341398  0.059456"
      ]
     },
     "execution_count": 113,
     "metadata": {},
     "output_type": "execute_result"
    }
   ],
   "source": [
    "# cal mape each row\n",
    "\n",
    "\n",
    "result_df[\"mape\"] = result_df.apply(cal_mape, axis=1)\n",
    "result_df.head()"
   ]
  },
  {
   "cell_type": "code",
   "execution_count": 114,
   "metadata": {},
   "outputs": [
    {
     "name": "stdout",
     "output_type": "stream",
     "text": [
      "568\n"
     ]
    },
    {
     "data": {
      "text/plain": [
       "0.8316251830161054"
      ]
     },
     "execution_count": 114,
     "metadata": {},
     "output_type": "execute_result"
    }
   ],
   "source": [
    "print(result_df[result_df.mape < 0.15].shape[0])\n",
    "result_df[result_df.mape < 0.15].shape[0] / result_df.shape[0]"
   ]
  },
  {
   "cell_type": "code",
   "execution_count": null,
   "metadata": {},
   "outputs": [],
   "source": []
  },
  {
   "cell_type": "code",
   "execution_count": null,
   "metadata": {},
   "outputs": [],
   "source": []
  },
  {
   "cell_type": "code",
   "execution_count": null,
   "metadata": {},
   "outputs": [],
   "source": []
  },
  {
   "cell_type": "code",
   "execution_count": null,
   "metadata": {},
   "outputs": [],
   "source": []
  },
  {
   "cell_type": "code",
   "execution_count": null,
   "metadata": {},
   "outputs": [],
   "source": []
  }
 ],
 "metadata": {
  "kernelspec": {
   "display_name": "base",
   "language": "python",
   "name": "python3"
  },
  "language_info": {
   "codemirror_mode": {
    "name": "ipython",
    "version": 3
   },
   "file_extension": ".py",
   "mimetype": "text/x-python",
   "name": "python",
   "nbconvert_exporter": "python",
   "pygments_lexer": "ipython3",
   "version": "3.11.4"
  },
  "orig_nbformat": 4
 },
 "nbformat": 4,
 "nbformat_minor": 2
}
