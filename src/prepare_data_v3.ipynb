{
 "cells": [
  {
   "cell_type": "code",
   "execution_count": 53,
   "metadata": {},
   "outputs": [],
   "source": [
    "import pandas as pd"
   ]
  },
  {
   "cell_type": "code",
   "execution_count": 54,
   "metadata": {},
   "outputs": [],
   "source": [
    "import numpy as np\n",
    "\n",
    "\n",
    "def calculate_distance(point1, point2):\n",
    "    return np.linalg.norm(np.array(point2) - np.array(point1))\n",
    "\n",
    "\n",
    "def determine_grid_circle_range(grid_x_id, grid_y_id, total_grid=16):\n",
    "    grid_x_id += 0.5\n",
    "    grid_y_id += 0.5\n",
    "    mid_x_grid = total_grid / 2\n",
    "    mid_y_grid = total_grid / 2\n",
    "    dist = calculate_distance((grid_x_id, grid_y_id), (mid_x_grid, mid_y_grid))\n",
    "    # print(dist)\n",
    "    # floor the distance to get the circle range\n",
    "    return int(np.floor(dist))"
   ]
  },
  {
   "cell_type": "code",
   "execution_count": 55,
   "metadata": {},
   "outputs": [],
   "source": [
    "traffic_road_df_path = \"/Users/user/Documents/Coding/cro_location_intelligence/notebook/data_7_eleven/data_7_eleven.csv\"\n",
    "\n",
    "traffic_road_df = pd.read_csv(traffic_road_df_path)"
   ]
  },
  {
   "cell_type": "code",
   "execution_count": 56,
   "metadata": {},
   "outputs": [
    {
     "name": "stdout",
     "output_type": "stream",
     "text": [
      "(2830080, 72)\n",
      "11055.0\n"
     ]
    },
    {
     "data": {
      "text/html": [
       "<div>\n",
       "<style scoped>\n",
       "    .dataframe tbody tr th:only-of-type {\n",
       "        vertical-align: middle;\n",
       "    }\n",
       "\n",
       "    .dataframe tbody tr th {\n",
       "        vertical-align: top;\n",
       "    }\n",
       "\n",
       "    .dataframe thead th {\n",
       "        text-align: right;\n",
       "    }\n",
       "</style>\n",
       "<table border=\"1\" class=\"dataframe\">\n",
       "  <thead>\n",
       "    <tr style=\"text-align: right;\">\n",
       "      <th></th>\n",
       "      <th>store_id</th>\n",
       "      <th>grid_lat_id</th>\n",
       "      <th>grid_lon_id</th>\n",
       "      <th>green_wkday_12</th>\n",
       "      <th>orange_wkday_12</th>\n",
       "      <th>red_wkday_12</th>\n",
       "      <th>maroon_wkday_12</th>\n",
       "      <th>green_wkday_18</th>\n",
       "      <th>orange_wkday_18</th>\n",
       "      <th>red_wkday_18</th>\n",
       "      <th>...</th>\n",
       "      <th>road_length_platform</th>\n",
       "      <th>road_length_stop</th>\n",
       "      <th>road_length_passing_place</th>\n",
       "      <th>road_length_no</th>\n",
       "      <th>road_length_abandoned</th>\n",
       "      <th>road_length_traffic_signals;crossing</th>\n",
       "      <th>road_length_crossing;bus_stop</th>\n",
       "      <th>road_length_proposed</th>\n",
       "      <th>road_length_toll_gantry</th>\n",
       "      <th>road_length_junction</th>\n",
       "    </tr>\n",
       "  </thead>\n",
       "  <tbody>\n",
       "    <tr>\n",
       "      <th>0</th>\n",
       "      <td>8375</td>\n",
       "      <td>0.0</td>\n",
       "      <td>0.0</td>\n",
       "      <td>0.000000</td>\n",
       "      <td>0.000000</td>\n",
       "      <td>0.0</td>\n",
       "      <td>0.0</td>\n",
       "      <td>0.000000</td>\n",
       "      <td>0.000000</td>\n",
       "      <td>0.0</td>\n",
       "      <td>...</td>\n",
       "      <td>0.0</td>\n",
       "      <td>0.0</td>\n",
       "      <td>0.0</td>\n",
       "      <td>0.0</td>\n",
       "      <td>0.0</td>\n",
       "      <td>0.0</td>\n",
       "      <td>0.0</td>\n",
       "      <td>0.0</td>\n",
       "      <td>0.0</td>\n",
       "      <td>0.0</td>\n",
       "    </tr>\n",
       "    <tr>\n",
       "      <th>1</th>\n",
       "      <td>8375</td>\n",
       "      <td>1.0</td>\n",
       "      <td>0.0</td>\n",
       "      <td>0.000000</td>\n",
       "      <td>0.000000</td>\n",
       "      <td>0.0</td>\n",
       "      <td>0.0</td>\n",
       "      <td>0.000000</td>\n",
       "      <td>0.000000</td>\n",
       "      <td>0.0</td>\n",
       "      <td>...</td>\n",
       "      <td>0.0</td>\n",
       "      <td>0.0</td>\n",
       "      <td>0.0</td>\n",
       "      <td>0.0</td>\n",
       "      <td>0.0</td>\n",
       "      <td>0.0</td>\n",
       "      <td>0.0</td>\n",
       "      <td>0.0</td>\n",
       "      <td>0.0</td>\n",
       "      <td>0.0</td>\n",
       "    </tr>\n",
       "    <tr>\n",
       "      <th>2</th>\n",
       "      <td>8375</td>\n",
       "      <td>2.0</td>\n",
       "      <td>0.0</td>\n",
       "      <td>0.000000</td>\n",
       "      <td>0.000000</td>\n",
       "      <td>0.0</td>\n",
       "      <td>0.0</td>\n",
       "      <td>0.000000</td>\n",
       "      <td>0.000000</td>\n",
       "      <td>0.0</td>\n",
       "      <td>...</td>\n",
       "      <td>0.0</td>\n",
       "      <td>0.0</td>\n",
       "      <td>0.0</td>\n",
       "      <td>0.0</td>\n",
       "      <td>0.0</td>\n",
       "      <td>0.0</td>\n",
       "      <td>0.0</td>\n",
       "      <td>0.0</td>\n",
       "      <td>0.0</td>\n",
       "      <td>0.0</td>\n",
       "    </tr>\n",
       "    <tr>\n",
       "      <th>3</th>\n",
       "      <td>8375</td>\n",
       "      <td>3.0</td>\n",
       "      <td>0.0</td>\n",
       "      <td>0.031559</td>\n",
       "      <td>0.007267</td>\n",
       "      <td>0.0</td>\n",
       "      <td>0.0</td>\n",
       "      <td>0.026161</td>\n",
       "      <td>0.011627</td>\n",
       "      <td>0.0</td>\n",
       "      <td>...</td>\n",
       "      <td>0.0</td>\n",
       "      <td>0.0</td>\n",
       "      <td>0.0</td>\n",
       "      <td>0.0</td>\n",
       "      <td>0.0</td>\n",
       "      <td>0.0</td>\n",
       "      <td>0.0</td>\n",
       "      <td>0.0</td>\n",
       "      <td>0.0</td>\n",
       "      <td>0.0</td>\n",
       "    </tr>\n",
       "    <tr>\n",
       "      <th>4</th>\n",
       "      <td>8375</td>\n",
       "      <td>4.0</td>\n",
       "      <td>0.0</td>\n",
       "      <td>0.025746</td>\n",
       "      <td>0.044640</td>\n",
       "      <td>0.0</td>\n",
       "      <td>0.0</td>\n",
       "      <td>0.071838</td>\n",
       "      <td>0.000000</td>\n",
       "      <td>0.0</td>\n",
       "      <td>...</td>\n",
       "      <td>0.0</td>\n",
       "      <td>0.0</td>\n",
       "      <td>0.0</td>\n",
       "      <td>0.0</td>\n",
       "      <td>0.0</td>\n",
       "      <td>0.0</td>\n",
       "      <td>0.0</td>\n",
       "      <td>0.0</td>\n",
       "      <td>0.0</td>\n",
       "      <td>0.0</td>\n",
       "    </tr>\n",
       "  </tbody>\n",
       "</table>\n",
       "<p>5 rows × 72 columns</p>\n",
       "</div>"
      ],
      "text/plain": [
       "   store_id  grid_lat_id  grid_lon_id  green_wkday_12  orange_wkday_12  \\\n",
       "0      8375          0.0          0.0        0.000000         0.000000   \n",
       "1      8375          1.0          0.0        0.000000         0.000000   \n",
       "2      8375          2.0          0.0        0.000000         0.000000   \n",
       "3      8375          3.0          0.0        0.031559         0.007267   \n",
       "4      8375          4.0          0.0        0.025746         0.044640   \n",
       "\n",
       "   red_wkday_12  maroon_wkday_12  green_wkday_18  orange_wkday_18  \\\n",
       "0           0.0              0.0        0.000000         0.000000   \n",
       "1           0.0              0.0        0.000000         0.000000   \n",
       "2           0.0              0.0        0.000000         0.000000   \n",
       "3           0.0              0.0        0.026161         0.011627   \n",
       "4           0.0              0.0        0.071838         0.000000   \n",
       "\n",
       "   red_wkday_18  ...  road_length_platform  road_length_stop  \\\n",
       "0           0.0  ...                   0.0               0.0   \n",
       "1           0.0  ...                   0.0               0.0   \n",
       "2           0.0  ...                   0.0               0.0   \n",
       "3           0.0  ...                   0.0               0.0   \n",
       "4           0.0  ...                   0.0               0.0   \n",
       "\n",
       "   road_length_passing_place  road_length_no  road_length_abandoned  \\\n",
       "0                        0.0             0.0                    0.0   \n",
       "1                        0.0             0.0                    0.0   \n",
       "2                        0.0             0.0                    0.0   \n",
       "3                        0.0             0.0                    0.0   \n",
       "4                        0.0             0.0                    0.0   \n",
       "\n",
       "   road_length_traffic_signals;crossing  road_length_crossing;bus_stop  \\\n",
       "0                                   0.0                            0.0   \n",
       "1                                   0.0                            0.0   \n",
       "2                                   0.0                            0.0   \n",
       "3                                   0.0                            0.0   \n",
       "4                                   0.0                            0.0   \n",
       "\n",
       "   road_length_proposed  road_length_toll_gantry  road_length_junction  \n",
       "0                   0.0                      0.0                   0.0  \n",
       "1                   0.0                      0.0                   0.0  \n",
       "2                   0.0                      0.0                   0.0  \n",
       "3                   0.0                      0.0                   0.0  \n",
       "4                   0.0                      0.0                   0.0  \n",
       "\n",
       "[5 rows x 72 columns]"
      ]
     },
     "execution_count": 56,
     "metadata": {},
     "output_type": "execute_result"
    }
   ],
   "source": [
    "print(traffic_road_df.shape)\n",
    "print(traffic_road_df.shape[0] / 256)\n",
    "traffic_road_df.head()"
   ]
  },
  {
   "cell_type": "code",
   "execution_count": 57,
   "metadata": {},
   "outputs": [
    {
     "data": {
      "text/html": [
       "<div>\n",
       "<style scoped>\n",
       "    .dataframe tbody tr th:only-of-type {\n",
       "        vertical-align: middle;\n",
       "    }\n",
       "\n",
       "    .dataframe tbody tr th {\n",
       "        vertical-align: top;\n",
       "    }\n",
       "\n",
       "    .dataframe thead th {\n",
       "        text-align: right;\n",
       "    }\n",
       "</style>\n",
       "<table border=\"1\" class=\"dataframe\">\n",
       "  <thead>\n",
       "    <tr style=\"text-align: right;\">\n",
       "      <th></th>\n",
       "      <th>store_id</th>\n",
       "      <th>grid_lat_id</th>\n",
       "      <th>grid_lon_id</th>\n",
       "      <th>green_wkday_12</th>\n",
       "      <th>orange_wkday_12</th>\n",
       "      <th>red_wkday_12</th>\n",
       "      <th>maroon_wkday_12</th>\n",
       "      <th>green_wkday_18</th>\n",
       "      <th>orange_wkday_18</th>\n",
       "      <th>red_wkday_18</th>\n",
       "      <th>...</th>\n",
       "      <th>road_length_stop</th>\n",
       "      <th>road_length_passing_place</th>\n",
       "      <th>road_length_no</th>\n",
       "      <th>road_length_abandoned</th>\n",
       "      <th>road_length_traffic_signals;crossing</th>\n",
       "      <th>road_length_crossing;bus_stop</th>\n",
       "      <th>road_length_proposed</th>\n",
       "      <th>road_length_toll_gantry</th>\n",
       "      <th>road_length_junction</th>\n",
       "      <th>circle_range</th>\n",
       "    </tr>\n",
       "  </thead>\n",
       "  <tbody>\n",
       "    <tr>\n",
       "      <th>0</th>\n",
       "      <td>8375</td>\n",
       "      <td>0.0</td>\n",
       "      <td>0.0</td>\n",
       "      <td>0.000000</td>\n",
       "      <td>0.000000</td>\n",
       "      <td>0.0</td>\n",
       "      <td>0.0</td>\n",
       "      <td>0.000000</td>\n",
       "      <td>0.000000</td>\n",
       "      <td>0.0</td>\n",
       "      <td>...</td>\n",
       "      <td>0.0</td>\n",
       "      <td>0.0</td>\n",
       "      <td>0.0</td>\n",
       "      <td>0.0</td>\n",
       "      <td>0.0</td>\n",
       "      <td>0.0</td>\n",
       "      <td>0.0</td>\n",
       "      <td>0.0</td>\n",
       "      <td>0.0</td>\n",
       "      <td>10</td>\n",
       "    </tr>\n",
       "    <tr>\n",
       "      <th>1</th>\n",
       "      <td>8375</td>\n",
       "      <td>1.0</td>\n",
       "      <td>0.0</td>\n",
       "      <td>0.000000</td>\n",
       "      <td>0.000000</td>\n",
       "      <td>0.0</td>\n",
       "      <td>0.0</td>\n",
       "      <td>0.000000</td>\n",
       "      <td>0.000000</td>\n",
       "      <td>0.0</td>\n",
       "      <td>...</td>\n",
       "      <td>0.0</td>\n",
       "      <td>0.0</td>\n",
       "      <td>0.0</td>\n",
       "      <td>0.0</td>\n",
       "      <td>0.0</td>\n",
       "      <td>0.0</td>\n",
       "      <td>0.0</td>\n",
       "      <td>0.0</td>\n",
       "      <td>0.0</td>\n",
       "      <td>9</td>\n",
       "    </tr>\n",
       "    <tr>\n",
       "      <th>2</th>\n",
       "      <td>8375</td>\n",
       "      <td>2.0</td>\n",
       "      <td>0.0</td>\n",
       "      <td>0.000000</td>\n",
       "      <td>0.000000</td>\n",
       "      <td>0.0</td>\n",
       "      <td>0.0</td>\n",
       "      <td>0.000000</td>\n",
       "      <td>0.000000</td>\n",
       "      <td>0.0</td>\n",
       "      <td>...</td>\n",
       "      <td>0.0</td>\n",
       "      <td>0.0</td>\n",
       "      <td>0.0</td>\n",
       "      <td>0.0</td>\n",
       "      <td>0.0</td>\n",
       "      <td>0.0</td>\n",
       "      <td>0.0</td>\n",
       "      <td>0.0</td>\n",
       "      <td>0.0</td>\n",
       "      <td>9</td>\n",
       "    </tr>\n",
       "    <tr>\n",
       "      <th>3</th>\n",
       "      <td>8375</td>\n",
       "      <td>3.0</td>\n",
       "      <td>0.0</td>\n",
       "      <td>0.031559</td>\n",
       "      <td>0.007267</td>\n",
       "      <td>0.0</td>\n",
       "      <td>0.0</td>\n",
       "      <td>0.026161</td>\n",
       "      <td>0.011627</td>\n",
       "      <td>0.0</td>\n",
       "      <td>...</td>\n",
       "      <td>0.0</td>\n",
       "      <td>0.0</td>\n",
       "      <td>0.0</td>\n",
       "      <td>0.0</td>\n",
       "      <td>0.0</td>\n",
       "      <td>0.0</td>\n",
       "      <td>0.0</td>\n",
       "      <td>0.0</td>\n",
       "      <td>0.0</td>\n",
       "      <td>8</td>\n",
       "    </tr>\n",
       "    <tr>\n",
       "      <th>4</th>\n",
       "      <td>8375</td>\n",
       "      <td>4.0</td>\n",
       "      <td>0.0</td>\n",
       "      <td>0.025746</td>\n",
       "      <td>0.044640</td>\n",
       "      <td>0.0</td>\n",
       "      <td>0.0</td>\n",
       "      <td>0.071838</td>\n",
       "      <td>0.000000</td>\n",
       "      <td>0.0</td>\n",
       "      <td>...</td>\n",
       "      <td>0.0</td>\n",
       "      <td>0.0</td>\n",
       "      <td>0.0</td>\n",
       "      <td>0.0</td>\n",
       "      <td>0.0</td>\n",
       "      <td>0.0</td>\n",
       "      <td>0.0</td>\n",
       "      <td>0.0</td>\n",
       "      <td>0.0</td>\n",
       "      <td>8</td>\n",
       "    </tr>\n",
       "  </tbody>\n",
       "</table>\n",
       "<p>5 rows × 73 columns</p>\n",
       "</div>"
      ],
      "text/plain": [
       "   store_id  grid_lat_id  grid_lon_id  green_wkday_12  orange_wkday_12  \\\n",
       "0      8375          0.0          0.0        0.000000         0.000000   \n",
       "1      8375          1.0          0.0        0.000000         0.000000   \n",
       "2      8375          2.0          0.0        0.000000         0.000000   \n",
       "3      8375          3.0          0.0        0.031559         0.007267   \n",
       "4      8375          4.0          0.0        0.025746         0.044640   \n",
       "\n",
       "   red_wkday_12  maroon_wkday_12  green_wkday_18  orange_wkday_18  \\\n",
       "0           0.0              0.0        0.000000         0.000000   \n",
       "1           0.0              0.0        0.000000         0.000000   \n",
       "2           0.0              0.0        0.000000         0.000000   \n",
       "3           0.0              0.0        0.026161         0.011627   \n",
       "4           0.0              0.0        0.071838         0.000000   \n",
       "\n",
       "   red_wkday_18  ...  road_length_stop  road_length_passing_place  \\\n",
       "0           0.0  ...               0.0                        0.0   \n",
       "1           0.0  ...               0.0                        0.0   \n",
       "2           0.0  ...               0.0                        0.0   \n",
       "3           0.0  ...               0.0                        0.0   \n",
       "4           0.0  ...               0.0                        0.0   \n",
       "\n",
       "   road_length_no  road_length_abandoned  \\\n",
       "0             0.0                    0.0   \n",
       "1             0.0                    0.0   \n",
       "2             0.0                    0.0   \n",
       "3             0.0                    0.0   \n",
       "4             0.0                    0.0   \n",
       "\n",
       "   road_length_traffic_signals;crossing  road_length_crossing;bus_stop  \\\n",
       "0                                   0.0                            0.0   \n",
       "1                                   0.0                            0.0   \n",
       "2                                   0.0                            0.0   \n",
       "3                                   0.0                            0.0   \n",
       "4                                   0.0                            0.0   \n",
       "\n",
       "   road_length_proposed  road_length_toll_gantry  road_length_junction  \\\n",
       "0                   0.0                      0.0                   0.0   \n",
       "1                   0.0                      0.0                   0.0   \n",
       "2                   0.0                      0.0                   0.0   \n",
       "3                   0.0                      0.0                   0.0   \n",
       "4                   0.0                      0.0                   0.0   \n",
       "\n",
       "   circle_range  \n",
       "0            10  \n",
       "1             9  \n",
       "2             9  \n",
       "3             8  \n",
       "4             8  \n",
       "\n",
       "[5 rows x 73 columns]"
      ]
     },
     "execution_count": 57,
     "metadata": {},
     "output_type": "execute_result"
    }
   ],
   "source": [
    "# use grid_lat_id grid_lon_id to determine the circle range\n",
    "traffic_road_df[\"circle_range\"] = traffic_road_df.apply(\n",
    "    lambda x: determine_grid_circle_range(x[\"grid_lat_id\"], x[\"grid_lon_id\"], 16),\n",
    "    axis=1,\n",
    ")\n",
    "traffic_road_df.head()"
   ]
  },
  {
   "cell_type": "code",
   "execution_count": 58,
   "metadata": {},
   "outputs": [
    {
     "data": {
      "text/plain": [
       "array([7, 6, 5, 4, 3, 2, 1, 0])"
      ]
     },
     "execution_count": 58,
     "metadata": {},
     "output_type": "execute_result"
    }
   ],
   "source": [
    "# drop data that have circle range >= 8\n",
    "traffic_road_df = traffic_road_df[traffic_road_df[\"circle_range\"] < 8]\n",
    "traffic_road_df[\"circle_range\"].unique()"
   ]
  },
  {
   "cell_type": "code",
   "execution_count": 59,
   "metadata": {},
   "outputs": [
    {
     "name": "stdout",
     "output_type": "stream",
     "text": [
      "(88440, 73)\n"
     ]
    },
    {
     "data": {
      "text/html": [
       "<div>\n",
       "<style scoped>\n",
       "    .dataframe tbody tr th:only-of-type {\n",
       "        vertical-align: middle;\n",
       "    }\n",
       "\n",
       "    .dataframe tbody tr th {\n",
       "        vertical-align: top;\n",
       "    }\n",
       "\n",
       "    .dataframe thead th {\n",
       "        text-align: right;\n",
       "    }\n",
       "</style>\n",
       "<table border=\"1\" class=\"dataframe\">\n",
       "  <thead>\n",
       "    <tr style=\"text-align: right;\">\n",
       "      <th></th>\n",
       "      <th>store_id</th>\n",
       "      <th>circle_range</th>\n",
       "      <th>grid_lat_id</th>\n",
       "      <th>grid_lon_id</th>\n",
       "      <th>green_wkday_12</th>\n",
       "      <th>orange_wkday_12</th>\n",
       "      <th>red_wkday_12</th>\n",
       "      <th>maroon_wkday_12</th>\n",
       "      <th>green_wkday_18</th>\n",
       "      <th>orange_wkday_18</th>\n",
       "      <th>...</th>\n",
       "      <th>road_length_platform</th>\n",
       "      <th>road_length_stop</th>\n",
       "      <th>road_length_passing_place</th>\n",
       "      <th>road_length_no</th>\n",
       "      <th>road_length_abandoned</th>\n",
       "      <th>road_length_traffic_signals;crossing</th>\n",
       "      <th>road_length_crossing;bus_stop</th>\n",
       "      <th>road_length_proposed</th>\n",
       "      <th>road_length_toll_gantry</th>\n",
       "      <th>road_length_junction</th>\n",
       "    </tr>\n",
       "  </thead>\n",
       "  <tbody>\n",
       "    <tr>\n",
       "      <th>0</th>\n",
       "      <td>7</td>\n",
       "      <td>0</td>\n",
       "      <td>7.5</td>\n",
       "      <td>7.5</td>\n",
       "      <td>0.104591</td>\n",
       "      <td>0.011835</td>\n",
       "      <td>0.000000</td>\n",
       "      <td>0.000000</td>\n",
       "      <td>0.029171</td>\n",
       "      <td>0.070281</td>\n",
       "      <td>...</td>\n",
       "      <td>0.0</td>\n",
       "      <td>0.0</td>\n",
       "      <td>0.0</td>\n",
       "      <td>0.0</td>\n",
       "      <td>0.0</td>\n",
       "      <td>0.0</td>\n",
       "      <td>0.0</td>\n",
       "      <td>0.0</td>\n",
       "      <td>0.0</td>\n",
       "      <td>0.0</td>\n",
       "    </tr>\n",
       "    <tr>\n",
       "      <th>1</th>\n",
       "      <td>7</td>\n",
       "      <td>1</td>\n",
       "      <td>7.5</td>\n",
       "      <td>7.5</td>\n",
       "      <td>0.049207</td>\n",
       "      <td>0.011342</td>\n",
       "      <td>0.000078</td>\n",
       "      <td>0.000701</td>\n",
       "      <td>0.026939</td>\n",
       "      <td>0.032883</td>\n",
       "      <td>...</td>\n",
       "      <td>0.0</td>\n",
       "      <td>0.0</td>\n",
       "      <td>0.0</td>\n",
       "      <td>0.0</td>\n",
       "      <td>0.0</td>\n",
       "      <td>0.0</td>\n",
       "      <td>0.0</td>\n",
       "      <td>0.0</td>\n",
       "      <td>0.0</td>\n",
       "      <td>0.0</td>\n",
       "    </tr>\n",
       "    <tr>\n",
       "      <th>2</th>\n",
       "      <td>7</td>\n",
       "      <td>2</td>\n",
       "      <td>7.5</td>\n",
       "      <td>7.5</td>\n",
       "      <td>0.039677</td>\n",
       "      <td>0.006696</td>\n",
       "      <td>0.000000</td>\n",
       "      <td>0.000000</td>\n",
       "      <td>0.028331</td>\n",
       "      <td>0.024209</td>\n",
       "      <td>...</td>\n",
       "      <td>0.0</td>\n",
       "      <td>0.0</td>\n",
       "      <td>0.0</td>\n",
       "      <td>0.0</td>\n",
       "      <td>0.0</td>\n",
       "      <td>0.0</td>\n",
       "      <td>0.0</td>\n",
       "      <td>0.0</td>\n",
       "      <td>0.0</td>\n",
       "      <td>0.0</td>\n",
       "    </tr>\n",
       "    <tr>\n",
       "      <th>3</th>\n",
       "      <td>7</td>\n",
       "      <td>3</td>\n",
       "      <td>7.5</td>\n",
       "      <td>7.5</td>\n",
       "      <td>0.026389</td>\n",
       "      <td>0.003426</td>\n",
       "      <td>0.000000</td>\n",
       "      <td>0.000000</td>\n",
       "      <td>0.026431</td>\n",
       "      <td>0.004734</td>\n",
       "      <td>...</td>\n",
       "      <td>0.0</td>\n",
       "      <td>0.0</td>\n",
       "      <td>0.0</td>\n",
       "      <td>0.0</td>\n",
       "      <td>0.0</td>\n",
       "      <td>0.0</td>\n",
       "      <td>0.0</td>\n",
       "      <td>0.0</td>\n",
       "      <td>0.0</td>\n",
       "      <td>0.0</td>\n",
       "    </tr>\n",
       "    <tr>\n",
       "      <th>4</th>\n",
       "      <td>7</td>\n",
       "      <td>4</td>\n",
       "      <td>7.5</td>\n",
       "      <td>7.5</td>\n",
       "      <td>0.014022</td>\n",
       "      <td>0.005725</td>\n",
       "      <td>0.002047</td>\n",
       "      <td>0.000000</td>\n",
       "      <td>0.020814</td>\n",
       "      <td>0.003515</td>\n",
       "      <td>...</td>\n",
       "      <td>0.0</td>\n",
       "      <td>0.0</td>\n",
       "      <td>0.0</td>\n",
       "      <td>0.0</td>\n",
       "      <td>0.0</td>\n",
       "      <td>0.0</td>\n",
       "      <td>0.0</td>\n",
       "      <td>0.0</td>\n",
       "      <td>0.0</td>\n",
       "      <td>0.0</td>\n",
       "    </tr>\n",
       "  </tbody>\n",
       "</table>\n",
       "<p>5 rows × 73 columns</p>\n",
       "</div>"
      ],
      "text/plain": [
       "   store_id  circle_range  grid_lat_id  grid_lon_id  green_wkday_12  \\\n",
       "0         7             0          7.5          7.5        0.104591   \n",
       "1         7             1          7.5          7.5        0.049207   \n",
       "2         7             2          7.5          7.5        0.039677   \n",
       "3         7             3          7.5          7.5        0.026389   \n",
       "4         7             4          7.5          7.5        0.014022   \n",
       "\n",
       "   orange_wkday_12  red_wkday_12  maroon_wkday_12  green_wkday_18  \\\n",
       "0         0.011835      0.000000         0.000000        0.029171   \n",
       "1         0.011342      0.000078         0.000701        0.026939   \n",
       "2         0.006696      0.000000         0.000000        0.028331   \n",
       "3         0.003426      0.000000         0.000000        0.026431   \n",
       "4         0.005725      0.002047         0.000000        0.020814   \n",
       "\n",
       "   orange_wkday_18  ...  road_length_platform  road_length_stop  \\\n",
       "0         0.070281  ...                   0.0               0.0   \n",
       "1         0.032883  ...                   0.0               0.0   \n",
       "2         0.024209  ...                   0.0               0.0   \n",
       "3         0.004734  ...                   0.0               0.0   \n",
       "4         0.003515  ...                   0.0               0.0   \n",
       "\n",
       "   road_length_passing_place  road_length_no  road_length_abandoned  \\\n",
       "0                        0.0             0.0                    0.0   \n",
       "1                        0.0             0.0                    0.0   \n",
       "2                        0.0             0.0                    0.0   \n",
       "3                        0.0             0.0                    0.0   \n",
       "4                        0.0             0.0                    0.0   \n",
       "\n",
       "   road_length_traffic_signals;crossing  road_length_crossing;bus_stop  \\\n",
       "0                                   0.0                            0.0   \n",
       "1                                   0.0                            0.0   \n",
       "2                                   0.0                            0.0   \n",
       "3                                   0.0                            0.0   \n",
       "4                                   0.0                            0.0   \n",
       "\n",
       "   road_length_proposed  road_length_toll_gantry  road_length_junction  \n",
       "0                   0.0                      0.0                   0.0  \n",
       "1                   0.0                      0.0                   0.0  \n",
       "2                   0.0                      0.0                   0.0  \n",
       "3                   0.0                      0.0                   0.0  \n",
       "4                   0.0                      0.0                   0.0  \n",
       "\n",
       "[5 rows x 73 columns]"
      ]
     },
     "execution_count": 59,
     "metadata": {},
     "output_type": "execute_result"
    }
   ],
   "source": [
    "# merge data same store_id and circle_range\n",
    "traffic_road_df = (\n",
    "    traffic_road_df.groupby([\"store_id\", \"circle_range\"]).mean().reset_index()\n",
    ")\n",
    "print(traffic_road_df.shape)\n",
    "traffic_road_df.head()"
   ]
  },
  {
   "cell_type": "code",
   "execution_count": 60,
   "metadata": {},
   "outputs": [
    {
     "name": "stdout",
     "output_type": "stream",
     "text": [
      "11055\n"
     ]
    }
   ],
   "source": [
    "print(len(traffic_road_df[\"store_id\"].unique()))"
   ]
  },
  {
   "cell_type": "code",
   "execution_count": 61,
   "metadata": {},
   "outputs": [
    {
     "name": "stdout",
     "output_type": "stream",
     "text": [
      "road_length\n",
      "road_length_residential\n",
      "road_length_service\n",
      "road_length_trunk\n",
      "road_length_trunk_link\n",
      "road_length_bus_stop\n",
      "road_length_path\n",
      "road_length_footway\n",
      "road_length_living_street\n",
      "road_length_elevator\n",
      "road_length_steps\n",
      "road_length_crossing\n",
      "road_length_unclassified\n",
      "road_length_construction\n",
      "road_length_motorway_junction\n",
      "road_length_primary_link\n",
      "road_length_secondary_link\n",
      "road_length_corridor\n",
      "road_length_secondary\n",
      "road_length_tertiary\n",
      "road_length_primary\n",
      "road_length_motorway\n",
      "road_length_cycleway\n",
      "road_length_track\n",
      "road_length_traffic_signals\n",
      "road_length_motorway_link\n",
      "road_length_pedestrian\n",
      "road_length_tertiary_link\n",
      "road_length_turning_circle\n",
      "road_length_services\n",
      "road_length_road\n",
      "road_length_rest_area\n",
      "road_length_mini_roundabout\n",
      "road_length_turning_loop\n",
      "road_length_milestone\n",
      "road_length_raceway\n",
      "road_length_emergency_access_point\n",
      "road_length_street_lamp\n",
      "road_length_busway\n",
      "road_length_yes\n",
      "road_length_bridleway\n",
      "road_length_traffic_mirror\n",
      "road_length_speed_camera\n",
      "road_length_platform\n",
      "road_length_stop\n",
      "road_length_passing_place\n",
      "road_length_no\n",
      "road_length_abandoned\n",
      "road_length_traffic_signals;crossing\n",
      "road_length_crossing;bus_stop\n",
      "road_length_proposed\n",
      "road_length_toll_gantry\n",
      "road_length_junction\n"
     ]
    }
   ],
   "source": [
    "# print all coloumn that have road\n",
    "for col in traffic_road_df.columns:\n",
    "    if \"road\" in col:\n",
    "        print(col)"
   ]
  },
  {
   "cell_type": "code",
   "execution_count": 62,
   "metadata": {},
   "outputs": [
    {
     "name": "stdout",
     "output_type": "stream",
     "text": [
      "Column: road_length_toll_gantry, Most Frequent Value: 0.0, Count of 0: 88439\n",
      "Column: road_length_passing_place, Most Frequent Value: 0.0, Count of 0: 88438\n",
      "Column: road_length_proposed, Most Frequent Value: 0.0, Count of 0: 88438\n",
      "Column: road_length_junction, Most Frequent Value: 0.0, Count of 0: 88438\n",
      "Column: road_length_abandoned, Most Frequent Value: 0.0, Count of 0: 88437\n",
      "Column: road_length_traffic_signals;crossing, Most Frequent Value: 0.0, Count of 0: 88437\n",
      "Column: road_length_crossing;bus_stop, Most Frequent Value: 0.0, Count of 0: 88435\n",
      "Column: road_length_no, Most Frequent Value: 0.0, Count of 0: 88433\n",
      "Column: road_length_speed_camera, Most Frequent Value: 0.0, Count of 0: 88427\n",
      "Column: road_length_platform, Most Frequent Value: 0.0, Count of 0: 88421\n",
      "Column: road_length_yes, Most Frequent Value: 0.0, Count of 0: 88413\n",
      "Column: road_length_emergency_access_point, Most Frequent Value: 0.0, Count of 0: 88384\n",
      "Column: road_length_stop, Most Frequent Value: 0.0, Count of 0: 88372\n",
      "Column: road_length_street_lamp, Most Frequent Value: 0.0, Count of 0: 88359\n",
      "Column: road_length_raceway, Most Frequent Value: 0.0, Count of 0: 88301\n",
      "Column: road_length_bridleway, Most Frequent Value: 0.0, Count of 0: 88297\n",
      "Column: road_length_milestone, Most Frequent Value: 0.0, Count of 0: 88288\n",
      "Column: road_length_rest_area, Most Frequent Value: 0.0, Count of 0: 88272\n",
      "Column: road_length_turning_loop, Most Frequent Value: 0.0, Count of 0: 88259\n",
      "Column: road_length_road, Most Frequent Value: 0.0, Count of 0: 88257\n",
      "Column: road_length_traffic_mirror, Most Frequent Value: 0.0, Count of 0: 88210\n",
      "Column: road_length_corridor, Most Frequent Value: 0.0, Count of 0: 88203\n",
      "Column: road_length_busway, Most Frequent Value: 0.0, Count of 0: 88063\n",
      "Column: road_length_elevator, Most Frequent Value: 0.0, Count of 0: 87989\n",
      "Column: road_length_mini_roundabout, Most Frequent Value: 0.0, Count of 0: 87726\n",
      "Column: road_length_turning_circle, Most Frequent Value: 0.0, Count of 0: 87170\n",
      "Column: road_length_services, Most Frequent Value: 0.0, Count of 0: 87034\n",
      "Column: road_length_motorway_junction, Most Frequent Value: 0.0, Count of 0: 86999\n",
      "Column: road_length_construction, Most Frequent Value: 0.0, Count of 0: 86817\n",
      "Column: road_length_tertiary_link, Most Frequent Value: 0.0, Count of 0: 85905\n",
      "Column: road_length_cycleway, Most Frequent Value: 0.0, Count of 0: 84653\n",
      "Column: road_length_pedestrian, Most Frequent Value: 0.0, Count of 0: 84508\n",
      "Column: road_length_motorway_link, Most Frequent Value: 0.0, Count of 0: 84026\n",
      "Column: road_length_motorway, Most Frequent Value: 0.0, Count of 0: 82935\n",
      "Column: road_length_traffic_signals, Most Frequent Value: 0.0, Count of 0: 81918\n",
      "Column: road_length_trunk_link, Most Frequent Value: 0.0, Count of 0: 81541\n",
      "Column: road_length_living_street, Most Frequent Value: 0.0, Count of 0: 80926\n",
      "Column: road_length_secondary_link, Most Frequent Value: 0.0, Count of 0: 80662\n",
      "Column: road_length_crossing, Most Frequent Value: 0.0, Count of 0: 80470\n",
      "Column: road_length_primary_link, Most Frequent Value: 0.0, Count of 0: 79745\n",
      "Column: road_length_steps, Most Frequent Value: 0.0, Count of 0: 79487\n",
      "Column: road_length_path, Most Frequent Value: 0.0, Count of 0: 78202\n",
      "Column: road_length_bus_stop, Most Frequent Value: 0.0, Count of 0: 74510\n",
      "Column: road_length_track, Most Frequent Value: 0.0, Count of 0: 72633\n",
      "Column: road_length_trunk, Most Frequent Value: 0.0, Count of 0: 70422\n",
      "Column: road_length_primary, Most Frequent Value: 0.0, Count of 0: 64974\n",
      "Column: road_length_footway, Most Frequent Value: 0.0, Count of 0: 63484\n",
      "Column: road_length_secondary, Most Frequent Value: 0.0, Count of 0: 49478\n",
      "Column: road_length_tertiary, Most Frequent Value: 0.0, Count of 0: 46567\n",
      "Column: road_length_unclassified, Most Frequent Value: 0.0, Count of 0: 45867\n",
      "Column: road_length_service, Most Frequent Value: 0.0, Count of 0: 9863\n",
      "Column: road_length_residential, Most Frequent Value: 0.0, Count of 0: 3738\n",
      "Column: road_length, Most Frequent Value: 0.0, Count of 0: 8\n"
     ]
    },
    {
     "data": {
      "text/plain": [
       "[<matplotlib.lines.Line2D at 0x14b187f10>]"
      ]
     },
     "execution_count": 62,
     "metadata": {},
     "output_type": "execute_result"
    },
    {
     "data": {
      "image/png": "[encoded data removed]",
      "text/plain": [
       "<Figure size 640x480 with 1 Axes>"
      ]
     },
     "metadata": {},
     "output_type": "display_data"
    }
   ],
   "source": [
    "# Assuming traffic_road_df is your DataFrame\n",
    "import pandas as pd\n",
    "\n",
    "rank_road_list = []\n",
    "\n",
    "for col in traffic_road_df.columns:\n",
    "    if \"road\" in col:\n",
    "        road_counts = traffic_road_df[col].value_counts()\n",
    "        most_frequent_value = road_counts.idxmax()\n",
    "        rank_road_list.append(\n",
    "            (col, most_frequent_value, road_counts[most_frequent_value])\n",
    "        )\n",
    "\n",
    "# Sort the list based on the count of 0 in descending order\n",
    "rank_road_list.sort(key=lambda x: x[2], reverse=True)\n",
    "\n",
    "# Print the ranked list\n",
    "rank_road_data = []\n",
    "for road_info in rank_road_list:\n",
    "    rank_road_data.append(road_info[2])\n",
    "\n",
    "    print(\n",
    "        f\"Column: {road_info[0]}, Most Frequent Value: {road_info[1]}, Count of 0: {road_info[2]}\"\n",
    "    )\n",
    "# plot road_info[2]\n",
    "import matplotlib.pyplot as plt\n",
    "import numpy as np\n",
    "\n",
    "plt.plot(rank_road_data)"
   ]
  },
  {
   "cell_type": "code",
   "execution_count": 63,
   "metadata": {},
   "outputs": [],
   "source": [
    "selected_road_column = [\n",
    "    \"road_length_path\",\n",
    "    \"road_length_bus_stop\",\n",
    "    \"road_length_track\",\n",
    "    \"road_length_trunk\",\n",
    "    \"road_length_primary\",\n",
    "    \"road_length_footway\",\n",
    "    \"road_length_secondary\",\n",
    "    \"road_length_tertiary\",\n",
    "    \"road_length_unclassified\",\n",
    "    \"road_length_service\",\n",
    "    \"road_length_residential\",\n",
    "]"
   ]
  },
  {
   "cell_type": "code",
   "execution_count": 64,
   "metadata": {},
   "outputs": [
    {
     "data": {
      "text/plain": [
       "['store_id',\n",
       " 'circle_range',\n",
       " 'green_wkday_12',\n",
       " 'orange_wkday_12',\n",
       " 'red_wkday_12',\n",
       " 'maroon_wkday_12',\n",
       " 'green_wkday_18',\n",
       " 'orange_wkday_18',\n",
       " 'red_wkday_18',\n",
       " 'maroon_wkday_18',\n",
       " 'green_wkend_12',\n",
       " 'orange_wkend_12',\n",
       " 'red_wkend_12',\n",
       " 'maroon_wkend_12',\n",
       " 'green_wkend_18',\n",
       " 'orange_wkend_18',\n",
       " 'red_wkend_18',\n",
       " 'maroon_wkend_18']"
      ]
     },
     "metadata": {},
     "output_type": "display_data"
    },
    {
     "data": {
      "text/plain": [
       "['store_id',\n",
       " 'circle_range',\n",
       " 'green_wkday_12',\n",
       " 'orange_wkday_12',\n",
       " 'red_wkday_12',\n",
       " 'maroon_wkday_12',\n",
       " 'green_wkday_18',\n",
       " 'orange_wkday_18',\n",
       " 'red_wkday_18',\n",
       " 'maroon_wkday_18',\n",
       " 'green_wkend_12',\n",
       " 'orange_wkend_12',\n",
       " 'red_wkend_12',\n",
       " 'maroon_wkend_12',\n",
       " 'green_wkend_18',\n",
       " 'orange_wkend_18',\n",
       " 'red_wkend_18',\n",
       " 'maroon_wkend_18',\n",
       " 'road_length_path',\n",
       " 'road_length_bus_stop',\n",
       " 'road_length_track',\n",
       " 'road_length_trunk',\n",
       " 'road_length_primary',\n",
       " 'road_length_footway',\n",
       " 'road_length_secondary',\n",
       " 'road_length_tertiary',\n",
       " 'road_length_unclassified',\n",
       " 'road_length_service',\n",
       " 'road_length_residential']"
      ]
     },
     "metadata": {},
     "output_type": "display_data"
    }
   ],
   "source": [
    "# all column that not have road in the name\n",
    "selected_column = traffic_road_df.columns.drop(\n",
    "    list(traffic_road_df.filter(regex=\"road\"))\n",
    ").to_list()\n",
    "selected_column.remove(\"grid_lat_id\")\n",
    "selected_column.remove(\"grid_lon_id\")\n",
    "\n",
    "display(selected_column)\n",
    "selected_column = selected_column + selected_road_column\n",
    "display(selected_column)"
   ]
  },
  {
   "cell_type": "code",
   "execution_count": 65,
   "metadata": {},
   "outputs": [
    {
     "data": {
      "text/plain": [
       "Index(['store_id', 'circle_range', 'green_wkday_12', 'orange_wkday_12',\n",
       "       'red_wkday_12', 'maroon_wkday_12', 'green_wkday_18', 'orange_wkday_18',\n",
       "       'red_wkday_18', 'maroon_wkday_18', 'green_wkend_12', 'orange_wkend_12',\n",
       "       'red_wkend_12', 'maroon_wkend_12', 'green_wkend_18', 'orange_wkend_18',\n",
       "       'red_wkend_18', 'maroon_wkend_18', 'road_length_path',\n",
       "       'road_length_bus_stop', 'road_length_track', 'road_length_trunk',\n",
       "       'road_length_primary', 'road_length_footway', 'road_length_secondary',\n",
       "       'road_length_tertiary', 'road_length_unclassified',\n",
       "       'road_length_service', 'road_length_residential'],\n",
       "      dtype='object')"
      ]
     },
     "execution_count": 65,
     "metadata": {},
     "output_type": "execute_result"
    }
   ],
   "source": [
    "selected_traffic_road_df = traffic_road_df[selected_column]\n",
    "selected_traffic_road_df.columns"
   ]
  },
  {
   "cell_type": "code",
   "execution_count": 66,
   "metadata": {},
   "outputs": [],
   "source": [
    "values_column = selected_traffic_road_df.columns.drop([\"store_id\", \"circle_range\"])\n",
    "store_id_column = selected_traffic_road_df[\"store_id\"]\n",
    "\n",
    "collapse_traffic_df = (\n",
    "    selected_traffic_road_df.groupby([\"store_id\", \"circle_range\"])\n",
    "    .agg({col: \"sum\" for col in values_column})\n",
    "    .unstack(fill_value=0)\n",
    "    .reset_index()\n",
    ")\n",
    "\n",
    "# Flatten the column names\n",
    "collapse_traffic_df.columns = [\n",
    "    \"{}_cr_{}\".format(col[0], col[1]) if col[1] != \"\" else col[0]\n",
    "    for col in collapse_traffic_df.columns.values\n",
    "]\n",
    "\n",
    "# Add missing store_id column\n",
    "# collapse_traffic_df.insert(0, \"store_id\", store_id_column.unique())"
   ]
  },
  {
   "cell_type": "code",
   "execution_count": 67,
   "metadata": {},
   "outputs": [
    {
     "name": "stdout",
     "output_type": "stream",
     "text": [
      "(11055, 217)\n",
      "Index(['store_id', 'green_wkday_12_cr_0', 'green_wkday_12_cr_1',\n",
      "       'green_wkday_12_cr_2', 'green_wkday_12_cr_3', 'green_wkday_12_cr_4',\n",
      "       'green_wkday_12_cr_5', 'green_wkday_12_cr_6', 'green_wkday_12_cr_7',\n",
      "       'orange_wkday_12_cr_0',\n",
      "       ...\n",
      "       'road_length_service_cr_6', 'road_length_service_cr_7',\n",
      "       'road_length_residential_cr_0', 'road_length_residential_cr_1',\n",
      "       'road_length_residential_cr_2', 'road_length_residential_cr_3',\n",
      "       'road_length_residential_cr_4', 'road_length_residential_cr_5',\n",
      "       'road_length_residential_cr_6', 'road_length_residential_cr_7'],\n",
      "      dtype='object', length=217)\n"
     ]
    }
   ],
   "source": [
    "print(collapse_traffic_df.shape)\n",
    "print(collapse_traffic_df.columns)"
   ]
  },
  {
   "cell_type": "code",
   "execution_count": 68,
   "metadata": {},
   "outputs": [],
   "source": [
    "# save to csv\n",
    "save_path = \"/Users/user/Documents/Coding/cro_location_intelligence/src/data/traffic_road_data.csv\"\n",
    "collapse_traffic_df.to_csv(save_path, index=False)"
   ]
  },
  {
   "cell_type": "code",
   "execution_count": null,
   "metadata": {},
   "outputs": [],
   "source": []
  },
  {
   "cell_type": "code",
   "execution_count": 69,
   "metadata": {},
   "outputs": [],
   "source": [
    "data_path = \"data/7 B for Ford.xlsx\"\n",
    "data_path = \"data/8.xlsx\"\n",
    "df_dict = pd.read_excel(data_path, sheet_name=None)"
   ]
  },
  {
   "cell_type": "code",
   "execution_count": 70,
   "metadata": {},
   "outputs": [
    {
     "name": "stdout",
     "output_type": "stream",
     "text": [
      "train_df (26835, 194)\n",
      "test_df (69, 192)\n"
     ]
    }
   ],
   "source": [
    "train_df = df_dict[\"Train new\"]\n",
    "test_df = df_dict[\"Test2022\"]\n",
    "print(\"train_df\", train_df.shape)\n",
    "print(\"test_df\", test_df.shape)"
   ]
  },
  {
   "cell_type": "code",
   "execution_count": 71,
   "metadata": {},
   "outputs": [
    {
     "name": "stdout",
     "output_type": "stream",
     "text": [
      "train_df (4705, 194)\n",
      "train_df Index(['Unnamed: 0', 'store_id', 'prov_namt', 'sum_pop_in_voronoi',\n",
      "       'voronoi_area', 'voronoi_density', 'open_dt', 'cro_open_year',\n",
      "       'CRO_store_length', 'CRO_store_parking',\n",
      "       ...\n",
      "       'CRO_store_type_SH', 'CRO_store_franchise_Co',\n",
      "       'CRO_store_franchise_NDF', 'CRO_store_franchise_PTTOR',\n",
      "       'CRO_store_franchise_SBP', 'open_month', 'year_month', 'year', 'month',\n",
      "       'y_nor'],\n",
      "      dtype='object', length=194)\n"
     ]
    }
   ],
   "source": [
    "# drop duplicate store_id in train_df\n",
    "train_df = train_df.drop_duplicates(subset=[\"store_id\"])\n",
    "print(\"train_df\", train_df.shape)\n",
    "print(\"train_df\", train_df.columns)\n",
    "# remove 'Unnamed: 0'\n",
    "train_df = train_df.drop(columns=[\"Unnamed: 0\"])"
   ]
  },
  {
   "cell_type": "code",
   "execution_count": 72,
   "metadata": {},
   "outputs": [
    {
     "name": "stdout",
     "output_type": "stream",
     "text": [
      "6\n"
     ]
    },
    {
     "data": {
      "text/plain": [
       "(4705, 409)"
      ]
     },
     "execution_count": 72,
     "metadata": {},
     "output_type": "execute_result"
    }
   ],
   "source": [
    "train_df = train_df.merge(collapse_traffic_df, on=\"store_id\", how=\"left\")\n",
    "# check nan\n",
    "print(train_df.isna().sum().sum())\n",
    "train_df.shape"
   ]
  },
  {
   "cell_type": "code",
   "execution_count": 73,
   "metadata": {},
   "outputs": [
    {
     "name": "stdout",
     "output_type": "stream",
     "text": [
      "69\n",
      "['Unnamed: 2']\n"
     ]
    },
    {
     "data": {
      "text/plain": [
       "(69, 408)"
      ]
     },
     "execution_count": 73,
     "metadata": {},
     "output_type": "execute_result"
    }
   ],
   "source": [
    "test_df = test_df.merge(collapse_traffic_df, on=\"store_id\", how=\"left\")\n",
    "# check nan\n",
    "print(test_df.isna().sum().sum())\n",
    "if test_df.isna().sum().sum() != 0:\n",
    "    # find that column\n",
    "    print(test_df.columns[test_df.isna().any()].tolist())\n",
    "# drop['Unnamed: 2']\n",
    "\n",
    "test_df.shape"
   ]
  },
  {
   "cell_type": "code",
   "execution_count": 74,
   "metadata": {},
   "outputs": [
    {
     "data": {
      "text/plain": [
       "(array([  5.,   0.,   5.,   7.,  12.,  16.,  18.,  51.,  52.,  52.,  87.,\n",
       "        101., 133., 141., 150., 177., 183., 174., 194., 236., 210., 181.,\n",
       "        204., 181., 148., 184., 162., 159., 145., 124., 149., 109., 116.,\n",
       "         82.,  95.,  79.,  74.,  58.,  54.,  55.,  37.,  49.,  25.,  44.,\n",
       "         33.,  13.,  18.,  11.,   8.,  11.,  11.,  11.,   8.,   7.,   6.,\n",
       "         10.,   3.,   5.,   6.,   3.,   3.,   2.,   1.,   1.,   1.,   1.,\n",
       "          4.,   2.,   1.,   2.,   0.,   1.,   0.,   0.,   0.,   1.,   0.,\n",
       "          0.,   0.,   0.,   1.,   0.,   0.,   0.,   0.,   0.,   0.,   0.,\n",
       "          0.,   0.,   1.,   0.,   0.,   0.,   0.,   0.,   0.,   0.,   0.,\n",
       "          1.]),\n",
       " array([0.01141548, 0.02108932, 0.03076317, 0.04043701, 0.05011086,\n",
       "        0.0597847 , 0.06945855, 0.07913239, 0.08880624, 0.09848008,\n",
       "        0.10815393, 0.11782777, 0.12750162, 0.13717546, 0.14684931,\n",
       "        0.15652315, 0.166197  , 0.17587084, 0.18554469, 0.19521853,\n",
       "        0.20489238, 0.21456622, 0.22424007, 0.23391391, 0.24358776,\n",
       "        0.2532616 , 0.26293545, 0.27260929, 0.28228314, 0.29195698,\n",
       "        0.30163083, 0.31130467, 0.32097852, 0.33065236, 0.34032621,\n",
       "        0.35000005, 0.3596739 , 0.36934774, 0.37902159, 0.38869543,\n",
       "        0.39836928, 0.40804312, 0.41771697, 0.42739081, 0.43706466,\n",
       "        0.4467385 , 0.45641235, 0.46608619, 0.47576004, 0.48543388,\n",
       "        0.49510773, 0.50478157, 0.51445542, 0.52412926, 0.53380311,\n",
       "        0.54347695, 0.5531508 , 0.56282464, 0.57249849, 0.58217233,\n",
       "        0.59184618, 0.60152002, 0.61119387, 0.62086771, 0.63054156,\n",
       "        0.6402154 , 0.64988925, 0.65956309, 0.66923694, 0.67891078,\n",
       "        0.68858463, 0.69825847, 0.70793232, 0.71760616, 0.72728001,\n",
       "        0.73695385, 0.7466277 , 0.75630154, 0.76597539, 0.77564923,\n",
       "        0.78532308, 0.79499692, 0.80467077, 0.81434461, 0.82401846,\n",
       "        0.8336923 , 0.84336615, 0.85303999, 0.86271384, 0.87238768,\n",
       "        0.88206153, 0.89173537, 0.90140922, 0.91108306, 0.92075691,\n",
       "        0.93043075, 0.9401046 , 0.94977844, 0.95945229, 0.96912613,\n",
       "        0.97879998]),\n",
       " <BarContainer object of 100 artists>)"
      ]
     },
     "execution_count": 74,
     "metadata": {},
     "output_type": "execute_result"
    },
    {
     "data": {
      "image/png": "[encoded data removed]",
      "text/plain": [
       "<Figure size 640x480 with 1 Axes>"
      ]
     },
     "metadata": {},
     "output_type": "display_data"
    }
   ],
   "source": [
    "y_nor = train_df[\"y_nor\"]\n",
    "# plot histogram\n",
    "import matplotlib.pyplot as plt\n",
    "\n",
    "plt.hist(y_nor, bins=100)"
   ]
  },
  {
   "cell_type": "code",
   "execution_count": 75,
   "metadata": {},
   "outputs": [
    {
     "data": {
      "text/plain": [
       "(array([1., 0., 0., 0., 0., 0., 0., 0., 0., 0., 0., 0., 1., 0., 0., 2., 0.,\n",
       "        0., 3., 1., 0., 1., 0., 2., 3., 2., 4., 2., 1., 1., 0., 0., 1., 0.,\n",
       "        3., 3., 3., 1., 0., 3., 1., 2., 3., 2., 3., 0., 3., 0., 0., 0., 1.,\n",
       "        2., 2., 2., 0., 1., 3., 0., 1., 0., 0., 0., 0., 1., 0., 0., 0., 0.,\n",
       "        1., 1., 0., 0., 0., 0., 0., 0., 0., 0., 0., 0., 0., 0., 0., 1., 0.,\n",
       "        0., 0., 0., 0., 0., 0., 0., 0., 0., 0., 0., 0., 0., 0., 1.]),\n",
       " array([-0.00203283,  0.00507167,  0.01217617,  0.01928068,  0.02638518,\n",
       "         0.03348968,  0.04059419,  0.04769869,  0.05480319,  0.06190769,\n",
       "         0.0690122 ,  0.0761167 ,  0.0832212 ,  0.0903257 ,  0.09743021,\n",
       "         0.10453471,  0.11163921,  0.11874372,  0.12584822,  0.13295272,\n",
       "         0.14005722,  0.14716173,  0.15426623,  0.16137073,  0.16847523,\n",
       "         0.17557974,  0.18268424,  0.18978874,  0.19689325,  0.20399775,\n",
       "         0.21110225,  0.21820675,  0.22531126,  0.23241576,  0.23952026,\n",
       "         0.24662477,  0.25372927,  0.26083377,  0.26793827,  0.27504278,\n",
       "         0.28214728,  0.28925178,  0.29635628,  0.30346079,  0.31056529,\n",
       "         0.31766979,  0.3247743 ,  0.3318788 ,  0.3389833 ,  0.3460878 ,\n",
       "         0.35319231,  0.36029681,  0.36740131,  0.37450581,  0.38161032,\n",
       "         0.38871482,  0.39581932,  0.40292383,  0.41002833,  0.41713283,\n",
       "         0.42423733,  0.43134184,  0.43844634,  0.44555084,  0.45265534,\n",
       "         0.45975985,  0.46686435,  0.47396885,  0.48107336,  0.48817786,\n",
       "         0.49528236,  0.50238686,  0.50949137,  0.51659587,  0.52370037,\n",
       "         0.53080488,  0.53790938,  0.54501388,  0.55211838,  0.55922289,\n",
       "         0.56632739,  0.57343189,  0.58053639,  0.5876409 ,  0.5947454 ,\n",
       "         0.6018499 ,  0.60895441,  0.61605891,  0.62316341,  0.63026791,\n",
       "         0.63737242,  0.64447692,  0.65158142,  0.65868592,  0.66579043,\n",
       "         0.67289493,  0.67999943,  0.68710394,  0.69420844,  0.70131294,\n",
       "         0.70841744]),\n",
       " <BarContainer object of 100 artists>)"
      ]
     },
     "execution_count": 75,
     "metadata": {},
     "output_type": "execute_result"
    },
    {
     "data": {
      "image/png": "[encoded data removed]",
      "text/plain": [
       "<Figure size 640x480 with 1 Axes>"
      ]
     },
     "metadata": {},
     "output_type": "display_data"
    }
   ],
   "source": [
    "y_nor = test_df[\"y_nor\"]\n",
    "# plot histogram\n",
    "import matplotlib.pyplot as plt\n",
    "\n",
    "plt.hist(y_nor, bins=100)"
   ]
  },
  {
   "cell_type": "code",
   "execution_count": 76,
   "metadata": {},
   "outputs": [
    {
     "data": {
      "text/plain": [
       "Index(['Unnamed: 2'], dtype='object')"
      ]
     },
     "execution_count": 76,
     "metadata": {},
     "output_type": "execute_result"
    }
   ],
   "source": [
    "diff_columns = test_df.columns.difference(train_df.columns)\n",
    "diff_columns"
   ]
  },
  {
   "cell_type": "code",
   "execution_count": 77,
   "metadata": {},
   "outputs": [],
   "source": [
    "# drop diff_columns\n",
    "test_df = test_df.drop(columns=diff_columns)"
   ]
  },
  {
   "cell_type": "code",
   "execution_count": 78,
   "metadata": {},
   "outputs": [
    {
     "name": "stdout",
     "output_type": "stream",
     "text": [
      "train_df (4705, 409)\n",
      "test_df (69, 407)\n"
     ]
    }
   ],
   "source": [
    "print(\"train_df\", train_df.shape)\n",
    "print(\"test_df\", test_df.shape)"
   ]
  },
  {
   "cell_type": "code",
   "execution_count": 79,
   "metadata": {},
   "outputs": [
    {
     "name": "stdout",
     "output_type": "stream",
     "text": [
      "fail_to_convert_list ['prov_namt', 'open_dt', 'store_franchise', 'zone_code']\n"
     ]
    }
   ],
   "source": [
    "# try to convert all columns to float\n",
    "fail_to_convert_list = []\n",
    "for col in train_df.columns:\n",
    "    try:\n",
    "        train_df[col] = train_df[col].astype(float)\n",
    "    except:\n",
    "        fail_to_convert_list.append(col)\n",
    "print(\"fail_to_convert_list\", fail_to_convert_list)"
   ]
  },
  {
   "cell_type": "code",
   "execution_count": 80,
   "metadata": {},
   "outputs": [],
   "source": [
    "# drop open dt\n",
    "train_df = train_df.drop(columns=[\"open_dt\"])\n",
    "test_df = test_df.drop(columns=[\"open_dt\"])"
   ]
  },
  {
   "cell_type": "code",
   "execution_count": 81,
   "metadata": {},
   "outputs": [],
   "source": [
    "# create one hot encoding for categorical columns\n",
    "categorical_columns = [\"prov_namt\", \"store_franchise\", \"zone_code\"]\n",
    "for col in categorical_columns:\n",
    "    train_df[col] = train_df[col].astype(str)\n",
    "    test_df[col] = test_df[col].astype(str)\n",
    "\n",
    "# create one hot encoding for categorical columns\n",
    "# drop categorical_columns in train and test\n",
    "train_df = train_df.drop(columns=categorical_columns)\n",
    "test_df = test_df.drop(columns=categorical_columns)\n",
    "\n",
    "# train_df = pd.get_dummies(train_df, columns=categorical_columns)\n",
    "# test_df = pd.get_dummies(test_df, columns=categorical_columns)"
   ]
  },
  {
   "cell_type": "code",
   "execution_count": 82,
   "metadata": {},
   "outputs": [
    {
     "name": "stdout",
     "output_type": "stream",
     "text": [
      "unique_columns ['POIs_utern_50m', 'POIs_utern_200m', 'POIs_utern_300m', 'POIs_utern_500m', 'POIs_utern_1000m', 'POIs_utern_2000m', 'strategic_location_เขตเศรษฐกิจพิเศษ', 'CRO_store_franchise_NDF', 'year']\n"
     ]
    }
   ],
   "source": [
    "# check is any columns unique ==1\n",
    "unique_columns = []\n",
    "for col in train_df.columns:\n",
    "    if len(train_df[col].unique()) == 1:\n",
    "        unique_columns.append(col)\n",
    "print(\"unique_columns\", unique_columns)\n",
    "# drop unique_columns\n",
    "train_df = train_df.drop(columns=unique_columns)\n",
    "# check is unique_columns in test_df then drop\n",
    "for col in unique_columns:\n",
    "    if col in test_df.columns:\n",
    "        test_df = test_df.drop(columns=[col])"
   ]
  },
  {
   "cell_type": "code",
   "execution_count": 83,
   "metadata": {},
   "outputs": [
    {
     "name": "stdout",
     "output_type": "stream",
     "text": [
      "train_df (4705, 396)\n",
      "test_df (69, 395)\n"
     ]
    }
   ],
   "source": [
    "print(\"train_df\", train_df.shape)\n",
    "print(\"test_df\", test_df.shape)"
   ]
  },
  {
   "cell_type": "code",
   "execution_count": 84,
   "metadata": {},
   "outputs": [
    {
     "name": "stdout",
     "output_type": "stream",
     "text": [
      "There are duplicate columns with the same values:\n",
      "Index(['cro_open_year', 'open_date_year'], dtype='object')\n"
     ]
    }
   ],
   "source": [
    "duplicated_columns = train_df.columns[train_df.T.duplicated(keep=False)]\n",
    "\n",
    "if len(duplicated_columns) > 0:\n",
    "    print(\"There are duplicate columns with the same values:\")\n",
    "    print(duplicated_columns)\n",
    "else:\n",
    "    print(\"No duplicate columns found.\")"
   ]
  },
  {
   "cell_type": "code",
   "execution_count": 86,
   "metadata": {},
   "outputs": [],
   "source": [
    "drop_columns = [\"open_date_year\"]\n",
    "train_df = train_df.drop(columns=drop_columns)\n",
    "test_df = test_df.drop(columns=drop_columns)"
   ]
  },
  {
   "cell_type": "code",
   "execution_count": 87,
   "metadata": {},
   "outputs": [
    {
     "name": "stdout",
     "output_type": "stream",
     "text": [
      "min_year 2016.0\n"
     ]
    }
   ],
   "source": [
    "# get min year from cro_open_year\n",
    "min_year = train_df[\"cro_open_year\"].min()\n",
    "print(\"min_year\", min_year)\n",
    "train_df[\"cro_open_year\"] = train_df[\"cro_open_year\"] - 2000\n",
    "test_df[\"cro_open_year\"] = test_df[\"cro_open_year\"] - 2000"
   ]
  },
  {
   "cell_type": "code",
   "execution_count": 90,
   "metadata": {},
   "outputs": [
    {
     "name": "stdout",
     "output_type": "stream",
     "text": [
      "diff_columns ['year_month']\n"
     ]
    }
   ],
   "source": [
    "# print different columns of train and test\n",
    "train_columns = train_df.columns.to_list()\n",
    "test_columns = test_df.columns.to_list()\n",
    "diff_columns = list(set(train_columns) - set(test_columns))\n",
    "print(\"diff_columns\", diff_columns)"
   ]
  },
  {
   "cell_type": "code",
   "execution_count": 91,
   "metadata": {},
   "outputs": [
    {
     "name": "stdout",
     "output_type": "stream",
     "text": [
      "test_df not have diff_columns\n"
     ]
    }
   ],
   "source": [
    "try:\n",
    "    train_df = train_df.drop(columns=diff_columns)\n",
    "except:\n",
    "    print(\"train_df not have diff_columns\")\n",
    "try:\n",
    "    test_df = test_df.drop(columns=diff_columns)\n",
    "except:\n",
    "    print(\"test_df not have diff_columns\")"
   ]
  },
  {
   "cell_type": "code",
   "execution_count": 92,
   "metadata": {},
   "outputs": [
    {
     "name": "stdout",
     "output_type": "stream",
     "text": [
      "train_df (4705, 394)\n",
      "test_df (69, 394)\n"
     ]
    }
   ],
   "source": [
    "# print shape\n",
    "print(\"train_df\", train_df.shape)\n",
    "print(\"test_df\", test_df.shape)"
   ]
  },
  {
   "cell_type": "code",
   "execution_count": 93,
   "metadata": {},
   "outputs": [],
   "source": [
    "# save data to csv\n",
    "train_df.to_csv(\"data/train.csv\", index=False)\n",
    "test_df.to_csv(\"data/test.csv\", index=False)"
   ]
  },
  {
   "cell_type": "code",
   "execution_count": 94,
   "metadata": {},
   "outputs": [],
   "source": [
    "# all_data\n",
    "train_df[\"subset\"] = \"train\"\n",
    "test_df[\"subset\"] = \"test\"\n",
    "all_data = pd.concat([train_df, test_df], axis=0)\n",
    "all_data.to_csv(\"data/all_data.csv\", index=False)"
   ]
  },
  {
   "cell_type": "code",
   "execution_count": 95,
   "metadata": {},
   "outputs": [
    {
     "data": {
      "text/plain": [
       "(4774, 395)"
      ]
     },
     "execution_count": 95,
     "metadata": {},
     "output_type": "execute_result"
    }
   ],
   "source": [
    "all_data.shape"
   ]
  },
  {
   "cell_type": "code",
   "execution_count": null,
   "metadata": {},
   "outputs": [],
   "source": []
  },
  {
   "cell_type": "code",
   "execution_count": null,
   "metadata": {},
   "outputs": [
    {
     "data": {
      "text/plain": [
       "'บริษัท เบทาโกร จำกัด (มหาชน) หรือ BTG รายงานผลดำเนินงานผ่านตลาดหลักทรัพย์แห่งประเทศไทย (ตลท.) ว่า ไตรมาส 2 ปี 2566 พลิกขาดทุน 350.6 ล้านบาท ลดลง 118.8% จากช่วงเดียวกันปีก่อนที่มีกำไรสุทธิ 1,868.9 ล้านบาท\\xa0\\nโดยบริษัทมีรายได้รวม 26,661.8 ล้านบาท ลดลง 5.1% จาก 28,108.0 ล้านบาท ในไตรมาส 2/65 มาจากการลดลงของรายได้การขายสินค้าและให้บริการในกลุ่มธุรกิจอาหารและโปรตีน ซึ่งได้รับผลกระทบจากราคาสุกรในประเทศที่ปรับลดลงอย่างมีนัยสำคัญจากการลักลอบนำเข้าชิ้นส่วนและเนื้อสุกรผิดกฎหมาย แม้ว่าปริมาณการขายจะเพิ่มขึ้นตามแผนการขยายกำลังผลิต\\nEBITDA ในไตรมาส 2/66 อยู่ที่ระดบั 901.0 ล้านบาท ลดลง 74.4% จาก 3,517.4 ล้านบาท ในไตรมาส 2/65 โดยบริษัทฯ มีอัตรา EBITDA อยู่ที่ 3.4% ในไตรมาส 2/66 ลดลงจาก 12.5% ในไตรมาส 2/65\\nส่วนงวด 6 เดือนแรกปี 66 มีกำไรสุทธิ 42.18 ล้านบาท ลดลง 98.9% จากช่วงเดียวกันปีก่อนมีกำไรสุทธิ 3,838.94 ล้านบาท โดยมีรายได้รวม 54,621.5 ล้านบาท เพิ่มขึ้น 1.0% จาก 54,090.5 ล้านบาท เป็นผลมาจากการเติบโตของรายได้จากการขายสินค้าและการให้บริการของ (1) กลุ่มธุรกิจเกษตร จากการเพิ่มขึ้นของราคาขายสินค้า ตามการเพิ่มขึ้นของต้นทุนวัตถุดิบอาหารสัตว์\\nขณะที่ปริมาณขายเพิ่มขึ้นตามความต้องการสินค้าที่เพิ่มขึ้น สอดคล้องกับการขยายกำลังการผลิต (2) กลุ่มธุรกิจต่างประเทศ จากปริมาณขายอาหารแปรรูปและเนื้อสัตว์แปรรูปที่เพิ่มขึ้น ทั้งในประเทศกัมพูชาและลาว และ (3) กลุ่มธุรกิจสัตว์เลี้ยง จากการเพิ่มขึ้นของราคาขายอาหารสัตว์เลี้ยง สอดคล้องกับการเพิ่มขึ้นของสัดส่วนรายได้การขายผลิตภัณฑ์ที่มีราคาสูงขึ้น\\nโดย EBITDA อยู่ที่ระดับ 2,728.1 ล้านบาท ลดลง 60.9% จาก 6,981.2 ล้านบาท ในช่วงเดียวกันปีก่อน มีอัตรา EBITDA อยู่ที่ 5.0% ลดลงจาก 12.9% ในช่วงเดียวกันปีก่อน'"
      ]
     },
     "execution_count": 51,
     "metadata": {},
     "output_type": "execute_result"
    }
   ],
   "source": [
    "\"\"\"บริษัท เบทาโกร จำกัด (มหาชน) หรือ BTG รายงานผลดำเนินงานผ่านตลาดหลักทรัพย์แห่งประเทศไทย (ตลท.) ว่า ไตรมาส 2 ปี 2566 พลิกขาดทุน 350.6 ล้านบาท ลดลง 118.8% จากช่วงเดียวกันปีก่อนที่มีกำไรสุทธิ 1,868.9 ล้านบาท \n",
    "โดยบริษัทมีรายได้รวม 26,661.8 ล้านบาท ลดลง 5.1% จาก 28,108.0 ล้านบาท ในไตรมาส 2/65 มาจากการลดลงของรายได้การขายสินค้าและให้บริการในกลุ่มธุรกิจอาหารและโปรตีน ซึ่งได้รับผลกระทบจากราคาสุกรในประเทศที่ปรับลดลงอย่างมีนัยสำคัญจากการลักลอบนำเข้าชิ้นส่วนและเนื้อสุกรผิดกฎหมาย แม้ว่าปริมาณการขายจะเพิ่มขึ้นตามแผนการขยายกำลังผลิต\n",
    "EBITDA ในไตรมาส 2/66 อยู่ที่ระดบั 901.0 ล้านบาท ลดลง 74.4% จาก 3,517.4 ล้านบาท ในไตรมาส 2/65 โดยบริษัทฯ มีอัตรา EBITDA อยู่ที่ 3.4% ในไตรมาส 2/66 ลดลงจาก 12.5% ในไตรมาส 2/65\n",
    "ส่วนงวด 6 เดือนแรกปี 66 มีกำไรสุทธิ 42.18 ล้านบาท ลดลง 98.9% จากช่วงเดียวกันปีก่อนมีกำไรสุทธิ 3,838.94 ล้านบาท โดยมีรายได้รวม 54,621.5 ล้านบาท เพิ่มขึ้น 1.0% จาก 54,090.5 ล้านบาท เป็นผลมาจากการเติบโตของรายได้จากการขายสินค้าและการให้บริการของ (1) กลุ่มธุรกิจเกษตร จากการเพิ่มขึ้นของราคาขายสินค้า ตามการเพิ่มขึ้นของต้นทุนวัตถุดิบอาหารสัตว์\n",
    "ขณะที่ปริมาณขายเพิ่มขึ้นตามความต้องการสินค้าที่เพิ่มขึ้น สอดคล้องกับการขยายกำลังการผลิต (2) กลุ่มธุรกิจต่างประเทศ จากปริมาณขายอาหารแปรรูปและเนื้อสัตว์แปรรูปที่เพิ่มขึ้น ทั้งในประเทศกัมพูชาและลาว และ (3) กลุ่มธุรกิจสัตว์เลี้ยง จากการเพิ่มขึ้นของราคาขายอาหารสัตว์เลี้ยง สอดคล้องกับการเพิ่มขึ้นของสัดส่วนรายได้การขายผลิตภัณฑ์ที่มีราคาสูงขึ้น\n",
    "โดย EBITDA อยู่ที่ระดับ 2,728.1 ล้านบาท ลดลง 60.9% จาก 6,981.2 ล้านบาท ในช่วงเดียวกันปีก่อน มีอัตรา EBITDA อยู่ที่ 5.0% ลดลงจาก 12.9% ในช่วงเดียวกันปีก่อน\"\"\""
   ]
  },
  {
   "cell_type": "code",
   "execution_count": null,
   "metadata": {},
   "outputs": [],
   "source": []
  }
 ],
 "metadata": {
  "kernelspec": {
   "display_name": "chatgpt",
   "language": "python",
   "name": "python3"
  },
  "language_info": {
   "codemirror_mode": {
    "name": "ipython",
    "version": 3
   },
   "file_extension": ".py",
   "mimetype": "text/x-python",
   "name": "python",
   "nbconvert_exporter": "python",
   "pygments_lexer": "ipython3",
   "version": "3.11.4"
  },
  "orig_nbformat": 4
 },
 "nbformat": 4,
 "nbformat_minor": 2
}
