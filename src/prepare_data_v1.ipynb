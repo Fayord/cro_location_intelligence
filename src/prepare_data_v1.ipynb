{
 "cells": [
  {
   "cell_type": "code",
   "execution_count": 3,
   "metadata": {},
   "outputs": [],
   "source": [
    "import pandas as pd\n",
    "\n",
    "data_path = \"data/7 B for Ford.xlsx\"\n",
    "df_dict = pd.read_excel(data_path, sheet_name=None)"
   ]
  },
  {
   "cell_type": "code",
   "execution_count": 36,
   "metadata": {},
   "outputs": [
    {
     "name": "stdout",
     "output_type": "stream",
     "text": [
      "train_df (26835, 194)\n",
      "test_df (69, 192)\n"
     ]
    }
   ],
   "source": [
    "train_df = df_dict[\"Train new\"]\n",
    "test_df = df_dict[\"Test2022\"]\n",
    "print(\"train_df\", train_df.shape)\n",
    "print(\"test_df\", test_df.shape)"
   ]
  },
  {
   "cell_type": "code",
   "execution_count": 37,
   "metadata": {},
   "outputs": [
    {
     "data": {
      "text/plain": [
       "(array([ 2.,  0.,  1.,  0.,  0.,  0.,  0.,  0.,  1.,  5., 10.,  5.,  8.,\n",
       "        11., 11., 13., 17., 20., 26., 23., 30., 25., 23., 27., 31., 29.,\n",
       "        40., 41., 27., 49., 35., 37., 23., 31., 21., 23., 28., 23., 17.,\n",
       "        16., 23., 16., 13., 15.,  8., 13.,  9., 13., 11.,  9.,  8., 11.,\n",
       "         8.,  8.,  9.,  5., 10.,  4.,  3.,  3.,  6.,  2.,  4.,  5.,  3.,\n",
       "         3.,  3.,  4.,  1.,  3.,  3.,  3.,  2.,  2.,  1.,  1.,  0.,  3.,\n",
       "         0.,  2.,  3.,  3.,  3.,  1.,  3.,  1.,  0.,  0.,  1.,  0.,  0.,\n",
       "         0.,  0.,  0.,  0.,  1.,  0.,  0.,  1.,  1.]),\n",
       " array([0.02091115, 0.02678851, 0.03266587, 0.03854323, 0.04442059,\n",
       "        0.05029795, 0.0561753 , 0.06205266, 0.06793002, 0.07380738,\n",
       "        0.07968474, 0.0855621 , 0.09143945, 0.09731681, 0.10319417,\n",
       "        0.10907153, 0.11494889, 0.12082625, 0.1267036 , 0.13258096,\n",
       "        0.13845832, 0.14433568, 0.15021304, 0.1560904 , 0.16196775,\n",
       "        0.16784511, 0.17372247, 0.17959983, 0.18547719, 0.19135455,\n",
       "        0.1972319 , 0.20310926, 0.20898662, 0.21486398, 0.22074134,\n",
       "        0.2266187 , 0.23249605, 0.23837341, 0.24425077, 0.25012813,\n",
       "        0.25600549, 0.26188285, 0.26776021, 0.27363756, 0.27951492,\n",
       "        0.28539228, 0.29126964, 0.297147  , 0.30302436, 0.30890171,\n",
       "        0.31477907, 0.32065643, 0.32653379, 0.33241115, 0.33828851,\n",
       "        0.34416586, 0.35004322, 0.35592058, 0.36179794, 0.3676753 ,\n",
       "        0.37355266, 0.37943001, 0.38530737, 0.39118473, 0.39706209,\n",
       "        0.40293945, 0.40881681, 0.41469416, 0.42057152, 0.42644888,\n",
       "        0.43232624, 0.4382036 , 0.44408096, 0.44995831, 0.45583567,\n",
       "        0.46171303, 0.46759039, 0.47346775, 0.47934511, 0.48522246,\n",
       "        0.49109982, 0.49697718, 0.50285454, 0.5087319 , 0.51460926,\n",
       "        0.52048662, 0.52636397, 0.53224133, 0.53811869, 0.54399605,\n",
       "        0.54987341, 0.55575077, 0.56162812, 0.56750548, 0.57338284,\n",
       "        0.5792602 , 0.58513756, 0.59101492, 0.59689227, 0.60276963,\n",
       "        0.60864699]),\n",
       " <BarContainer object of 100 artists>)"
      ]
     },
     "execution_count": 37,
     "metadata": {},
     "output_type": "execute_result"
    },
    {
     "data": {
      "image/png": "[encoded data removed]",
      "text/plain": [
       "<Figure size 640x480 with 1 Axes>"
      ]
     },
     "metadata": {},
     "output_type": "display_data"
    }
   ],
   "source": [
    "y_nor = train_df[\"y_nor\"]\n",
    "# plot histogram\n",
    "import matplotlib.pyplot as plt\n",
    "\n",
    "plt.hist(y_nor, bins=100)"
   ]
  },
  {
   "cell_type": "code",
   "execution_count": 38,
   "metadata": {},
   "outputs": [
    {
     "data": {
      "text/plain": [
       "(array([1., 0., 0., 0., 0., 0., 0., 0., 0., 0., 0., 0., 1., 0., 0., 2., 0.,\n",
       "        0., 3., 1., 0., 1., 0., 2., 3., 2., 4., 2., 1., 1., 0., 0., 1., 0.,\n",
       "        3., 3., 3., 1., 0., 3., 1., 2., 3., 2., 3., 0., 3., 0., 0., 0., 1.,\n",
       "        2., 2., 2., 0., 1., 3., 0., 1., 0., 0., 0., 0., 1., 0., 0., 0., 0.,\n",
       "        1., 1., 0., 0., 0., 0., 0., 0., 0., 0., 0., 0., 0., 0., 0., 1., 0.,\n",
       "        0., 0., 0., 0., 0., 0., 0., 0., 0., 0., 0., 0., 0., 0., 1.]),\n",
       " array([-0.00203283,  0.00507167,  0.01217617,  0.01928068,  0.02638518,\n",
       "         0.03348968,  0.04059419,  0.04769869,  0.05480319,  0.06190769,\n",
       "         0.0690122 ,  0.0761167 ,  0.0832212 ,  0.0903257 ,  0.09743021,\n",
       "         0.10453471,  0.11163921,  0.11874372,  0.12584822,  0.13295272,\n",
       "         0.14005722,  0.14716173,  0.15426623,  0.16137073,  0.16847523,\n",
       "         0.17557974,  0.18268424,  0.18978874,  0.19689325,  0.20399775,\n",
       "         0.21110225,  0.21820675,  0.22531126,  0.23241576,  0.23952026,\n",
       "         0.24662477,  0.25372927,  0.26083377,  0.26793827,  0.27504278,\n",
       "         0.28214728,  0.28925178,  0.29635628,  0.30346079,  0.31056529,\n",
       "         0.31766979,  0.3247743 ,  0.3318788 ,  0.3389833 ,  0.3460878 ,\n",
       "         0.35319231,  0.36029681,  0.36740131,  0.37450581,  0.38161032,\n",
       "         0.38871482,  0.39581932,  0.40292383,  0.41002833,  0.41713283,\n",
       "         0.42423733,  0.43134184,  0.43844634,  0.44555084,  0.45265534,\n",
       "         0.45975985,  0.46686435,  0.47396885,  0.48107336,  0.48817786,\n",
       "         0.49528236,  0.50238686,  0.50949137,  0.51659587,  0.52370037,\n",
       "         0.53080488,  0.53790938,  0.54501388,  0.55211838,  0.55922289,\n",
       "         0.56632739,  0.57343189,  0.58053639,  0.5876409 ,  0.5947454 ,\n",
       "         0.6018499 ,  0.60895441,  0.61605891,  0.62316341,  0.63026791,\n",
       "         0.63737242,  0.64447692,  0.65158142,  0.65868592,  0.66579043,\n",
       "         0.67289493,  0.67999943,  0.68710394,  0.69420844,  0.70131294,\n",
       "         0.70841744]),\n",
       " <BarContainer object of 100 artists>)"
      ]
     },
     "execution_count": 38,
     "metadata": {},
     "output_type": "execute_result"
    },
    {
     "data": {
      "image/png": "[encoded data removed]",
      "text/plain": [
       "<Figure size 640x480 with 1 Axes>"
      ]
     },
     "metadata": {},
     "output_type": "display_data"
    }
   ],
   "source": [
    "y_nor = test_df[\"y_nor\"]\n",
    "# plot histogram\n",
    "import matplotlib.pyplot as plt\n",
    "\n",
    "plt.hist(y_nor, bins=100)"
   ]
  },
  {
   "cell_type": "code",
   "execution_count": 39,
   "metadata": {},
   "outputs": [
    {
     "data": {
      "text/plain": [
       "Index(['Unnamed: 2'], dtype='object')"
      ]
     },
     "execution_count": 39,
     "metadata": {},
     "output_type": "execute_result"
    }
   ],
   "source": [
    "diff_columns = test_df.columns.difference(train_df.columns)\n",
    "diff_columns"
   ]
  },
  {
   "cell_type": "code",
   "execution_count": 40,
   "metadata": {},
   "outputs": [],
   "source": [
    "# drop diff_columns\n",
    "test_df = test_df.drop(columns=diff_columns)"
   ]
  },
  {
   "cell_type": "code",
   "execution_count": 41,
   "metadata": {},
   "outputs": [
    {
     "name": "stdout",
     "output_type": "stream",
     "text": [
      "train_df (26835, 194)\n",
      "test_df (69, 191)\n"
     ]
    }
   ],
   "source": [
    "print(\"train_df\", train_df.shape)\n",
    "print(\"test_df\", test_df.shape)"
   ]
  },
  {
   "cell_type": "code",
   "execution_count": 42,
   "metadata": {},
   "outputs": [
    {
     "name": "stdout",
     "output_type": "stream",
     "text": [
      "fail_to_convert_list ['prov_namt', 'open_dt', 'store_franchise', 'zone_code']\n"
     ]
    }
   ],
   "source": [
    "# try to convert all columns to float\n",
    "fail_to_convert_list = []\n",
    "for col in train_df.columns:\n",
    "    try:\n",
    "        train_df[col] = train_df[col].astype(float)\n",
    "    except:\n",
    "        fail_to_convert_list.append(col)\n",
    "print(\"fail_to_convert_list\", fail_to_convert_list)"
   ]
  },
  {
   "cell_type": "code",
   "execution_count": 43,
   "metadata": {},
   "outputs": [],
   "source": [
    "# drop open dt\n",
    "train_df = train_df.drop(columns=[\"open_dt\"])\n",
    "test_df = test_df.drop(columns=[\"open_dt\"])"
   ]
  },
  {
   "cell_type": "code",
   "execution_count": 44,
   "metadata": {},
   "outputs": [],
   "source": [
    "# create one hot encoding for categorical columns\n",
    "categorical_columns = [\"prov_namt\", \"store_franchise\", \"zone_code\"]\n",
    "for col in categorical_columns:\n",
    "    train_df[col] = train_df[col].astype(str)\n",
    "    test_df[col] = test_df[col].astype(str)\n",
    "\n",
    "# create one hot encoding for categorical columns\n",
    "train_df = pd.get_dummies(train_df, columns=categorical_columns)\n",
    "test_df = pd.get_dummies(test_df, columns=categorical_columns)"
   ]
  },
  {
   "cell_type": "code",
   "execution_count": 45,
   "metadata": {},
   "outputs": [
    {
     "name": "stdout",
     "output_type": "stream",
     "text": [
      "unique_columns ['POIs_utern_50m', 'POIs_utern_200m', 'POIs_utern_300m', 'POIs_utern_500m', 'POIs_utern_1000m', 'POIs_utern_2000m', 'strategic_location_เขตเศรษฐกิจพิเศษ', 'CRO_store_franchise_NDF', 'year']\n"
     ]
    }
   ],
   "source": [
    "# check is any columns unique ==1\n",
    "unique_columns = []\n",
    "for col in train_df.columns:\n",
    "    if len(train_df[col].unique()) == 1:\n",
    "        unique_columns.append(col)\n",
    "print(\"unique_columns\", unique_columns)\n",
    "# drop unique_columns\n",
    "train_df = train_df.drop(columns=unique_columns)\n",
    "# check is unique_columns in test_df then drop\n",
    "for col in unique_columns:\n",
    "    if col in test_df.columns:\n",
    "        test_df = test_df.drop(columns=[col])"
   ]
  },
  {
   "cell_type": "code",
   "execution_count": 46,
   "metadata": {},
   "outputs": [
    {
     "name": "stdout",
     "output_type": "stream",
     "text": [
      "train_df (26835, 197)\n",
      "test_df (69, 185)\n"
     ]
    }
   ],
   "source": [
    "print(\"train_df\", train_df.shape)\n",
    "print(\"test_df\", test_df.shape)"
   ]
  },
  {
   "cell_type": "code",
   "execution_count": 47,
   "metadata": {},
   "outputs": [
    {
     "name": "stdout",
     "output_type": "stream",
     "text": [
      "There are duplicate columns with the same values:\n",
      "Index(['cro_open_year', 'open_date_year', 'CRO_store_franchise_PTTOR',\n",
      "       'store_franchise_PTTOR'],\n",
      "      dtype='object')\n"
     ]
    }
   ],
   "source": [
    "duplicated_columns = train_df.columns[train_df.T.duplicated(keep=False)]\n",
    "\n",
    "if len(duplicated_columns) > 0:\n",
    "    print(\"There are duplicate columns with the same values:\")\n",
    "    print(duplicated_columns)\n",
    "else:\n",
    "    print(\"No duplicate columns found.\")"
   ]
  },
  {
   "cell_type": "code",
   "execution_count": 48,
   "metadata": {},
   "outputs": [],
   "source": [
    "drop_columns = [\"open_date_year\", \"store_franchise_PTTOR\"]\n",
    "train_df = train_df.drop(columns=drop_columns)\n",
    "test_df = test_df.drop(columns=drop_columns)"
   ]
  },
  {
   "cell_type": "code",
   "execution_count": 49,
   "metadata": {},
   "outputs": [
    {
     "name": "stdout",
     "output_type": "stream",
     "text": [
      "min_year 2016.0\n"
     ]
    }
   ],
   "source": [
    "# get min year from cro_open_year\n",
    "min_year = train_df[\"cro_open_year\"].min()\n",
    "print(\"min_year\", min_year)\n",
    "train_df[\"cro_open_year\"] = train_df[\"cro_open_year\"] - 2000\n",
    "test_df[\"cro_open_year\"] = test_df[\"cro_open_year\"] - 2000"
   ]
  },
  {
   "cell_type": "code",
   "execution_count": 50,
   "metadata": {},
   "outputs": [],
   "source": [
    "# save data to csv\n",
    "train_df.to_csv(\"data/train.csv\", index=False)\n",
    "test_df.to_csv(\"data/test.csv\", index=False)"
   ]
  },
  {
   "cell_type": "code",
   "execution_count": 51,
   "metadata": {},
   "outputs": [],
   "source": [
    "# all_data\n",
    "train_df[\"subset\"] = \"train\"\n",
    "test_df[\"subset\"] = \"test\"\n",
    "all_data = pd.concat([train_df, test_df], axis=0)\n",
    "all_data.to_csv(\"data/all_data.csv\", index=False)"
   ]
  },
  {
   "cell_type": "code",
   "execution_count": null,
   "metadata": {},
   "outputs": [],
   "source": []
  },
  {
   "cell_type": "code",
   "execution_count": null,
   "metadata": {},
   "outputs": [],
   "source": []
  },
  {
   "cell_type": "code",
   "execution_count": null,
   "metadata": {},
   "outputs": [],
   "source": []
  },
  {
   "cell_type": "code",
   "execution_count": null,
   "metadata": {},
   "outputs": [],
   "source": []
  },
  {
   "cell_type": "code",
   "execution_count": null,
   "metadata": {},
   "outputs": [],
   "source": []
  }
 ],
 "metadata": {
  "kernelspec": {
   "display_name": "chatgpt",
   "language": "python",
   "name": "python3"
  },
  "language_info": {
   "codemirror_mode": {
    "name": "ipython",
    "version": 3
   },
   "file_extension": ".py",
   "mimetype": "text/x-python",
   "name": "python",
   "nbconvert_exporter": "python",
   "pygments_lexer": "ipython3",
   "version": "3.10.13"
  },
  "orig_nbformat": 4
 },
 "nbformat": 4,
 "nbformat_minor": 2
}
